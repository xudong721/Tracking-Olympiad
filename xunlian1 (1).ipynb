{
 "cells": [
  {
   "cell_type": "code",
   "execution_count": 15,
   "id": "ef2eab8d-f2b6-4e70-b5b1-530a94d08508",
   "metadata": {},
   "outputs": [
    {
     "name": "stdout",
     "output_type": "stream",
     "text": [
      "✅ 生成 data.yaml 到 data.yaml\n",
      "✅ 数据集制作完成，训练样本: 7345，验证样本: 1837\n"
     ]
    }
   ],
   "source": [
    "import os\n",
    "import cv2\n",
    "import json\n",
    "import random\n",
    "from pathlib import Path\n",
    "from sklearn.model_selection import train_test_split\n",
    "\n",
    "def extract_frames_and_labels(video_path, traco_path, output_img_dir, output_lbl_dir, bbox_size=40):\n",
    "    cap = cv2.VideoCapture(video_path)\n",
    "    name = Path(video_path).stem\n",
    "    frame_map = {}\n",
    "\n",
    "    with open(traco_path, 'r') as f:\n",
    "        data = json.load(f)\n",
    "        for item in data['rois']:\n",
    "            z = item['z']\n",
    "            x, y = item['pos']\n",
    "            frame_map.setdefault(z, []).append((x, y))  # 支持多个目标\n",
    "\n",
    "    frame_idx = 0\n",
    "    success, frame = cap.read()\n",
    "    saved_frames = []\n",
    "\n",
    "    while success:\n",
    "        h, w = frame.shape[:2]\n",
    "        frame_name = f\"{name}_{frame_idx:04d}\"\n",
    "        img_path = output_img_dir / f\"{frame_name}.jpg\"\n",
    "        label_path = output_lbl_dir / f\"{frame_name}.txt\"\n",
    "\n",
    "        cv2.imwrite(str(img_path), frame)\n",
    "        saved_frames.append(frame_name)\n",
    "\n",
    "        with open(label_path, 'w') as f:\n",
    "            if frame_idx in frame_map:\n",
    "                for cx, cy in frame_map[frame_idx]:\n",
    "                    bbox_w = bbox_h = bbox_size\n",
    "                    x_center = cx / w\n",
    "                    y_center = cy / h\n",
    "                    w_norm = bbox_w / w\n",
    "                    h_norm = bbox_h / h\n",
    "                    f.write(f\"0 {x_center:.6f} {y_center:.6f} {w_norm:.6f} {h_norm:.6f}\\n\")\n",
    "\n",
    "        success, frame = cap.read()\n",
    "        frame_idx += 1\n",
    "\n",
    "    cap.release()\n",
    "    return saved_frames\n",
    "\n",
    "\n",
    "def split_and_copy(dataset_root, saved_frames, train_ratio=0.8):\n",
    "    img_dir = dataset_root / \"images\"\n",
    "    lbl_dir = dataset_root / \"labels\"\n",
    "\n",
    "    train_imgs = dataset_root / \"images\" / \"train\"\n",
    "    val_imgs   = dataset_root / \"images\" / \"val\"\n",
    "    train_lbls = dataset_root / \"labels\" / \"train\"\n",
    "    val_lbls   = dataset_root / \"labels\" / \"val\"\n",
    "\n",
    "    for d in [train_imgs, val_imgs, train_lbls, val_lbls]:\n",
    "        d.mkdir(parents=True, exist_ok=True)\n",
    "\n",
    "    train_list, val_list = train_test_split(saved_frames, train_size=train_ratio, random_state=42)\n",
    "\n",
    "    for fname in train_list:\n",
    "        os.rename(img_dir / f\"{fname}.jpg\", train_imgs / f\"{fname}.jpg\")\n",
    "        os.rename(lbl_dir / f\"{fname}.txt\", train_lbls / f\"{fname}.txt\")\n",
    "\n",
    "    for fname in val_list:\n",
    "        os.rename(img_dir / f\"{fname}.jpg\", val_imgs / f\"{fname}.jpg\")\n",
    "        os.rename(lbl_dir / f\"{fname}.txt\", val_lbls / f\"{fname}.txt\")\n",
    "\n",
    "    return train_list, val_list\n",
    "\n",
    "def generate_data_yaml(dataset_root, yaml_path=\"data.yaml\"):\n",
    "    content = f\"\"\"train: {dataset_root}/images/train\n",
    "val: {dataset_root}/images/val\n",
    "\n",
    "nc: 1\n",
    "names: [\"hexbug\"]\n",
    "\"\"\"\n",
    "    with open(yaml_path, 'w') as f:\n",
    "        f.write(content)\n",
    "    print(f\"✅ 生成 data.yaml 到 {yaml_path}\")\n",
    "\n",
    "def build_dataset(videos_dir, traco_dir, dataset_root=\"hexbug_dataset0\", bbox_size=40):\n",
    "    dataset_root = Path(dataset_root)\n",
    "    img_dir = dataset_root / \"images\"  # 临时保存所有帧\n",
    "    lbl_dir = dataset_root / \"labels\"\n",
    "    img_dir.mkdir(parents=True, exist_ok=True)\n",
    "    lbl_dir.mkdir(parents=True, exist_ok=True)\n",
    "\n",
    "    all_frames = []\n",
    "\n",
    "    for fname in sorted(os.listdir(videos_dir)):\n",
    "        if fname.endswith(\".mp4\"):\n",
    "            stem = Path(fname).stem\n",
    "            video_path = os.path.join(videos_dir, fname)\n",
    "            # 支持 .traco, .json, .traco.sec 三种后缀\n",
    "            traco_path = None\n",
    "            for ext in [\".traco\", \".json\", \".traco.sec\"]:\n",
    "                candidate = os.path.join(traco_dir, stem + ext)\n",
    "                if os.path.exists(candidate):\n",
    "                   traco_path = candidate\n",
    "                   break\n",
    "            if traco_path is None:\n",
    "               print(f\"⚠️ 缺失标注文件: {stem}.traco/.json/.traco.sec\")\n",
    "               continue\n",
    " \n",
    "\n",
    "\n",
    "            if not os.path.exists(traco_path):\n",
    "                print(f\"⚠️ 缺失 traco: {traco_path}\")\n",
    "\n",
    "                continue\n",
    "            frames = extract_frames_and_labels(video_path, traco_path, img_dir, lbl_dir, bbox_size)\n",
    "            all_frames.extend(frames)\n",
    "\n",
    "    train_list, val_list = split_and_copy(dataset_root, all_frames)\n",
    "    generate_data_yaml(dataset_root)\n",
    "    print(f\"✅ 数据集制作完成，训练样本: {len(train_list)}，验证样本: {len(val_list)}\")\n",
    "\n",
    "# === 调用 ===\n",
    "build_dataset(\n",
    "    videos_dir=\"training/training-Copy1\",    # 视频目录\n",
    "    traco_dir=\"training/training-Copy1\",     # .traco文件目录\n",
    "    dataset_root=\"hexbug_dataset0\",  # 输出根目录\n",
    "\n",
    "\n",
    "    bbox_size=40                # 可调大小\n",
    ")\n"
   ]
  },
  {
   "cell_type": "code",
   "execution_count": 12,
   "id": "57e56bf9-54ea-4823-bed9-e74e80390b14",
   "metadata": {},
   "outputs": [
    {
     "name": "stdout",
     "output_type": "stream",
     "text": [
      "Renamed: training070..traco.sec ➜ training070.traco.sec\n",
      "Renamed: training081..traco.sec ➜ training081.traco.sec\n",
      "Renamed: training072..traco.sec ➜ training072.traco.sec\n",
      "Renamed: training050..traco.sec ➜ training050.traco.sec\n",
      "Renamed: training059..traco.sec ➜ training059.traco.sec\n",
      "Renamed: training041..traco.sec ➜ training041.traco.sec\n",
      "Renamed: training074..traco.sec ➜ training074.traco.sec\n",
      "Renamed: training092..traco.sec ➜ training092.traco.sec\n",
      "Renamed: training040..traco.sec ➜ training040.traco.sec\n",
      "Renamed: training063..traco.sec ➜ training063.traco.sec\n",
      "Renamed: training060..traco.sec ➜ training060.traco.sec\n",
      "Renamed: training075..traco.sec ➜ training075.traco.sec\n",
      "Renamed: training064..traco.sec ➜ training064.traco.sec\n",
      "Renamed: training07..traco.sec ➜ training07.traco.sec\n",
      "Renamed: training096..traco.sec ➜ training096.traco.sec\n",
      "Renamed: training099..traco.sec ➜ training099.traco.sec\n",
      "Renamed: training094..traco.sec ➜ training094.traco.sec\n",
      "Renamed: training054..traco.sec ➜ training054.traco.sec\n",
      "Renamed: training097..traco.sec ➜ training097.traco.sec\n",
      "Renamed: training084..traco.sec ➜ training084.traco.sec\n",
      "Renamed: training030..traco.sec ➜ training030.traco.sec\n",
      "Renamed: training085..traco.sec ➜ training085.traco.sec\n",
      "Renamed: training093..traco.sec ➜ training093.traco.sec\n",
      "Renamed: training06..traco.sec ➜ training06.traco.sec\n",
      "Renamed: training098..traco.sec ➜ training098.traco.sec\n",
      "Renamed: training05..traco.sec ➜ training05.traco.sec\n",
      "Renamed: training086..traco.sec ➜ training086.traco.sec\n",
      "Renamed: training090..traco.sec ➜ training090.traco.sec\n",
      "Renamed: training068..traco.sec ➜ training068.traco.sec\n",
      "Renamed: training091..traco.sec ➜ training091.traco.sec\n",
      "Renamed: training037..traco.sec ➜ training037.traco.sec\n",
      "Renamed: training026..traco.sec ➜ training026.traco.sec\n",
      "Renamed: training056..traco.sec ➜ training056.traco.sec\n",
      "Renamed: training04..traco.sec ➜ training04.traco.sec\n",
      "Renamed: training048..traco.sec ➜ training048.traco.sec\n",
      "Renamed: training049..traco.sec ➜ training049.traco.sec\n",
      "Renamed: training057..traco.sec ➜ training057.traco.sec\n",
      "Renamed: training071..traco.sec ➜ training071.traco.sec\n",
      "Renamed: training065..traco.sec ➜ training065.traco.sec\n",
      "Renamed: training09..traco.sec ➜ training09.traco.sec\n",
      "Renamed: training061..traco.sec ➜ training061.traco.sec\n",
      "Renamed: training095..traco.sec ➜ training095.traco.sec\n",
      "Renamed: training043..traco.sec ➜ training043.traco.sec\n",
      "Renamed: training062..traco.sec ➜ training062.traco.sec\n",
      "Renamed: training08..traco.sec ➜ training08.traco.sec\n",
      "Renamed: training03..traco.sec ➜ training03.traco.sec\n",
      "Renamed: training066..traco.sec ➜ training066.traco.sec\n",
      "Renamed: training077..traco.sec ➜ training077.traco.sec\n",
      "Renamed: training045..traco.sec ➜ training045.traco.sec\n",
      "Renamed: training055..traco.sec ➜ training055.traco.sec\n",
      "Renamed: training039..traco.sec ➜ training039.traco.sec\n",
      "Renamed: training033..traco.sec ➜ training033.traco.sec\n",
      "Renamed: training044..traco.sec ➜ training044.traco.sec\n",
      "Renamed: training087..traco.sec ➜ training087.traco.sec\n",
      "Renamed: training067..traco.sec ➜ training067.traco.sec\n",
      "Renamed: training073..traco.sec ➜ training073.traco.sec\n",
      "Renamed: training080..traco.sec ➜ training080.traco.sec\n",
      "Renamed: training053..traco.sec ➜ training053.traco.sec\n"
     ]
    }
   ],
   "source": [
    "import os\n",
    "\n",
    "# 1. 设置目标目录（可修改为你自己的路径）\n",
    "target_dir = r\"training/training-Copy1\"  # Windows 示例路径\n",
    "\n",
    "# 2. 遍历该目录下的所有文件\n",
    "for filename in os.listdir(target_dir):\n",
    "    if \"..traco.sec\" in filename:\n",
    "        old_path = os.path.join(target_dir, filename)\n",
    "        new_filename = filename.replace(\"..traco.sec\", \".traco.sec\")\n",
    "        new_path = os.path.join(target_dir, new_filename)\n",
    "        \n",
    "        # 执行重命名\n",
    "        os.rename(old_path, new_path)\n",
    "        print(f\"Renamed: {filename} ➜ {new_filename}\")\n"
   ]
  },
  {
   "cell_type": "code",
   "execution_count": null,
   "id": "251c3a05-4b04-4376-9c58-79a2d480b96a",
   "metadata": {},
   "outputs": [],
   "source": [
    "from ultralytics import YOLO\n",
    "\n",
    "# 加载 YOLOv8n 模型（nano 版本，速度快，适合小目标）\n",
    "model = YOLO(\"yolov11n.pt\")\n",
    "\n",
    "# 开始训练\n",
    "model.train(\n",
    "    data=\"/home/hpc/tovl/tovl108v/hexbug_dataset0/data.yaml\",\n",
    "    epochs=150,\n",
    "    imgsz=768,\n",
    "    batch=16,\n",
    "    name=\"hexbug_yolov11n\",\n",
    "    lr0=0.001,\n",
    "    patience=30,\n",
    "    augment=True\n",
    ")"
   ]
  },
  {
   "cell_type": "code",
   "execution_count": null,
   "id": "555510c4-591d-471e-8831-ebca8e20ae1b",
   "metadata": {},
   "outputs": [],
   "source": [
    "yolo task=detect mode=val model=runs/detect/hexbug_yolov8n5/weights/best.pt data=your_dataset.yaml"
   ]
  },
  {
   "cell_type": "code",
   "execution_count": 3,
   "id": "43b61b93-04d0-40a8-9762-054d1a3a3d12",
   "metadata": {},
   "outputs": [
    {
     "name": "stdout",
     "output_type": "stream",
     "text": [
      "Ultralytics 8.3.161 🚀 Python-3.12.10 torch-2.7.1+cu126 CUDA:0 (NVIDIA GeForce GTX 1080 Ti, 11165MiB)\n",
      "\u001b[34m\u001b[1mengine/trainer: \u001b[0magnostic_nms=False, amp=True, augment=True, auto_augment=randaugment, batch=16, bgr=0.0, box=7.5, cache=False, cfg=None, classes=None, close_mosaic=10, cls=0.5, conf=None, copy_paste=0.0, copy_paste_mode=flip, cos_lr=True, cutmix=0.0, data=/home/hpc/tovl/tovl108v/hexbug_dataset0/data.yaml, degrees=0.0, deterministic=True, device=0, dfl=1.5, dnn=False, dropout=0.0, dynamic=False, embed=None, epochs=150, erasing=0.4, exist_ok=False, fliplr=0.5, flipud=0.0, format=torchscript, fraction=1.0, freeze=None, half=False, hsv_h=0.015, hsv_s=0.7, hsv_v=0.4, imgsz=768, int8=False, iou=0.7, keras=False, kobj=1.0, line_width=None, lr0=0.001, lrf=0.01, mask_ratio=4, max_det=300, mixup=0.0, mode=train, model=runs/detect/hexbug_yolo11n3/weights/last.pt, momentum=0.937, mosaic=1.0, multi_scale=False, name=hexbug_yolo11n3, nbs=64, nms=False, opset=None, optimize=False, optimizer=AdamW, overlap_mask=True, patience=30, perspective=0.0, plots=True, pose=12.0, pretrained=True, profile=False, project=None, rect=False, resume=runs/detect/hexbug_yolo11n3/weights/last.pt, retina_masks=False, save=True, save_conf=False, save_crop=False, save_dir=runs/detect/hexbug_yolo11n3, save_frames=False, save_json=False, save_period=-1, save_txt=False, scale=0.5, seed=0, shear=0.0, show=False, show_boxes=True, show_conf=True, show_labels=True, simplify=True, single_cls=False, source=None, split=val, stream_buffer=False, task=detect, time=None, tracker=botsort.yaml, translate=0.1, val=True, verbose=True, vid_stride=1, visualize=False, warmup_bias_lr=0.1, warmup_epochs=3.0, warmup_momentum=0.8, weight_decay=0.0005, workers=8, workspace=None\n"
     ]
    },
    {
     "name": "stderr",
     "output_type": "stream",
     "text": [
      "Traceback (most recent call last):\n",
      "  File \"/apps/jupyterhub/jh5.3.0-py3.12/lib/python3.12/multiprocessing/queues.py\", line 259, in _feed\n",
      "    reader_close()\n",
      "  File \"/apps/jupyterhub/jh5.3.0-py3.12/lib/python3.12/multiprocessing/connection.py\", line 178, in close\n",
      "    self._close()\n",
      "  File \"/apps/jupyterhub/jh5.3.0-py3.12/lib/python3.12/multiprocessing/connection.py\", line 377, in _close\n",
      "    _close(self._handle)\n",
      "OSError: [Errno 9] Bad file descriptor\n"
     ]
    },
    {
     "name": "stdout",
     "output_type": "stream",
     "text": [
      "\n",
      "                   from  n    params  module                                       arguments                     \n",
      "  0                  -1  1       464  ultralytics.nn.modules.conv.Conv             [3, 16, 3, 2]                 \n",
      "  1                  -1  1      4672  ultralytics.nn.modules.conv.Conv             [16, 32, 3, 2]                \n",
      "  2                  -1  1      6640  ultralytics.nn.modules.block.C3k2            [32, 64, 1, False, 0.25]      \n",
      "  3                  -1  1     36992  ultralytics.nn.modules.conv.Conv             [64, 64, 3, 2]                \n",
      "  4                  -1  1     26080  ultralytics.nn.modules.block.C3k2            [64, 128, 1, False, 0.25]     \n",
      "  5                  -1  1    147712  ultralytics.nn.modules.conv.Conv             [128, 128, 3, 2]              \n",
      "  6                  -1  1     87040  ultralytics.nn.modules.block.C3k2            [128, 128, 1, True]           \n",
      "  7                  -1  1    295424  ultralytics.nn.modules.conv.Conv             [128, 256, 3, 2]              \n",
      "  8                  -1  1    346112  ultralytics.nn.modules.block.C3k2            [256, 256, 1, True]           \n",
      "  9                  -1  1    164608  ultralytics.nn.modules.block.SPPF            [256, 256, 5]                 \n",
      " 10                  -1  1    249728  ultralytics.nn.modules.block.C2PSA           [256, 256, 1]                 \n",
      " 11                  -1  1         0  torch.nn.modules.upsampling.Upsample         [None, 2, 'nearest']          \n",
      " 12             [-1, 6]  1         0  ultralytics.nn.modules.conv.Concat           [1]                           \n",
      " 13                  -1  1    111296  ultralytics.nn.modules.block.C3k2            [384, 128, 1, False]          \n",
      " 14                  -1  1         0  torch.nn.modules.upsampling.Upsample         [None, 2, 'nearest']          \n",
      " 15             [-1, 4]  1         0  ultralytics.nn.modules.conv.Concat           [1]                           \n",
      " 16                  -1  1     32096  ultralytics.nn.modules.block.C3k2            [256, 64, 1, False]           \n",
      " 17                  -1  1     36992  ultralytics.nn.modules.conv.Conv             [64, 64, 3, 2]                \n",
      " 18            [-1, 13]  1         0  ultralytics.nn.modules.conv.Concat           [1]                           \n",
      " 19                  -1  1     86720  ultralytics.nn.modules.block.C3k2            [192, 128, 1, False]          \n",
      " 20                  -1  1    147712  ultralytics.nn.modules.conv.Conv             [128, 128, 3, 2]              \n",
      " 21            [-1, 10]  1         0  ultralytics.nn.modules.conv.Concat           [1]                           \n",
      " 22                  -1  1    378880  ultralytics.nn.modules.block.C3k2            [384, 256, 1, True]           \n",
      " 23        [16, 19, 22]  1    431452  ultralytics.nn.modules.head.Detect           [4, [64, 128, 256]]           \n",
      "YOLO11n summary: 181 layers, 2,590,620 parameters, 2,590,604 gradients, 6.4 GFLOPs\n",
      "\n",
      "Transferred 499/499 items from pretrained weights\n",
      "Freezing layer 'model.23.dfl.conv.weight'\n",
      "\u001b[34m\u001b[1mAMP: \u001b[0mrunning Automatic Mixed Precision (AMP) checks...\n",
      "\u001b[34m\u001b[1mAMP: \u001b[0mchecks passed ✅\n",
      "\u001b[34m\u001b[1mtrain: \u001b[0mFast image access ✅ (ping: 0.0±0.0 ms, read: 12.3±6.0 MB/s, size: 225.1 KB)\n"
     ]
    },
    {
     "name": "stderr",
     "output_type": "stream",
     "text": [
      "\u001b[34m\u001b[1mtrain: \u001b[0mScanning /home/hpc/tovl/tovl108v/hexbug_dataset0/labels/train.cache... 7861 images, 0 backgrounds, 2 corrupt: 100%|██████████| 7861/7861 [00:00<?, ?it/s]"
     ]
    },
    {
     "name": "stdout",
     "output_type": "stream",
     "text": [
      "\u001b[34m\u001b[1mtrain: \u001b[0m/home/hpc/tovl/tovl108v/hexbug_dataset0/images/train/training016_0079.jpg: ignoring corrupt image/label: non-normalized or out of bounds coordinates [1.000127]\n",
      "\u001b[34m\u001b[1mtrain: \u001b[0m/home/hpc/tovl/tovl108v/hexbug_dataset0/images/train/training061_0056.jpg: ignoring corrupt image/label: negative label values [-3.e-05]\n"
     ]
    },
    {
     "name": "stderr",
     "output_type": "stream",
     "text": [
      "\n",
      "/home/hpc/tovl/tovl108v/torch/utils/data/dataloader.py:626: UserWarning: This DataLoader will create 8 worker processes in total. Our suggested max number of worker in current system is 4, which is smaller than what this DataLoader is going to create. Please be aware that excessive worker creation might get DataLoader running slow or even freeze, lower the worker number to avoid potential slowness/freeze if necessary.\n",
      "  warnings.warn(\n"
     ]
    },
    {
     "name": "stdout",
     "output_type": "stream",
     "text": [
      "\u001b[34m\u001b[1mval: \u001b[0mFast image access ✅ (ping: 0.0±0.0 ms, read: 16.1±12.2 MB/s, size: 313.9 KB)\n"
     ]
    },
    {
     "name": "stderr",
     "output_type": "stream",
     "text": [
      "\u001b[34m\u001b[1mval: \u001b[0mScanning /home/hpc/tovl/tovl108v/hexbug_dataset0/labels/val.cache... 2347 images, 0 backgrounds, 0 corrupt: 100%|██████████| 2347/2347 [00:00<?, ?it/s]\n",
      "/home/hpc/tovl/tovl108v/torch/utils/data/dataloader.py:626: UserWarning: This DataLoader will create 16 worker processes in total. Our suggested max number of worker in current system is 4, which is smaller than what this DataLoader is going to create. Please be aware that excessive worker creation might get DataLoader running slow or even freeze, lower the worker number to avoid potential slowness/freeze if necessary.\n",
      "  warnings.warn(\n"
     ]
    },
    {
     "name": "stdout",
     "output_type": "stream",
     "text": [
      "Plotting labels to runs/detect/hexbug_yolo11n3/labels.jpg... \n",
      "\u001b[34m\u001b[1moptimizer:\u001b[0m AdamW(lr=0.001, momentum=0.937) with parameter groups 81 weight(decay=0.0), 88 weight(decay=0.0005), 87 bias(decay=0.0)\n",
      "Resuming training runs/detect/hexbug_yolo11n3/weights/last.pt from epoch 85 to 150 total epochs\n",
      "Image sizes 768 train, 768 val\n",
      "Using 8 dataloader workers\n",
      "Logging results to \u001b[1mruns/detect/hexbug_yolo11n3\u001b[0m\n",
      "Starting training for 150 epochs...\n",
      "\n",
      "      Epoch    GPU_mem   box_loss   cls_loss   dfl_loss  Instances       Size\n"
     ]
    },
    {
     "name": "stderr",
     "output_type": "stream",
     "text": [
      "     85/150      3.25G      1.335     0.8015     0.8953         11        768: 100%|██████████| 492/492 [02:39<00:00,  3.09it/s]\n",
      "                 Class     Images  Instances      Box(P          R      mAP50  mAP50-95): 100%|██████████| 74/74 [00:17<00:00,  4.14it/s]"
     ]
    },
    {
     "name": "stdout",
     "output_type": "stream",
     "text": [
      "                   all       2347       4389      0.949      0.928      0.957       0.56\n"
     ]
    },
    {
     "name": "stderr",
     "output_type": "stream",
     "text": [
      "\n"
     ]
    },
    {
     "name": "stdout",
     "output_type": "stream",
     "text": [
      "\n",
      "      Epoch    GPU_mem   box_loss   cls_loss   dfl_loss  Instances       Size\n"
     ]
    },
    {
     "name": "stderr",
     "output_type": "stream",
     "text": [
      "     86/150       5.1G      1.345     0.8132     0.8942          8        768: 100%|██████████| 492/492 [02:39<00:00,  3.08it/s]\n",
      "                 Class     Images  Instances      Box(P          R      mAP50  mAP50-95): 100%|██████████| 74/74 [00:17<00:00,  4.31it/s]"
     ]
    },
    {
     "name": "stdout",
     "output_type": "stream",
     "text": [
      "                   all       2347       4389      0.949      0.929      0.957       0.56\n"
     ]
    },
    {
     "name": "stderr",
     "output_type": "stream",
     "text": [
      "\n"
     ]
    },
    {
     "name": "stdout",
     "output_type": "stream",
     "text": [
      "\n",
      "      Epoch    GPU_mem   box_loss   cls_loss   dfl_loss  Instances       Size\n"
     ]
    },
    {
     "name": "stderr",
     "output_type": "stream",
     "text": [
      "     87/150       5.1G      1.347     0.8163     0.8955          4        768: 100%|██████████| 492/492 [02:40<00:00,  3.07it/s]\n",
      "                 Class     Images  Instances      Box(P          R      mAP50  mAP50-95): 100%|██████████| 74/74 [00:17<00:00,  4.32it/s]"
     ]
    },
    {
     "name": "stdout",
     "output_type": "stream",
     "text": [
      "                   all       2347       4389      0.948      0.927      0.957       0.56\n"
     ]
    },
    {
     "name": "stderr",
     "output_type": "stream",
     "text": [
      "\n"
     ]
    },
    {
     "name": "stdout",
     "output_type": "stream",
     "text": [
      "\n",
      "      Epoch    GPU_mem   box_loss   cls_loss   dfl_loss  Instances       Size\n"
     ]
    },
    {
     "name": "stderr",
     "output_type": "stream",
     "text": [
      "     88/150       5.1G      1.351     0.8141     0.8955          5        768: 100%|██████████| 492/492 [02:39<00:00,  3.08it/s]\n",
      "                 Class     Images  Instances      Box(P          R      mAP50  mAP50-95): 100%|██████████| 74/74 [00:17<00:00,  4.32it/s]"
     ]
    },
    {
     "name": "stdout",
     "output_type": "stream",
     "text": [
      "                   all       2347       4389      0.949      0.928      0.957      0.562\n"
     ]
    },
    {
     "name": "stderr",
     "output_type": "stream",
     "text": [
      "\n"
     ]
    },
    {
     "name": "stdout",
     "output_type": "stream",
     "text": [
      "\n",
      "      Epoch    GPU_mem   box_loss   cls_loss   dfl_loss  Instances       Size\n"
     ]
    },
    {
     "name": "stderr",
     "output_type": "stream",
     "text": [
      "     89/150       5.1G       1.34      0.809     0.8968          3        768: 100%|██████████| 492/492 [02:40<00:00,  3.07it/s]\n",
      "                 Class     Images  Instances      Box(P          R      mAP50  mAP50-95): 100%|██████████| 74/74 [00:17<00:00,  4.32it/s]"
     ]
    },
    {
     "name": "stdout",
     "output_type": "stream",
     "text": [
      "                   all       2347       4389      0.947      0.928      0.957      0.561\n"
     ]
    },
    {
     "name": "stderr",
     "output_type": "stream",
     "text": [
      "\n"
     ]
    },
    {
     "name": "stdout",
     "output_type": "stream",
     "text": [
      "\n",
      "      Epoch    GPU_mem   box_loss   cls_loss   dfl_loss  Instances       Size\n"
     ]
    },
    {
     "name": "stderr",
     "output_type": "stream",
     "text": [
      "     90/150       5.1G       1.34     0.8057     0.8937          8        768: 100%|██████████| 492/492 [02:39<00:00,  3.08it/s]\n",
      "                 Class     Images  Instances      Box(P          R      mAP50  mAP50-95): 100%|██████████| 74/74 [00:17<00:00,  4.32it/s]"
     ]
    },
    {
     "name": "stdout",
     "output_type": "stream",
     "text": [
      "                   all       2347       4389      0.946      0.928      0.956      0.562\n"
     ]
    },
    {
     "name": "stderr",
     "output_type": "stream",
     "text": [
      "\n"
     ]
    },
    {
     "name": "stdout",
     "output_type": "stream",
     "text": [
      "\n",
      "      Epoch    GPU_mem   box_loss   cls_loss   dfl_loss  Instances       Size\n"
     ]
    },
    {
     "name": "stderr",
     "output_type": "stream",
     "text": [
      "     91/150      5.11G      1.335      0.793     0.8946          8        768: 100%|██████████| 492/492 [02:43<00:00,  3.01it/s]\n",
      "                 Class     Images  Instances      Box(P          R      mAP50  mAP50-95): 100%|██████████| 74/74 [00:17<00:00,  4.32it/s]"
     ]
    },
    {
     "name": "stdout",
     "output_type": "stream",
     "text": [
      "                   all       2347       4389      0.948       0.93      0.958      0.563\n"
     ]
    },
    {
     "name": "stderr",
     "output_type": "stream",
     "text": [
      "\n"
     ]
    },
    {
     "name": "stdout",
     "output_type": "stream",
     "text": [
      "\n",
      "      Epoch    GPU_mem   box_loss   cls_loss   dfl_loss  Instances       Size\n"
     ]
    },
    {
     "name": "stderr",
     "output_type": "stream",
     "text": [
      "     92/150      5.11G       1.33     0.7966     0.8914          4        768: 100%|██████████| 492/492 [02:39<00:00,  3.08it/s]\n",
      "                 Class     Images  Instances      Box(P          R      mAP50  mAP50-95): 100%|██████████| 74/74 [00:17<00:00,  4.31it/s]"
     ]
    },
    {
     "name": "stdout",
     "output_type": "stream",
     "text": [
      "                   all       2347       4389      0.946      0.932      0.959      0.565\n"
     ]
    },
    {
     "name": "stderr",
     "output_type": "stream",
     "text": [
      "\n"
     ]
    },
    {
     "name": "stdout",
     "output_type": "stream",
     "text": [
      "\n",
      "      Epoch    GPU_mem   box_loss   cls_loss   dfl_loss  Instances       Size\n"
     ]
    },
    {
     "name": "stderr",
     "output_type": "stream",
     "text": [
      "     93/150      5.11G      1.324     0.7951     0.8944          5        768: 100%|██████████| 492/492 [02:39<00:00,  3.08it/s]\n",
      "                 Class     Images  Instances      Box(P          R      mAP50  mAP50-95): 100%|██████████| 74/74 [00:17<00:00,  4.31it/s]"
     ]
    },
    {
     "name": "stdout",
     "output_type": "stream",
     "text": [
      "                   all       2347       4389      0.945      0.931      0.958      0.566\n"
     ]
    },
    {
     "name": "stderr",
     "output_type": "stream",
     "text": [
      "\n"
     ]
    },
    {
     "name": "stdout",
     "output_type": "stream",
     "text": [
      "\n",
      "      Epoch    GPU_mem   box_loss   cls_loss   dfl_loss  Instances       Size\n"
     ]
    },
    {
     "name": "stderr",
     "output_type": "stream",
     "text": [
      "     94/150      5.11G      1.327     0.7986     0.8912          5        768: 100%|██████████| 492/492 [02:40<00:00,  3.07it/s]\n",
      "                 Class     Images  Instances      Box(P          R      mAP50  mAP50-95): 100%|██████████| 74/74 [00:17<00:00,  4.32it/s]"
     ]
    },
    {
     "name": "stdout",
     "output_type": "stream",
     "text": [
      "                   all       2347       4389      0.945      0.931      0.958      0.566\n"
     ]
    },
    {
     "name": "stderr",
     "output_type": "stream",
     "text": [
      "\n"
     ]
    },
    {
     "name": "stdout",
     "output_type": "stream",
     "text": [
      "\n",
      "      Epoch    GPU_mem   box_loss   cls_loss   dfl_loss  Instances       Size\n"
     ]
    },
    {
     "name": "stderr",
     "output_type": "stream",
     "text": [
      "     95/150      5.11G      1.323     0.7873     0.8915          7        768: 100%|██████████| 492/492 [02:39<00:00,  3.08it/s]\n",
      "                 Class     Images  Instances      Box(P          R      mAP50  mAP50-95): 100%|██████████| 74/74 [00:17<00:00,  4.32it/s]"
     ]
    },
    {
     "name": "stdout",
     "output_type": "stream",
     "text": [
      "                   all       2347       4389      0.946       0.93      0.958      0.567\n"
     ]
    },
    {
     "name": "stderr",
     "output_type": "stream",
     "text": [
      "\n"
     ]
    },
    {
     "name": "stdout",
     "output_type": "stream",
     "text": [
      "\n",
      "      Epoch    GPU_mem   box_loss   cls_loss   dfl_loss  Instances       Size\n"
     ]
    },
    {
     "name": "stderr",
     "output_type": "stream",
     "text": [
      "     96/150      5.11G      1.324     0.7889     0.8915          6        768: 100%|██████████| 492/492 [02:39<00:00,  3.08it/s]\n",
      "                 Class     Images  Instances      Box(P          R      mAP50  mAP50-95): 100%|██████████| 74/74 [00:17<00:00,  4.31it/s]"
     ]
    },
    {
     "name": "stdout",
     "output_type": "stream",
     "text": [
      "                   all       2347       4389      0.947       0.93      0.958      0.567\n"
     ]
    },
    {
     "name": "stderr",
     "output_type": "stream",
     "text": [
      "\n"
     ]
    },
    {
     "name": "stdout",
     "output_type": "stream",
     "text": [
      "\n",
      "      Epoch    GPU_mem   box_loss   cls_loss   dfl_loss  Instances       Size\n"
     ]
    },
    {
     "name": "stderr",
     "output_type": "stream",
     "text": [
      "     97/150      5.11G      1.318     0.7795      0.889         10        768: 100%|██████████| 492/492 [02:39<00:00,  3.08it/s]\n",
      "                 Class     Images  Instances      Box(P          R      mAP50  mAP50-95): 100%|██████████| 74/74 [00:17<00:00,  4.32it/s]"
     ]
    },
    {
     "name": "stdout",
     "output_type": "stream",
     "text": [
      "                   all       2347       4389      0.947      0.933      0.959      0.566\n"
     ]
    },
    {
     "name": "stderr",
     "output_type": "stream",
     "text": [
      "\n"
     ]
    },
    {
     "name": "stdout",
     "output_type": "stream",
     "text": [
      "\n",
      "      Epoch    GPU_mem   box_loss   cls_loss   dfl_loss  Instances       Size\n"
     ]
    },
    {
     "name": "stderr",
     "output_type": "stream",
     "text": [
      "     98/150      5.11G      1.318     0.7853     0.8921          9        768: 100%|██████████| 492/492 [02:39<00:00,  3.08it/s]\n",
      "                 Class     Images  Instances      Box(P          R      mAP50  mAP50-95): 100%|██████████| 74/74 [00:17<00:00,  4.32it/s]"
     ]
    },
    {
     "name": "stdout",
     "output_type": "stream",
     "text": [
      "                   all       2347       4389      0.947      0.934      0.959      0.567\n"
     ]
    },
    {
     "name": "stderr",
     "output_type": "stream",
     "text": [
      "\n"
     ]
    },
    {
     "name": "stdout",
     "output_type": "stream",
     "text": [
      "\n",
      "      Epoch    GPU_mem   box_loss   cls_loss   dfl_loss  Instances       Size\n"
     ]
    },
    {
     "name": "stderr",
     "output_type": "stream",
     "text": [
      "     99/150      5.11G       1.31     0.7764     0.8869         12        768: 100%|██████████| 492/492 [02:40<00:00,  3.07it/s]\n",
      "                 Class     Images  Instances      Box(P          R      mAP50  mAP50-95): 100%|██████████| 74/74 [00:17<00:00,  4.32it/s]"
     ]
    },
    {
     "name": "stdout",
     "output_type": "stream",
     "text": [
      "                   all       2347       4389      0.948      0.936       0.96      0.567\n"
     ]
    },
    {
     "name": "stderr",
     "output_type": "stream",
     "text": [
      "\n"
     ]
    },
    {
     "name": "stdout",
     "output_type": "stream",
     "text": [
      "\n",
      "      Epoch    GPU_mem   box_loss   cls_loss   dfl_loss  Instances       Size\n"
     ]
    },
    {
     "name": "stderr",
     "output_type": "stream",
     "text": [
      "    100/150      5.11G      1.318     0.7868     0.8919          2        768: 100%|██████████| 492/492 [02:39<00:00,  3.08it/s]\n",
      "                 Class     Images  Instances      Box(P          R      mAP50  mAP50-95): 100%|██████████| 74/74 [00:17<00:00,  4.32it/s]"
     ]
    },
    {
     "name": "stdout",
     "output_type": "stream",
     "text": [
      "                   all       2347       4389      0.948      0.936      0.959      0.568\n"
     ]
    },
    {
     "name": "stderr",
     "output_type": "stream",
     "text": [
      "\n"
     ]
    },
    {
     "name": "stdout",
     "output_type": "stream",
     "text": [
      "\n",
      "      Epoch    GPU_mem   box_loss   cls_loss   dfl_loss  Instances       Size\n"
     ]
    },
    {
     "name": "stderr",
     "output_type": "stream",
     "text": [
      "    101/150      5.11G       1.31     0.7702      0.891          7        768: 100%|██████████| 492/492 [02:39<00:00,  3.08it/s]\n",
      "                 Class     Images  Instances      Box(P          R      mAP50  mAP50-95): 100%|██████████| 74/74 [00:17<00:00,  4.26it/s]"
     ]
    },
    {
     "name": "stdout",
     "output_type": "stream",
     "text": [
      "                   all       2347       4389      0.949      0.935      0.959      0.569\n"
     ]
    },
    {
     "name": "stderr",
     "output_type": "stream",
     "text": [
      "\n"
     ]
    },
    {
     "name": "stdout",
     "output_type": "stream",
     "text": [
      "\n",
      "      Epoch    GPU_mem   box_loss   cls_loss   dfl_loss  Instances       Size\n"
     ]
    },
    {
     "name": "stderr",
     "output_type": "stream",
     "text": [
      "    102/150      5.11G      1.307     0.7696     0.8898          6        768: 100%|██████████| 492/492 [02:39<00:00,  3.08it/s]\n",
      "                 Class     Images  Instances      Box(P          R      mAP50  mAP50-95): 100%|██████████| 74/74 [00:17<00:00,  4.31it/s]"
     ]
    },
    {
     "name": "stdout",
     "output_type": "stream",
     "text": [
      "                   all       2347       4389       0.95      0.935       0.96      0.569\n"
     ]
    },
    {
     "name": "stderr",
     "output_type": "stream",
     "text": [
      "\n"
     ]
    },
    {
     "name": "stdout",
     "output_type": "stream",
     "text": [
      "\n",
      "      Epoch    GPU_mem   box_loss   cls_loss   dfl_loss  Instances       Size\n"
     ]
    },
    {
     "name": "stderr",
     "output_type": "stream",
     "text": [
      "    103/150      5.12G      1.304     0.7705     0.8888         12        768: 100%|██████████| 492/492 [02:39<00:00,  3.08it/s]\n",
      "                 Class     Images  Instances      Box(P          R      mAP50  mAP50-95): 100%|██████████| 74/74 [00:17<00:00,  4.32it/s]"
     ]
    },
    {
     "name": "stdout",
     "output_type": "stream",
     "text": [
      "                   all       2347       4389      0.951      0.935      0.959      0.569\n"
     ]
    },
    {
     "name": "stderr",
     "output_type": "stream",
     "text": [
      "\n"
     ]
    },
    {
     "name": "stdout",
     "output_type": "stream",
     "text": [
      "\n",
      "      Epoch    GPU_mem   box_loss   cls_loss   dfl_loss  Instances       Size\n"
     ]
    },
    {
     "name": "stderr",
     "output_type": "stream",
     "text": [
      "    104/150      5.12G      1.311     0.7751     0.8908          9        768: 100%|██████████| 492/492 [02:40<00:00,  3.07it/s]\n",
      "                 Class     Images  Instances      Box(P          R      mAP50  mAP50-95): 100%|██████████| 74/74 [00:17<00:00,  4.32it/s]"
     ]
    },
    {
     "name": "stdout",
     "output_type": "stream",
     "text": [
      "                   all       2347       4389      0.952      0.935       0.96       0.57\n"
     ]
    },
    {
     "name": "stderr",
     "output_type": "stream",
     "text": [
      "\n"
     ]
    },
    {
     "name": "stdout",
     "output_type": "stream",
     "text": [
      "\n",
      "      Epoch    GPU_mem   box_loss   cls_loss   dfl_loss  Instances       Size\n"
     ]
    },
    {
     "name": "stderr",
     "output_type": "stream",
     "text": [
      "    105/150      5.12G      1.297     0.7631     0.8871          7        768: 100%|██████████| 492/492 [02:39<00:00,  3.08it/s]\n",
      "                 Class     Images  Instances      Box(P          R      mAP50  mAP50-95): 100%|██████████| 74/74 [00:17<00:00,  4.32it/s]"
     ]
    },
    {
     "name": "stdout",
     "output_type": "stream",
     "text": [
      "                   all       2347       4389      0.952      0.936       0.96      0.571\n"
     ]
    },
    {
     "name": "stderr",
     "output_type": "stream",
     "text": [
      "\n"
     ]
    },
    {
     "name": "stdout",
     "output_type": "stream",
     "text": [
      "\n",
      "      Epoch    GPU_mem   box_loss   cls_loss   dfl_loss  Instances       Size\n"
     ]
    },
    {
     "name": "stderr",
     "output_type": "stream",
     "text": [
      "    106/150      5.12G      1.308     0.7672     0.8885          4        768: 100%|██████████| 492/492 [02:39<00:00,  3.08it/s]\n",
      "                 Class     Images  Instances      Box(P          R      mAP50  mAP50-95): 100%|██████████| 74/74 [00:17<00:00,  4.26it/s]"
     ]
    },
    {
     "name": "stdout",
     "output_type": "stream",
     "text": [
      "                   all       2347       4389      0.953      0.936      0.961      0.571\n"
     ]
    },
    {
     "name": "stderr",
     "output_type": "stream",
     "text": [
      "\n"
     ]
    },
    {
     "name": "stdout",
     "output_type": "stream",
     "text": [
      "\n",
      "      Epoch    GPU_mem   box_loss   cls_loss   dfl_loss  Instances       Size\n"
     ]
    },
    {
     "name": "stderr",
     "output_type": "stream",
     "text": [
      "    107/150      5.12G      1.292     0.7554     0.8854          1        768: 100%|██████████| 492/492 [02:40<00:00,  3.07it/s]\n",
      "                 Class     Images  Instances      Box(P          R      mAP50  mAP50-95): 100%|██████████| 74/74 [00:17<00:00,  4.32it/s]"
     ]
    },
    {
     "name": "stdout",
     "output_type": "stream",
     "text": [
      "                   all       2347       4389      0.951      0.936      0.961      0.571\n"
     ]
    },
    {
     "name": "stderr",
     "output_type": "stream",
     "text": [
      "\n"
     ]
    },
    {
     "name": "stdout",
     "output_type": "stream",
     "text": [
      "\n",
      "      Epoch    GPU_mem   box_loss   cls_loss   dfl_loss  Instances       Size\n"
     ]
    },
    {
     "name": "stderr",
     "output_type": "stream",
     "text": [
      "    108/150      5.12G      1.294      0.757     0.8877          6        768: 100%|██████████| 492/492 [02:39<00:00,  3.08it/s]\n",
      "                 Class     Images  Instances      Box(P          R      mAP50  mAP50-95): 100%|██████████| 74/74 [00:17<00:00,  4.32it/s]"
     ]
    },
    {
     "name": "stdout",
     "output_type": "stream",
     "text": [
      "                   all       2347       4389       0.95      0.936      0.961      0.573\n"
     ]
    },
    {
     "name": "stderr",
     "output_type": "stream",
     "text": [
      "\n"
     ]
    },
    {
     "name": "stdout",
     "output_type": "stream",
     "text": [
      "\n",
      "      Epoch    GPU_mem   box_loss   cls_loss   dfl_loss  Instances       Size\n"
     ]
    },
    {
     "name": "stderr",
     "output_type": "stream",
     "text": [
      "    109/150      5.12G      1.288     0.7492     0.8829          6        768: 100%|██████████| 492/492 [02:40<00:00,  3.07it/s]\n",
      "                 Class     Images  Instances      Box(P          R      mAP50  mAP50-95): 100%|██████████| 74/74 [00:17<00:00,  4.32it/s]"
     ]
    },
    {
     "name": "stdout",
     "output_type": "stream",
     "text": [
      "                   all       2347       4389      0.952      0.937      0.962      0.572\n"
     ]
    },
    {
     "name": "stderr",
     "output_type": "stream",
     "text": [
      "\n"
     ]
    },
    {
     "name": "stdout",
     "output_type": "stream",
     "text": [
      "\n",
      "      Epoch    GPU_mem   box_loss   cls_loss   dfl_loss  Instances       Size\n"
     ]
    },
    {
     "name": "stderr",
     "output_type": "stream",
     "text": [
      "    110/150      5.12G      1.297     0.7508     0.8897         11        768: 100%|██████████| 492/492 [02:39<00:00,  3.08it/s]\n",
      "                 Class     Images  Instances      Box(P          R      mAP50  mAP50-95): 100%|██████████| 74/74 [00:17<00:00,  4.31it/s]"
     ]
    },
    {
     "name": "stdout",
     "output_type": "stream",
     "text": [
      "                   all       2347       4389      0.952      0.938      0.962      0.573\n"
     ]
    },
    {
     "name": "stderr",
     "output_type": "stream",
     "text": [
      "\n"
     ]
    },
    {
     "name": "stdout",
     "output_type": "stream",
     "text": [
      "\n",
      "      Epoch    GPU_mem   box_loss   cls_loss   dfl_loss  Instances       Size\n"
     ]
    },
    {
     "name": "stderr",
     "output_type": "stream",
     "text": [
      "    111/150      5.12G      1.291     0.7498     0.8871          2        768: 100%|██████████| 492/492 [02:39<00:00,  3.08it/s]\n",
      "                 Class     Images  Instances      Box(P          R      mAP50  mAP50-95): 100%|██████████| 74/74 [00:17<00:00,  4.32it/s]"
     ]
    },
    {
     "name": "stdout",
     "output_type": "stream",
     "text": [
      "                   all       2347       4389      0.951      0.938      0.961      0.574\n"
     ]
    },
    {
     "name": "stderr",
     "output_type": "stream",
     "text": [
      "\n"
     ]
    },
    {
     "name": "stdout",
     "output_type": "stream",
     "text": [
      "\n",
      "      Epoch    GPU_mem   box_loss   cls_loss   dfl_loss  Instances       Size\n"
     ]
    },
    {
     "name": "stderr",
     "output_type": "stream",
     "text": [
      "    112/150      5.12G      1.283      0.752     0.8835          5        768: 100%|██████████| 492/492 [02:43<00:00,  3.00it/s]\n",
      "                 Class     Images  Instances      Box(P          R      mAP50  mAP50-95): 100%|██████████| 74/74 [00:17<00:00,  4.32it/s]"
     ]
    },
    {
     "name": "stdout",
     "output_type": "stream",
     "text": [
      "                   all       2347       4389      0.951      0.938      0.962      0.574\n"
     ]
    },
    {
     "name": "stderr",
     "output_type": "stream",
     "text": [
      "\n"
     ]
    },
    {
     "name": "stdout",
     "output_type": "stream",
     "text": [
      "\n",
      "      Epoch    GPU_mem   box_loss   cls_loss   dfl_loss  Instances       Size\n"
     ]
    },
    {
     "name": "stderr",
     "output_type": "stream",
     "text": [
      "    113/150      5.12G      1.278     0.7441      0.885          6        768: 100%|██████████| 492/492 [02:39<00:00,  3.08it/s]\n",
      "                 Class     Images  Instances      Box(P          R      mAP50  mAP50-95): 100%|██████████| 74/74 [00:17<00:00,  4.31it/s]"
     ]
    },
    {
     "name": "stdout",
     "output_type": "stream",
     "text": [
      "                   all       2347       4389      0.952      0.937      0.962      0.574\n"
     ]
    },
    {
     "name": "stderr",
     "output_type": "stream",
     "text": [
      "\n"
     ]
    },
    {
     "name": "stdout",
     "output_type": "stream",
     "text": [
      "\n",
      "      Epoch    GPU_mem   box_loss   cls_loss   dfl_loss  Instances       Size\n"
     ]
    },
    {
     "name": "stderr",
     "output_type": "stream",
     "text": [
      "    114/150      5.12G      1.282     0.7456     0.8823         10        768: 100%|██████████| 492/492 [02:45<00:00,  2.97it/s]\n",
      "                 Class     Images  Instances      Box(P          R      mAP50  mAP50-95): 100%|██████████| 74/74 [00:17<00:00,  4.32it/s]"
     ]
    },
    {
     "name": "stdout",
     "output_type": "stream",
     "text": [
      "                   all       2347       4389      0.952      0.937      0.962      0.575\n"
     ]
    },
    {
     "name": "stderr",
     "output_type": "stream",
     "text": [
      "\n"
     ]
    },
    {
     "name": "stdout",
     "output_type": "stream",
     "text": [
      "\n",
      "      Epoch    GPU_mem   box_loss   cls_loss   dfl_loss  Instances       Size\n"
     ]
    },
    {
     "name": "stderr",
     "output_type": "stream",
     "text": [
      "    115/150      5.12G      1.271     0.7353     0.8831          5        768: 100%|██████████| 492/492 [02:40<00:00,  3.07it/s]\n",
      "                 Class     Images  Instances      Box(P          R      mAP50  mAP50-95): 100%|██████████| 74/74 [00:17<00:00,  4.32it/s]"
     ]
    },
    {
     "name": "stdout",
     "output_type": "stream",
     "text": [
      "                   all       2347       4389       0.95      0.938      0.962      0.575\n"
     ]
    },
    {
     "name": "stderr",
     "output_type": "stream",
     "text": [
      "\n"
     ]
    },
    {
     "name": "stdout",
     "output_type": "stream",
     "text": [
      "\n",
      "      Epoch    GPU_mem   box_loss   cls_loss   dfl_loss  Instances       Size\n"
     ]
    },
    {
     "name": "stderr",
     "output_type": "stream",
     "text": [
      "    116/150      5.12G      1.277     0.7372     0.8828          6        768: 100%|██████████| 492/492 [02:39<00:00,  3.08it/s]\n",
      "                 Class     Images  Instances      Box(P          R      mAP50  mAP50-95): 100%|██████████| 74/74 [00:17<00:00,  4.32it/s]"
     ]
    },
    {
     "name": "stdout",
     "output_type": "stream",
     "text": [
      "                   all       2347       4389       0.95      0.937      0.962      0.575\n"
     ]
    },
    {
     "name": "stderr",
     "output_type": "stream",
     "text": [
      "\n"
     ]
    },
    {
     "name": "stdout",
     "output_type": "stream",
     "text": [
      "\n",
      "      Epoch    GPU_mem   box_loss   cls_loss   dfl_loss  Instances       Size\n"
     ]
    },
    {
     "name": "stderr",
     "output_type": "stream",
     "text": [
      "    117/150      5.12G       1.28     0.7421     0.8841         15        768: 100%|██████████| 492/492 [02:40<00:00,  3.07it/s]\n",
      "                 Class     Images  Instances      Box(P          R      mAP50  mAP50-95): 100%|██████████| 74/74 [00:17<00:00,  4.32it/s]"
     ]
    },
    {
     "name": "stdout",
     "output_type": "stream",
     "text": [
      "                   all       2347       4389       0.95      0.938      0.962      0.575\n"
     ]
    },
    {
     "name": "stderr",
     "output_type": "stream",
     "text": [
      "\n"
     ]
    },
    {
     "name": "stdout",
     "output_type": "stream",
     "text": [
      "\n",
      "      Epoch    GPU_mem   box_loss   cls_loss   dfl_loss  Instances       Size\n"
     ]
    },
    {
     "name": "stderr",
     "output_type": "stream",
     "text": [
      "    118/150      5.12G      1.278     0.7319     0.8848         12        768: 100%|██████████| 492/492 [02:39<00:00,  3.08it/s]\n",
      "                 Class     Images  Instances      Box(P          R      mAP50  mAP50-95): 100%|██████████| 74/74 [00:17<00:00,  4.32it/s]"
     ]
    },
    {
     "name": "stdout",
     "output_type": "stream",
     "text": [
      "                   all       2347       4389      0.951      0.939      0.963      0.575\n"
     ]
    },
    {
     "name": "stderr",
     "output_type": "stream",
     "text": [
      "\n"
     ]
    },
    {
     "name": "stdout",
     "output_type": "stream",
     "text": [
      "\n",
      "      Epoch    GPU_mem   box_loss   cls_loss   dfl_loss  Instances       Size\n"
     ]
    },
    {
     "name": "stderr",
     "output_type": "stream",
     "text": [
      "    119/150      5.12G      1.272     0.7369     0.8823         15        768: 100%|██████████| 492/492 [03:10<00:00,  2.59it/s]\n",
      "                 Class     Images  Instances      Box(P          R      mAP50  mAP50-95): 100%|██████████| 74/74 [00:17<00:00,  4.26it/s]"
     ]
    },
    {
     "name": "stdout",
     "output_type": "stream",
     "text": [
      "                   all       2347       4389      0.952       0.94      0.964      0.575\n"
     ]
    },
    {
     "name": "stderr",
     "output_type": "stream",
     "text": [
      "\n"
     ]
    },
    {
     "name": "stdout",
     "output_type": "stream",
     "text": [
      "\n",
      "      Epoch    GPU_mem   box_loss   cls_loss   dfl_loss  Instances       Size\n"
     ]
    },
    {
     "name": "stderr",
     "output_type": "stream",
     "text": [
      "    120/150      5.12G      1.269     0.7356     0.8823         11        768: 100%|██████████| 492/492 [02:39<00:00,  3.08it/s]\n",
      "                 Class     Images  Instances      Box(P          R      mAP50  mAP50-95): 100%|██████████| 74/74 [00:17<00:00,  4.32it/s]"
     ]
    },
    {
     "name": "stdout",
     "output_type": "stream",
     "text": [
      "                   all       2347       4389      0.952      0.941      0.964      0.576\n"
     ]
    },
    {
     "name": "stderr",
     "output_type": "stream",
     "text": [
      "\n"
     ]
    },
    {
     "name": "stdout",
     "output_type": "stream",
     "text": [
      "\n",
      "      Epoch    GPU_mem   box_loss   cls_loss   dfl_loss  Instances       Size\n"
     ]
    },
    {
     "name": "stderr",
     "output_type": "stream",
     "text": [
      "    121/150      5.12G      1.261     0.7283     0.8824          8        768: 100%|██████████| 492/492 [02:39<00:00,  3.08it/s]\n",
      "                 Class     Images  Instances      Box(P          R      mAP50  mAP50-95): 100%|██████████| 74/74 [00:17<00:00,  4.31it/s]"
     ]
    },
    {
     "name": "stdout",
     "output_type": "stream",
     "text": [
      "                   all       2347       4389      0.951      0.941      0.963      0.577\n"
     ]
    },
    {
     "name": "stderr",
     "output_type": "stream",
     "text": [
      "\n"
     ]
    },
    {
     "name": "stdout",
     "output_type": "stream",
     "text": [
      "\n",
      "      Epoch    GPU_mem   box_loss   cls_loss   dfl_loss  Instances       Size\n"
     ]
    },
    {
     "name": "stderr",
     "output_type": "stream",
     "text": [
      "    122/150      5.12G      1.272     0.7302     0.8828          8        768: 100%|██████████| 492/492 [02:40<00:00,  3.07it/s]\n",
      "                 Class     Images  Instances      Box(P          R      mAP50  mAP50-95): 100%|██████████| 74/74 [00:17<00:00,  4.32it/s]"
     ]
    },
    {
     "name": "stdout",
     "output_type": "stream",
     "text": [
      "                   all       2347       4389      0.951      0.941      0.963      0.576\n"
     ]
    },
    {
     "name": "stderr",
     "output_type": "stream",
     "text": [
      "\n"
     ]
    },
    {
     "name": "stdout",
     "output_type": "stream",
     "text": [
      "\n",
      "      Epoch    GPU_mem   box_loss   cls_loss   dfl_loss  Instances       Size\n"
     ]
    },
    {
     "name": "stderr",
     "output_type": "stream",
     "text": [
      "    123/150      5.12G      1.273     0.7252     0.8829         12        768: 100%|██████████| 492/492 [02:39<00:00,  3.08it/s]\n",
      "                 Class     Images  Instances      Box(P          R      mAP50  mAP50-95): 100%|██████████| 74/74 [00:17<00:00,  4.31it/s]"
     ]
    },
    {
     "name": "stdout",
     "output_type": "stream",
     "text": [
      "                   all       2347       4389       0.95       0.94      0.963      0.576\n"
     ]
    },
    {
     "name": "stderr",
     "output_type": "stream",
     "text": [
      "\n"
     ]
    },
    {
     "name": "stdout",
     "output_type": "stream",
     "text": [
      "\n",
      "      Epoch    GPU_mem   box_loss   cls_loss   dfl_loss  Instances       Size\n"
     ]
    },
    {
     "name": "stderr",
     "output_type": "stream",
     "text": [
      "    124/150      5.12G      1.268     0.7224     0.8826          5        768: 100%|██████████| 492/492 [02:40<00:00,  3.07it/s]\n",
      "                 Class     Images  Instances      Box(P          R      mAP50  mAP50-95): 100%|██████████| 74/74 [00:17<00:00,  4.31it/s]"
     ]
    },
    {
     "name": "stdout",
     "output_type": "stream",
     "text": [
      "                   all       2347       4389      0.951      0.941      0.963      0.576\n"
     ]
    },
    {
     "name": "stderr",
     "output_type": "stream",
     "text": [
      "\n"
     ]
    },
    {
     "name": "stdout",
     "output_type": "stream",
     "text": [
      "\n",
      "      Epoch    GPU_mem   box_loss   cls_loss   dfl_loss  Instances       Size\n"
     ]
    },
    {
     "name": "stderr",
     "output_type": "stream",
     "text": [
      "    125/150      5.12G      1.274     0.7291      0.884          5        768: 100%|██████████| 492/492 [02:39<00:00,  3.08it/s]\n",
      "                 Class     Images  Instances      Box(P          R      mAP50  mAP50-95): 100%|██████████| 74/74 [00:17<00:00,  4.32it/s]"
     ]
    },
    {
     "name": "stdout",
     "output_type": "stream",
     "text": [
      "                   all       2347       4389      0.951      0.941      0.962      0.577\n"
     ]
    },
    {
     "name": "stderr",
     "output_type": "stream",
     "text": [
      "\n"
     ]
    },
    {
     "name": "stdout",
     "output_type": "stream",
     "text": [
      "\n",
      "      Epoch    GPU_mem   box_loss   cls_loss   dfl_loss  Instances       Size\n"
     ]
    },
    {
     "name": "stderr",
     "output_type": "stream",
     "text": [
      "    126/150      5.12G       1.26     0.7267     0.8829          9        768: 100%|██████████| 492/492 [02:39<00:00,  3.08it/s]\n",
      "                 Class     Images  Instances      Box(P          R      mAP50  mAP50-95): 100%|██████████| 74/74 [00:17<00:00,  4.32it/s]"
     ]
    },
    {
     "name": "stdout",
     "output_type": "stream",
     "text": [
      "                   all       2347       4389       0.95      0.941      0.962      0.577\n"
     ]
    },
    {
     "name": "stderr",
     "output_type": "stream",
     "text": [
      "\n"
     ]
    },
    {
     "name": "stdout",
     "output_type": "stream",
     "text": [
      "\n",
      "      Epoch    GPU_mem   box_loss   cls_loss   dfl_loss  Instances       Size\n"
     ]
    },
    {
     "name": "stderr",
     "output_type": "stream",
     "text": [
      "    127/150      5.12G      1.262     0.7191      0.883          9        768: 100%|██████████| 492/492 [02:40<00:00,  3.07it/s]\n",
      "                 Class     Images  Instances      Box(P          R      mAP50  mAP50-95): 100%|██████████| 74/74 [00:17<00:00,  4.32it/s]"
     ]
    },
    {
     "name": "stdout",
     "output_type": "stream",
     "text": [
      "                   all       2347       4389       0.95      0.941      0.962      0.578\n"
     ]
    },
    {
     "name": "stderr",
     "output_type": "stream",
     "text": [
      "\n"
     ]
    },
    {
     "name": "stdout",
     "output_type": "stream",
     "text": [
      "\n",
      "      Epoch    GPU_mem   box_loss   cls_loss   dfl_loss  Instances       Size\n"
     ]
    },
    {
     "name": "stderr",
     "output_type": "stream",
     "text": [
      "    128/150      5.12G      1.268     0.7269     0.8833          4        768: 100%|██████████| 492/492 [02:39<00:00,  3.08it/s]\n",
      "                 Class     Images  Instances      Box(P          R      mAP50  mAP50-95): 100%|██████████| 74/74 [00:17<00:00,  4.32it/s]"
     ]
    },
    {
     "name": "stdout",
     "output_type": "stream",
     "text": [
      "                   all       2347       4389       0.95       0.94      0.962      0.578\n"
     ]
    },
    {
     "name": "stderr",
     "output_type": "stream",
     "text": [
      "\n"
     ]
    },
    {
     "name": "stdout",
     "output_type": "stream",
     "text": [
      "\n",
      "      Epoch    GPU_mem   box_loss   cls_loss   dfl_loss  Instances       Size\n"
     ]
    },
    {
     "name": "stderr",
     "output_type": "stream",
     "text": [
      "    129/150      5.12G      1.261     0.7218      0.882          6        768: 100%|██████████| 492/492 [02:39<00:00,  3.08it/s]\n",
      "                 Class     Images  Instances      Box(P          R      mAP50  mAP50-95): 100%|██████████| 74/74 [00:17<00:00,  4.32it/s]"
     ]
    },
    {
     "name": "stdout",
     "output_type": "stream",
     "text": [
      "                   all       2347       4389       0.95       0.94      0.962      0.578\n"
     ]
    },
    {
     "name": "stderr",
     "output_type": "stream",
     "text": [
      "\n"
     ]
    },
    {
     "name": "stdout",
     "output_type": "stream",
     "text": [
      "\n",
      "      Epoch    GPU_mem   box_loss   cls_loss   dfl_loss  Instances       Size\n"
     ]
    },
    {
     "name": "stderr",
     "output_type": "stream",
     "text": [
      "    130/150      5.12G      1.253     0.7167     0.8813          9        768: 100%|██████████| 492/492 [02:39<00:00,  3.08it/s]\n",
      "                 Class     Images  Instances      Box(P          R      mAP50  mAP50-95): 100%|██████████| 74/74 [00:17<00:00,  4.32it/s]"
     ]
    },
    {
     "name": "stdout",
     "output_type": "stream",
     "text": [
      "                   all       2347       4389      0.951      0.941      0.962      0.578\n"
     ]
    },
    {
     "name": "stderr",
     "output_type": "stream",
     "text": [
      "\n"
     ]
    },
    {
     "name": "stdout",
     "output_type": "stream",
     "text": [
      "\n",
      "      Epoch    GPU_mem   box_loss   cls_loss   dfl_loss  Instances       Size\n"
     ]
    },
    {
     "name": "stderr",
     "output_type": "stream",
     "text": [
      "    131/150      5.12G      1.256     0.7127     0.8804          4        768: 100%|██████████| 492/492 [02:39<00:00,  3.08it/s]\n",
      "                 Class     Images  Instances      Box(P          R      mAP50  mAP50-95): 100%|██████████| 74/74 [00:17<00:00,  4.32it/s]"
     ]
    },
    {
     "name": "stdout",
     "output_type": "stream",
     "text": [
      "                   all       2347       4389      0.951       0.94      0.962      0.578\n"
     ]
    },
    {
     "name": "stderr",
     "output_type": "stream",
     "text": [
      "\n"
     ]
    },
    {
     "name": "stdout",
     "output_type": "stream",
     "text": [
      "\n",
      "      Epoch    GPU_mem   box_loss   cls_loss   dfl_loss  Instances       Size\n"
     ]
    },
    {
     "name": "stderr",
     "output_type": "stream",
     "text": [
      "    132/150      5.12G      1.266     0.7156     0.8821          9        768: 100%|██████████| 492/492 [02:43<00:00,  3.01it/s]\n",
      "                 Class     Images  Instances      Box(P          R      mAP50  mAP50-95): 100%|██████████| 74/74 [00:17<00:00,  4.26it/s]"
     ]
    },
    {
     "name": "stdout",
     "output_type": "stream",
     "text": [
      "                   all       2347       4389       0.95      0.941      0.963      0.579\n"
     ]
    },
    {
     "name": "stderr",
     "output_type": "stream",
     "text": [
      "\n"
     ]
    },
    {
     "name": "stdout",
     "output_type": "stream",
     "text": [
      "\n",
      "      Epoch    GPU_mem   box_loss   cls_loss   dfl_loss  Instances       Size\n"
     ]
    },
    {
     "name": "stderr",
     "output_type": "stream",
     "text": [
      "    133/150      5.12G      1.262      0.722     0.8817          9        768: 100%|██████████| 492/492 [02:39<00:00,  3.08it/s]\n",
      "                 Class     Images  Instances      Box(P          R      mAP50  mAP50-95): 100%|██████████| 74/74 [00:17<00:00,  4.32it/s]"
     ]
    },
    {
     "name": "stdout",
     "output_type": "stream",
     "text": [
      "                   all       2347       4389      0.951      0.941      0.963      0.579\n"
     ]
    },
    {
     "name": "stderr",
     "output_type": "stream",
     "text": [
      "\n"
     ]
    },
    {
     "name": "stdout",
     "output_type": "stream",
     "text": [
      "\n",
      "      Epoch    GPU_mem   box_loss   cls_loss   dfl_loss  Instances       Size\n"
     ]
    },
    {
     "name": "stderr",
     "output_type": "stream",
     "text": [
      "    134/150      5.12G      1.257     0.7163     0.8817          7        768: 100%|██████████| 492/492 [02:39<00:00,  3.08it/s]\n",
      "                 Class     Images  Instances      Box(P          R      mAP50  mAP50-95): 100%|██████████| 74/74 [00:17<00:00,  4.32it/s]"
     ]
    },
    {
     "name": "stdout",
     "output_type": "stream",
     "text": [
      "                   all       2347       4389      0.952      0.941      0.963      0.579\n"
     ]
    },
    {
     "name": "stderr",
     "output_type": "stream",
     "text": [
      "\n"
     ]
    },
    {
     "name": "stdout",
     "output_type": "stream",
     "text": [
      "\n",
      "      Epoch    GPU_mem   box_loss   cls_loss   dfl_loss  Instances       Size\n"
     ]
    },
    {
     "name": "stderr",
     "output_type": "stream",
     "text": [
      "    135/150      5.12G       1.25     0.7079     0.8814         10        768: 100%|██████████| 492/492 [02:39<00:00,  3.08it/s]\n",
      "                 Class     Images  Instances      Box(P          R      mAP50  mAP50-95): 100%|██████████| 74/74 [00:17<00:00,  4.27it/s]"
     ]
    },
    {
     "name": "stdout",
     "output_type": "stream",
     "text": [
      "                   all       2347       4389      0.952      0.941      0.963      0.579\n"
     ]
    },
    {
     "name": "stderr",
     "output_type": "stream",
     "text": [
      "\n"
     ]
    },
    {
     "name": "stdout",
     "output_type": "stream",
     "text": [
      "\n",
      "      Epoch    GPU_mem   box_loss   cls_loss   dfl_loss  Instances       Size\n"
     ]
    },
    {
     "name": "stderr",
     "output_type": "stream",
     "text": [
      "    136/150      5.12G      1.254     0.7081     0.8822         13        768: 100%|██████████| 492/492 [02:39<00:00,  3.08it/s]\n",
      "                 Class     Images  Instances      Box(P          R      mAP50  mAP50-95): 100%|██████████| 74/74 [00:17<00:00,  4.32it/s]"
     ]
    },
    {
     "name": "stdout",
     "output_type": "stream",
     "text": [
      "                   all       2347       4389      0.952       0.94      0.962      0.579\n"
     ]
    },
    {
     "name": "stderr",
     "output_type": "stream",
     "text": [
      "\n"
     ]
    },
    {
     "name": "stdout",
     "output_type": "stream",
     "text": [
      "\n",
      "      Epoch    GPU_mem   box_loss   cls_loss   dfl_loss  Instances       Size\n"
     ]
    },
    {
     "name": "stderr",
     "output_type": "stream",
     "text": [
      "    137/150      5.12G      1.249      0.707     0.8778          8        768: 100%|██████████| 492/492 [02:39<00:00,  3.08it/s]\n",
      "                 Class     Images  Instances      Box(P          R      mAP50  mAP50-95): 100%|██████████| 74/74 [00:17<00:00,  4.30it/s]"
     ]
    },
    {
     "name": "stdout",
     "output_type": "stream",
     "text": [
      "                   all       2347       4389      0.952      0.941      0.963      0.579\n"
     ]
    },
    {
     "name": "stderr",
     "output_type": "stream",
     "text": [
      "\n"
     ]
    },
    {
     "name": "stdout",
     "output_type": "stream",
     "text": [
      "\n",
      "      Epoch    GPU_mem   box_loss   cls_loss   dfl_loss  Instances       Size\n"
     ]
    },
    {
     "name": "stderr",
     "output_type": "stream",
     "text": [
      "    138/150      5.12G      1.249     0.7077     0.8787         10        768: 100%|██████████| 492/492 [02:39<00:00,  3.08it/s]\n",
      "                 Class     Images  Instances      Box(P          R      mAP50  mAP50-95): 100%|██████████| 74/74 [00:17<00:00,  4.32it/s]"
     ]
    },
    {
     "name": "stdout",
     "output_type": "stream",
     "text": [
      "                   all       2347       4389      0.952      0.942      0.963      0.579\n"
     ]
    },
    {
     "name": "stderr",
     "output_type": "stream",
     "text": [
      "\n"
     ]
    },
    {
     "name": "stdout",
     "output_type": "stream",
     "text": [
      "\n",
      "      Epoch    GPU_mem   box_loss   cls_loss   dfl_loss  Instances       Size\n"
     ]
    },
    {
     "name": "stderr",
     "output_type": "stream",
     "text": [
      "    139/150      5.12G      1.253      0.713     0.8815          7        768: 100%|██████████| 492/492 [02:39<00:00,  3.08it/s]\n",
      "                 Class     Images  Instances      Box(P          R      mAP50  mAP50-95): 100%|██████████| 74/74 [00:17<00:00,  4.32it/s]"
     ]
    },
    {
     "name": "stdout",
     "output_type": "stream",
     "text": [
      "                   all       2347       4389      0.952      0.942      0.962      0.579\n"
     ]
    },
    {
     "name": "stderr",
     "output_type": "stream",
     "text": [
      "\n"
     ]
    },
    {
     "name": "stdout",
     "output_type": "stream",
     "text": [
      "\n",
      "      Epoch    GPU_mem   box_loss   cls_loss   dfl_loss  Instances       Size\n"
     ]
    },
    {
     "name": "stderr",
     "output_type": "stream",
     "text": [
      "    140/150      5.12G      1.247     0.7119     0.8782          6        768: 100%|██████████| 492/492 [02:39<00:00,  3.08it/s]\n",
      "                 Class     Images  Instances      Box(P          R      mAP50  mAP50-95): 100%|██████████| 74/74 [00:17<00:00,  4.31it/s]"
     ]
    },
    {
     "name": "stdout",
     "output_type": "stream",
     "text": [
      "                   all       2347       4389      0.951      0.942      0.963      0.579\n"
     ]
    },
    {
     "name": "stderr",
     "output_type": "stream",
     "text": [
      "\n"
     ]
    },
    {
     "name": "stdout",
     "output_type": "stream",
     "text": [
      "Closing dataloader mosaic\n"
     ]
    },
    {
     "name": "stderr",
     "output_type": "stream",
     "text": [
      "/home/hpc/tovl/tovl108v/torch/utils/data/dataloader.py:626: UserWarning: This DataLoader will create 8 worker processes in total. Our suggested max number of worker in current system is 4, which is smaller than what this DataLoader is going to create. Please be aware that excessive worker creation might get DataLoader running slow or even freeze, lower the worker number to avoid potential slowness/freeze if necessary.\n",
      "  warnings.warn(\n"
     ]
    },
    {
     "name": "stdout",
     "output_type": "stream",
     "text": [
      "\n",
      "      Epoch    GPU_mem   box_loss   cls_loss   dfl_loss  Instances       Size\n"
     ]
    },
    {
     "name": "stderr",
     "output_type": "stream",
     "text": [
      "    141/150      5.12G      1.232     0.7059     0.8886          4        768: 100%|██████████| 492/492 [02:41<00:00,  3.05it/s]\n",
      "                 Class     Images  Instances      Box(P          R      mAP50  mAP50-95): 100%|██████████| 74/74 [00:17<00:00,  4.32it/s]"
     ]
    },
    {
     "name": "stdout",
     "output_type": "stream",
     "text": [
      "                   all       2347       4389      0.951      0.941      0.963      0.579\n"
     ]
    },
    {
     "name": "stderr",
     "output_type": "stream",
     "text": [
      "\n"
     ]
    },
    {
     "name": "stdout",
     "output_type": "stream",
     "text": [
      "\n",
      "      Epoch    GPU_mem   box_loss   cls_loss   dfl_loss  Instances       Size\n"
     ]
    },
    {
     "name": "stderr",
     "output_type": "stream",
     "text": [
      "    142/150      5.12G      1.234     0.7008     0.8858          4        768: 100%|██████████| 492/492 [02:39<00:00,  3.09it/s]\n",
      "                 Class     Images  Instances      Box(P          R      mAP50  mAP50-95): 100%|██████████| 74/74 [00:17<00:00,  4.32it/s]"
     ]
    },
    {
     "name": "stdout",
     "output_type": "stream",
     "text": [
      "                   all       2347       4389      0.951      0.941      0.962      0.579\n"
     ]
    },
    {
     "name": "stderr",
     "output_type": "stream",
     "text": [
      "\n"
     ]
    },
    {
     "name": "stdout",
     "output_type": "stream",
     "text": [
      "\n",
      "      Epoch    GPU_mem   box_loss   cls_loss   dfl_loss  Instances       Size\n"
     ]
    },
    {
     "name": "stderr",
     "output_type": "stream",
     "text": [
      "    143/150      5.12G      1.229     0.7015     0.8856          5        768: 100%|██████████| 492/492 [02:39<00:00,  3.08it/s]\n",
      "                 Class     Images  Instances      Box(P          R      mAP50  mAP50-95): 100%|██████████| 74/74 [00:17<00:00,  4.33it/s]"
     ]
    },
    {
     "name": "stdout",
     "output_type": "stream",
     "text": [
      "                   all       2347       4389      0.951      0.941      0.962       0.58\n"
     ]
    },
    {
     "name": "stderr",
     "output_type": "stream",
     "text": [
      "\n"
     ]
    },
    {
     "name": "stdout",
     "output_type": "stream",
     "text": [
      "\n",
      "      Epoch    GPU_mem   box_loss   cls_loss   dfl_loss  Instances       Size\n"
     ]
    },
    {
     "name": "stderr",
     "output_type": "stream",
     "text": [
      "    144/150      5.12G      1.219     0.6941      0.885          6        768: 100%|██████████| 492/492 [02:39<00:00,  3.08it/s]\n",
      "                 Class     Images  Instances      Box(P          R      mAP50  mAP50-95): 100%|██████████| 74/74 [00:17<00:00,  4.31it/s]"
     ]
    },
    {
     "name": "stdout",
     "output_type": "stream",
     "text": [
      "                   all       2347       4389      0.951       0.94      0.962       0.58\n"
     ]
    },
    {
     "name": "stderr",
     "output_type": "stream",
     "text": [
      "\n"
     ]
    },
    {
     "name": "stdout",
     "output_type": "stream",
     "text": [
      "\n",
      "      Epoch    GPU_mem   box_loss   cls_loss   dfl_loss  Instances       Size\n"
     ]
    },
    {
     "name": "stderr",
     "output_type": "stream",
     "text": [
      "    145/150      5.12G      1.217     0.6971     0.8836          3        768: 100%|██████████| 492/492 [02:39<00:00,  3.09it/s]\n",
      "                 Class     Images  Instances      Box(P          R      mAP50  mAP50-95): 100%|██████████| 74/74 [00:17<00:00,  4.31it/s]"
     ]
    },
    {
     "name": "stdout",
     "output_type": "stream",
     "text": [
      "                   all       2347       4389      0.951      0.941      0.963       0.58\n"
     ]
    },
    {
     "name": "stderr",
     "output_type": "stream",
     "text": [
      "\n"
     ]
    },
    {
     "name": "stdout",
     "output_type": "stream",
     "text": [
      "\n",
      "      Epoch    GPU_mem   box_loss   cls_loss   dfl_loss  Instances       Size\n"
     ]
    },
    {
     "name": "stderr",
     "output_type": "stream",
     "text": [
      "    146/150      5.12G      1.224      0.703     0.8859          3        768: 100%|██████████| 492/492 [02:39<00:00,  3.09it/s]\n",
      "                 Class     Images  Instances      Box(P          R      mAP50  mAP50-95): 100%|██████████| 74/74 [00:17<00:00,  4.32it/s]"
     ]
    },
    {
     "name": "stdout",
     "output_type": "stream",
     "text": [
      "                   all       2347       4389      0.951      0.941      0.962       0.58\n"
     ]
    },
    {
     "name": "stderr",
     "output_type": "stream",
     "text": [
      "\n"
     ]
    },
    {
     "name": "stdout",
     "output_type": "stream",
     "text": [
      "\n",
      "      Epoch    GPU_mem   box_loss   cls_loss   dfl_loss  Instances       Size\n"
     ]
    },
    {
     "name": "stderr",
     "output_type": "stream",
     "text": [
      "    147/150      5.12G      1.216      0.694     0.8843          4        768: 100%|██████████| 492/492 [02:39<00:00,  3.09it/s]\n",
      "                 Class     Images  Instances      Box(P          R      mAP50  mAP50-95): 100%|██████████| 74/74 [00:17<00:00,  4.32it/s]"
     ]
    },
    {
     "name": "stdout",
     "output_type": "stream",
     "text": [
      "                   all       2347       4389      0.951      0.942      0.963       0.58\n"
     ]
    },
    {
     "name": "stderr",
     "output_type": "stream",
     "text": [
      "\n"
     ]
    },
    {
     "name": "stdout",
     "output_type": "stream",
     "text": [
      "\n",
      "      Epoch    GPU_mem   box_loss   cls_loss   dfl_loss  Instances       Size\n"
     ]
    },
    {
     "name": "stderr",
     "output_type": "stream",
     "text": [
      "    148/150      5.12G      1.212     0.6941     0.8876          3        768: 100%|██████████| 492/492 [02:39<00:00,  3.08it/s]\n",
      "                 Class     Images  Instances      Box(P          R      mAP50  mAP50-95): 100%|██████████| 74/74 [00:17<00:00,  4.31it/s]"
     ]
    },
    {
     "name": "stdout",
     "output_type": "stream",
     "text": [
      "                   all       2347       4389      0.951      0.941      0.963       0.58\n"
     ]
    },
    {
     "name": "stderr",
     "output_type": "stream",
     "text": [
      "\n"
     ]
    },
    {
     "name": "stdout",
     "output_type": "stream",
     "text": [
      "\n",
      "      Epoch    GPU_mem   box_loss   cls_loss   dfl_loss  Instances       Size\n"
     ]
    },
    {
     "name": "stderr",
     "output_type": "stream",
     "text": [
      "    149/150      5.12G      1.225     0.6945     0.8864          2        768: 100%|██████████| 492/492 [02:39<00:00,  3.09it/s]\n",
      "                 Class     Images  Instances      Box(P          R      mAP50  mAP50-95): 100%|██████████| 74/74 [00:17<00:00,  4.32it/s]"
     ]
    },
    {
     "name": "stdout",
     "output_type": "stream",
     "text": [
      "                   all       2347       4389      0.951      0.942      0.962       0.58\n"
     ]
    },
    {
     "name": "stderr",
     "output_type": "stream",
     "text": [
      "\n"
     ]
    },
    {
     "name": "stdout",
     "output_type": "stream",
     "text": [
      "\n",
      "      Epoch    GPU_mem   box_loss   cls_loss   dfl_loss  Instances       Size\n"
     ]
    },
    {
     "name": "stderr",
     "output_type": "stream",
     "text": [
      "    150/150      5.12G      1.212     0.6911      0.884          3        768: 100%|██████████| 492/492 [02:39<00:00,  3.09it/s]\n",
      "                 Class     Images  Instances      Box(P          R      mAP50  mAP50-95): 100%|██████████| 74/74 [00:17<00:00,  4.32it/s]"
     ]
    },
    {
     "name": "stdout",
     "output_type": "stream",
     "text": [
      "                   all       2347       4389      0.951      0.942      0.962       0.58\n"
     ]
    },
    {
     "name": "stderr",
     "output_type": "stream",
     "text": [
      "\n"
     ]
    },
    {
     "name": "stdout",
     "output_type": "stream",
     "text": [
      "\n",
      "66 epochs completed in 3.272 hours.\n",
      "Optimizer stripped from runs/detect/hexbug_yolo11n3/weights/last.pt, 5.5MB\n",
      "Optimizer stripped from runs/detect/hexbug_yolo11n3/weights/best.pt, 5.5MB\n",
      "\n",
      "Validating runs/detect/hexbug_yolo11n3/weights/best.pt...\n",
      "Ultralytics 8.3.161 🚀 Python-3.12.10 torch-2.7.1+cu126 CUDA:0 (NVIDIA GeForce GTX 1080 Ti, 11165MiB)\n",
      "YOLO11n summary (fused): 100 layers, 2,582,932 parameters, 0 gradients, 6.3 GFLOPs\n"
     ]
    },
    {
     "name": "stderr",
     "output_type": "stream",
     "text": [
      "                 Class     Images  Instances      Box(P          R      mAP50  mAP50-95): 100%|██████████| 74/74 [00:30<00:00,  2.42it/s]\n"
     ]
    },
    {
     "name": "stdout",
     "output_type": "stream",
     "text": [
      "                   all       2347       4389      0.921      0.922      0.959      0.577\n",
      "              hexbug_0       2347       4389      0.921      0.922      0.959      0.577\n",
      "Speed: 0.2ms preprocess, 9.0ms inference, 0.0ms loss, 1.0ms postprocess per image\n",
      "Results saved to \u001b[1mruns/detect/hexbug_yolo11n3\u001b[0m\n"
     ]
    },
    {
     "data": {
      "text/plain": [
       "ultralytics.utils.metrics.DetMetrics object with attributes:\n",
       "\n",
       "ap_class_index: array([0])\n",
       "box: ultralytics.utils.metrics.Metric object\n",
       "confusion_matrix: <ultralytics.utils.metrics.ConfusionMatrix object at 0x728dd63a72c0>\n",
       "curves: ['Precision-Recall(B)', 'F1-Confidence(B)', 'Precision-Confidence(B)', 'Recall-Confidence(B)']\n",
       "curves_results: [[array([          0,    0.001001,    0.002002,    0.003003,    0.004004,    0.005005,    0.006006,    0.007007,    0.008008,    0.009009,     0.01001,    0.011011,    0.012012,    0.013013,    0.014014,    0.015015,    0.016016,    0.017017,    0.018018,    0.019019,     0.02002,    0.021021,    0.022022,    0.023023,\n",
       "          0.024024,    0.025025,    0.026026,    0.027027,    0.028028,    0.029029,     0.03003,    0.031031,    0.032032,    0.033033,    0.034034,    0.035035,    0.036036,    0.037037,    0.038038,    0.039039,     0.04004,    0.041041,    0.042042,    0.043043,    0.044044,    0.045045,    0.046046,    0.047047,\n",
       "          0.048048,    0.049049,     0.05005,    0.051051,    0.052052,    0.053053,    0.054054,    0.055055,    0.056056,    0.057057,    0.058058,    0.059059,     0.06006,    0.061061,    0.062062,    0.063063,    0.064064,    0.065065,    0.066066,    0.067067,    0.068068,    0.069069,     0.07007,    0.071071,\n",
       "          0.072072,    0.073073,    0.074074,    0.075075,    0.076076,    0.077077,    0.078078,    0.079079,     0.08008,    0.081081,    0.082082,    0.083083,    0.084084,    0.085085,    0.086086,    0.087087,    0.088088,    0.089089,     0.09009,    0.091091,    0.092092,    0.093093,    0.094094,    0.095095,\n",
       "          0.096096,    0.097097,    0.098098,    0.099099,      0.1001,      0.1011,      0.1021,      0.1031,      0.1041,     0.10511,     0.10611,     0.10711,     0.10811,     0.10911,     0.11011,     0.11111,     0.11211,     0.11311,     0.11411,     0.11512,     0.11612,     0.11712,     0.11812,     0.11912,\n",
       "           0.12012,     0.12112,     0.12212,     0.12312,     0.12412,     0.12513,     0.12613,     0.12713,     0.12813,     0.12913,     0.13013,     0.13113,     0.13213,     0.13313,     0.13413,     0.13514,     0.13614,     0.13714,     0.13814,     0.13914,     0.14014,     0.14114,     0.14214,     0.14314,\n",
       "           0.14414,     0.14515,     0.14615,     0.14715,     0.14815,     0.14915,     0.15015,     0.15115,     0.15215,     0.15315,     0.15415,     0.15516,     0.15616,     0.15716,     0.15816,     0.15916,     0.16016,     0.16116,     0.16216,     0.16316,     0.16416,     0.16517,     0.16617,     0.16717,\n",
       "           0.16817,     0.16917,     0.17017,     0.17117,     0.17217,     0.17317,     0.17417,     0.17518,     0.17618,     0.17718,     0.17818,     0.17918,     0.18018,     0.18118,     0.18218,     0.18318,     0.18418,     0.18519,     0.18619,     0.18719,     0.18819,     0.18919,     0.19019,     0.19119,\n",
       "           0.19219,     0.19319,     0.19419,      0.1952,      0.1962,      0.1972,      0.1982,      0.1992,      0.2002,      0.2012,      0.2022,      0.2032,      0.2042,     0.20521,     0.20621,     0.20721,     0.20821,     0.20921,     0.21021,     0.21121,     0.21221,     0.21321,     0.21421,     0.21522,\n",
       "           0.21622,     0.21722,     0.21822,     0.21922,     0.22022,     0.22122,     0.22222,     0.22322,     0.22422,     0.22523,     0.22623,     0.22723,     0.22823,     0.22923,     0.23023,     0.23123,     0.23223,     0.23323,     0.23423,     0.23524,     0.23624,     0.23724,     0.23824,     0.23924,\n",
       "           0.24024,     0.24124,     0.24224,     0.24324,     0.24424,     0.24525,     0.24625,     0.24725,     0.24825,     0.24925,     0.25025,     0.25125,     0.25225,     0.25325,     0.25425,     0.25526,     0.25626,     0.25726,     0.25826,     0.25926,     0.26026,     0.26126,     0.26226,     0.26326,\n",
       "           0.26426,     0.26527,     0.26627,     0.26727,     0.26827,     0.26927,     0.27027,     0.27127,     0.27227,     0.27327,     0.27427,     0.27528,     0.27628,     0.27728,     0.27828,     0.27928,     0.28028,     0.28128,     0.28228,     0.28328,     0.28428,     0.28529,     0.28629,     0.28729,\n",
       "           0.28829,     0.28929,     0.29029,     0.29129,     0.29229,     0.29329,     0.29429,      0.2953,      0.2963,      0.2973,      0.2983,      0.2993,      0.3003,      0.3013,      0.3023,      0.3033,      0.3043,     0.30531,     0.30631,     0.30731,     0.30831,     0.30931,     0.31031,     0.31131,\n",
       "           0.31231,     0.31331,     0.31431,     0.31532,     0.31632,     0.31732,     0.31832,     0.31932,     0.32032,     0.32132,     0.32232,     0.32332,     0.32432,     0.32533,     0.32633,     0.32733,     0.32833,     0.32933,     0.33033,     0.33133,     0.33233,     0.33333,     0.33433,     0.33534,\n",
       "           0.33634,     0.33734,     0.33834,     0.33934,     0.34034,     0.34134,     0.34234,     0.34334,     0.34434,     0.34535,     0.34635,     0.34735,     0.34835,     0.34935,     0.35035,     0.35135,     0.35235,     0.35335,     0.35435,     0.35536,     0.35636,     0.35736,     0.35836,     0.35936,\n",
       "           0.36036,     0.36136,     0.36236,     0.36336,     0.36436,     0.36537,     0.36637,     0.36737,     0.36837,     0.36937,     0.37037,     0.37137,     0.37237,     0.37337,     0.37437,     0.37538,     0.37638,     0.37738,     0.37838,     0.37938,     0.38038,     0.38138,     0.38238,     0.38338,\n",
       "           0.38438,     0.38539,     0.38639,     0.38739,     0.38839,     0.38939,     0.39039,     0.39139,     0.39239,     0.39339,     0.39439,      0.3954,      0.3964,      0.3974,      0.3984,      0.3994,      0.4004,      0.4014,      0.4024,      0.4034,      0.4044,     0.40541,     0.40641,     0.40741,\n",
       "           0.40841,     0.40941,     0.41041,     0.41141,     0.41241,     0.41341,     0.41441,     0.41542,     0.41642,     0.41742,     0.41842,     0.41942,     0.42042,     0.42142,     0.42242,     0.42342,     0.42442,     0.42543,     0.42643,     0.42743,     0.42843,     0.42943,     0.43043,     0.43143,\n",
       "           0.43243,     0.43343,     0.43443,     0.43544,     0.43644,     0.43744,     0.43844,     0.43944,     0.44044,     0.44144,     0.44244,     0.44344,     0.44444,     0.44545,     0.44645,     0.44745,     0.44845,     0.44945,     0.45045,     0.45145,     0.45245,     0.45345,     0.45445,     0.45546,\n",
       "           0.45646,     0.45746,     0.45846,     0.45946,     0.46046,     0.46146,     0.46246,     0.46346,     0.46446,     0.46547,     0.46647,     0.46747,     0.46847,     0.46947,     0.47047,     0.47147,     0.47247,     0.47347,     0.47447,     0.47548,     0.47648,     0.47748,     0.47848,     0.47948,\n",
       "           0.48048,     0.48148,     0.48248,     0.48348,     0.48448,     0.48549,     0.48649,     0.48749,     0.48849,     0.48949,     0.49049,     0.49149,     0.49249,     0.49349,     0.49449,      0.4955,      0.4965,      0.4975,      0.4985,      0.4995,      0.5005,      0.5015,      0.5025,      0.5035,\n",
       "            0.5045,     0.50551,     0.50651,     0.50751,     0.50851,     0.50951,     0.51051,     0.51151,     0.51251,     0.51351,     0.51451,     0.51552,     0.51652,     0.51752,     0.51852,     0.51952,     0.52052,     0.52152,     0.52252,     0.52352,     0.52452,     0.52553,     0.52653,     0.52753,\n",
       "           0.52853,     0.52953,     0.53053,     0.53153,     0.53253,     0.53353,     0.53453,     0.53554,     0.53654,     0.53754,     0.53854,     0.53954,     0.54054,     0.54154,     0.54254,     0.54354,     0.54454,     0.54555,     0.54655,     0.54755,     0.54855,     0.54955,     0.55055,     0.55155,\n",
       "           0.55255,     0.55355,     0.55455,     0.55556,     0.55656,     0.55756,     0.55856,     0.55956,     0.56056,     0.56156,     0.56256,     0.56356,     0.56456,     0.56557,     0.56657,     0.56757,     0.56857,     0.56957,     0.57057,     0.57157,     0.57257,     0.57357,     0.57457,     0.57558,\n",
       "           0.57658,     0.57758,     0.57858,     0.57958,     0.58058,     0.58158,     0.58258,     0.58358,     0.58458,     0.58559,     0.58659,     0.58759,     0.58859,     0.58959,     0.59059,     0.59159,     0.59259,     0.59359,     0.59459,      0.5956,      0.5966,      0.5976,      0.5986,      0.5996,\n",
       "            0.6006,      0.6016,      0.6026,      0.6036,      0.6046,     0.60561,     0.60661,     0.60761,     0.60861,     0.60961,     0.61061,     0.61161,     0.61261,     0.61361,     0.61461,     0.61562,     0.61662,     0.61762,     0.61862,     0.61962,     0.62062,     0.62162,     0.62262,     0.62362,\n",
       "           0.62462,     0.62563,     0.62663,     0.62763,     0.62863,     0.62963,     0.63063,     0.63163,     0.63263,     0.63363,     0.63463,     0.63564,     0.63664,     0.63764,     0.63864,     0.63964,     0.64064,     0.64164,     0.64264,     0.64364,     0.64464,     0.64565,     0.64665,     0.64765,\n",
       "           0.64865,     0.64965,     0.65065,     0.65165,     0.65265,     0.65365,     0.65465,     0.65566,     0.65666,     0.65766,     0.65866,     0.65966,     0.66066,     0.66166,     0.66266,     0.66366,     0.66466,     0.66567,     0.66667,     0.66767,     0.66867,     0.66967,     0.67067,     0.67167,\n",
       "           0.67267,     0.67367,     0.67467,     0.67568,     0.67668,     0.67768,     0.67868,     0.67968,     0.68068,     0.68168,     0.68268,     0.68368,     0.68468,     0.68569,     0.68669,     0.68769,     0.68869,     0.68969,     0.69069,     0.69169,     0.69269,     0.69369,     0.69469,      0.6957,\n",
       "            0.6967,      0.6977,      0.6987,      0.6997,      0.7007,      0.7017,      0.7027,      0.7037,      0.7047,     0.70571,     0.70671,     0.70771,     0.70871,     0.70971,     0.71071,     0.71171,     0.71271,     0.71371,     0.71471,     0.71572,     0.71672,     0.71772,     0.71872,     0.71972,\n",
       "           0.72072,     0.72172,     0.72272,     0.72372,     0.72472,     0.72573,     0.72673,     0.72773,     0.72873,     0.72973,     0.73073,     0.73173,     0.73273,     0.73373,     0.73473,     0.73574,     0.73674,     0.73774,     0.73874,     0.73974,     0.74074,     0.74174,     0.74274,     0.74374,\n",
       "           0.74474,     0.74575,     0.74675,     0.74775,     0.74875,     0.74975,     0.75075,     0.75175,     0.75275,     0.75375,     0.75475,     0.75576,     0.75676,     0.75776,     0.75876,     0.75976,     0.76076,     0.76176,     0.76276,     0.76376,     0.76476,     0.76577,     0.76677,     0.76777,\n",
       "           0.76877,     0.76977,     0.77077,     0.77177,     0.77277,     0.77377,     0.77477,     0.77578,     0.77678,     0.77778,     0.77878,     0.77978,     0.78078,     0.78178,     0.78278,     0.78378,     0.78478,     0.78579,     0.78679,     0.78779,     0.78879,     0.78979,     0.79079,     0.79179,\n",
       "           0.79279,     0.79379,     0.79479,      0.7958,      0.7968,      0.7978,      0.7988,      0.7998,      0.8008,      0.8018,      0.8028,      0.8038,      0.8048,     0.80581,     0.80681,     0.80781,     0.80881,     0.80981,     0.81081,     0.81181,     0.81281,     0.81381,     0.81481,     0.81582,\n",
       "           0.81682,     0.81782,     0.81882,     0.81982,     0.82082,     0.82182,     0.82282,     0.82382,     0.82482,     0.82583,     0.82683,     0.82783,     0.82883,     0.82983,     0.83083,     0.83183,     0.83283,     0.83383,     0.83483,     0.83584,     0.83684,     0.83784,     0.83884,     0.83984,\n",
       "           0.84084,     0.84184,     0.84284,     0.84384,     0.84484,     0.84585,     0.84685,     0.84785,     0.84885,     0.84985,     0.85085,     0.85185,     0.85285,     0.85385,     0.85485,     0.85586,     0.85686,     0.85786,     0.85886,     0.85986,     0.86086,     0.86186,     0.86286,     0.86386,\n",
       "           0.86486,     0.86587,     0.86687,     0.86787,     0.86887,     0.86987,     0.87087,     0.87187,     0.87287,     0.87387,     0.87487,     0.87588,     0.87688,     0.87788,     0.87888,     0.87988,     0.88088,     0.88188,     0.88288,     0.88388,     0.88488,     0.88589,     0.88689,     0.88789,\n",
       "           0.88889,     0.88989,     0.89089,     0.89189,     0.89289,     0.89389,     0.89489,      0.8959,      0.8969,      0.8979,      0.8989,      0.8999,      0.9009,      0.9019,      0.9029,      0.9039,      0.9049,     0.90591,     0.90691,     0.90791,     0.90891,     0.90991,     0.91091,     0.91191,\n",
       "           0.91291,     0.91391,     0.91491,     0.91592,     0.91692,     0.91792,     0.91892,     0.91992,     0.92092,     0.92192,     0.92292,     0.92392,     0.92492,     0.92593,     0.92693,     0.92793,     0.92893,     0.92993,     0.93093,     0.93193,     0.93293,     0.93393,     0.93493,     0.93594,\n",
       "           0.93694,     0.93794,     0.93894,     0.93994,     0.94094,     0.94194,     0.94294,     0.94394,     0.94494,     0.94595,     0.94695,     0.94795,     0.94895,     0.94995,     0.95095,     0.95195,     0.95295,     0.95395,     0.95495,     0.95596,     0.95696,     0.95796,     0.95896,     0.95996,\n",
       "           0.96096,     0.96196,     0.96296,     0.96396,     0.96496,     0.96597,     0.96697,     0.96797,     0.96897,     0.96997,     0.97097,     0.97197,     0.97297,     0.97397,     0.97497,     0.97598,     0.97698,     0.97798,     0.97898,     0.97998,     0.98098,     0.98198,     0.98298,     0.98398,\n",
       "           0.98498,     0.98599,     0.98699,     0.98799,     0.98899,     0.98999,     0.99099,     0.99199,     0.99299,     0.99399,     0.99499,       0.996,       0.997,       0.998,       0.999,           1]), array([[          1,           1,           1,           1,           1,     0.99787,     0.99787,     0.99787,     0.99787,     0.99787,     0.99787,     0.99787,     0.99787,     0.99787,     0.99787,     0.99787,     0.99787,     0.99787,     0.99787,     0.99787,     0.99787,     0.99787,     0.99787,\n",
       "            0.99787,     0.99787,     0.99787,     0.99787,     0.99787,     0.99787,     0.99787,     0.99787,     0.99787,     0.99787,     0.99787,     0.99787,     0.99787,     0.99787,     0.99787,     0.99787,     0.99787,     0.99787,     0.99787,     0.99787,     0.99787,     0.99787,     0.99787,\n",
       "            0.99787,     0.99787,     0.99787,     0.99787,     0.99787,     0.99787,     0.99787,     0.99787,     0.99787,     0.99787,     0.99787,     0.99787,     0.99787,     0.99787,     0.99787,     0.99787,     0.99787,     0.99787,     0.99787,     0.99787,     0.99787,     0.99787,     0.99787,\n",
       "            0.99787,     0.99787,     0.99787,     0.99787,     0.99787,     0.99787,     0.99787,     0.99787,     0.99787,     0.99787,     0.99787,     0.99787,     0.99787,     0.99787,     0.99787,     0.99787,     0.99787,     0.99787,     0.99787,     0.99787,     0.99787,     0.99787,     0.99787,\n",
       "            0.99787,     0.99787,     0.99787,     0.99787,     0.99787,     0.99787,     0.99787,     0.99787,     0.99787,     0.99787,     0.99787,     0.99787,     0.99787,     0.99787,     0.99787,     0.99619,     0.99619,     0.99619,     0.99619,     0.99619,     0.99619,     0.99619,     0.99619,\n",
       "            0.99619,     0.99619,     0.99619,     0.99619,     0.99619,     0.99619,     0.99619,     0.99619,     0.99619,     0.99619,     0.99619,     0.99619,     0.99619,     0.99619,     0.99619,     0.99619,     0.99619,     0.99619,     0.99619,     0.99619,     0.99619,     0.99619,     0.99619,\n",
       "            0.99619,     0.99619,     0.99619,     0.99619,     0.99619,     0.99619,     0.99619,     0.99619,     0.99619,     0.99619,     0.99619,     0.99619,     0.99619,     0.99619,     0.99619,     0.99619,     0.99619,     0.99619,     0.99619,     0.99619,     0.99619,     0.99619,     0.99619,\n",
       "            0.99619,     0.99619,     0.99619,     0.99619,     0.99619,     0.99619,     0.99619,     0.99619,     0.99619,     0.99619,     0.99619,     0.99619,     0.99619,     0.99619,     0.99619,     0.99619,     0.99619,     0.99619,     0.99619,     0.99619,     0.99619,     0.99619,     0.99619,\n",
       "            0.99619,     0.99619,     0.99619,     0.99619,     0.99619,     0.99619,     0.99619,     0.99619,     0.99619,     0.99619,     0.99619,     0.99619,     0.99619,     0.99619,     0.99619,     0.99619,     0.99619,     0.99619,     0.99619,     0.99619,     0.99619,     0.99619,     0.99619,\n",
       "            0.99619,     0.99619,     0.99619,     0.99619,     0.99619,     0.99619,     0.99619,     0.99619,     0.99619,     0.99619,     0.99619,     0.99619,     0.99619,     0.99619,     0.99619,     0.99619,     0.99619,     0.99619,     0.99619,     0.99619,     0.99619,     0.99619,     0.99619,\n",
       "            0.99619,     0.99619,     0.99619,     0.99619,     0.99619,     0.99619,     0.99619,     0.99619,     0.99619,      0.9945,      0.9945,      0.9945,      0.9945,      0.9945,      0.9945,      0.9945,      0.9945,     0.99398,     0.99398,     0.99398,     0.99398,     0.99398,     0.99398,\n",
       "            0.99398,     0.99398,     0.99398,     0.99398,     0.99398,     0.99398,     0.99398,     0.99398,     0.99398,     0.99398,     0.99398,     0.99321,     0.99321,     0.99321,     0.99256,     0.99256,     0.99256,     0.99256,     0.99256,     0.99256,     0.99256,     0.99208,     0.99208,\n",
       "            0.99208,     0.99208,     0.99208,     0.99208,     0.99208,     0.99208,     0.99208,     0.99208,     0.99208,     0.99208,     0.99208,     0.99208,     0.99208,     0.99208,     0.99208,     0.99208,     0.99208,     0.99208,     0.99208,     0.99208,     0.99208,     0.99208,     0.99208,\n",
       "            0.99208,     0.99208,     0.99208,     0.99208,     0.99208,     0.99208,     0.99208,     0.99208,     0.99208,     0.99208,     0.99208,     0.99208,     0.99208,     0.99208,     0.99208,     0.99152,     0.99152,     0.99152,     0.99152,     0.99152,     0.99152,     0.99093,     0.99093,\n",
       "            0.99093,     0.99093,     0.99049,     0.99049,     0.99049,     0.99049,     0.99049,     0.99049,     0.99049,     0.99049,     0.99049,     0.99049,     0.99049,     0.99049,     0.99049,     0.99049,     0.99049,     0.99049,     0.99049,     0.99049,     0.99049,     0.99049,     0.99049,\n",
       "            0.99049,     0.99049,     0.99049,     0.99049,     0.99049,     0.99049,     0.99049,     0.99049,     0.99049,     0.99049,     0.99049,     0.99049,     0.99049,     0.99049,     0.99049,     0.99049,     0.99049,     0.99049,     0.99049,     0.99049,     0.99049,     0.99049,     0.99049,\n",
       "            0.99049,     0.99049,     0.99049,     0.99049,     0.99049,     0.99049,     0.99049,     0.99049,     0.99049,     0.99049,     0.99049,     0.99049,     0.99049,     0.99049,     0.99049,     0.99049,     0.99049,     0.99049,     0.99049,     0.99049,     0.99049,     0.99049,     0.99049,\n",
       "            0.99049,     0.99049,     0.99049,     0.99049,     0.99049,     0.99049,     0.99049,     0.99049,     0.99049,     0.99049,     0.99049,     0.99049,     0.99022,     0.99022,     0.99022,     0.99022,     0.99022,     0.99022,     0.99022,     0.99022,     0.99022,     0.99022,     0.99022,\n",
       "            0.99022,     0.98972,     0.98972,     0.98946,     0.98946,     0.98946,     0.98946,     0.98946,     0.98946,     0.98946,     0.98946,     0.98946,     0.98946,     0.98946,       0.989,       0.989,     0.98862,     0.98862,     0.98862,     0.98862,     0.98862,     0.98862,     0.98821,\n",
       "            0.98821,     0.98821,     0.98775,     0.98775,     0.98726,     0.98717,     0.98717,     0.98717,     0.98717,     0.98717,     0.98717,     0.98717,     0.98717,     0.98717,     0.98717,     0.98717,     0.98717,     0.98717,     0.98717,     0.98676,     0.98676,     0.98676,     0.98638,\n",
       "            0.98638,     0.98638,     0.98599,     0.98599,     0.98599,     0.98557,     0.98557,     0.98515,     0.98515,     0.98493,     0.98493,     0.98493,     0.98493,     0.98493,     0.98493,     0.98493,     0.98454,     0.98454,     0.98454,     0.98424,     0.98424,     0.98424,     0.98424,\n",
       "            0.98424,      0.9836,      0.9836,      0.9836,      0.9836,      0.9836,      0.9836,      0.9836,      0.9836,     0.98344,     0.98344,     0.98344,     0.98344,     0.98344,     0.98344,     0.98344,     0.98344,     0.98344,     0.98344,     0.98344,     0.98344,     0.98344,     0.98344,\n",
       "            0.98344,     0.98344,     0.98344,     0.98344,     0.98344,     0.98344,     0.98344,     0.98344,     0.98304,     0.98268,     0.98268,     0.98248,     0.98248,     0.98248,     0.98248,     0.98248,     0.98248,     0.98248,     0.98234,     0.98234,     0.98234,     0.98234,     0.98234,\n",
       "            0.98234,     0.98234,     0.98234,     0.98211,     0.98211,     0.98211,     0.98211,     0.98211,     0.98211,     0.98204,     0.98204,     0.98204,     0.98204,     0.98204,     0.98204,     0.98204,     0.98204,     0.98204,     0.98204,     0.98174,     0.98174,     0.98174,     0.98144,\n",
       "            0.98144,     0.98144,     0.98112,     0.98112,     0.98112,      0.9809,      0.9809,      0.9809,      0.9809,      0.9809,      0.9807,      0.9807,      0.9807,      0.9807,      0.9807,     0.98064,     0.98064,     0.98064,     0.98064,     0.98064,     0.98064,     0.98064,     0.98064,\n",
       "            0.98064,     0.98064,     0.98045,     0.98045,     0.98045,     0.98045,     0.98045,     0.98045,     0.98045,     0.98045,     0.98045,     0.98045,     0.98045,     0.98045,     0.98045,     0.98045,     0.98045,     0.98045,     0.98045,     0.98012,     0.97956,     0.97956,     0.97956,\n",
       "            0.97956,     0.97956,     0.97927,     0.97927,     0.97927,     0.97924,     0.97924,     0.97924,     0.97924,     0.97924,     0.97924,     0.97924,     0.97924,     0.97924,     0.97924,     0.97865,     0.97865,     0.97865,     0.97803,     0.97803,     0.97803,     0.97785,     0.97785,\n",
       "            0.97785,     0.97785,     0.97785,     0.97785,     0.97785,     0.97785,     0.97785,     0.97785,     0.97785,     0.97785,     0.97785,     0.97785,     0.97785,     0.97785,     0.97785,     0.97785,     0.97785,     0.97785,     0.97785,     0.97785,     0.97785,     0.97785,     0.97785,\n",
       "            0.97757,     0.97733,     0.97733,     0.97733,     0.97722,     0.97722,     0.97722,     0.97722,     0.97722,     0.97722,     0.97722,       0.977,       0.977,       0.977,     0.97696,     0.97696,     0.97696,     0.97696,     0.97696,     0.97696,     0.97696,     0.97696,      0.9767,\n",
       "             0.9767,     0.97661,     0.97661,     0.97661,     0.97661,     0.97661,     0.97661,     0.97661,     0.97661,     0.97661,     0.97661,     0.97661,     0.97661,     0.97661,     0.97661,     0.97661,     0.97661,     0.97661,     0.97661,     0.97661,     0.97661,     0.97661,     0.97661,\n",
       "            0.97661,     0.97661,     0.97661,     0.97661,     0.97646,     0.97646,     0.97646,     0.97646,     0.97646,     0.97634,     0.97634,     0.97634,     0.97634,     0.97634,     0.97634,     0.97609,     0.97609,     0.97609,     0.97609,     0.97609,     0.97609,     0.97609,     0.97609,\n",
       "            0.97609,     0.97609,     0.97609,     0.97581,     0.97555,     0.97538,     0.97538,     0.97538,     0.97538,     0.97421,     0.97402,     0.97402,     0.97402,     0.97363,     0.97363,     0.97363,     0.97363,     0.97363,     0.97363,     0.97309,     0.97271,     0.97271,     0.97271,\n",
       "            0.97271,     0.97271,     0.97271,     0.97251,     0.97251,     0.97224,     0.97174,     0.97174,      0.9715,     0.97123,     0.97078,     0.97078,     0.97078,     0.97024,     0.97004,     0.97004,     0.96979,     0.96929,     0.96929,     0.96911,     0.96911,     0.96895,     0.96895,\n",
       "            0.96895,     0.96895,     0.96895,     0.96895,     0.96895,     0.96895,     0.96895,     0.96895,     0.96895,     0.96895,     0.96895,     0.96895,     0.96895,     0.96895,     0.96895,     0.96895,     0.96872,     0.96861,     0.96861,     0.96861,     0.96861,     0.96861,     0.96861,\n",
       "            0.96861,     0.96861,     0.96861,     0.96861,     0.96861,     0.96842,     0.96842,      0.9682,      0.9682,     0.96819,     0.96819,     0.96819,     0.96819,     0.96819,     0.96819,     0.96796,     0.96781,     0.96781,     0.96781,     0.96778,     0.96778,     0.96778,     0.96778,\n",
       "            0.96778,     0.96778,     0.96758,     0.96758,     0.96711,      0.9669,      0.9669,     0.96668,     0.96593,     0.96557,     0.96557,     0.96557,     0.96557,     0.96459,      0.9644,      0.9644,     0.96421,      0.9641,      0.9641,      0.9641,      0.9641,     0.96391,     0.96383,\n",
       "            0.96383,     0.96383,     0.96383,     0.96383,     0.96367,     0.96367,     0.96322,     0.96301,      0.9629,      0.9629,      0.9629,     0.96277,     0.96277,     0.96277,     0.96266,     0.96266,     0.96266,     0.96243,     0.96206,     0.96206,     0.96206,     0.96194,     0.96194,\n",
       "            0.96194,     0.96148,      0.9608,     0.95988,     0.95948,     0.95948,     0.95925,      0.9588,     0.95837,     0.95769,     0.95748,     0.95705,     0.95565,     0.95521,     0.95411,     0.95411,     0.95394,     0.95352,     0.95307,     0.95242,     0.95159,     0.95159,     0.95115,\n",
       "            0.95052,     0.95009,     0.94973,     0.94973,     0.94956,     0.94941,     0.94923,     0.94906,     0.94906,     0.94844,     0.94762,     0.94762,     0.94587,     0.94587,     0.94536,     0.94536,     0.94514,     0.94428,     0.94366,     0.94307,     0.94288,      0.9423,     0.94144,\n",
       "            0.94081,     0.93999,      0.9394,     0.93876,     0.93751,     0.93688,     0.93607,     0.93547,     0.93424,     0.93388,     0.93327,     0.93184,     0.93103,     0.93048,      0.9303,      0.9297,     0.92813,     0.92813,     0.92676,     0.92635,     0.92603,     0.92419,     0.92404,\n",
       "            0.92285,     0.92147,     0.92112,      0.9185,     0.91834,     0.91759,     0.91524,     0.91466,     0.91251,     0.91179,     0.91144,     0.90974,     0.90921,     0.90869,     0.90756,     0.90564,     0.90455,     0.90329,      0.9012,     0.89739,     0.89588,     0.89494,     0.89494,\n",
       "            0.89078,      0.8892,     0.88718,     0.88334,     0.88138,     0.87962,     0.87642,     0.87395,     0.86665,     0.86551,     0.85799,     0.83924,     0.83539,     0.83221,     0.82645,     0.82031,     0.80836,     0.80527,     0.79785,      0.7873,     0.78106,     0.77625,      0.7478,\n",
       "            0.73929,     0.71628,      0.6795,     0.66646,     0.65579,     0.62911,     0.60539,     0.60152,     0.58638,      0.5725,     0.55144,     0.52527,     0.51143,     0.50023,     0.48015,     0.46404,     0.44471,      0.4322,     0.41437,     0.39875,     0.39168,     0.37894,     0.37071,\n",
       "            0.35995,     0.34284,     0.33191,     0.31412,     0.28959,     0.27434,     0.24288,     0.18859,     0.15506,    0.082607,           0]]), 'Recall', 'Precision'], [array([          0,    0.001001,    0.002002,    0.003003,    0.004004,    0.005005,    0.006006,    0.007007,    0.008008,    0.009009,     0.01001,    0.011011,    0.012012,    0.013013,    0.014014,    0.015015,    0.016016,    0.017017,    0.018018,    0.019019,     0.02002,    0.021021,    0.022022,    0.023023,\n",
       "          0.024024,    0.025025,    0.026026,    0.027027,    0.028028,    0.029029,     0.03003,    0.031031,    0.032032,    0.033033,    0.034034,    0.035035,    0.036036,    0.037037,    0.038038,    0.039039,     0.04004,    0.041041,    0.042042,    0.043043,    0.044044,    0.045045,    0.046046,    0.047047,\n",
       "          0.048048,    0.049049,     0.05005,    0.051051,    0.052052,    0.053053,    0.054054,    0.055055,    0.056056,    0.057057,    0.058058,    0.059059,     0.06006,    0.061061,    0.062062,    0.063063,    0.064064,    0.065065,    0.066066,    0.067067,    0.068068,    0.069069,     0.07007,    0.071071,\n",
       "          0.072072,    0.073073,    0.074074,    0.075075,    0.076076,    0.077077,    0.078078,    0.079079,     0.08008,    0.081081,    0.082082,    0.083083,    0.084084,    0.085085,    0.086086,    0.087087,    0.088088,    0.089089,     0.09009,    0.091091,    0.092092,    0.093093,    0.094094,    0.095095,\n",
       "          0.096096,    0.097097,    0.098098,    0.099099,      0.1001,      0.1011,      0.1021,      0.1031,      0.1041,     0.10511,     0.10611,     0.10711,     0.10811,     0.10911,     0.11011,     0.11111,     0.11211,     0.11311,     0.11411,     0.11512,     0.11612,     0.11712,     0.11812,     0.11912,\n",
       "           0.12012,     0.12112,     0.12212,     0.12312,     0.12412,     0.12513,     0.12613,     0.12713,     0.12813,     0.12913,     0.13013,     0.13113,     0.13213,     0.13313,     0.13413,     0.13514,     0.13614,     0.13714,     0.13814,     0.13914,     0.14014,     0.14114,     0.14214,     0.14314,\n",
       "           0.14414,     0.14515,     0.14615,     0.14715,     0.14815,     0.14915,     0.15015,     0.15115,     0.15215,     0.15315,     0.15415,     0.15516,     0.15616,     0.15716,     0.15816,     0.15916,     0.16016,     0.16116,     0.16216,     0.16316,     0.16416,     0.16517,     0.16617,     0.16717,\n",
       "           0.16817,     0.16917,     0.17017,     0.17117,     0.17217,     0.17317,     0.17417,     0.17518,     0.17618,     0.17718,     0.17818,     0.17918,     0.18018,     0.18118,     0.18218,     0.18318,     0.18418,     0.18519,     0.18619,     0.18719,     0.18819,     0.18919,     0.19019,     0.19119,\n",
       "           0.19219,     0.19319,     0.19419,      0.1952,      0.1962,      0.1972,      0.1982,      0.1992,      0.2002,      0.2012,      0.2022,      0.2032,      0.2042,     0.20521,     0.20621,     0.20721,     0.20821,     0.20921,     0.21021,     0.21121,     0.21221,     0.21321,     0.21421,     0.21522,\n",
       "           0.21622,     0.21722,     0.21822,     0.21922,     0.22022,     0.22122,     0.22222,     0.22322,     0.22422,     0.22523,     0.22623,     0.22723,     0.22823,     0.22923,     0.23023,     0.23123,     0.23223,     0.23323,     0.23423,     0.23524,     0.23624,     0.23724,     0.23824,     0.23924,\n",
       "           0.24024,     0.24124,     0.24224,     0.24324,     0.24424,     0.24525,     0.24625,     0.24725,     0.24825,     0.24925,     0.25025,     0.25125,     0.25225,     0.25325,     0.25425,     0.25526,     0.25626,     0.25726,     0.25826,     0.25926,     0.26026,     0.26126,     0.26226,     0.26326,\n",
       "           0.26426,     0.26527,     0.26627,     0.26727,     0.26827,     0.26927,     0.27027,     0.27127,     0.27227,     0.27327,     0.27427,     0.27528,     0.27628,     0.27728,     0.27828,     0.27928,     0.28028,     0.28128,     0.28228,     0.28328,     0.28428,     0.28529,     0.28629,     0.28729,\n",
       "           0.28829,     0.28929,     0.29029,     0.29129,     0.29229,     0.29329,     0.29429,      0.2953,      0.2963,      0.2973,      0.2983,      0.2993,      0.3003,      0.3013,      0.3023,      0.3033,      0.3043,     0.30531,     0.30631,     0.30731,     0.30831,     0.30931,     0.31031,     0.31131,\n",
       "           0.31231,     0.31331,     0.31431,     0.31532,     0.31632,     0.31732,     0.31832,     0.31932,     0.32032,     0.32132,     0.32232,     0.32332,     0.32432,     0.32533,     0.32633,     0.32733,     0.32833,     0.32933,     0.33033,     0.33133,     0.33233,     0.33333,     0.33433,     0.33534,\n",
       "           0.33634,     0.33734,     0.33834,     0.33934,     0.34034,     0.34134,     0.34234,     0.34334,     0.34434,     0.34535,     0.34635,     0.34735,     0.34835,     0.34935,     0.35035,     0.35135,     0.35235,     0.35335,     0.35435,     0.35536,     0.35636,     0.35736,     0.35836,     0.35936,\n",
       "           0.36036,     0.36136,     0.36236,     0.36336,     0.36436,     0.36537,     0.36637,     0.36737,     0.36837,     0.36937,     0.37037,     0.37137,     0.37237,     0.37337,     0.37437,     0.37538,     0.37638,     0.37738,     0.37838,     0.37938,     0.38038,     0.38138,     0.38238,     0.38338,\n",
       "           0.38438,     0.38539,     0.38639,     0.38739,     0.38839,     0.38939,     0.39039,     0.39139,     0.39239,     0.39339,     0.39439,      0.3954,      0.3964,      0.3974,      0.3984,      0.3994,      0.4004,      0.4014,      0.4024,      0.4034,      0.4044,     0.40541,     0.40641,     0.40741,\n",
       "           0.40841,     0.40941,     0.41041,     0.41141,     0.41241,     0.41341,     0.41441,     0.41542,     0.41642,     0.41742,     0.41842,     0.41942,     0.42042,     0.42142,     0.42242,     0.42342,     0.42442,     0.42543,     0.42643,     0.42743,     0.42843,     0.42943,     0.43043,     0.43143,\n",
       "           0.43243,     0.43343,     0.43443,     0.43544,     0.43644,     0.43744,     0.43844,     0.43944,     0.44044,     0.44144,     0.44244,     0.44344,     0.44444,     0.44545,     0.44645,     0.44745,     0.44845,     0.44945,     0.45045,     0.45145,     0.45245,     0.45345,     0.45445,     0.45546,\n",
       "           0.45646,     0.45746,     0.45846,     0.45946,     0.46046,     0.46146,     0.46246,     0.46346,     0.46446,     0.46547,     0.46647,     0.46747,     0.46847,     0.46947,     0.47047,     0.47147,     0.47247,     0.47347,     0.47447,     0.47548,     0.47648,     0.47748,     0.47848,     0.47948,\n",
       "           0.48048,     0.48148,     0.48248,     0.48348,     0.48448,     0.48549,     0.48649,     0.48749,     0.48849,     0.48949,     0.49049,     0.49149,     0.49249,     0.49349,     0.49449,      0.4955,      0.4965,      0.4975,      0.4985,      0.4995,      0.5005,      0.5015,      0.5025,      0.5035,\n",
       "            0.5045,     0.50551,     0.50651,     0.50751,     0.50851,     0.50951,     0.51051,     0.51151,     0.51251,     0.51351,     0.51451,     0.51552,     0.51652,     0.51752,     0.51852,     0.51952,     0.52052,     0.52152,     0.52252,     0.52352,     0.52452,     0.52553,     0.52653,     0.52753,\n",
       "           0.52853,     0.52953,     0.53053,     0.53153,     0.53253,     0.53353,     0.53453,     0.53554,     0.53654,     0.53754,     0.53854,     0.53954,     0.54054,     0.54154,     0.54254,     0.54354,     0.54454,     0.54555,     0.54655,     0.54755,     0.54855,     0.54955,     0.55055,     0.55155,\n",
       "           0.55255,     0.55355,     0.55455,     0.55556,     0.55656,     0.55756,     0.55856,     0.55956,     0.56056,     0.56156,     0.56256,     0.56356,     0.56456,     0.56557,     0.56657,     0.56757,     0.56857,     0.56957,     0.57057,     0.57157,     0.57257,     0.57357,     0.57457,     0.57558,\n",
       "           0.57658,     0.57758,     0.57858,     0.57958,     0.58058,     0.58158,     0.58258,     0.58358,     0.58458,     0.58559,     0.58659,     0.58759,     0.58859,     0.58959,     0.59059,     0.59159,     0.59259,     0.59359,     0.59459,      0.5956,      0.5966,      0.5976,      0.5986,      0.5996,\n",
       "            0.6006,      0.6016,      0.6026,      0.6036,      0.6046,     0.60561,     0.60661,     0.60761,     0.60861,     0.60961,     0.61061,     0.61161,     0.61261,     0.61361,     0.61461,     0.61562,     0.61662,     0.61762,     0.61862,     0.61962,     0.62062,     0.62162,     0.62262,     0.62362,\n",
       "           0.62462,     0.62563,     0.62663,     0.62763,     0.62863,     0.62963,     0.63063,     0.63163,     0.63263,     0.63363,     0.63463,     0.63564,     0.63664,     0.63764,     0.63864,     0.63964,     0.64064,     0.64164,     0.64264,     0.64364,     0.64464,     0.64565,     0.64665,     0.64765,\n",
       "           0.64865,     0.64965,     0.65065,     0.65165,     0.65265,     0.65365,     0.65465,     0.65566,     0.65666,     0.65766,     0.65866,     0.65966,     0.66066,     0.66166,     0.66266,     0.66366,     0.66466,     0.66567,     0.66667,     0.66767,     0.66867,     0.66967,     0.67067,     0.67167,\n",
       "           0.67267,     0.67367,     0.67467,     0.67568,     0.67668,     0.67768,     0.67868,     0.67968,     0.68068,     0.68168,     0.68268,     0.68368,     0.68468,     0.68569,     0.68669,     0.68769,     0.68869,     0.68969,     0.69069,     0.69169,     0.69269,     0.69369,     0.69469,      0.6957,\n",
       "            0.6967,      0.6977,      0.6987,      0.6997,      0.7007,      0.7017,      0.7027,      0.7037,      0.7047,     0.70571,     0.70671,     0.70771,     0.70871,     0.70971,     0.71071,     0.71171,     0.71271,     0.71371,     0.71471,     0.71572,     0.71672,     0.71772,     0.71872,     0.71972,\n",
       "           0.72072,     0.72172,     0.72272,     0.72372,     0.72472,     0.72573,     0.72673,     0.72773,     0.72873,     0.72973,     0.73073,     0.73173,     0.73273,     0.73373,     0.73473,     0.73574,     0.73674,     0.73774,     0.73874,     0.73974,     0.74074,     0.74174,     0.74274,     0.74374,\n",
       "           0.74474,     0.74575,     0.74675,     0.74775,     0.74875,     0.74975,     0.75075,     0.75175,     0.75275,     0.75375,     0.75475,     0.75576,     0.75676,     0.75776,     0.75876,     0.75976,     0.76076,     0.76176,     0.76276,     0.76376,     0.76476,     0.76577,     0.76677,     0.76777,\n",
       "           0.76877,     0.76977,     0.77077,     0.77177,     0.77277,     0.77377,     0.77477,     0.77578,     0.77678,     0.77778,     0.77878,     0.77978,     0.78078,     0.78178,     0.78278,     0.78378,     0.78478,     0.78579,     0.78679,     0.78779,     0.78879,     0.78979,     0.79079,     0.79179,\n",
       "           0.79279,     0.79379,     0.79479,      0.7958,      0.7968,      0.7978,      0.7988,      0.7998,      0.8008,      0.8018,      0.8028,      0.8038,      0.8048,     0.80581,     0.80681,     0.80781,     0.80881,     0.80981,     0.81081,     0.81181,     0.81281,     0.81381,     0.81481,     0.81582,\n",
       "           0.81682,     0.81782,     0.81882,     0.81982,     0.82082,     0.82182,     0.82282,     0.82382,     0.82482,     0.82583,     0.82683,     0.82783,     0.82883,     0.82983,     0.83083,     0.83183,     0.83283,     0.83383,     0.83483,     0.83584,     0.83684,     0.83784,     0.83884,     0.83984,\n",
       "           0.84084,     0.84184,     0.84284,     0.84384,     0.84484,     0.84585,     0.84685,     0.84785,     0.84885,     0.84985,     0.85085,     0.85185,     0.85285,     0.85385,     0.85485,     0.85586,     0.85686,     0.85786,     0.85886,     0.85986,     0.86086,     0.86186,     0.86286,     0.86386,\n",
       "           0.86486,     0.86587,     0.86687,     0.86787,     0.86887,     0.86987,     0.87087,     0.87187,     0.87287,     0.87387,     0.87487,     0.87588,     0.87688,     0.87788,     0.87888,     0.87988,     0.88088,     0.88188,     0.88288,     0.88388,     0.88488,     0.88589,     0.88689,     0.88789,\n",
       "           0.88889,     0.88989,     0.89089,     0.89189,     0.89289,     0.89389,     0.89489,      0.8959,      0.8969,      0.8979,      0.8989,      0.8999,      0.9009,      0.9019,      0.9029,      0.9039,      0.9049,     0.90591,     0.90691,     0.90791,     0.90891,     0.90991,     0.91091,     0.91191,\n",
       "           0.91291,     0.91391,     0.91491,     0.91592,     0.91692,     0.91792,     0.91892,     0.91992,     0.92092,     0.92192,     0.92292,     0.92392,     0.92492,     0.92593,     0.92693,     0.92793,     0.92893,     0.92993,     0.93093,     0.93193,     0.93293,     0.93393,     0.93493,     0.93594,\n",
       "           0.93694,     0.93794,     0.93894,     0.93994,     0.94094,     0.94194,     0.94294,     0.94394,     0.94494,     0.94595,     0.94695,     0.94795,     0.94895,     0.94995,     0.95095,     0.95195,     0.95295,     0.95395,     0.95495,     0.95596,     0.95696,     0.95796,     0.95896,     0.95996,\n",
       "           0.96096,     0.96196,     0.96296,     0.96396,     0.96496,     0.96597,     0.96697,     0.96797,     0.96897,     0.96997,     0.97097,     0.97197,     0.97297,     0.97397,     0.97497,     0.97598,     0.97698,     0.97798,     0.97898,     0.97998,     0.98098,     0.98198,     0.98298,     0.98398,\n",
       "           0.98498,     0.98599,     0.98699,     0.98799,     0.98899,     0.98999,     0.99099,     0.99199,     0.99299,     0.99399,     0.99499,       0.996,       0.997,       0.998,       0.999,           1]), array([[    0.26144,     0.26144,     0.30257,     0.32907,     0.35051,     0.36769,     0.38319,     0.39655,     0.40826,     0.41896,     0.42922,     0.43788,     0.44719,     0.45436,     0.46224,     0.47006,      0.4761,     0.48257,      0.4897,     0.49608,     0.50251,     0.50787,     0.51282,\n",
       "            0.51807,      0.5231,     0.52854,     0.53355,     0.53763,      0.5418,     0.54565,      0.5498,     0.55491,     0.55871,      0.5626,     0.56648,     0.57076,      0.5744,     0.57844,      0.5826,     0.58565,     0.58958,     0.59346,     0.59639,     0.60068,     0.60404,     0.60782,\n",
       "            0.61089,     0.61372,     0.61705,     0.62048,      0.6231,     0.62677,      0.6303,     0.63302,     0.63635,     0.63951,     0.64236,     0.64485,     0.64827,     0.65139,     0.65439,     0.65797,     0.66092,     0.66384,     0.66617,     0.66878,     0.67135,     0.67351,     0.67649,\n",
       "            0.67869,     0.68159,     0.68339,     0.68529,     0.68731,     0.68928,     0.69222,     0.69394,     0.69611,     0.69892,     0.70044,     0.70254,     0.70442,      0.7069,     0.70909,     0.71054,     0.71333,      0.7152,       0.717,     0.71876,     0.72078,     0.72215,     0.72399,\n",
       "            0.72536,     0.72684,     0.72878,     0.73051,     0.73266,     0.73485,     0.73668,     0.73828,     0.74015,     0.74118,     0.74284,     0.74386,     0.74457,     0.74648,     0.74823,     0.75047,      0.7519,     0.75328,     0.75509,     0.75627,     0.75765,     0.75877,     0.76018,\n",
       "            0.76171,     0.76318,     0.76421,     0.76585,     0.76768,     0.76954,      0.7704,     0.77231,     0.77459,     0.77602,     0.77788,     0.77926,     0.78043,     0.78232,     0.78334,     0.78458,     0.78567,     0.78704,       0.788,     0.78988,     0.79139,     0.79344,     0.79504,\n",
       "            0.79603,     0.79693,     0.79749,     0.79848,     0.79916,     0.80003,     0.80086,     0.80215,     0.80322,     0.80466,     0.80532,     0.80654,     0.80773,     0.80905,     0.81005,     0.81112,     0.81252,     0.81369,     0.81422,     0.81524,     0.81554,     0.81648,     0.81717,\n",
       "            0.81819,     0.81937,      0.8203,     0.82149,     0.82211,     0.82321,     0.82381,     0.82472,     0.82563,     0.82675,     0.82794,     0.82906,     0.82944,      0.8304,     0.83185,      0.8328,     0.83311,     0.83388,     0.83492,     0.83581,     0.83644,     0.83749,     0.83792,\n",
       "            0.83831,     0.83875,     0.83997,     0.84094,     0.84141,     0.84255,      0.8436,     0.84399,     0.84522,      0.8462,     0.84634,      0.8469,      0.8478,     0.84794,     0.84866,     0.84914,      0.8503,     0.85098,     0.85129,     0.85261,     0.85318,     0.85384,     0.85422,\n",
       "            0.85479,     0.85545,     0.85584,     0.85667,     0.85677,     0.85734,     0.85764,     0.85891,     0.85939,     0.86012,     0.86035,     0.86077,     0.86178,     0.86212,     0.86252,     0.86294,     0.86333,     0.86426,     0.86447,     0.86529,      0.8656,     0.86605,     0.86639,\n",
       "            0.86702,     0.86769,     0.86799,     0.86847,     0.86905,     0.86972,     0.87011,     0.87123,     0.87169,     0.87187,     0.87233,     0.87283,     0.87308,      0.8732,     0.87366,     0.87441,     0.87447,     0.87491,     0.87568,     0.87581,     0.87617,     0.87618,     0.87648,\n",
       "             0.8771,     0.87732,     0.87754,     0.87784,     0.87817,     0.87829,     0.87897,     0.87925,     0.87993,     0.88012,     0.88041,     0.88047,     0.88077,     0.88136,     0.88157,     0.88197,     0.88196,     0.88236,     0.88295,     0.88363,      0.8842,     0.88448,      0.8854,\n",
       "            0.88588,     0.88626,     0.88638,     0.88697,     0.88733,     0.88784,       0.888,     0.88874,     0.88892,     0.88958,      0.8898,     0.88992,      0.8901,     0.89021,     0.89037,     0.89079,     0.89101,     0.89091,     0.89138,     0.89169,     0.89173,     0.89166,     0.89184,\n",
       "            0.89247,     0.89282,     0.89335,     0.89359,     0.89428,     0.89459,     0.89489,     0.89553,     0.89567,     0.89618,     0.89696,     0.89727,     0.89754,     0.89789,     0.89807,     0.89855,     0.89867,     0.89885,      0.8989,     0.89958,     0.90007,     0.90017,     0.90097,\n",
       "            0.90118,     0.90206,     0.90248,     0.90268,     0.90339,     0.90348,     0.90427,     0.90449,     0.90469,     0.90521,     0.90541,      0.9056,     0.90604,     0.90621,     0.90629,     0.90661,      0.9068,     0.90685,     0.90703,     0.90715,       0.907,     0.90787,     0.90807,\n",
       "            0.90848,     0.90888,     0.90954,     0.90985,     0.91013,     0.91076,     0.91084,     0.91102,     0.91125,     0.91141,      0.9116,     0.91166,     0.91174,     0.91166,     0.91172,     0.91192,      0.9125,     0.91244,     0.91274,     0.91286,     0.91294,      0.9129,     0.91313,\n",
       "            0.91312,     0.91368,     0.91404,     0.91409,     0.91431,     0.91437,     0.91511,     0.91516,     0.91544,     0.91537,     0.91559,     0.91565,     0.91596,     0.91603,     0.91608,     0.91618,     0.91623,     0.91647,     0.91653,     0.91669,     0.91663,     0.91662,     0.91739,\n",
       "            0.91744,      0.9179,     0.91795,     0.91827,     0.91833,     0.91808,     0.91802,     0.91782,     0.91787,     0.91808,     0.91814,     0.91829,     0.91823,     0.91845,      0.9185,     0.91917,     0.91982,     0.91976,     0.91989,     0.91983,     0.92005,      0.9201,     0.92036,\n",
       "            0.92042,     0.92027,     0.92021,     0.92048,     0.92053,     0.92039,     0.92044,     0.92067,      0.9206,     0.92114,     0.92127,     0.92121,     0.92094,     0.92088,     0.92088,     0.92082,     0.92095,     0.92089,      0.9211,     0.92104,     0.92036,     0.92042,     0.92099,\n",
       "            0.92092,     0.92113,     0.92118,      0.9212,     0.92126,     0.92106,       0.921,     0.92131,     0.92136,     0.92171,     0.92165,     0.92164,     0.92158,     0.92123,     0.92159,     0.92165,     0.92175,     0.92181,     0.92188,     0.92182,     0.92171,     0.92177,     0.92166,\n",
       "            0.92172,     0.92211,     0.92205,     0.92154,      0.9216,     0.92205,     0.92199,     0.92164,     0.92158,     0.92123,     0.92117,     0.92128,     0.92134,     0.92147,     0.92141,     0.92102,     0.92108,     0.92114,      0.9212,     0.92101,     0.92053,     0.92058,     0.92055,\n",
       "            0.92049,     0.92048,     0.92041,     0.92049,     0.92043,     0.92007,     0.92001,      0.9199,     0.91996,     0.91994,     0.91987,     0.91975,     0.91969,     0.91958,     0.91964,     0.91937,      0.9193,      0.9194,     0.91933,     0.91901,     0.91906,      0.9189,     0.91883,\n",
       "            0.91882,     0.91876,     0.91863,     0.91857,     0.91893,     0.91887,     0.91836,     0.91841,     0.91769,     0.91774,     0.91738,     0.91743,     0.91716,     0.91721,     0.91583,     0.91546,     0.91539,     0.91555,     0.91549,     0.91527,     0.91532,     0.91468,     0.91474,\n",
       "            0.91374,      0.9138,     0.91296,     0.91301,     0.91249,     0.91243,     0.91176,     0.91182,     0.91121,     0.91126,     0.91096,     0.91089,     0.91048,     0.91042,     0.90987,     0.90981,     0.90947,     0.90953,     0.90907,       0.909,     0.90839,     0.90832,     0.90778,\n",
       "            0.90771,     0.90759,     0.90765,     0.90738,     0.90731,      0.9074,     0.90683,     0.90677,     0.90611,     0.90604,     0.90511,     0.90505,     0.90454,     0.90447,     0.90444,     0.90437,     0.90391,     0.90384,     0.90379,     0.90372,     0.90204,     0.90197,     0.90052,\n",
       "            0.90058,     0.89996,     0.89989,     0.89861,     0.89866,     0.89698,     0.89609,     0.89599,     0.89524,     0.89517,     0.89422,     0.89415,     0.89297,      0.8929,     0.89213,     0.89206,     0.89063,     0.89056,     0.88935,     0.88928,     0.88796,     0.88673,     0.88666,\n",
       "            0.88574,     0.88566,     0.88493,     0.88486,     0.88321,     0.88326,     0.88193,     0.88198,     0.88105,      0.8794,     0.87933,      0.8773,     0.87723,     0.87531,     0.87524,     0.87398,      0.8739,     0.87241,     0.87232,     0.87052,     0.87058,      0.8686,     0.86667,\n",
       "             0.8666,     0.86538,     0.86531,     0.86309,     0.86299,     0.86154,     0.86147,     0.85948,     0.85941,     0.85789,     0.85781,     0.85539,     0.85428,      0.8542,     0.85194,     0.85186,     0.85005,     0.84995,     0.84884,     0.84791,     0.84783,      0.8462,      0.8461,\n",
       "             0.8443,     0.84422,     0.84234,     0.84226,       0.841,     0.83936,     0.83928,      0.8374,     0.83732,     0.83594,     0.83584,      0.8334,     0.83332,     0.83115,     0.82996,     0.82988,     0.82726,     0.82718,     0.82499,     0.82225,     0.82217,     0.81991,      0.8198,\n",
       "            0.81806,     0.81798,     0.81485,     0.81138,      0.8113,     0.80883,     0.80872,     0.80592,     0.80584,     0.80092,     0.79678,      0.7967,     0.79351,     0.78957,     0.78949,     0.78588,     0.78577,     0.78096,     0.78088,      0.7768,     0.77292,     0.77284,     0.76714,\n",
       "            0.76702,     0.76361,     0.76352,     0.75841,     0.75524,     0.75512,     0.75122,     0.75113,     0.74583,     0.74069,     0.73674,     0.73664,     0.73132,     0.73119,     0.72362,     0.71862,     0.71853,      0.7124,     0.71227,     0.70672,     0.70093,     0.70083,     0.69316,\n",
       "            0.69303,     0.68816,     0.68208,     0.68195,     0.67426,     0.67416,     0.66764,     0.66004,     0.65378,     0.65364,     0.64858,     0.64847,     0.64023,     0.63196,     0.63182,     0.62527,     0.61487,     0.61472,     0.60677,     0.59715,       0.597,     0.58721,      0.5871,\n",
       "            0.58145,      0.5708,     0.57065,     0.56279,     0.55129,     0.54154,     0.54137,      0.5305,     0.52402,     0.52385,     0.51797,     0.51003,     0.50986,     0.50055,     0.49302,     0.49285,      0.4874,     0.47613,     0.47595,     0.46701,     0.45606,     0.45588,     0.44697,\n",
       "            0.43582,     0.42478,     0.42459,     0.41546,     0.40808,     0.40172,     0.40152,      0.3941,     0.38486,     0.38491,     0.37492,     0.36321,       0.363,     0.35297,     0.34497,     0.33654,     0.33632,     0.32405,     0.31353,     0.31331,     0.30746,     0.29937,     0.29187,\n",
       "            0.28196,     0.28173,     0.27134,     0.26148,     0.25086,     0.25062,     0.23907,       0.231,     0.22431,     0.22407,     0.21397,     0.20568,     0.19847,     0.19822,      0.1886,     0.17894,     0.16989,     0.16382,     0.15507,     0.14806,     0.14779,     0.13762,     0.13096,\n",
       "            0.12347,     0.11624,     0.11596,     0.10869,     0.10265,    0.098221,    0.090808,    0.090524,    0.081778,    0.076426,    0.073549,    0.068453,    0.063393,    0.063101,    0.057954,    0.049316,     0.04902,    0.046905,    0.044284,    0.040435,    0.037048,      0.0344,    0.030891,\n",
       "           0.030589,    0.027522,    0.025737,    0.024393,    0.022724,    0.021031,     0.01834,    0.015193,    0.013835,    0.012991,    0.012684,    0.010876,    0.010194,   0.0090495,   0.0081367,   0.0076733,   0.0067572,   0.0054091,   0.0050994,   0.0046843,   0.0044374,   0.0042824,   0.0041274,\n",
       "          0.0034581,   0.0032253,    0.002538,   0.0023051,   0.0018682,   0.0016115,   0.0013783,    0.001324,   0.0012796,   0.0012352,   0.0011907,   0.0011463,   0.0011019,   0.0010574,    0.001013,  0.00096855,  0.00092411,  0.00086401,  0.00079734,  0.00073067,  0.00066399,   0.0005973,  0.00053061,\n",
       "         0.00046392,           0,           0,           0,           0,           0,           0,           0,           0,           0,           0,           0,           0,           0,           0,           0,           0,           0,           0,           0,           0,           0,           0,\n",
       "                  0,           0,           0,           0,           0,           0,           0,           0,           0,           0,           0,           0,           0,           0,           0,           0,           0,           0,           0,           0,           0,           0,           0,\n",
       "                  0,           0,           0,           0,           0,           0,           0,           0,           0,           0,           0,           0,           0,           0,           0,           0,           0,           0,           0,           0,           0,           0,           0,\n",
       "                  0,           0,           0,           0,           0,           0,           0,           0,           0,           0,           0,           0,           0,           0,           0,           0,           0,           0,           0,           0,           0,           0,           0,\n",
       "                  0,           0,           0,           0,           0,           0,           0,           0,           0,           0,           0,           0,           0,           0,           0,           0,           0,           0,           0,           0,           0,           0,           0,\n",
       "                  0,           0,           0,           0,           0,           0,           0,           0,           0,           0,           0]]), 'Confidence', 'F1'], [array([          0,    0.001001,    0.002002,    0.003003,    0.004004,    0.005005,    0.006006,    0.007007,    0.008008,    0.009009,     0.01001,    0.011011,    0.012012,    0.013013,    0.014014,    0.015015,    0.016016,    0.017017,    0.018018,    0.019019,     0.02002,    0.021021,    0.022022,    0.023023,\n",
       "          0.024024,    0.025025,    0.026026,    0.027027,    0.028028,    0.029029,     0.03003,    0.031031,    0.032032,    0.033033,    0.034034,    0.035035,    0.036036,    0.037037,    0.038038,    0.039039,     0.04004,    0.041041,    0.042042,    0.043043,    0.044044,    0.045045,    0.046046,    0.047047,\n",
       "          0.048048,    0.049049,     0.05005,    0.051051,    0.052052,    0.053053,    0.054054,    0.055055,    0.056056,    0.057057,    0.058058,    0.059059,     0.06006,    0.061061,    0.062062,    0.063063,    0.064064,    0.065065,    0.066066,    0.067067,    0.068068,    0.069069,     0.07007,    0.071071,\n",
       "          0.072072,    0.073073,    0.074074,    0.075075,    0.076076,    0.077077,    0.078078,    0.079079,     0.08008,    0.081081,    0.082082,    0.083083,    0.084084,    0.085085,    0.086086,    0.087087,    0.088088,    0.089089,     0.09009,    0.091091,    0.092092,    0.093093,    0.094094,    0.095095,\n",
       "          0.096096,    0.097097,    0.098098,    0.099099,      0.1001,      0.1011,      0.1021,      0.1031,      0.1041,     0.10511,     0.10611,     0.10711,     0.10811,     0.10911,     0.11011,     0.11111,     0.11211,     0.11311,     0.11411,     0.11512,     0.11612,     0.11712,     0.11812,     0.11912,\n",
       "           0.12012,     0.12112,     0.12212,     0.12312,     0.12412,     0.12513,     0.12613,     0.12713,     0.12813,     0.12913,     0.13013,     0.13113,     0.13213,     0.13313,     0.13413,     0.13514,     0.13614,     0.13714,     0.13814,     0.13914,     0.14014,     0.14114,     0.14214,     0.14314,\n",
       "           0.14414,     0.14515,     0.14615,     0.14715,     0.14815,     0.14915,     0.15015,     0.15115,     0.15215,     0.15315,     0.15415,     0.15516,     0.15616,     0.15716,     0.15816,     0.15916,     0.16016,     0.16116,     0.16216,     0.16316,     0.16416,     0.16517,     0.16617,     0.16717,\n",
       "           0.16817,     0.16917,     0.17017,     0.17117,     0.17217,     0.17317,     0.17417,     0.17518,     0.17618,     0.17718,     0.17818,     0.17918,     0.18018,     0.18118,     0.18218,     0.18318,     0.18418,     0.18519,     0.18619,     0.18719,     0.18819,     0.18919,     0.19019,     0.19119,\n",
       "           0.19219,     0.19319,     0.19419,      0.1952,      0.1962,      0.1972,      0.1982,      0.1992,      0.2002,      0.2012,      0.2022,      0.2032,      0.2042,     0.20521,     0.20621,     0.20721,     0.20821,     0.20921,     0.21021,     0.21121,     0.21221,     0.21321,     0.21421,     0.21522,\n",
       "           0.21622,     0.21722,     0.21822,     0.21922,     0.22022,     0.22122,     0.22222,     0.22322,     0.22422,     0.22523,     0.22623,     0.22723,     0.22823,     0.22923,     0.23023,     0.23123,     0.23223,     0.23323,     0.23423,     0.23524,     0.23624,     0.23724,     0.23824,     0.23924,\n",
       "           0.24024,     0.24124,     0.24224,     0.24324,     0.24424,     0.24525,     0.24625,     0.24725,     0.24825,     0.24925,     0.25025,     0.25125,     0.25225,     0.25325,     0.25425,     0.25526,     0.25626,     0.25726,     0.25826,     0.25926,     0.26026,     0.26126,     0.26226,     0.26326,\n",
       "           0.26426,     0.26527,     0.26627,     0.26727,     0.26827,     0.26927,     0.27027,     0.27127,     0.27227,     0.27327,     0.27427,     0.27528,     0.27628,     0.27728,     0.27828,     0.27928,     0.28028,     0.28128,     0.28228,     0.28328,     0.28428,     0.28529,     0.28629,     0.28729,\n",
       "           0.28829,     0.28929,     0.29029,     0.29129,     0.29229,     0.29329,     0.29429,      0.2953,      0.2963,      0.2973,      0.2983,      0.2993,      0.3003,      0.3013,      0.3023,      0.3033,      0.3043,     0.30531,     0.30631,     0.30731,     0.30831,     0.30931,     0.31031,     0.31131,\n",
       "           0.31231,     0.31331,     0.31431,     0.31532,     0.31632,     0.31732,     0.31832,     0.31932,     0.32032,     0.32132,     0.32232,     0.32332,     0.32432,     0.32533,     0.32633,     0.32733,     0.32833,     0.32933,     0.33033,     0.33133,     0.33233,     0.33333,     0.33433,     0.33534,\n",
       "           0.33634,     0.33734,     0.33834,     0.33934,     0.34034,     0.34134,     0.34234,     0.34334,     0.34434,     0.34535,     0.34635,     0.34735,     0.34835,     0.34935,     0.35035,     0.35135,     0.35235,     0.35335,     0.35435,     0.35536,     0.35636,     0.35736,     0.35836,     0.35936,\n",
       "           0.36036,     0.36136,     0.36236,     0.36336,     0.36436,     0.36537,     0.36637,     0.36737,     0.36837,     0.36937,     0.37037,     0.37137,     0.37237,     0.37337,     0.37437,     0.37538,     0.37638,     0.37738,     0.37838,     0.37938,     0.38038,     0.38138,     0.38238,     0.38338,\n",
       "           0.38438,     0.38539,     0.38639,     0.38739,     0.38839,     0.38939,     0.39039,     0.39139,     0.39239,     0.39339,     0.39439,      0.3954,      0.3964,      0.3974,      0.3984,      0.3994,      0.4004,      0.4014,      0.4024,      0.4034,      0.4044,     0.40541,     0.40641,     0.40741,\n",
       "           0.40841,     0.40941,     0.41041,     0.41141,     0.41241,     0.41341,     0.41441,     0.41542,     0.41642,     0.41742,     0.41842,     0.41942,     0.42042,     0.42142,     0.42242,     0.42342,     0.42442,     0.42543,     0.42643,     0.42743,     0.42843,     0.42943,     0.43043,     0.43143,\n",
       "           0.43243,     0.43343,     0.43443,     0.43544,     0.43644,     0.43744,     0.43844,     0.43944,     0.44044,     0.44144,     0.44244,     0.44344,     0.44444,     0.44545,     0.44645,     0.44745,     0.44845,     0.44945,     0.45045,     0.45145,     0.45245,     0.45345,     0.45445,     0.45546,\n",
       "           0.45646,     0.45746,     0.45846,     0.45946,     0.46046,     0.46146,     0.46246,     0.46346,     0.46446,     0.46547,     0.46647,     0.46747,     0.46847,     0.46947,     0.47047,     0.47147,     0.47247,     0.47347,     0.47447,     0.47548,     0.47648,     0.47748,     0.47848,     0.47948,\n",
       "           0.48048,     0.48148,     0.48248,     0.48348,     0.48448,     0.48549,     0.48649,     0.48749,     0.48849,     0.48949,     0.49049,     0.49149,     0.49249,     0.49349,     0.49449,      0.4955,      0.4965,      0.4975,      0.4985,      0.4995,      0.5005,      0.5015,      0.5025,      0.5035,\n",
       "            0.5045,     0.50551,     0.50651,     0.50751,     0.50851,     0.50951,     0.51051,     0.51151,     0.51251,     0.51351,     0.51451,     0.51552,     0.51652,     0.51752,     0.51852,     0.51952,     0.52052,     0.52152,     0.52252,     0.52352,     0.52452,     0.52553,     0.52653,     0.52753,\n",
       "           0.52853,     0.52953,     0.53053,     0.53153,     0.53253,     0.53353,     0.53453,     0.53554,     0.53654,     0.53754,     0.53854,     0.53954,     0.54054,     0.54154,     0.54254,     0.54354,     0.54454,     0.54555,     0.54655,     0.54755,     0.54855,     0.54955,     0.55055,     0.55155,\n",
       "           0.55255,     0.55355,     0.55455,     0.55556,     0.55656,     0.55756,     0.55856,     0.55956,     0.56056,     0.56156,     0.56256,     0.56356,     0.56456,     0.56557,     0.56657,     0.56757,     0.56857,     0.56957,     0.57057,     0.57157,     0.57257,     0.57357,     0.57457,     0.57558,\n",
       "           0.57658,     0.57758,     0.57858,     0.57958,     0.58058,     0.58158,     0.58258,     0.58358,     0.58458,     0.58559,     0.58659,     0.58759,     0.58859,     0.58959,     0.59059,     0.59159,     0.59259,     0.59359,     0.59459,      0.5956,      0.5966,      0.5976,      0.5986,      0.5996,\n",
       "            0.6006,      0.6016,      0.6026,      0.6036,      0.6046,     0.60561,     0.60661,     0.60761,     0.60861,     0.60961,     0.61061,     0.61161,     0.61261,     0.61361,     0.61461,     0.61562,     0.61662,     0.61762,     0.61862,     0.61962,     0.62062,     0.62162,     0.62262,     0.62362,\n",
       "           0.62462,     0.62563,     0.62663,     0.62763,     0.62863,     0.62963,     0.63063,     0.63163,     0.63263,     0.63363,     0.63463,     0.63564,     0.63664,     0.63764,     0.63864,     0.63964,     0.64064,     0.64164,     0.64264,     0.64364,     0.64464,     0.64565,     0.64665,     0.64765,\n",
       "           0.64865,     0.64965,     0.65065,     0.65165,     0.65265,     0.65365,     0.65465,     0.65566,     0.65666,     0.65766,     0.65866,     0.65966,     0.66066,     0.66166,     0.66266,     0.66366,     0.66466,     0.66567,     0.66667,     0.66767,     0.66867,     0.66967,     0.67067,     0.67167,\n",
       "           0.67267,     0.67367,     0.67467,     0.67568,     0.67668,     0.67768,     0.67868,     0.67968,     0.68068,     0.68168,     0.68268,     0.68368,     0.68468,     0.68569,     0.68669,     0.68769,     0.68869,     0.68969,     0.69069,     0.69169,     0.69269,     0.69369,     0.69469,      0.6957,\n",
       "            0.6967,      0.6977,      0.6987,      0.6997,      0.7007,      0.7017,      0.7027,      0.7037,      0.7047,     0.70571,     0.70671,     0.70771,     0.70871,     0.70971,     0.71071,     0.71171,     0.71271,     0.71371,     0.71471,     0.71572,     0.71672,     0.71772,     0.71872,     0.71972,\n",
       "           0.72072,     0.72172,     0.72272,     0.72372,     0.72472,     0.72573,     0.72673,     0.72773,     0.72873,     0.72973,     0.73073,     0.73173,     0.73273,     0.73373,     0.73473,     0.73574,     0.73674,     0.73774,     0.73874,     0.73974,     0.74074,     0.74174,     0.74274,     0.74374,\n",
       "           0.74474,     0.74575,     0.74675,     0.74775,     0.74875,     0.74975,     0.75075,     0.75175,     0.75275,     0.75375,     0.75475,     0.75576,     0.75676,     0.75776,     0.75876,     0.75976,     0.76076,     0.76176,     0.76276,     0.76376,     0.76476,     0.76577,     0.76677,     0.76777,\n",
       "           0.76877,     0.76977,     0.77077,     0.77177,     0.77277,     0.77377,     0.77477,     0.77578,     0.77678,     0.77778,     0.77878,     0.77978,     0.78078,     0.78178,     0.78278,     0.78378,     0.78478,     0.78579,     0.78679,     0.78779,     0.78879,     0.78979,     0.79079,     0.79179,\n",
       "           0.79279,     0.79379,     0.79479,      0.7958,      0.7968,      0.7978,      0.7988,      0.7998,      0.8008,      0.8018,      0.8028,      0.8038,      0.8048,     0.80581,     0.80681,     0.80781,     0.80881,     0.80981,     0.81081,     0.81181,     0.81281,     0.81381,     0.81481,     0.81582,\n",
       "           0.81682,     0.81782,     0.81882,     0.81982,     0.82082,     0.82182,     0.82282,     0.82382,     0.82482,     0.82583,     0.82683,     0.82783,     0.82883,     0.82983,     0.83083,     0.83183,     0.83283,     0.83383,     0.83483,     0.83584,     0.83684,     0.83784,     0.83884,     0.83984,\n",
       "           0.84084,     0.84184,     0.84284,     0.84384,     0.84484,     0.84585,     0.84685,     0.84785,     0.84885,     0.84985,     0.85085,     0.85185,     0.85285,     0.85385,     0.85485,     0.85586,     0.85686,     0.85786,     0.85886,     0.85986,     0.86086,     0.86186,     0.86286,     0.86386,\n",
       "           0.86486,     0.86587,     0.86687,     0.86787,     0.86887,     0.86987,     0.87087,     0.87187,     0.87287,     0.87387,     0.87487,     0.87588,     0.87688,     0.87788,     0.87888,     0.87988,     0.88088,     0.88188,     0.88288,     0.88388,     0.88488,     0.88589,     0.88689,     0.88789,\n",
       "           0.88889,     0.88989,     0.89089,     0.89189,     0.89289,     0.89389,     0.89489,      0.8959,      0.8969,      0.8979,      0.8989,      0.8999,      0.9009,      0.9019,      0.9029,      0.9039,      0.9049,     0.90591,     0.90691,     0.90791,     0.90891,     0.90991,     0.91091,     0.91191,\n",
       "           0.91291,     0.91391,     0.91491,     0.91592,     0.91692,     0.91792,     0.91892,     0.91992,     0.92092,     0.92192,     0.92292,     0.92392,     0.92492,     0.92593,     0.92693,     0.92793,     0.92893,     0.92993,     0.93093,     0.93193,     0.93293,     0.93393,     0.93493,     0.93594,\n",
       "           0.93694,     0.93794,     0.93894,     0.93994,     0.94094,     0.94194,     0.94294,     0.94394,     0.94494,     0.94595,     0.94695,     0.94795,     0.94895,     0.94995,     0.95095,     0.95195,     0.95295,     0.95395,     0.95495,     0.95596,     0.95696,     0.95796,     0.95896,     0.95996,\n",
       "           0.96096,     0.96196,     0.96296,     0.96396,     0.96496,     0.96597,     0.96697,     0.96797,     0.96897,     0.96997,     0.97097,     0.97197,     0.97297,     0.97397,     0.97497,     0.97598,     0.97698,     0.97798,     0.97898,     0.97998,     0.98098,     0.98198,     0.98298,     0.98398,\n",
       "           0.98498,     0.98599,     0.98699,     0.98799,     0.98899,     0.98999,     0.99099,     0.99199,     0.99299,     0.99399,     0.99499,       0.996,       0.997,       0.998,       0.999,           1]), array([[    0.15042,     0.15042,     0.17833,     0.19707,     0.21265,     0.22546,     0.23722,     0.24756,     0.25679,     0.26531,     0.27362,     0.28076,     0.28848,     0.29452,     0.30118,     0.30785,      0.3131,     0.31876,     0.32506,     0.33074,     0.33653,     0.34138,     0.34595,\n",
       "            0.35081,     0.35544,      0.3605,     0.36522,     0.36911,     0.37316,     0.37688,     0.38096,     0.38591,      0.3896,     0.39346,     0.39738,     0.40168,     0.40533,     0.40937,     0.41359,     0.41671,     0.42083,     0.42479,      0.4278,     0.43232,     0.43585,      0.4398,\n",
       "            0.44312,     0.44619,     0.44972,     0.45342,     0.45622,     0.46022,     0.46414,      0.4672,     0.47083,      0.4743,      0.4775,     0.48036,     0.48423,     0.48772,     0.49109,     0.49513,     0.49848,     0.50193,     0.50466,     0.50778,     0.51081,     0.51345,     0.51691,\n",
       "            0.51962,     0.52303,     0.52521,     0.52746,     0.52985,      0.5322,     0.53579,     0.53784,     0.54046,     0.54386,     0.54577,      0.5484,     0.55077,     0.55387,     0.55664,      0.5585,     0.56197,     0.56428,     0.56653,     0.56873,     0.57135,     0.57323,     0.57554,\n",
       "            0.57736,     0.57924,     0.58178,       0.584,     0.58683,     0.58965,     0.59201,     0.59416,     0.59667,     0.59809,     0.60026,     0.60185,     0.60287,     0.60556,     0.60786,     0.61092,     0.61281,     0.61478,     0.61724,     0.61882,     0.62068,     0.62218,     0.62417,\n",
       "            0.62624,     0.62822,     0.62982,     0.63215,     0.63464,     0.63729,     0.63847,     0.64109,     0.64424,     0.64623,     0.64881,     0.65073,     0.65236,       0.655,     0.65664,     0.65839,     0.65993,     0.66196,     0.66333,      0.6661,     0.66837,     0.67141,      0.6738,\n",
       "            0.67523,     0.67652,     0.67744,     0.67887,     0.68009,     0.68146,     0.68267,     0.68454,     0.68609,     0.68821,     0.68928,     0.69108,     0.69285,     0.69488,     0.69636,     0.69795,     0.70002,     0.70176,     0.70255,     0.70407,     0.70452,     0.70593,     0.70696,\n",
       "            0.70848,     0.71025,     0.71165,     0.71344,     0.71438,     0.71605,     0.71707,     0.71858,      0.7201,     0.72179,     0.72362,     0.72533,      0.7259,     0.72737,      0.7296,     0.73107,     0.73155,     0.73286,     0.73448,     0.73586,     0.73683,     0.73847,     0.73967,\n",
       "            0.74026,      0.7411,     0.74301,     0.74452,     0.74526,     0.74705,     0.74884,     0.74945,     0.75139,     0.75295,     0.75317,     0.75406,     0.75549,     0.75571,     0.75685,     0.75761,     0.75946,     0.76083,     0.76132,     0.76344,     0.76436,     0.76541,     0.76603,\n",
       "            0.76695,       0.768,     0.76863,     0.76997,     0.77027,      0.7712,     0.77169,     0.77374,     0.77452,     0.77572,     0.77609,     0.77707,     0.77871,     0.77957,     0.78021,     0.78094,     0.78185,     0.78338,     0.78372,     0.78521,     0.78572,     0.78662,     0.78749,\n",
       "            0.78869,     0.78979,      0.7903,     0.79109,     0.79205,     0.79316,     0.79381,     0.79568,      0.7966,     0.79706,     0.79799,     0.79882,     0.79956,     0.79976,     0.80069,     0.80195,     0.80206,     0.80296,     0.80425,     0.80447,     0.80523,     0.80541,     0.80592,\n",
       "             0.8073,     0.80766,     0.80803,      0.8089,     0.80959,      0.8098,     0.81095,     0.81159,     0.81275,     0.81307,     0.81356,     0.81367,     0.81418,     0.81519,     0.81556,     0.81624,     0.81638,     0.81707,     0.81808,     0.81926,     0.82024,     0.82088,      0.8228,\n",
       "            0.82372,     0.82446,     0.82466,     0.82569,     0.82643,     0.82736,     0.82765,     0.82901,     0.82942,     0.83074,     0.83113,     0.83133,     0.83182,     0.83218,     0.83264,     0.83336,     0.83375,      0.8339,     0.83475,     0.83529,     0.83588,     0.83593,     0.83625,\n",
       "            0.83742,     0.83815,     0.83922,     0.83968,     0.84091,     0.84146,     0.84199,     0.84324,     0.84355,     0.84445,     0.84583,     0.84638,     0.84687,      0.8475,     0.84799,     0.84904,     0.84924,     0.84956,     0.84966,     0.85087,     0.85192,     0.85212,     0.85354,\n",
       "            0.85392,     0.85551,     0.85626,     0.85662,     0.85798,     0.85824,     0.85967,     0.86007,     0.86043,     0.86137,     0.86174,     0.86219,     0.86322,     0.86372,     0.86388,     0.86447,     0.86481,     0.86492,     0.86524,     0.86546,     0.86575,     0.86772,     0.86809,\n",
       "            0.86882,     0.86983,     0.87135,     0.87192,     0.87263,     0.87377,     0.87412,     0.87465,     0.87506,     0.87575,     0.87609,      0.8762,     0.87636,     0.87678,     0.87689,     0.87727,     0.87837,     0.87836,     0.87899,      0.8792,     0.87955,      0.8796,      0.8803,\n",
       "            0.88047,     0.88241,     0.88318,     0.88327,     0.88408,     0.88419,     0.88577,     0.88587,     0.88646,     0.88645,     0.88708,     0.88718,     0.88809,      0.8883,      0.8884,     0.88918,     0.88928,     0.88993,     0.89004,     0.89062,     0.89061,     0.89102,     0.89248,\n",
       "            0.89258,     0.89345,     0.89355,     0.89457,     0.89468,     0.89487,     0.89486,     0.89556,     0.89566,     0.89667,     0.89678,     0.89736,     0.89735,     0.89799,     0.89809,     0.89938,     0.90065,     0.90064,      0.9012,     0.90119,     0.90233,     0.90243,     0.90293,\n",
       "            0.90305,     0.90324,     0.90323,     0.90442,     0.90452,     0.90532,     0.90542,     0.90657,     0.90656,     0.90784,     0.90832,     0.90831,     0.90919,     0.90918,     0.90974,     0.90973,      0.9103,     0.91029,     0.91126,     0.91125,     0.91173,     0.91185,     0.91349,\n",
       "            0.91348,     0.91414,     0.91425,     0.91472,     0.91483,      0.9152,     0.91519,     0.91627,     0.91637,     0.91739,     0.91738,     0.91815,     0.91814,     0.91847,      0.9193,      0.9194,     0.92029,     0.92041,     0.92127,     0.92126,     0.92226,     0.92237,     0.92285,\n",
       "            0.92296,     0.92404,     0.92403,     0.92421,     0.92432,     0.92601,       0.926,     0.92635,     0.92634,     0.92669,     0.92668,     0.92717,     0.92728,     0.92812,     0.92811,     0.92875,     0.92886,     0.93018,     0.93029,     0.93037,     0.93082,     0.93093,     0.93184,\n",
       "            0.93183,     0.93265,     0.93264,     0.93388,     0.93387,     0.93424,     0.93423,     0.93507,     0.93519,     0.93567,     0.93566,     0.93627,     0.93627,     0.93734,     0.93745,     0.93769,     0.93768,     0.93874,     0.93874,      0.9396,     0.93972,     0.93995,     0.93995,\n",
       "            0.94079,     0.94079,     0.94141,      0.9414,      0.9423,     0.94229,     0.94275,     0.94287,     0.94311,     0.94323,     0.94373,     0.94385,      0.9448,     0.94491,     0.94531,     0.94582,     0.94581,     0.94759,     0.94758,     0.94801,     0.94813,     0.94885,     0.94897,\n",
       "            0.94921,     0.94932,     0.94936,     0.94948,     0.94973,     0.94972,      0.9497,     0.94982,      0.9501,     0.95022,      0.9507,      0.9507,     0.95156,     0.95156,     0.95241,     0.95241,     0.95336,     0.95348,     0.95394,     0.95393,     0.95411,      0.9541,     0.95498,\n",
       "            0.95497,     0.95529,     0.95541,     0.95633,     0.95632,     0.95726,     0.95815,     0.95815,      0.9588,     0.95879,     0.95943,     0.95942,     0.95985,     0.95985,      0.9608,     0.96079,     0.96076,     0.96075,     0.96194,     0.96194,     0.96205,     0.96205,     0.96228,\n",
       "            0.96241,     0.96262,     0.96262,     0.96264,     0.96277,     0.96277,     0.96283,     0.96282,     0.96277,     0.96276,     0.96343,     0.96342,     0.96359,     0.96358,     0.96377,     0.96377,     0.96367,     0.96366,     0.96407,     0.96407,     0.96398,     0.96439,     0.96438,\n",
       "            0.96457,     0.96457,     0.96552,     0.96552,     0.96548,     0.96561,     0.96693,     0.96706,     0.96756,     0.96771,     0.96771,     0.96758,     0.96758,     0.96771,     0.96771,     0.96815,     0.96815,     0.96805,     0.96805,     0.96806,      0.9682,     0.96861,     0.96849,\n",
       "            0.96848,     0.96841,      0.9684,     0.96826,     0.96826,      0.9687,      0.9687,     0.96885,     0.96884,     0.96875,     0.96874,     0.96859,     0.96852,     0.96852,     0.96838,     0.96837,     0.96908,     0.96908,     0.96901,     0.96979,     0.96978,     0.97024,     0.97024,\n",
       "            0.97069,     0.97069,     0.97171,      0.9717,     0.97248,     0.97268,     0.97268,     0.97257,     0.97257,     0.97307,     0.97306,     0.97351,     0.97351,     0.97398,     0.97509,     0.97509,     0.97555,     0.97554,     0.97603,      0.9759,      0.9759,     0.97579,     0.97578,\n",
       "             0.9763,      0.9763,     0.97645,     0.97659,     0.97659,     0.97647,     0.97647,     0.97633,     0.97633,     0.97609,     0.97589,     0.97589,     0.97669,     0.97682,     0.97682,     0.97697,     0.97697,     0.97707,     0.97706,     0.97754,     0.97769,     0.97769,     0.97742,\n",
       "            0.97742,      0.9776,      0.9776,     0.97736,     0.97861,      0.9786,     0.97913,     0.97913,     0.97925,     0.98012,     0.98032,     0.98031,     0.98009,     0.98009,     0.98052,     0.98069,     0.98069,     0.98082,     0.98082,     0.98137,     0.98194,     0.98193,     0.98204,\n",
       "            0.98203,     0.98225,     0.98243,     0.98243,      0.9834,      0.9834,     0.98316,     0.98287,     0.98352,     0.98352,     0.98424,     0.98423,     0.98486,     0.98599,     0.98598,     0.98674,     0.98691,      0.9869,     0.98817,     0.98946,     0.98945,      0.9892,      0.9892,\n",
       "            0.99013,     0.99043,     0.99043,     0.99024,     0.98996,     0.98972,     0.98971,     0.98943,     0.98987,     0.98987,     0.98971,      0.9895,      0.9895,     0.98924,      0.9897,     0.98969,     0.99092,     0.99206,     0.99206,     0.99186,     0.99161,      0.9916,     0.99139,\n",
       "            0.99191,     0.99247,     0.99246,     0.99396,     0.99383,      0.9937,      0.9937,     0.99447,     0.99537,     0.99602,     0.99607,     0.99591,     0.99591,     0.99577,     0.99565,     0.99552,     0.99552,     0.99531,     0.99513,     0.99512,     0.99501,     0.99485,      0.9947,\n",
       "            0.99448,     0.99448,     0.99567,     0.99548,     0.99526,     0.99525,     0.99499,      0.9948,     0.99462,     0.99462,     0.99433,     0.99408,     0.99588,     0.99588,     0.99782,     0.99769,     0.99755,     0.99745,      0.9973,     0.99716,     0.99715,     0.99693,     0.99676,\n",
       "            0.99655,     0.99632,     0.99631,     0.99605,     0.99581,     0.99561,     0.99523,     0.99522,     0.99469,      0.9943,     0.99407,     0.99361,     0.99309,     0.99306,     0.99242,     0.99107,     0.99102,      0.9906,     0.99004,     0.98908,     0.98807,     0.98715,     0.98569,\n",
       "            0.98555,     0.98394,     0.98283,     0.98188,     0.98056,     0.97901,     0.97598,      0.9711,     0.96833,     0.96632,     0.96554,     0.96001,     0.95741,     0.95227,           1,           1,           1,           1,           1,           1,           1,           1,           1,\n",
       "                  1,           1,           1,           1,           1,           1,           1,           1,           1,           1,           1,           1,           1,           1,           1,           1,           1,           1,           1,           1,           1,           1,           1,\n",
       "                  1,           1,           1,           1,           1,           1,           1,           1,           1,           1,           1,           1,           1,           1,           1,           1,           1,           1,           1,           1,           1,           1,           1,\n",
       "                  1,           1,           1,           1,           1,           1,           1,           1,           1,           1,           1,           1,           1,           1,           1,           1,           1,           1,           1,           1,           1,           1,           1,\n",
       "                  1,           1,           1,           1,           1,           1,           1,           1,           1,           1,           1,           1,           1,           1,           1,           1,           1,           1,           1,           1,           1,           1,           1,\n",
       "                  1,           1,           1,           1,           1,           1,           1,           1,           1,           1,           1,           1,           1,           1,           1,           1,           1,           1,           1,           1,           1,           1,           1,\n",
       "                  1,           1,           1,           1,           1,           1,           1,           1,           1,           1,           1,           1,           1,           1,           1,           1,           1,           1,           1,           1,           1,           1,           1,\n",
       "                  1,           1,           1,           1,           1,           1,           1,           1,           1,           1,           1]]), 'Confidence', 'Precision'], [array([          0,    0.001001,    0.002002,    0.003003,    0.004004,    0.005005,    0.006006,    0.007007,    0.008008,    0.009009,     0.01001,    0.011011,    0.012012,    0.013013,    0.014014,    0.015015,    0.016016,    0.017017,    0.018018,    0.019019,     0.02002,    0.021021,    0.022022,    0.023023,\n",
       "          0.024024,    0.025025,    0.026026,    0.027027,    0.028028,    0.029029,     0.03003,    0.031031,    0.032032,    0.033033,    0.034034,    0.035035,    0.036036,    0.037037,    0.038038,    0.039039,     0.04004,    0.041041,    0.042042,    0.043043,    0.044044,    0.045045,    0.046046,    0.047047,\n",
       "          0.048048,    0.049049,     0.05005,    0.051051,    0.052052,    0.053053,    0.054054,    0.055055,    0.056056,    0.057057,    0.058058,    0.059059,     0.06006,    0.061061,    0.062062,    0.063063,    0.064064,    0.065065,    0.066066,    0.067067,    0.068068,    0.069069,     0.07007,    0.071071,\n",
       "          0.072072,    0.073073,    0.074074,    0.075075,    0.076076,    0.077077,    0.078078,    0.079079,     0.08008,    0.081081,    0.082082,    0.083083,    0.084084,    0.085085,    0.086086,    0.087087,    0.088088,    0.089089,     0.09009,    0.091091,    0.092092,    0.093093,    0.094094,    0.095095,\n",
       "          0.096096,    0.097097,    0.098098,    0.099099,      0.1001,      0.1011,      0.1021,      0.1031,      0.1041,     0.10511,     0.10611,     0.10711,     0.10811,     0.10911,     0.11011,     0.11111,     0.11211,     0.11311,     0.11411,     0.11512,     0.11612,     0.11712,     0.11812,     0.11912,\n",
       "           0.12012,     0.12112,     0.12212,     0.12312,     0.12412,     0.12513,     0.12613,     0.12713,     0.12813,     0.12913,     0.13013,     0.13113,     0.13213,     0.13313,     0.13413,     0.13514,     0.13614,     0.13714,     0.13814,     0.13914,     0.14014,     0.14114,     0.14214,     0.14314,\n",
       "           0.14414,     0.14515,     0.14615,     0.14715,     0.14815,     0.14915,     0.15015,     0.15115,     0.15215,     0.15315,     0.15415,     0.15516,     0.15616,     0.15716,     0.15816,     0.15916,     0.16016,     0.16116,     0.16216,     0.16316,     0.16416,     0.16517,     0.16617,     0.16717,\n",
       "           0.16817,     0.16917,     0.17017,     0.17117,     0.17217,     0.17317,     0.17417,     0.17518,     0.17618,     0.17718,     0.17818,     0.17918,     0.18018,     0.18118,     0.18218,     0.18318,     0.18418,     0.18519,     0.18619,     0.18719,     0.18819,     0.18919,     0.19019,     0.19119,\n",
       "           0.19219,     0.19319,     0.19419,      0.1952,      0.1962,      0.1972,      0.1982,      0.1992,      0.2002,      0.2012,      0.2022,      0.2032,      0.2042,     0.20521,     0.20621,     0.20721,     0.20821,     0.20921,     0.21021,     0.21121,     0.21221,     0.21321,     0.21421,     0.21522,\n",
       "           0.21622,     0.21722,     0.21822,     0.21922,     0.22022,     0.22122,     0.22222,     0.22322,     0.22422,     0.22523,     0.22623,     0.22723,     0.22823,     0.22923,     0.23023,     0.23123,     0.23223,     0.23323,     0.23423,     0.23524,     0.23624,     0.23724,     0.23824,     0.23924,\n",
       "           0.24024,     0.24124,     0.24224,     0.24324,     0.24424,     0.24525,     0.24625,     0.24725,     0.24825,     0.24925,     0.25025,     0.25125,     0.25225,     0.25325,     0.25425,     0.25526,     0.25626,     0.25726,     0.25826,     0.25926,     0.26026,     0.26126,     0.26226,     0.26326,\n",
       "           0.26426,     0.26527,     0.26627,     0.26727,     0.26827,     0.26927,     0.27027,     0.27127,     0.27227,     0.27327,     0.27427,     0.27528,     0.27628,     0.27728,     0.27828,     0.27928,     0.28028,     0.28128,     0.28228,     0.28328,     0.28428,     0.28529,     0.28629,     0.28729,\n",
       "           0.28829,     0.28929,     0.29029,     0.29129,     0.29229,     0.29329,     0.29429,      0.2953,      0.2963,      0.2973,      0.2983,      0.2993,      0.3003,      0.3013,      0.3023,      0.3033,      0.3043,     0.30531,     0.30631,     0.30731,     0.30831,     0.30931,     0.31031,     0.31131,\n",
       "           0.31231,     0.31331,     0.31431,     0.31532,     0.31632,     0.31732,     0.31832,     0.31932,     0.32032,     0.32132,     0.32232,     0.32332,     0.32432,     0.32533,     0.32633,     0.32733,     0.32833,     0.32933,     0.33033,     0.33133,     0.33233,     0.33333,     0.33433,     0.33534,\n",
       "           0.33634,     0.33734,     0.33834,     0.33934,     0.34034,     0.34134,     0.34234,     0.34334,     0.34434,     0.34535,     0.34635,     0.34735,     0.34835,     0.34935,     0.35035,     0.35135,     0.35235,     0.35335,     0.35435,     0.35536,     0.35636,     0.35736,     0.35836,     0.35936,\n",
       "           0.36036,     0.36136,     0.36236,     0.36336,     0.36436,     0.36537,     0.36637,     0.36737,     0.36837,     0.36937,     0.37037,     0.37137,     0.37237,     0.37337,     0.37437,     0.37538,     0.37638,     0.37738,     0.37838,     0.37938,     0.38038,     0.38138,     0.38238,     0.38338,\n",
       "           0.38438,     0.38539,     0.38639,     0.38739,     0.38839,     0.38939,     0.39039,     0.39139,     0.39239,     0.39339,     0.39439,      0.3954,      0.3964,      0.3974,      0.3984,      0.3994,      0.4004,      0.4014,      0.4024,      0.4034,      0.4044,     0.40541,     0.40641,     0.40741,\n",
       "           0.40841,     0.40941,     0.41041,     0.41141,     0.41241,     0.41341,     0.41441,     0.41542,     0.41642,     0.41742,     0.41842,     0.41942,     0.42042,     0.42142,     0.42242,     0.42342,     0.42442,     0.42543,     0.42643,     0.42743,     0.42843,     0.42943,     0.43043,     0.43143,\n",
       "           0.43243,     0.43343,     0.43443,     0.43544,     0.43644,     0.43744,     0.43844,     0.43944,     0.44044,     0.44144,     0.44244,     0.44344,     0.44444,     0.44545,     0.44645,     0.44745,     0.44845,     0.44945,     0.45045,     0.45145,     0.45245,     0.45345,     0.45445,     0.45546,\n",
       "           0.45646,     0.45746,     0.45846,     0.45946,     0.46046,     0.46146,     0.46246,     0.46346,     0.46446,     0.46547,     0.46647,     0.46747,     0.46847,     0.46947,     0.47047,     0.47147,     0.47247,     0.47347,     0.47447,     0.47548,     0.47648,     0.47748,     0.47848,     0.47948,\n",
       "           0.48048,     0.48148,     0.48248,     0.48348,     0.48448,     0.48549,     0.48649,     0.48749,     0.48849,     0.48949,     0.49049,     0.49149,     0.49249,     0.49349,     0.49449,      0.4955,      0.4965,      0.4975,      0.4985,      0.4995,      0.5005,      0.5015,      0.5025,      0.5035,\n",
       "            0.5045,     0.50551,     0.50651,     0.50751,     0.50851,     0.50951,     0.51051,     0.51151,     0.51251,     0.51351,     0.51451,     0.51552,     0.51652,     0.51752,     0.51852,     0.51952,     0.52052,     0.52152,     0.52252,     0.52352,     0.52452,     0.52553,     0.52653,     0.52753,\n",
       "           0.52853,     0.52953,     0.53053,     0.53153,     0.53253,     0.53353,     0.53453,     0.53554,     0.53654,     0.53754,     0.53854,     0.53954,     0.54054,     0.54154,     0.54254,     0.54354,     0.54454,     0.54555,     0.54655,     0.54755,     0.54855,     0.54955,     0.55055,     0.55155,\n",
       "           0.55255,     0.55355,     0.55455,     0.55556,     0.55656,     0.55756,     0.55856,     0.55956,     0.56056,     0.56156,     0.56256,     0.56356,     0.56456,     0.56557,     0.56657,     0.56757,     0.56857,     0.56957,     0.57057,     0.57157,     0.57257,     0.57357,     0.57457,     0.57558,\n",
       "           0.57658,     0.57758,     0.57858,     0.57958,     0.58058,     0.58158,     0.58258,     0.58358,     0.58458,     0.58559,     0.58659,     0.58759,     0.58859,     0.58959,     0.59059,     0.59159,     0.59259,     0.59359,     0.59459,      0.5956,      0.5966,      0.5976,      0.5986,      0.5996,\n",
       "            0.6006,      0.6016,      0.6026,      0.6036,      0.6046,     0.60561,     0.60661,     0.60761,     0.60861,     0.60961,     0.61061,     0.61161,     0.61261,     0.61361,     0.61461,     0.61562,     0.61662,     0.61762,     0.61862,     0.61962,     0.62062,     0.62162,     0.62262,     0.62362,\n",
       "           0.62462,     0.62563,     0.62663,     0.62763,     0.62863,     0.62963,     0.63063,     0.63163,     0.63263,     0.63363,     0.63463,     0.63564,     0.63664,     0.63764,     0.63864,     0.63964,     0.64064,     0.64164,     0.64264,     0.64364,     0.64464,     0.64565,     0.64665,     0.64765,\n",
       "           0.64865,     0.64965,     0.65065,     0.65165,     0.65265,     0.65365,     0.65465,     0.65566,     0.65666,     0.65766,     0.65866,     0.65966,     0.66066,     0.66166,     0.66266,     0.66366,     0.66466,     0.66567,     0.66667,     0.66767,     0.66867,     0.66967,     0.67067,     0.67167,\n",
       "           0.67267,     0.67367,     0.67467,     0.67568,     0.67668,     0.67768,     0.67868,     0.67968,     0.68068,     0.68168,     0.68268,     0.68368,     0.68468,     0.68569,     0.68669,     0.68769,     0.68869,     0.68969,     0.69069,     0.69169,     0.69269,     0.69369,     0.69469,      0.6957,\n",
       "            0.6967,      0.6977,      0.6987,      0.6997,      0.7007,      0.7017,      0.7027,      0.7037,      0.7047,     0.70571,     0.70671,     0.70771,     0.70871,     0.70971,     0.71071,     0.71171,     0.71271,     0.71371,     0.71471,     0.71572,     0.71672,     0.71772,     0.71872,     0.71972,\n",
       "           0.72072,     0.72172,     0.72272,     0.72372,     0.72472,     0.72573,     0.72673,     0.72773,     0.72873,     0.72973,     0.73073,     0.73173,     0.73273,     0.73373,     0.73473,     0.73574,     0.73674,     0.73774,     0.73874,     0.73974,     0.74074,     0.74174,     0.74274,     0.74374,\n",
       "           0.74474,     0.74575,     0.74675,     0.74775,     0.74875,     0.74975,     0.75075,     0.75175,     0.75275,     0.75375,     0.75475,     0.75576,     0.75676,     0.75776,     0.75876,     0.75976,     0.76076,     0.76176,     0.76276,     0.76376,     0.76476,     0.76577,     0.76677,     0.76777,\n",
       "           0.76877,     0.76977,     0.77077,     0.77177,     0.77277,     0.77377,     0.77477,     0.77578,     0.77678,     0.77778,     0.77878,     0.77978,     0.78078,     0.78178,     0.78278,     0.78378,     0.78478,     0.78579,     0.78679,     0.78779,     0.78879,     0.78979,     0.79079,     0.79179,\n",
       "           0.79279,     0.79379,     0.79479,      0.7958,      0.7968,      0.7978,      0.7988,      0.7998,      0.8008,      0.8018,      0.8028,      0.8038,      0.8048,     0.80581,     0.80681,     0.80781,     0.80881,     0.80981,     0.81081,     0.81181,     0.81281,     0.81381,     0.81481,     0.81582,\n",
       "           0.81682,     0.81782,     0.81882,     0.81982,     0.82082,     0.82182,     0.82282,     0.82382,     0.82482,     0.82583,     0.82683,     0.82783,     0.82883,     0.82983,     0.83083,     0.83183,     0.83283,     0.83383,     0.83483,     0.83584,     0.83684,     0.83784,     0.83884,     0.83984,\n",
       "           0.84084,     0.84184,     0.84284,     0.84384,     0.84484,     0.84585,     0.84685,     0.84785,     0.84885,     0.84985,     0.85085,     0.85185,     0.85285,     0.85385,     0.85485,     0.85586,     0.85686,     0.85786,     0.85886,     0.85986,     0.86086,     0.86186,     0.86286,     0.86386,\n",
       "           0.86486,     0.86587,     0.86687,     0.86787,     0.86887,     0.86987,     0.87087,     0.87187,     0.87287,     0.87387,     0.87487,     0.87588,     0.87688,     0.87788,     0.87888,     0.87988,     0.88088,     0.88188,     0.88288,     0.88388,     0.88488,     0.88589,     0.88689,     0.88789,\n",
       "           0.88889,     0.88989,     0.89089,     0.89189,     0.89289,     0.89389,     0.89489,      0.8959,      0.8969,      0.8979,      0.8989,      0.8999,      0.9009,      0.9019,      0.9029,      0.9039,      0.9049,     0.90591,     0.90691,     0.90791,     0.90891,     0.90991,     0.91091,     0.91191,\n",
       "           0.91291,     0.91391,     0.91491,     0.91592,     0.91692,     0.91792,     0.91892,     0.91992,     0.92092,     0.92192,     0.92292,     0.92392,     0.92492,     0.92593,     0.92693,     0.92793,     0.92893,     0.92993,     0.93093,     0.93193,     0.93293,     0.93393,     0.93493,     0.93594,\n",
       "           0.93694,     0.93794,     0.93894,     0.93994,     0.94094,     0.94194,     0.94294,     0.94394,     0.94494,     0.94595,     0.94695,     0.94795,     0.94895,     0.94995,     0.95095,     0.95195,     0.95295,     0.95395,     0.95495,     0.95596,     0.95696,     0.95796,     0.95896,     0.95996,\n",
       "           0.96096,     0.96196,     0.96296,     0.96396,     0.96496,     0.96597,     0.96697,     0.96797,     0.96897,     0.96997,     0.97097,     0.97197,     0.97297,     0.97397,     0.97497,     0.97598,     0.97698,     0.97798,     0.97898,     0.97998,     0.98098,     0.98198,     0.98298,     0.98398,\n",
       "           0.98498,     0.98599,     0.98699,     0.98799,     0.98899,     0.98999,     0.99099,     0.99199,     0.99299,     0.99399,     0.99499,       0.996,       0.997,       0.998,       0.999,           1]), array([[    0.99818,     0.99818,     0.99749,     0.99658,     0.99658,     0.99613,     0.99613,      0.9959,     0.99544,     0.99544,     0.99522,      0.9943,     0.99408,     0.99362,     0.99362,     0.99362,     0.99316,     0.99271,     0.99225,     0.99203,     0.99157,     0.99134,     0.99066,\n",
       "             0.9902,      0.9902,     0.98997,     0.98975,     0.98929,     0.98861,     0.98815,     0.98747,     0.98724,     0.98724,     0.98679,      0.9861,     0.98565,     0.98542,     0.98542,     0.98519,     0.98496,     0.98428,     0.98428,     0.98428,     0.98382,      0.9836,      0.9836,\n",
       "            0.98314,     0.98268,     0.98268,     0.98246,     0.98246,     0.98223,     0.98177,     0.98132,     0.98132,     0.98132,     0.98109,     0.98064,     0.98041,     0.98041,     0.98041,     0.98041,     0.98041,     0.97995,     0.97972,     0.97927,     0.97904,     0.97858,     0.97858,\n",
       "            0.97813,     0.97813,      0.9779,      0.9779,      0.9779,      0.9779,     0.97767,     0.97767,     0.97767,     0.97767,     0.97744,     0.97722,     0.97699,     0.97676,     0.97653,      0.9763,      0.9763,      0.9763,      0.9763,      0.9763,     0.97608,     0.97562,     0.97562,\n",
       "            0.97539,     0.97539,     0.97517,     0.97517,     0.97494,     0.97494,     0.97494,     0.97471,     0.97448,     0.97425,     0.97425,     0.97357,     0.97334,     0.97289,     0.97289,     0.97266,     0.97266,     0.97233,      0.9722,      0.9722,      0.9722,      0.9722,     0.97198,\n",
       "            0.97198,     0.97198,     0.97152,     0.97129,     0.97129,     0.97106,     0.97106,     0.97106,     0.97106,     0.97106,     0.97106,     0.97106,     0.97106,     0.97106,     0.97061,     0.97061,     0.97061,     0.97038,     0.97038,     0.97015,     0.96992,      0.9697,     0.96947,\n",
       "            0.96947,     0.96947,     0.96924,     0.96924,     0.96879,     0.96856,     0.96856,     0.96856,     0.96856,     0.96856,     0.96833,     0.96833,     0.96827,      0.9681,      0.9681,      0.9681,      0.9681,      0.9681,      0.9681,      0.9681,      0.9681,      0.9681,      0.9681,\n",
       "             0.9681,      0.9681,      0.9681,      0.9681,      0.9681,      0.9681,     0.96787,     0.96765,     0.96742,     0.96742,     0.96742,     0.96742,     0.96742,     0.96742,     0.96742,     0.96742,     0.96742,     0.96719,     0.96719,     0.96719,     0.96719,     0.96719,     0.96628,\n",
       "            0.96628,     0.96605,     0.96605,     0.96605,     0.96605,     0.96605,     0.96582,     0.96582,     0.96582,     0.96582,     0.96582,     0.96582,     0.96582,     0.96582,     0.96582,     0.96582,     0.96582,     0.96537,     0.96537,     0.96537,     0.96537,     0.96537,     0.96537,\n",
       "            0.96537,     0.96537,     0.96537,     0.96537,     0.96514,     0.96514,     0.96514,     0.96514,     0.96514,     0.96514,     0.96514,     0.96468,     0.96468,     0.96423,     0.96423,     0.96416,     0.96377,     0.96377,     0.96377,     0.96355,     0.96355,     0.96332,     0.96286,\n",
       "            0.96263,     0.96263,     0.96263,     0.96263,     0.96263,     0.96263,     0.96263,     0.96263,     0.96241,     0.96218,     0.96195,     0.96195,     0.96149,     0.96149,     0.96127,     0.96127,     0.96127,     0.96104,     0.96104,     0.96104,     0.96081,     0.96058,     0.96058,\n",
       "            0.96013,     0.96013,     0.96013,     0.95962,     0.95944,     0.95944,     0.95944,     0.95922,     0.95922,     0.95922,     0.95922,     0.95922,     0.95922,     0.95922,     0.95922,     0.95922,     0.95899,     0.95899,     0.95899,     0.95899,     0.95899,     0.95876,      0.9583,\n",
       "            0.95818,     0.95808,     0.95808,     0.95808,     0.95792,     0.95785,     0.95785,     0.95775,     0.95762,     0.95739,     0.95739,     0.95739,     0.95717,     0.95694,     0.95671,     0.95671,     0.95671,     0.95629,     0.95625,     0.95625,     0.95557,     0.95536,     0.95534,\n",
       "            0.95527,     0.95512,     0.95495,     0.95489,     0.95489,     0.95489,     0.95489,     0.95474,     0.95466,     0.95466,     0.95466,     0.95466,     0.95466,     0.95466,     0.95443,      0.9542,      0.9542,      0.9542,      0.9542,      0.9542,     0.95398,     0.95398,     0.95398,\n",
       "            0.95398,     0.95398,     0.95398,     0.95398,     0.95388,     0.95375,     0.95375,     0.95375,     0.95375,     0.95375,     0.95375,     0.95362,     0.95334,     0.95309,     0.95306,     0.95306,     0.95306,     0.95306,     0.95306,     0.95306,     0.95238,     0.95193,     0.95193,\n",
       "            0.95193,      0.9516,     0.95124,     0.95124,     0.95101,     0.95101,     0.95079,     0.95056,     0.95056,      0.9501,      0.9501,      0.9501,      0.9501,     0.94942,     0.94942,     0.94942,     0.94939,     0.94927,     0.94919,     0.94919,     0.94896,     0.94881,     0.94851,\n",
       "            0.94829,     0.94724,     0.94714,     0.94714,     0.94668,     0.94668,     0.94646,     0.94646,     0.94637,     0.94624,       0.946,       0.946,     0.94564,     0.94555,     0.94555,     0.94486,     0.94486,     0.94463,     0.94463,     0.94433,     0.94421,     0.94372,     0.94372,\n",
       "            0.94372,     0.94372,     0.94372,     0.94327,     0.94327,     0.94254,     0.94242,     0.94122,     0.94122,     0.94053,     0.94053,     0.94021,      0.9401,     0.93985,     0.93985,     0.93985,     0.93983,     0.93971,     0.93937,     0.93925,     0.93848,     0.93848,     0.93848,\n",
       "            0.93848,     0.93795,     0.93784,     0.93712,     0.93712,     0.93598,     0.93598,      0.9352,     0.93509,     0.93484,      0.9346,     0.93448,       0.933,     0.93288,     0.93231,     0.93219,     0.93185,     0.93173,     0.93116,     0.93104,     0.92914,     0.92914,     0.92861,\n",
       "            0.92849,     0.92823,     0.92823,     0.92777,     0.92777,       0.927,     0.92688,     0.92641,     0.92641,     0.92608,     0.92596,     0.92516,     0.92504,     0.92401,      0.9239,      0.9239,     0.92322,     0.92322,     0.92249,     0.92237,     0.92117,     0.92117,     0.92048,\n",
       "            0.92048,     0.92019,     0.92008,     0.91889,     0.91889,     0.91813,     0.91802,     0.91699,     0.91687,     0.91584,     0.91573,     0.91547,     0.91547,     0.91492,      0.9148,     0.91342,     0.91342,     0.91228,     0.91228,     0.91183,     0.91046,     0.91046,     0.90954,\n",
       "            0.90942,     0.90862,     0.90851,     0.90748,     0.90736,     0.90633,     0.90622,     0.90522,     0.90522,     0.90473,     0.90461,     0.90381,     0.90369,     0.90248,     0.90248,     0.90175,     0.90163,     0.90083,     0.90071,     0.89929,     0.89929,     0.89877,     0.89865,\n",
       "            0.89785,     0.89773,     0.89693,     0.89682,      0.8967,     0.89658,     0.89519,     0.89519,      0.8936,      0.8936,     0.89246,     0.89246,     0.89109,     0.89109,     0.88813,     0.88699,     0.88687,     0.88561,      0.8855,     0.88471,     0.88471,     0.88289,     0.88289,\n",
       "            0.88084,     0.88084,     0.87924,     0.87924,     0.87807,     0.87795,     0.87674,     0.87674,     0.87537,     0.87537,      0.8744,     0.87429,      0.8728,     0.87269,     0.87097,     0.87086,     0.86945,     0.86945,     0.86823,     0.86811,     0.86686,     0.86674,     0.86503,\n",
       "            0.86491,     0.86443,     0.86443,     0.86319,     0.86308,     0.86247,     0.86074,     0.86062,     0.85891,     0.85879,     0.85662,     0.85651,     0.85525,     0.85513,     0.85433,     0.85422,     0.85342,      0.8533,     0.85227,     0.85215,     0.84908,     0.84896,     0.84621,\n",
       "            0.84621,     0.84496,     0.84485,     0.84256,     0.84256,      0.8396,       0.838,     0.83784,     0.83657,     0.83645,     0.83429,     0.83417,       0.832,     0.83188,      0.8304,     0.83028,     0.82789,     0.82777,     0.82538,     0.82526,     0.82306,     0.82064,     0.82052,\n",
       "            0.81881,      0.8187,     0.81676,     0.81664,     0.81385,     0.81385,     0.81066,     0.81066,     0.80874,     0.80586,     0.80574,     0.80243,     0.80232,     0.79901,     0.79889,      0.7965,     0.79638,     0.79397,     0.79382,     0.79084,     0.79084,     0.78731,     0.78423,\n",
       "            0.78411,     0.78218,     0.78206,     0.77852,     0.77836,     0.77573,     0.77561,      0.7723,     0.77219,     0.76979,     0.76968,     0.76588,     0.76414,     0.76403,     0.76049,     0.76038,     0.75705,      0.7569,     0.75518,     0.75324,     0.75313,     0.75027,     0.75012,\n",
       "            0.74702,     0.74691,     0.74337,     0.74326,     0.74083,     0.73818,     0.73806,     0.73521,      0.7351,     0.73269,     0.73253,     0.72854,     0.72842,     0.72485,     0.72243,     0.72232,      0.7181,     0.71798,     0.71443,      0.7104,     0.71029,     0.70697,     0.70682,\n",
       "            0.70395,     0.70384,     0.69914,     0.69398,     0.69386,     0.69031,     0.69016,     0.68616,     0.68605,     0.67906,     0.67322,     0.67311,     0.66819,     0.66256,     0.66245,     0.65731,     0.65716,     0.65042,      0.6503,     0.64446,     0.63908,     0.63896,     0.63131,\n",
       "            0.63116,     0.62648,     0.62636,      0.6196,     0.61489,     0.61473,     0.60937,     0.60926,     0.60227,     0.59528,     0.59011,     0.58999,     0.58327,     0.58311,     0.57339,     0.56708,     0.56697,     0.55932,     0.55917,     0.55218,     0.54497,     0.54485,     0.53561,\n",
       "            0.53545,      0.5296,     0.52238,     0.52223,     0.51299,     0.51288,     0.50543,     0.49685,     0.48963,     0.48947,     0.48364,     0.48352,     0.47427,       0.465,     0.46484,     0.45763,     0.44653,     0.44638,     0.43779,     0.42761,     0.42746,     0.41754,     0.41742,\n",
       "            0.41157,     0.40094,     0.40078,      0.3931,     0.38201,     0.37274,     0.37259,     0.36241,     0.35633,     0.35617,     0.35078,     0.34356,      0.3434,     0.33504,     0.32828,     0.32812,     0.32318,     0.31323,     0.31308,      0.3054,     0.29613,     0.29598,     0.28853,\n",
       "            0.27926,     0.27022,     0.27006,     0.26262,     0.25676,     0.25175,     0.25159,     0.24574,     0.23855,     0.23855,     0.23092,     0.22211,     0.22195,      0.2145,     0.20863,      0.2025,     0.20234,     0.19353,     0.18608,     0.18592,     0.18182,      0.1762,     0.17103,\n",
       "            0.16426,     0.16411,     0.15707,     0.15051,     0.14351,     0.14336,     0.13586,     0.13067,     0.12641,     0.12626,     0.11989,      0.1147,     0.11022,     0.11006,     0.10414,    0.098284,    0.092853,    0.089239,    0.084069,    0.079966,     0.07981,    0.073913,    0.070081,\n",
       "           0.065813,    0.061719,    0.061564,     0.05748,    0.054113,    0.051659,    0.047574,    0.047418,    0.042642,     0.03974,    0.038187,    0.035448,    0.032742,    0.032586,    0.029848,    0.025287,    0.025132,    0.024021,    0.022649,    0.020639,    0.018878,    0.017505,    0.015691,\n",
       "           0.015536,    0.013956,    0.013039,     0.01235,    0.011495,     0.01063,    0.009257,   0.0076564,   0.0069672,   0.0065397,    0.006384,   0.0054691,   0.0051241,   0.0045464,    0.004085,   0.0038514,     0.00339,   0.0027119,   0.0025562,   0.0023476,   0.0022236,   0.0021458,    0.002068,\n",
       "           0.001732,   0.0016153,   0.0012706,   0.0011539,  0.00093497,   0.0008064,  0.00068963,  0.00066245,   0.0006402,  0.00061796,  0.00059572,  0.00057348,  0.00055124,  0.00052899,  0.00050675,  0.00048451,  0.00046227,  0.00043219,  0.00039883,  0.00036547,   0.0003321,  0.00029874,  0.00026538,\n",
       "         0.00023201,           0,           0,           0,           0,           0,           0,           0,           0,           0,           0,           0,           0,           0,           0,           0,           0,           0,           0,           0,           0,           0,           0,\n",
       "                  0,           0,           0,           0,           0,           0,           0,           0,           0,           0,           0,           0,           0,           0,           0,           0,           0,           0,           0,           0,           0,           0,           0,\n",
       "                  0,           0,           0,           0,           0,           0,           0,           0,           0,           0,           0,           0,           0,           0,           0,           0,           0,           0,           0,           0,           0,           0,           0,\n",
       "                  0,           0,           0,           0,           0,           0,           0,           0,           0,           0,           0,           0,           0,           0,           0,           0,           0,           0,           0,           0,           0,           0,           0,\n",
       "                  0,           0,           0,           0,           0,           0,           0,           0,           0,           0,           0,           0,           0,           0,           0,           0,           0,           0,           0,           0,           0,           0,           0,\n",
       "                  0,           0,           0,           0,           0,           0,           0,           0,           0,           0,           0]]), 'Confidence', 'Recall']]\n",
       "fitness: np.float64(0.615185617288835)\n",
       "keys: ['metrics/precision(B)', 'metrics/recall(B)', 'metrics/mAP50(B)', 'metrics/mAP50-95(B)']\n",
       "maps: array([    0.57699,     0.57699,     0.57699,     0.57699])\n",
       "names: {0: 'hexbug_0', 1: 'hexbug_1', 2: 'hexbug_2', 3: 'hexbug_3'}\n",
       "nt_per_class: array([4389,    0,    0,    0])\n",
       "nt_per_image: array([2347,    0,    0,    0])\n",
       "results_dict: {'metrics/precision(B)': np.float64(0.9212615313065663), 'metrics/recall(B)': np.float64(0.9223728171096592), 'metrics/mAP50(B)': np.float64(0.9589230954554043), 'metrics/mAP50-95(B)': np.float64(0.5769925641592163), 'fitness': np.float64(0.615185617288835)}\n",
       "save_dir: PosixPath('runs/detect/hexbug_yolo11n3')\n",
       "speed: {'preprocess': 0.20910573150672124, 'inference': 8.988182924979123, 'loss': 0.0002502548477791399, 'postprocess': 0.95845275595435}\n",
       "stats: {'tp': [], 'conf': [], 'pred_cls': [], 'target_cls': [], 'target_img': []}\n",
       "task: 'detect'"
      ]
     },
     "execution_count": 3,
     "metadata": {},
     "output_type": "execute_result"
    }
   ],
   "source": [
    "from ultralytics import YOLO\n",
    "\n",
    "# ✅ 加载你要训练的 YOLOv8n 模型（yolov11n.pt 应是你自定义的权重文件名）\n",
    "model = YOLO(\"runs/detect/hexbug_yolo11n3/weights/last.pt\")\n",
    "\n",
    "#恢复断点83/150\n",
    "model.train(resume=True, device=0)\n",
    "\n",
    "\n",
    "# ✅ 开始训练\n",
    "#model.train(  \n",
    "#    data=\"/home/hpc/tovl/tovl108v/hexbug_dataset0/data.yaml\",  # 数据集路径\n",
    "#    epochs=150,                         # 训练轮次\n",
    "\n",
    "\n",
    "#    imgsz=768,                          # 输入图像尺寸（建议 >=640，768适合小目标）\n",
    "#    batch=16,                           # 批次大小（可根据显存微调）\n",
    "#    name=\"hexbug_yolo11n\",             # 输出运行名称（用于保存路径）\n",
    "#    lr0=0.001,                          # 初始学习率\n",
    "#    patience=30,                        # 早停策略\n",
    "#    augment=True,                       # 开启数据增强（默认 True）\n",
    "#    optimizer='AdamW',                  # 可选优化器：AdamW 比 SGD 更稳定\n",
    "#    cos_lr=True                         # 使用余弦退火学习率调度（训练更平滑）\n",
    "#)\n"
   ]
  },
  {
   "cell_type": "code",
   "execution_count": null,
   "id": "4e80454c-81f0-4c75-b289-0c5f5d9589a1",
   "metadata": {},
   "outputs": [
    {
     "name": "stdout",
     "output_type": "stream",
     "text": [
      "Ultralytics 8.3.161 🚀 Python-3.12.10 torch-2.7.1+cu126 CUDA:0 (NVIDIA GeForce GTX 1080 Ti, 11165MiB)\n",
      "\u001b[34m\u001b[1mengine/trainer: \u001b[0magnostic_nms=False, amp=True, augment=True, auto_augment=randaugment, batch=8, bgr=0.0, box=7.5, cache=False, cfg=None, classes=None, close_mosaic=10, cls=0.5, conf=None, copy_paste=0.0, copy_paste_mode=flip, cos_lr=False, cutmix=0.0, data=/home/hpc/tovl/tovl108v/hexbug_dataset0/data.yaml, degrees=0.0, deterministic=True, device=0, dfl=1.5, dnn=False, dropout=0.0, dynamic=False, embed=None, epochs=100, erasing=0.4, exist_ok=False, fliplr=0.5, flipud=0.0, format=torchscript, fraction=1.0, freeze=None, half=False, hsv_h=0.015, hsv_s=0.7, hsv_v=0.4, imgsz=960, int8=False, iou=0.7, keras=False, kobj=1.0, line_width=None, lr0=0.0005, lrf=0.01, mask_ratio=4, max_det=300, mixup=0.1, mode=train, model=runs/detect/hexbug_yolo11n3/weights/best.pt, momentum=0.937, mosaic=1.0, multi_scale=False, name=hexbug_yolo11n_finetune_960aug, nbs=64, nms=False, opset=None, optimize=False, optimizer=auto, overlap_mask=True, patience=30, perspective=0.0, plots=True, pose=12.0, pretrained=True, profile=False, project=None, rect=False, resume=False, retina_masks=False, save=True, save_conf=False, save_crop=False, save_dir=runs/detect/hexbug_yolo11n_finetune_960aug, save_frames=False, save_json=False, save_period=-1, save_txt=False, scale=0.5, seed=0, shear=0.0, show=False, show_boxes=True, show_conf=True, show_labels=True, simplify=True, single_cls=False, source=None, split=val, stream_buffer=False, task=detect, time=None, tracker=botsort.yaml, translate=0.1, val=True, verbose=True, vid_stride=1, visualize=False, warmup_bias_lr=0.1, warmup_epochs=3.0, warmup_momentum=0.8, weight_decay=0.0005, workers=8, workspace=None\n",
      "\n",
      "                   from  n    params  module                                       arguments                     \n",
      "  0                  -1  1       464  ultralytics.nn.modules.conv.Conv             [3, 16, 3, 2]                 \n",
      "  1                  -1  1      4672  ultralytics.nn.modules.conv.Conv             [16, 32, 3, 2]                \n",
      "  2                  -1  1      6640  ultralytics.nn.modules.block.C3k2            [32, 64, 1, False, 0.25]      \n",
      "  3                  -1  1     36992  ultralytics.nn.modules.conv.Conv             [64, 64, 3, 2]                \n",
      "  4                  -1  1     26080  ultralytics.nn.modules.block.C3k2            [64, 128, 1, False, 0.25]     \n",
      "  5                  -1  1    147712  ultralytics.nn.modules.conv.Conv             [128, 128, 3, 2]              \n",
      "  6                  -1  1     87040  ultralytics.nn.modules.block.C3k2            [128, 128, 1, True]           \n",
      "  7                  -1  1    295424  ultralytics.nn.modules.conv.Conv             [128, 256, 3, 2]              \n",
      "  8                  -1  1    346112  ultralytics.nn.modules.block.C3k2            [256, 256, 1, True]           \n",
      "  9                  -1  1    164608  ultralytics.nn.modules.block.SPPF            [256, 256, 5]                 \n",
      " 10                  -1  1    249728  ultralytics.nn.modules.block.C2PSA           [256, 256, 1]                 \n",
      " 11                  -1  1         0  torch.nn.modules.upsampling.Upsample         [None, 2, 'nearest']          \n",
      " 12             [-1, 6]  1         0  ultralytics.nn.modules.conv.Concat           [1]                           \n",
      " 13                  -1  1    111296  ultralytics.nn.modules.block.C3k2            [384, 128, 1, False]          \n",
      " 14                  -1  1         0  torch.nn.modules.upsampling.Upsample         [None, 2, 'nearest']          \n",
      " 15             [-1, 4]  1         0  ultralytics.nn.modules.conv.Concat           [1]                           \n",
      " 16                  -1  1     32096  ultralytics.nn.modules.block.C3k2            [256, 64, 1, False]           \n",
      " 17                  -1  1     36992  ultralytics.nn.modules.conv.Conv             [64, 64, 3, 2]                \n",
      " 18            [-1, 13]  1         0  ultralytics.nn.modules.conv.Concat           [1]                           \n",
      " 19                  -1  1     86720  ultralytics.nn.modules.block.C3k2            [192, 128, 1, False]          \n",
      " 20                  -1  1    147712  ultralytics.nn.modules.conv.Conv             [128, 128, 3, 2]              \n",
      " 21            [-1, 10]  1         0  ultralytics.nn.modules.conv.Concat           [1]                           \n",
      " 22                  -1  1    378880  ultralytics.nn.modules.block.C3k2            [384, 256, 1, True]           \n",
      " 23        [16, 19, 22]  1    431452  ultralytics.nn.modules.head.Detect           [4, [64, 128, 256]]           \n",
      "YOLO11n summary: 181 layers, 2,590,620 parameters, 2,590,604 gradients, 6.4 GFLOPs\n",
      "\n",
      "Transferred 499/499 items from pretrained weights\n",
      "Freezing layer 'model.23.dfl.conv.weight'\n",
      "\u001b[34m\u001b[1mAMP: \u001b[0mrunning Automatic Mixed Precision (AMP) checks...\n",
      "\u001b[34m\u001b[1mAMP: \u001b[0mchecks passed ✅\n",
      "\u001b[34m\u001b[1mtrain: \u001b[0mFast image access ✅ (ping: 0.0±0.0 ms, read: 4.5±1.2 MB/s, size: 225.1 KB)\n"
     ]
    },
    {
     "name": "stderr",
     "output_type": "stream",
     "text": [
      "\u001b[34m\u001b[1mtrain: \u001b[0mScanning /home/hpc/tovl/tovl108v/hexbug_dataset0/labels/train.cache... 7861 images, 0 backgrounds, 2 corrupt: 100%|██████████| 7861/7861 [00:00<?, ?it/s]"
     ]
    },
    {
     "name": "stdout",
     "output_type": "stream",
     "text": [
      "\u001b[34m\u001b[1mtrain: \u001b[0m/home/hpc/tovl/tovl108v/hexbug_dataset0/images/train/training016_0079.jpg: ignoring corrupt image/label: non-normalized or out of bounds coordinates [1.000127]\n",
      "\u001b[34m\u001b[1mtrain: \u001b[0m/home/hpc/tovl/tovl108v/hexbug_dataset0/images/train/training061_0056.jpg: ignoring corrupt image/label: negative label values [-3.e-05]\n"
     ]
    },
    {
     "name": "stderr",
     "output_type": "stream",
     "text": [
      "\n",
      "/home/hpc/tovl/tovl108v/torch/utils/data/dataloader.py:626: UserWarning: This DataLoader will create 8 worker processes in total. Our suggested max number of worker in current system is 4, which is smaller than what this DataLoader is going to create. Please be aware that excessive worker creation might get DataLoader running slow or even freeze, lower the worker number to avoid potential slowness/freeze if necessary.\n",
      "  warnings.warn(\n"
     ]
    },
    {
     "name": "stdout",
     "output_type": "stream",
     "text": [
      "\u001b[34m\u001b[1mval: \u001b[0mFast image access ✅ (ping: 0.0±0.0 ms, read: 9.7±3.2 MB/s, size: 313.9 KB)\n"
     ]
    },
    {
     "name": "stderr",
     "output_type": "stream",
     "text": [
      "\u001b[34m\u001b[1mval: \u001b[0mScanning /home/hpc/tovl/tovl108v/hexbug_dataset0/labels/val.cache... 2347 images, 0 backgrounds, 0 corrupt: 100%|██████████| 2347/2347 [00:00<?, ?it/s]\n",
      "/home/hpc/tovl/tovl108v/torch/utils/data/dataloader.py:626: UserWarning: This DataLoader will create 16 worker processes in total. Our suggested max number of worker in current system is 4, which is smaller than what this DataLoader is going to create. Please be aware that excessive worker creation might get DataLoader running slow or even freeze, lower the worker number to avoid potential slowness/freeze if necessary.\n",
      "  warnings.warn(\n"
     ]
    },
    {
     "name": "stdout",
     "output_type": "stream",
     "text": [
      "Plotting labels to runs/detect/hexbug_yolo11n_finetune_960aug/labels.jpg... \n",
      "\u001b[34m\u001b[1moptimizer:\u001b[0m 'optimizer=auto' found, ignoring 'lr0=0.0005' and 'momentum=0.937' and determining best 'optimizer', 'lr0' and 'momentum' automatically... \n",
      "\u001b[34m\u001b[1moptimizer:\u001b[0m SGD(lr=0.01, momentum=0.9) with parameter groups 81 weight(decay=0.0), 88 weight(decay=0.0005), 87 bias(decay=0.0)\n",
      "Image sizes 960 train, 960 val\n",
      "Using 8 dataloader workers\n",
      "Logging results to \u001b[1mruns/detect/hexbug_yolo11n_finetune_960aug\u001b[0m\n",
      "Starting training for 100 epochs...\n",
      "\n",
      "      Epoch    GPU_mem   box_loss   cls_loss   dfl_loss  Instances       Size\n"
     ]
    },
    {
     "name": "stderr",
     "output_type": "stream",
     "text": [
      "      1/100      2.69G      1.395     0.8494     0.9653         16        960: 100%|██████████| 983/983 [04:04<00:00,  4.02it/s]\n",
      "                 Class     Images  Instances      Box(P          R      mAP50  mAP50-95): 100%|██████████| 147/147 [00:23<00:00,  6.15it/s]\n"
     ]
    },
    {
     "name": "stdout",
     "output_type": "stream",
     "text": [
      "                   all       2347       4389      0.927      0.893      0.935      0.487\n",
      "\n",
      "      Epoch    GPU_mem   box_loss   cls_loss   dfl_loss  Instances       Size\n"
     ]
    },
    {
     "name": "stderr",
     "output_type": "stream",
     "text": [
      "      2/100      4.11G      1.437     0.9311     0.9681          5        960: 100%|██████████| 983/983 [04:04<00:00,  4.02it/s]\n",
      "                 Class     Images  Instances      Box(P          R      mAP50  mAP50-95): 100%|██████████| 147/147 [00:22<00:00,  6.49it/s]"
     ]
    },
    {
     "name": "stdout",
     "output_type": "stream",
     "text": [
      "                   all       2347       4389       0.91       0.86      0.908      0.483\n"
     ]
    },
    {
     "name": "stderr",
     "output_type": "stream",
     "text": [
      "\n"
     ]
    },
    {
     "name": "stdout",
     "output_type": "stream",
     "text": [
      "\n",
      "      Epoch    GPU_mem   box_loss   cls_loss   dfl_loss  Instances       Size\n"
     ]
    },
    {
     "name": "stderr",
     "output_type": "stream",
     "text": [
      "      3/100      4.11G      1.481      1.011     0.9732         11        960: 100%|██████████| 983/983 [03:55<00:00,  4.17it/s]\n",
      "                 Class     Images  Instances      Box(P          R      mAP50  mAP50-95): 100%|██████████| 147/147 [00:22<00:00,  6.50it/s]"
     ]
    },
    {
     "name": "stdout",
     "output_type": "stream",
     "text": [
      "                   all       2347       4389      0.924      0.873      0.923      0.494\n"
     ]
    },
    {
     "name": "stderr",
     "output_type": "stream",
     "text": [
      "\n"
     ]
    },
    {
     "name": "stdout",
     "output_type": "stream",
     "text": [
      "\n",
      "      Epoch    GPU_mem   box_loss   cls_loss   dfl_loss  Instances       Size\n"
     ]
    },
    {
     "name": "stderr",
     "output_type": "stream",
     "text": [
      "      4/100      4.11G      1.528      1.044     0.9827          7        960: 100%|██████████| 983/983 [03:55<00:00,  4.18it/s]\n",
      "                 Class     Images  Instances      Box(P          R      mAP50  mAP50-95): 100%|██████████| 147/147 [00:22<00:00,  6.50it/s]"
     ]
    },
    {
     "name": "stdout",
     "output_type": "stream",
     "text": [
      "                   all       2347       4389      0.921      0.869      0.921       0.49\n"
     ]
    },
    {
     "name": "stderr",
     "output_type": "stream",
     "text": [
      "\n"
     ]
    },
    {
     "name": "stdout",
     "output_type": "stream",
     "text": [
      "\n",
      "      Epoch    GPU_mem   box_loss   cls_loss   dfl_loss  Instances       Size\n"
     ]
    },
    {
     "name": "stderr",
     "output_type": "stream",
     "text": [
      "      5/100      4.11G      1.523       1.05     0.9843          6        960: 100%|██████████| 983/983 [03:55<00:00,  4.18it/s]\n",
      "                 Class     Images  Instances      Box(P          R      mAP50  mAP50-95): 100%|██████████| 147/147 [00:22<00:00,  6.49it/s]"
     ]
    },
    {
     "name": "stdout",
     "output_type": "stream",
     "text": [
      "                   all       2347       4389      0.923      0.877      0.929      0.496\n"
     ]
    },
    {
     "name": "stderr",
     "output_type": "stream",
     "text": [
      "\n"
     ]
    },
    {
     "name": "stdout",
     "output_type": "stream",
     "text": [
      "\n",
      "      Epoch    GPU_mem   box_loss   cls_loss   dfl_loss  Instances       Size\n"
     ]
    },
    {
     "name": "stderr",
     "output_type": "stream",
     "text": [
      "      6/100      4.12G       1.51      1.037     0.9837         13        960: 100%|██████████| 983/983 [03:55<00:00,  4.18it/s]\n",
      "                 Class     Images  Instances      Box(P          R      mAP50  mAP50-95): 100%|██████████| 147/147 [00:22<00:00,  6.49it/s]"
     ]
    },
    {
     "name": "stdout",
     "output_type": "stream",
     "text": [
      "                   all       2347       4389      0.927      0.887      0.928      0.485\n"
     ]
    },
    {
     "name": "stderr",
     "output_type": "stream",
     "text": [
      "\n"
     ]
    },
    {
     "name": "stdout",
     "output_type": "stream",
     "text": [
      "\n",
      "      Epoch    GPU_mem   box_loss   cls_loss   dfl_loss  Instances       Size\n"
     ]
    },
    {
     "name": "stderr",
     "output_type": "stream",
     "text": [
      "      7/100      4.12G      1.512      1.024     0.9823         11        960: 100%|██████████| 983/983 [03:55<00:00,  4.18it/s]\n",
      "                 Class     Images  Instances      Box(P          R      mAP50  mAP50-95): 100%|██████████| 147/147 [00:22<00:00,  6.44it/s]"
     ]
    },
    {
     "name": "stdout",
     "output_type": "stream",
     "text": [
      "                   all       2347       4389      0.915      0.854      0.922      0.504\n"
     ]
    },
    {
     "name": "stderr",
     "output_type": "stream",
     "text": [
      "\n"
     ]
    },
    {
     "name": "stdout",
     "output_type": "stream",
     "text": [
      "\n",
      "      Epoch    GPU_mem   box_loss   cls_loss   dfl_loss  Instances       Size\n"
     ]
    },
    {
     "name": "stderr",
     "output_type": "stream",
     "text": [
      "      8/100      4.12G      1.503      1.031     0.9806          9        960: 100%|██████████| 983/983 [03:55<00:00,  4.18it/s]\n",
      "                 Class     Images  Instances      Box(P          R      mAP50  mAP50-95): 100%|██████████| 147/147 [00:23<00:00,  6.36it/s]"
     ]
    },
    {
     "name": "stdout",
     "output_type": "stream",
     "text": [
      "                   all       2347       4389      0.921      0.878      0.922      0.478\n"
     ]
    },
    {
     "name": "stderr",
     "output_type": "stream",
     "text": [
      "\n"
     ]
    },
    {
     "name": "stdout",
     "output_type": "stream",
     "text": [
      "\n",
      "      Epoch    GPU_mem   box_loss   cls_loss   dfl_loss  Instances       Size\n"
     ]
    },
    {
     "name": "stderr",
     "output_type": "stream",
     "text": [
      "      9/100      4.12G      1.497      1.025     0.9747         10        960: 100%|██████████| 983/983 [03:56<00:00,  4.15it/s]\n",
      "                 Class     Images  Instances      Box(P          R      mAP50  mAP50-95): 100%|██████████| 147/147 [00:22<00:00,  6.48it/s]"
     ]
    },
    {
     "name": "stdout",
     "output_type": "stream",
     "text": [
      "                   all       2347       4389      0.933      0.895      0.939      0.518\n"
     ]
    },
    {
     "name": "stderr",
     "output_type": "stream",
     "text": [
      "\n"
     ]
    },
    {
     "name": "stdout",
     "output_type": "stream",
     "text": [
      "\n",
      "      Epoch    GPU_mem   box_loss   cls_loss   dfl_loss  Instances       Size\n"
     ]
    },
    {
     "name": "stderr",
     "output_type": "stream",
     "text": [
      "     10/100      4.12G       1.49      1.002      0.974         10        960: 100%|██████████| 983/983 [03:55<00:00,  4.18it/s]\n",
      "                 Class     Images  Instances      Box(P          R      mAP50  mAP50-95): 100%|██████████| 147/147 [00:22<00:00,  6.49it/s]"
     ]
    },
    {
     "name": "stdout",
     "output_type": "stream",
     "text": [
      "                   all       2347       4389      0.924      0.881       0.93       0.51\n"
     ]
    },
    {
     "name": "stderr",
     "output_type": "stream",
     "text": [
      "\n"
     ]
    },
    {
     "name": "stdout",
     "output_type": "stream",
     "text": [
      "\n",
      "      Epoch    GPU_mem   box_loss   cls_loss   dfl_loss  Instances       Size\n"
     ]
    },
    {
     "name": "stderr",
     "output_type": "stream",
     "text": [
      "     11/100      4.12G      1.479     0.9943     0.9724         15        960: 100%|██████████| 983/983 [04:00<00:00,  4.09it/s]\n",
      "                 Class     Images  Instances      Box(P          R      mAP50  mAP50-95): 100%|██████████| 147/147 [00:22<00:00,  6.50it/s]"
     ]
    },
    {
     "name": "stdout",
     "output_type": "stream",
     "text": [
      "                   all       2347       4389      0.934      0.877       0.93      0.511\n"
     ]
    },
    {
     "name": "stderr",
     "output_type": "stream",
     "text": [
      "\n"
     ]
    },
    {
     "name": "stdout",
     "output_type": "stream",
     "text": [
      "\n",
      "      Epoch    GPU_mem   box_loss   cls_loss   dfl_loss  Instances       Size\n"
     ]
    },
    {
     "name": "stderr",
     "output_type": "stream",
     "text": [
      "     12/100      4.12G      1.481      1.005     0.9723         10        960: 100%|██████████| 983/983 [03:54<00:00,  4.18it/s]\n",
      "                 Class     Images  Instances      Box(P          R      mAP50  mAP50-95): 100%|██████████| 147/147 [00:22<00:00,  6.49it/s]"
     ]
    },
    {
     "name": "stdout",
     "output_type": "stream",
     "text": [
      "                   all       2347       4389      0.934      0.907      0.939      0.519\n"
     ]
    },
    {
     "name": "stderr",
     "output_type": "stream",
     "text": [
      "\n"
     ]
    },
    {
     "name": "stdout",
     "output_type": "stream",
     "text": [
      "\n",
      "      Epoch    GPU_mem   box_loss   cls_loss   dfl_loss  Instances       Size\n"
     ]
    },
    {
     "name": "stderr",
     "output_type": "stream",
     "text": [
      "     13/100      4.12G      1.476     0.9912     0.9729         15        960: 100%|██████████| 983/983 [03:54<00:00,  4.19it/s]\n",
      "                 Class     Images  Instances      Box(P          R      mAP50  mAP50-95): 100%|██████████| 147/147 [00:22<00:00,  6.50it/s]"
     ]
    },
    {
     "name": "stdout",
     "output_type": "stream",
     "text": [
      "                   all       2347       4389       0.93      0.884      0.936      0.502\n"
     ]
    },
    {
     "name": "stderr",
     "output_type": "stream",
     "text": [
      "\n"
     ]
    },
    {
     "name": "stdout",
     "output_type": "stream",
     "text": [
      "\n",
      "      Epoch    GPU_mem   box_loss   cls_loss   dfl_loss  Instances       Size\n"
     ]
    },
    {
     "name": "stderr",
     "output_type": "stream",
     "text": [
      "     14/100      4.12G      1.467     0.9897     0.9701          3        960: 100%|██████████| 983/983 [03:54<00:00,  4.18it/s]\n",
      "                 Class     Images  Instances      Box(P          R      mAP50  mAP50-95): 100%|██████████| 147/147 [00:22<00:00,  6.51it/s]"
     ]
    },
    {
     "name": "stdout",
     "output_type": "stream",
     "text": [
      "                   all       2347       4389      0.927      0.866       0.93      0.499\n"
     ]
    },
    {
     "name": "stderr",
     "output_type": "stream",
     "text": [
      "\n"
     ]
    },
    {
     "name": "stdout",
     "output_type": "stream",
     "text": [
      "\n",
      "      Epoch    GPU_mem   box_loss   cls_loss   dfl_loss  Instances       Size\n"
     ]
    },
    {
     "name": "stderr",
     "output_type": "stream",
     "text": [
      "     15/100      4.12G      1.459     0.9878     0.9669          8        960: 100%|██████████| 983/983 [03:55<00:00,  4.18it/s]\n",
      "                 Class     Images  Instances      Box(P          R      mAP50  mAP50-95): 100%|██████████| 147/147 [00:23<00:00,  6.33it/s]"
     ]
    },
    {
     "name": "stdout",
     "output_type": "stream",
     "text": [
      "                   all       2347       4389      0.942      0.895      0.947      0.534\n"
     ]
    },
    {
     "name": "stderr",
     "output_type": "stream",
     "text": [
      "\n"
     ]
    },
    {
     "name": "stdout",
     "output_type": "stream",
     "text": [
      "\n",
      "      Epoch    GPU_mem   box_loss   cls_loss   dfl_loss  Instances       Size\n"
     ]
    },
    {
     "name": "stderr",
     "output_type": "stream",
     "text": [
      "     16/100      4.12G      1.479     0.9927     0.9707         13        960: 100%|██████████| 983/983 [03:54<00:00,  4.19it/s]\n",
      "                 Class     Images  Instances      Box(P          R      mAP50  mAP50-95): 100%|██████████| 147/147 [00:22<00:00,  6.50it/s]"
     ]
    },
    {
     "name": "stdout",
     "output_type": "stream",
     "text": [
      "                   all       2347       4389      0.927      0.865      0.927      0.502\n"
     ]
    },
    {
     "name": "stderr",
     "output_type": "stream",
     "text": [
      "\n"
     ]
    },
    {
     "name": "stdout",
     "output_type": "stream",
     "text": [
      "\n",
      "      Epoch    GPU_mem   box_loss   cls_loss   dfl_loss  Instances       Size\n"
     ]
    },
    {
     "name": "stderr",
     "output_type": "stream",
     "text": [
      "     17/100      4.12G      1.456     0.9746      0.965         11        960: 100%|██████████| 983/983 [03:55<00:00,  4.18it/s]\n",
      "                 Class     Images  Instances      Box(P          R      mAP50  mAP50-95): 100%|██████████| 147/147 [00:22<00:00,  6.50it/s]"
     ]
    },
    {
     "name": "stdout",
     "output_type": "stream",
     "text": [
      "                   all       2347       4389      0.938      0.885       0.94      0.526\n"
     ]
    },
    {
     "name": "stderr",
     "output_type": "stream",
     "text": [
      "\n"
     ]
    },
    {
     "name": "stdout",
     "output_type": "stream",
     "text": [
      "\n",
      "      Epoch    GPU_mem   box_loss   cls_loss   dfl_loss  Instances       Size\n"
     ]
    },
    {
     "name": "stderr",
     "output_type": "stream",
     "text": [
      "     18/100      4.12G      1.453     0.9818     0.9633          9        960: 100%|██████████| 983/983 [03:55<00:00,  4.18it/s]\n",
      "                 Class     Images  Instances      Box(P          R      mAP50  mAP50-95): 100%|██████████| 147/147 [00:22<00:00,  6.51it/s]"
     ]
    },
    {
     "name": "stdout",
     "output_type": "stream",
     "text": [
      "                   all       2347       4389       0.94       0.89      0.942      0.526\n"
     ]
    },
    {
     "name": "stderr",
     "output_type": "stream",
     "text": [
      "\n"
     ]
    },
    {
     "name": "stdout",
     "output_type": "stream",
     "text": [
      "\n",
      "      Epoch    GPU_mem   box_loss   cls_loss   dfl_loss  Instances       Size\n"
     ]
    },
    {
     "name": "stderr",
     "output_type": "stream",
     "text": [
      "     19/100      4.12G      1.451     0.9732     0.9661         15        960: 100%|██████████| 983/983 [03:54<00:00,  4.18it/s]\n",
      "                 Class     Images  Instances      Box(P          R      mAP50  mAP50-95): 100%|██████████| 147/147 [00:22<00:00,  6.50it/s]"
     ]
    },
    {
     "name": "stdout",
     "output_type": "stream",
     "text": [
      "                   all       2347       4389       0.94      0.901      0.946      0.528\n"
     ]
    },
    {
     "name": "stderr",
     "output_type": "stream",
     "text": [
      "\n"
     ]
    },
    {
     "name": "stdout",
     "output_type": "stream",
     "text": [
      "\n",
      "      Epoch    GPU_mem   box_loss   cls_loss   dfl_loss  Instances       Size\n"
     ]
    },
    {
     "name": "stderr",
     "output_type": "stream",
     "text": [
      "     20/100      4.12G      1.452     0.9715     0.9642          6        960: 100%|██████████| 983/983 [03:55<00:00,  4.18it/s]\n",
      "                 Class     Images  Instances      Box(P          R      mAP50  mAP50-95): 100%|██████████| 147/147 [00:22<00:00,  6.50it/s]"
     ]
    },
    {
     "name": "stdout",
     "output_type": "stream",
     "text": [
      "                   all       2347       4389      0.938      0.904      0.944      0.533\n"
     ]
    },
    {
     "name": "stderr",
     "output_type": "stream",
     "text": [
      "\n"
     ]
    },
    {
     "name": "stdout",
     "output_type": "stream",
     "text": [
      "\n",
      "      Epoch    GPU_mem   box_loss   cls_loss   dfl_loss  Instances       Size\n"
     ]
    },
    {
     "name": "stderr",
     "output_type": "stream",
     "text": [
      "     21/100      4.12G      1.441     0.9526      0.963         11        960: 100%|██████████| 983/983 [03:55<00:00,  4.18it/s]\n",
      "                 Class     Images  Instances      Box(P          R      mAP50  mAP50-95): 100%|██████████| 147/147 [00:22<00:00,  6.50it/s]"
     ]
    },
    {
     "name": "stdout",
     "output_type": "stream",
     "text": [
      "                   all       2347       4389       0.94      0.906      0.941      0.534\n"
     ]
    },
    {
     "name": "stderr",
     "output_type": "stream",
     "text": [
      "\n"
     ]
    },
    {
     "name": "stdout",
     "output_type": "stream",
     "text": [
      "\n",
      "      Epoch    GPU_mem   box_loss   cls_loss   dfl_loss  Instances       Size\n"
     ]
    },
    {
     "name": "stderr",
     "output_type": "stream",
     "text": [
      "     22/100      4.12G      1.448     0.9587     0.9659          7        960: 100%|██████████| 983/983 [03:54<00:00,  4.18it/s]\n",
      "                 Class     Images  Instances      Box(P          R      mAP50  mAP50-95): 100%|██████████| 147/147 [00:23<00:00,  6.20it/s]"
     ]
    },
    {
     "name": "stdout",
     "output_type": "stream",
     "text": [
      "                   all       2347       4389      0.943      0.918       0.95      0.543\n"
     ]
    },
    {
     "name": "stderr",
     "output_type": "stream",
     "text": [
      "\n"
     ]
    },
    {
     "name": "stdout",
     "output_type": "stream",
     "text": [
      "\n",
      "      Epoch    GPU_mem   box_loss   cls_loss   dfl_loss  Instances       Size\n"
     ]
    },
    {
     "name": "stderr",
     "output_type": "stream",
     "text": [
      "     23/100      4.12G      1.443     0.9628     0.9611         11        960: 100%|██████████| 983/983 [03:54<00:00,  4.19it/s]\n",
      "                 Class     Images  Instances      Box(P          R      mAP50  mAP50-95): 100%|██████████| 147/147 [00:22<00:00,  6.50it/s]"
     ]
    },
    {
     "name": "stdout",
     "output_type": "stream",
     "text": [
      "                   all       2347       4389      0.941      0.902      0.945      0.535\n"
     ]
    },
    {
     "name": "stderr",
     "output_type": "stream",
     "text": [
      "\n"
     ]
    },
    {
     "name": "stdout",
     "output_type": "stream",
     "text": [
      "\n",
      "      Epoch    GPU_mem   box_loss   cls_loss   dfl_loss  Instances       Size\n"
     ]
    },
    {
     "name": "stderr",
     "output_type": "stream",
     "text": [
      "     24/100      4.12G       1.43     0.9486      0.959         11        960: 100%|██████████| 983/983 [03:54<00:00,  4.18it/s]\n",
      "                 Class     Images  Instances      Box(P          R      mAP50  mAP50-95): 100%|██████████| 147/147 [00:22<00:00,  6.45it/s]"
     ]
    },
    {
     "name": "stdout",
     "output_type": "stream",
     "text": [
      "                   all       2347       4389       0.94      0.906      0.949       0.54\n"
     ]
    },
    {
     "name": "stderr",
     "output_type": "stream",
     "text": [
      "\n"
     ]
    },
    {
     "name": "stdout",
     "output_type": "stream",
     "text": [
      "\n",
      "      Epoch    GPU_mem   box_loss   cls_loss   dfl_loss  Instances       Size\n"
     ]
    },
    {
     "name": "stderr",
     "output_type": "stream",
     "text": [
      "     25/100      4.12G      1.433     0.9473     0.9626          7        960: 100%|██████████| 983/983 [03:59<00:00,  4.11it/s]\n",
      "                 Class     Images  Instances      Box(P          R      mAP50  mAP50-95): 100%|██████████| 147/147 [00:22<00:00,  6.51it/s]"
     ]
    },
    {
     "name": "stdout",
     "output_type": "stream",
     "text": [
      "                   all       2347       4389      0.944      0.893      0.947      0.537\n"
     ]
    },
    {
     "name": "stderr",
     "output_type": "stream",
     "text": [
      "\n"
     ]
    },
    {
     "name": "stdout",
     "output_type": "stream",
     "text": [
      "\n",
      "      Epoch    GPU_mem   box_loss   cls_loss   dfl_loss  Instances       Size\n"
     ]
    },
    {
     "name": "stderr",
     "output_type": "stream",
     "text": [
      "     26/100      4.12G      1.436     0.9474       0.96         17        960: 100%|██████████| 983/983 [03:55<00:00,  4.18it/s]\n",
      "                 Class     Images  Instances      Box(P          R      mAP50  mAP50-95): 100%|██████████| 147/147 [00:22<00:00,  6.50it/s]"
     ]
    },
    {
     "name": "stdout",
     "output_type": "stream",
     "text": [
      "                   all       2347       4389      0.943       0.91      0.948       0.54\n"
     ]
    },
    {
     "name": "stderr",
     "output_type": "stream",
     "text": [
      "\n"
     ]
    },
    {
     "name": "stdout",
     "output_type": "stream",
     "text": [
      "\n",
      "      Epoch    GPU_mem   box_loss   cls_loss   dfl_loss  Instances       Size\n"
     ]
    },
    {
     "name": "stderr",
     "output_type": "stream",
     "text": [
      "     27/100      4.12G      1.421     0.9467     0.9601          7        960: 100%|██████████| 983/983 [03:55<00:00,  4.18it/s]\n",
      "                 Class     Images  Instances      Box(P          R      mAP50  mAP50-95): 100%|██████████| 147/147 [00:22<00:00,  6.49it/s]"
     ]
    },
    {
     "name": "stdout",
     "output_type": "stream",
     "text": [
      "                   all       2347       4389      0.945      0.908      0.951      0.544\n"
     ]
    },
    {
     "name": "stderr",
     "output_type": "stream",
     "text": [
      "\n"
     ]
    },
    {
     "name": "stdout",
     "output_type": "stream",
     "text": [
      "\n",
      "      Epoch    GPU_mem   box_loss   cls_loss   dfl_loss  Instances       Size\n"
     ]
    },
    {
     "name": "stderr",
     "output_type": "stream",
     "text": [
      "     28/100      4.12G       1.43     0.9391     0.9605          2        960: 100%|██████████| 983/983 [03:55<00:00,  4.18it/s]\n",
      "                 Class     Images  Instances      Box(P          R      mAP50  mAP50-95): 100%|██████████| 147/147 [00:22<00:00,  6.50it/s]"
     ]
    },
    {
     "name": "stdout",
     "output_type": "stream",
     "text": [
      "                   all       2347       4389       0.94      0.911      0.954      0.548\n"
     ]
    },
    {
     "name": "stderr",
     "output_type": "stream",
     "text": [
      "\n"
     ]
    },
    {
     "name": "stdout",
     "output_type": "stream",
     "text": [
      "\n",
      "      Epoch    GPU_mem   box_loss   cls_loss   dfl_loss  Instances       Size\n"
     ]
    },
    {
     "name": "stderr",
     "output_type": "stream",
     "text": [
      "     29/100      4.12G      1.429     0.9424     0.9587          2        960: 100%|██████████| 983/983 [03:54<00:00,  4.19it/s]\n",
      "                 Class     Images  Instances      Box(P          R      mAP50  mAP50-95): 100%|██████████| 147/147 [00:24<00:00,  6.11it/s]"
     ]
    },
    {
     "name": "stdout",
     "output_type": "stream",
     "text": [
      "                   all       2347       4389      0.946      0.909      0.949      0.547\n"
     ]
    },
    {
     "name": "stderr",
     "output_type": "stream",
     "text": [
      "\n"
     ]
    },
    {
     "name": "stdout",
     "output_type": "stream",
     "text": [
      "\n",
      "      Epoch    GPU_mem   box_loss   cls_loss   dfl_loss  Instances       Size\n"
     ]
    },
    {
     "name": "stderr",
     "output_type": "stream",
     "text": [
      "     30/100      4.12G      1.417     0.9343     0.9575         14        960: 100%|██████████| 983/983 [03:55<00:00,  4.18it/s]\n",
      "                 Class     Images  Instances      Box(P          R      mAP50  mAP50-95): 100%|██████████| 147/147 [00:22<00:00,  6.43it/s]"
     ]
    },
    {
     "name": "stdout",
     "output_type": "stream",
     "text": [
      "                   all       2347       4389      0.949      0.916      0.955      0.553\n"
     ]
    },
    {
     "name": "stderr",
     "output_type": "stream",
     "text": [
      "\n"
     ]
    },
    {
     "name": "stdout",
     "output_type": "stream",
     "text": [
      "\n",
      "      Epoch    GPU_mem   box_loss   cls_loss   dfl_loss  Instances       Size\n"
     ]
    },
    {
     "name": "stderr",
     "output_type": "stream",
     "text": [
      "     31/100      4.12G      1.417     0.9363     0.9574          6        960: 100%|██████████| 983/983 [03:55<00:00,  4.18it/s]\n",
      "                 Class     Images  Instances      Box(P          R      mAP50  mAP50-95): 100%|██████████| 147/147 [00:22<00:00,  6.49it/s]"
     ]
    },
    {
     "name": "stdout",
     "output_type": "stream",
     "text": [
      "                   all       2347       4389      0.945      0.918      0.956       0.55\n"
     ]
    },
    {
     "name": "stderr",
     "output_type": "stream",
     "text": [
      "\n"
     ]
    },
    {
     "name": "stdout",
     "output_type": "stream",
     "text": [
      "\n",
      "      Epoch    GPU_mem   box_loss   cls_loss   dfl_loss  Instances       Size\n"
     ]
    },
    {
     "name": "stderr",
     "output_type": "stream",
     "text": [
      "     32/100      4.12G      1.419     0.9326     0.9569          3        960: 100%|██████████| 983/983 [03:55<00:00,  4.18it/s]\n",
      "                 Class     Images  Instances      Box(P          R      mAP50  mAP50-95): 100%|██████████| 147/147 [00:22<00:00,  6.50it/s]"
     ]
    },
    {
     "name": "stdout",
     "output_type": "stream",
     "text": [
      "                   all       2347       4389      0.947      0.922      0.954      0.553\n"
     ]
    },
    {
     "name": "stderr",
     "output_type": "stream",
     "text": [
      "\n"
     ]
    },
    {
     "name": "stdout",
     "output_type": "stream",
     "text": [
      "\n",
      "      Epoch    GPU_mem   box_loss   cls_loss   dfl_loss  Instances       Size\n"
     ]
    },
    {
     "name": "stderr",
     "output_type": "stream",
     "text": [
      "     33/100      4.12G      1.416     0.9204     0.9576          8        960: 100%|██████████| 983/983 [03:55<00:00,  4.18it/s]\n",
      "                 Class     Images  Instances      Box(P          R      mAP50  mAP50-95): 100%|██████████| 147/147 [00:22<00:00,  6.50it/s]"
     ]
    },
    {
     "name": "stdout",
     "output_type": "stream",
     "text": [
      "                   all       2347       4389      0.946      0.925      0.955      0.558\n"
     ]
    },
    {
     "name": "stderr",
     "output_type": "stream",
     "text": [
      "\n"
     ]
    },
    {
     "name": "stdout",
     "output_type": "stream",
     "text": [
      "\n",
      "      Epoch    GPU_mem   box_loss   cls_loss   dfl_loss  Instances       Size\n"
     ]
    },
    {
     "name": "stderr",
     "output_type": "stream",
     "text": [
      "     34/100      4.12G      1.411     0.9261     0.9536         12        960: 100%|██████████| 983/983 [03:55<00:00,  4.18it/s]\n",
      "                 Class     Images  Instances      Box(P          R      mAP50  mAP50-95): 100%|██████████| 147/147 [00:22<00:00,  6.50it/s]"
     ]
    },
    {
     "name": "stdout",
     "output_type": "stream",
     "text": [
      "                   all       2347       4389       0.94      0.914      0.951      0.553\n"
     ]
    },
    {
     "name": "stderr",
     "output_type": "stream",
     "text": [
      "\n"
     ]
    },
    {
     "name": "stdout",
     "output_type": "stream",
     "text": [
      "\n",
      "      Epoch    GPU_mem   box_loss   cls_loss   dfl_loss  Instances       Size\n"
     ]
    },
    {
     "name": "stderr",
     "output_type": "stream",
     "text": [
      "     35/100      4.12G      1.409     0.9253     0.9548         13        960: 100%|██████████| 983/983 [03:54<00:00,  4.18it/s]\n",
      "                 Class     Images  Instances      Box(P          R      mAP50  mAP50-95): 100%|██████████| 147/147 [00:22<00:00,  6.50it/s]"
     ]
    },
    {
     "name": "stdout",
     "output_type": "stream",
     "text": [
      "                   all       2347       4389      0.947       0.92      0.954      0.558\n"
     ]
    },
    {
     "name": "stderr",
     "output_type": "stream",
     "text": [
      "\n"
     ]
    },
    {
     "name": "stdout",
     "output_type": "stream",
     "text": [
      "\n",
      "      Epoch    GPU_mem   box_loss   cls_loss   dfl_loss  Instances       Size\n"
     ]
    },
    {
     "name": "stderr",
     "output_type": "stream",
     "text": [
      "     36/100      4.12G      1.405     0.9217     0.9513         10        960: 100%|██████████| 983/983 [03:55<00:00,  4.17it/s]\n",
      "                 Class     Images  Instances      Box(P          R      mAP50  mAP50-95): 100%|██████████| 147/147 [00:22<00:00,  6.50it/s]"
     ]
    },
    {
     "name": "stdout",
     "output_type": "stream",
     "text": [
      "                   all       2347       4389      0.943      0.912      0.953      0.557\n"
     ]
    },
    {
     "name": "stderr",
     "output_type": "stream",
     "text": [
      "\n"
     ]
    },
    {
     "name": "stdout",
     "output_type": "stream",
     "text": [
      "\n",
      "      Epoch    GPU_mem   box_loss   cls_loss   dfl_loss  Instances       Size\n"
     ]
    },
    {
     "name": "stderr",
     "output_type": "stream",
     "text": [
      "     37/100      4.12G      1.403     0.9135      0.954         12        960: 100%|██████████| 983/983 [03:54<00:00,  4.18it/s]\n",
      "                 Class     Images  Instances      Box(P          R      mAP50  mAP50-95): 100%|██████████| 147/147 [00:22<00:00,  6.50it/s]"
     ]
    },
    {
     "name": "stdout",
     "output_type": "stream",
     "text": [
      "                   all       2347       4389      0.951      0.926      0.958      0.558\n"
     ]
    },
    {
     "name": "stderr",
     "output_type": "stream",
     "text": [
      "\n"
     ]
    },
    {
     "name": "stdout",
     "output_type": "stream",
     "text": [
      "\n",
      "      Epoch    GPU_mem   box_loss   cls_loss   dfl_loss  Instances       Size\n"
     ]
    },
    {
     "name": "stderr",
     "output_type": "stream",
     "text": [
      "     38/100      4.12G      1.403     0.9174     0.9518          7        960: 100%|██████████| 983/983 [03:54<00:00,  4.18it/s]\n",
      "                 Class     Images  Instances      Box(P          R      mAP50  mAP50-95): 100%|██████████| 147/147 [00:22<00:00,  6.50it/s]"
     ]
    },
    {
     "name": "stdout",
     "output_type": "stream",
     "text": [
      "                   all       2347       4389      0.946      0.911      0.955      0.553\n"
     ]
    },
    {
     "name": "stderr",
     "output_type": "stream",
     "text": [
      "\n"
     ]
    },
    {
     "name": "stdout",
     "output_type": "stream",
     "text": [
      "\n",
      "      Epoch    GPU_mem   box_loss   cls_loss   dfl_loss  Instances       Size\n"
     ]
    },
    {
     "name": "stderr",
     "output_type": "stream",
     "text": [
      "     39/100      4.12G      1.394     0.9142     0.9506         16        960: 100%|██████████| 983/983 [03:55<00:00,  4.18it/s]\n",
      "                 Class     Images  Instances      Box(P          R      mAP50  mAP50-95): 100%|██████████| 147/147 [00:22<00:00,  6.51it/s]"
     ]
    },
    {
     "name": "stdout",
     "output_type": "stream",
     "text": [
      "                   all       2347       4389      0.944       0.92      0.954       0.56\n"
     ]
    },
    {
     "name": "stderr",
     "output_type": "stream",
     "text": [
      "\n"
     ]
    },
    {
     "name": "stdout",
     "output_type": "stream",
     "text": [
      "\n",
      "      Epoch    GPU_mem   box_loss   cls_loss   dfl_loss  Instances       Size\n"
     ]
    },
    {
     "name": "stderr",
     "output_type": "stream",
     "text": [
      "     40/100      4.12G      1.401     0.9068     0.9568         13        960: 100%|██████████| 983/983 [03:54<00:00,  4.18it/s]\n",
      "                 Class     Images  Instances      Box(P          R      mAP50  mAP50-95): 100%|██████████| 147/147 [00:22<00:00,  6.51it/s]"
     ]
    },
    {
     "name": "stdout",
     "output_type": "stream",
     "text": [
      "                   all       2347       4389      0.954      0.925      0.959       0.56\n"
     ]
    },
    {
     "name": "stderr",
     "output_type": "stream",
     "text": [
      "\n"
     ]
    },
    {
     "name": "stdout",
     "output_type": "stream",
     "text": [
      "\n",
      "      Epoch    GPU_mem   box_loss   cls_loss   dfl_loss  Instances       Size\n"
     ]
    },
    {
     "name": "stderr",
     "output_type": "stream",
     "text": [
      "     41/100      4.12G      1.393     0.9022     0.9482          7        960: 100%|██████████| 983/983 [03:54<00:00,  4.18it/s]\n",
      "                 Class     Images  Instances      Box(P          R      mAP50  mAP50-95): 100%|██████████| 147/147 [00:22<00:00,  6.51it/s]"
     ]
    },
    {
     "name": "stdout",
     "output_type": "stream",
     "text": [
      "                   all       2347       4389      0.946      0.922      0.955       0.56\n"
     ]
    },
    {
     "name": "stderr",
     "output_type": "stream",
     "text": [
      "\n"
     ]
    },
    {
     "name": "stdout",
     "output_type": "stream",
     "text": [
      "\n",
      "      Epoch    GPU_mem   box_loss   cls_loss   dfl_loss  Instances       Size\n"
     ]
    },
    {
     "name": "stderr",
     "output_type": "stream",
     "text": [
      "     42/100      4.12G      1.394     0.9002     0.9523          7        960: 100%|██████████| 983/983 [03:55<00:00,  4.18it/s]\n",
      "                 Class     Images  Instances      Box(P          R      mAP50  mAP50-95): 100%|██████████| 147/147 [00:22<00:00,  6.50it/s]"
     ]
    },
    {
     "name": "stdout",
     "output_type": "stream",
     "text": [
      "                   all       2347       4389      0.951      0.926      0.958      0.565\n"
     ]
    },
    {
     "name": "stderr",
     "output_type": "stream",
     "text": [
      "\n"
     ]
    },
    {
     "name": "stdout",
     "output_type": "stream",
     "text": [
      "\n",
      "      Epoch    GPU_mem   box_loss   cls_loss   dfl_loss  Instances       Size\n"
     ]
    },
    {
     "name": "stderr",
     "output_type": "stream",
     "text": [
      "     43/100      4.12G      1.385     0.8946     0.9487         12        960: 100%|██████████| 983/983 [03:55<00:00,  4.18it/s]\n",
      "                 Class     Images  Instances      Box(P          R      mAP50  mAP50-95): 100%|██████████| 147/147 [00:22<00:00,  6.49it/s]"
     ]
    },
    {
     "name": "stdout",
     "output_type": "stream",
     "text": [
      "                   all       2347       4389       0.95      0.928      0.958      0.564\n"
     ]
    },
    {
     "name": "stderr",
     "output_type": "stream",
     "text": [
      "\n"
     ]
    },
    {
     "name": "stdout",
     "output_type": "stream",
     "text": [
      "\n",
      "      Epoch    GPU_mem   box_loss   cls_loss   dfl_loss  Instances       Size\n"
     ]
    },
    {
     "name": "stderr",
     "output_type": "stream",
     "text": [
      "     44/100      4.13G       1.39     0.8959     0.9475          2        960: 100%|██████████| 983/983 [03:55<00:00,  4.18it/s]\n",
      "                 Class     Images  Instances      Box(P          R      mAP50  mAP50-95): 100%|██████████| 147/147 [00:22<00:00,  6.51it/s]"
     ]
    },
    {
     "name": "stdout",
     "output_type": "stream",
     "text": [
      "                   all       2347       4389      0.948       0.93       0.96      0.567\n"
     ]
    },
    {
     "name": "stderr",
     "output_type": "stream",
     "text": [
      "\n"
     ]
    },
    {
     "name": "stdout",
     "output_type": "stream",
     "text": [
      "\n",
      "      Epoch    GPU_mem   box_loss   cls_loss   dfl_loss  Instances       Size\n"
     ]
    },
    {
     "name": "stderr",
     "output_type": "stream",
     "text": [
      "     45/100      4.13G      1.378     0.8955     0.9477          8        960: 100%|██████████| 983/983 [03:55<00:00,  4.18it/s]\n",
      "                 Class     Images  Instances      Box(P          R      mAP50  mAP50-95): 100%|██████████| 147/147 [00:22<00:00,  6.50it/s]"
     ]
    },
    {
     "name": "stdout",
     "output_type": "stream",
     "text": [
      "                   all       2347       4389      0.951      0.927      0.961      0.566\n"
     ]
    },
    {
     "name": "stderr",
     "output_type": "stream",
     "text": [
      "\n"
     ]
    },
    {
     "name": "stdout",
     "output_type": "stream",
     "text": [
      "\n",
      "      Epoch    GPU_mem   box_loss   cls_loss   dfl_loss  Instances       Size\n"
     ]
    },
    {
     "name": "stderr",
     "output_type": "stream",
     "text": [
      "     46/100      4.13G       1.38     0.8935      0.949          4        960: 100%|██████████| 983/983 [03:56<00:00,  4.15it/s]\n",
      "                 Class     Images  Instances      Box(P          R      mAP50  mAP50-95): 100%|██████████| 147/147 [00:22<00:00,  6.50it/s]"
     ]
    },
    {
     "name": "stdout",
     "output_type": "stream",
     "text": [
      "                   all       2347       4389      0.951      0.929      0.958      0.566\n"
     ]
    },
    {
     "name": "stderr",
     "output_type": "stream",
     "text": [
      "\n"
     ]
    },
    {
     "name": "stdout",
     "output_type": "stream",
     "text": [
      "\n",
      "      Epoch    GPU_mem   box_loss   cls_loss   dfl_loss  Instances       Size\n"
     ]
    },
    {
     "name": "stderr",
     "output_type": "stream",
     "text": [
      "     47/100      4.13G       1.38     0.8936     0.9494          5        960: 100%|██████████| 983/983 [03:55<00:00,  4.17it/s]\n",
      "                 Class     Images  Instances      Box(P          R      mAP50  mAP50-95): 100%|██████████| 147/147 [00:22<00:00,  6.50it/s]"
     ]
    },
    {
     "name": "stdout",
     "output_type": "stream",
     "text": [
      "                   all       2347       4389      0.951      0.929      0.959       0.57\n"
     ]
    },
    {
     "name": "stderr",
     "output_type": "stream",
     "text": [
      "\n"
     ]
    },
    {
     "name": "stdout",
     "output_type": "stream",
     "text": [
      "\n",
      "      Epoch    GPU_mem   box_loss   cls_loss   dfl_loss  Instances       Size\n"
     ]
    },
    {
     "name": "stderr",
     "output_type": "stream",
     "text": [
      "     48/100      4.13G      1.379     0.8775     0.9484          9        960: 100%|██████████| 983/983 [03:55<00:00,  4.18it/s]\n",
      "                 Class     Images  Instances      Box(P          R      mAP50  mAP50-95): 100%|██████████| 147/147 [00:22<00:00,  6.49it/s]"
     ]
    },
    {
     "name": "stdout",
     "output_type": "stream",
     "text": [
      "                   all       2347       4389      0.955      0.929      0.961      0.568\n"
     ]
    },
    {
     "name": "stderr",
     "output_type": "stream",
     "text": [
      "\n"
     ]
    },
    {
     "name": "stdout",
     "output_type": "stream",
     "text": [
      "\n",
      "      Epoch    GPU_mem   box_loss   cls_loss   dfl_loss  Instances       Size\n"
     ]
    },
    {
     "name": "stderr",
     "output_type": "stream",
     "text": [
      "     49/100      4.13G      1.379     0.8846     0.9491          8        960: 100%|██████████| 983/983 [03:55<00:00,  4.18it/s]\n",
      "                 Class     Images  Instances      Box(P          R      mAP50  mAP50-95): 100%|██████████| 147/147 [00:22<00:00,  6.51it/s]"
     ]
    },
    {
     "name": "stdout",
     "output_type": "stream",
     "text": [
      "                   all       2347       4389      0.956      0.931      0.963      0.575\n"
     ]
    },
    {
     "name": "stderr",
     "output_type": "stream",
     "text": [
      "\n"
     ]
    },
    {
     "name": "stdout",
     "output_type": "stream",
     "text": [
      "\n",
      "      Epoch    GPU_mem   box_loss   cls_loss   dfl_loss  Instances       Size\n"
     ]
    },
    {
     "name": "stderr",
     "output_type": "stream",
     "text": [
      "     50/100      4.13G      1.364     0.8715     0.9383         25        960:   1%|▏         | 13/983 [00:03<03:50,  4.22it/s]"
     ]
    }
   ],
   "source": [
    "from ultralytics import YOLO\n",
    "\n",
    "# 加载之前训练好的模型（用 best.pt 效果更好）\n",
    "model = YOLO(\"runs/detect/hexbug_yolo11n3/weights/best.pt\")\n",
    "\n",
    "# 重新训练（不是 resume，而是重新定义训练设置）\n",
    "model.train(\n",
    "    data=\"/home/hpc/tovl/tovl108v/hexbug_dataset0/data.yaml\",\n",
    "    epochs=100,            # 再训练 100 轮（你可以选 50、100、150 都可以）\n",
    "    imgsz=960,             # 更高分辨率\n",
    "    batch=8,               # 视 GPU 显存调整（1080Ti 建议最多 8）\n",
    "    name=\"hexbug_yolo11n_finetune_960aug\",\n",
    "    lr0=0.0005,            # 可以适当减小学习率进行微调\n",
    "    patience=30,\n",
    "    augment=True,\n",
    "    hsv_h=0.015,\n",
    "    hsv_s=0.7,\n",
    "    hsv_v=0.4,\n",
    "    translate=0.1,\n",
    "    scale=0.5,\n",
    "    fliplr=0.5,\n",
    "    mosaic=1.0,\n",
    "    mixup=0.1\n",
    ")\n"
   ]
  },
  {
   "cell_type": "code",
   "execution_count": 1,
   "id": "7a1ecf6c-52db-4a6a-b803-84b430f45d95",
   "metadata": {},
   "outputs": [
    {
     "name": "stdout",
     "output_type": "stream",
     "text": [
      "Ultralytics 8.3.161 🚀 Python-3.12.10 torch-2.7.1+cu126 CUDA:0 (NVIDIA GeForce GTX 1080 Ti, 11165MiB)\n",
      "\u001b[34m\u001b[1mengine/trainer: \u001b[0magnostic_nms=False, amp=True, augment=True, auto_augment=randaugment, batch=8, bgr=0.0, box=7.5, cache=False, cfg=None, classes=None, close_mosaic=10, cls=0.5, conf=None, copy_paste=0.0, copy_paste_mode=flip, cos_lr=False, cutmix=0.0, data=/home/hpc/tovl/tovl108v/hexbug_dataset0/data.yaml, degrees=0.0, deterministic=True, device=0, dfl=1.5, dnn=False, dropout=0.0, dynamic=False, embed=None, epochs=100, erasing=0.4, exist_ok=False, fliplr=0.5, flipud=0.0, format=torchscript, fraction=1.0, freeze=None, half=False, hsv_h=0.015, hsv_s=0.7, hsv_v=0.4, imgsz=960, int8=False, iou=0.7, keras=False, kobj=1.0, line_width=None, lr0=0.0005, lrf=0.01, mask_ratio=4, max_det=300, mixup=0.1, mode=train, model=runs/detect/hexbug_yolo11n_finetune_960aug/weights/last.pt, momentum=0.937, mosaic=1.0, multi_scale=False, name=hexbug_yolo11n_finetune_960aug, nbs=64, nms=False, opset=None, optimize=False, optimizer=auto, overlap_mask=True, patience=30, perspective=0.0, plots=True, pose=12.0, pretrained=True, profile=False, project=None, rect=False, resume=runs/detect/hexbug_yolo11n_finetune_960aug/weights/last.pt, retina_masks=False, save=True, save_conf=False, save_crop=False, save_dir=runs/detect/hexbug_yolo11n_finetune_960aug, save_frames=False, save_json=False, save_period=-1, save_txt=False, scale=0.5, seed=0, shear=0.0, show=False, show_boxes=True, show_conf=True, show_labels=True, simplify=True, single_cls=False, source=None, split=val, stream_buffer=False, task=detect, time=None, tracker=botsort.yaml, translate=0.1, val=True, verbose=True, vid_stride=1, visualize=False, warmup_bias_lr=0.0, warmup_epochs=3.0, warmup_momentum=0.8, weight_decay=0.0005, workers=8, workspace=None\n",
      "\n",
      "                   from  n    params  module                                       arguments                     \n",
      "  0                  -1  1       464  ultralytics.nn.modules.conv.Conv             [3, 16, 3, 2]                 \n",
      "  1                  -1  1      4672  ultralytics.nn.modules.conv.Conv             [16, 32, 3, 2]                \n",
      "  2                  -1  1      6640  ultralytics.nn.modules.block.C3k2            [32, 64, 1, False, 0.25]      \n",
      "  3                  -1  1     36992  ultralytics.nn.modules.conv.Conv             [64, 64, 3, 2]                \n",
      "  4                  -1  1     26080  ultralytics.nn.modules.block.C3k2            [64, 128, 1, False, 0.25]     \n",
      "  5                  -1  1    147712  ultralytics.nn.modules.conv.Conv             [128, 128, 3, 2]              \n",
      "  6                  -1  1     87040  ultralytics.nn.modules.block.C3k2            [128, 128, 1, True]           \n",
      "  7                  -1  1    295424  ultralytics.nn.modules.conv.Conv             [128, 256, 3, 2]              \n",
      "  8                  -1  1    346112  ultralytics.nn.modules.block.C3k2            [256, 256, 1, True]           \n",
      "  9                  -1  1    164608  ultralytics.nn.modules.block.SPPF            [256, 256, 5]                 \n",
      " 10                  -1  1    249728  ultralytics.nn.modules.block.C2PSA           [256, 256, 1]                 \n",
      " 11                  -1  1         0  torch.nn.modules.upsampling.Upsample         [None, 2, 'nearest']          \n",
      " 12             [-1, 6]  1         0  ultralytics.nn.modules.conv.Concat           [1]                           \n",
      " 13                  -1  1    111296  ultralytics.nn.modules.block.C3k2            [384, 128, 1, False]          \n",
      " 14                  -1  1         0  torch.nn.modules.upsampling.Upsample         [None, 2, 'nearest']          \n",
      " 15             [-1, 4]  1         0  ultralytics.nn.modules.conv.Concat           [1]                           \n",
      " 16                  -1  1     32096  ultralytics.nn.modules.block.C3k2            [256, 64, 1, False]           \n",
      " 17                  -1  1     36992  ultralytics.nn.modules.conv.Conv             [64, 64, 3, 2]                \n",
      " 18            [-1, 13]  1         0  ultralytics.nn.modules.conv.Concat           [1]                           \n",
      " 19                  -1  1     86720  ultralytics.nn.modules.block.C3k2            [192, 128, 1, False]          \n",
      " 20                  -1  1    147712  ultralytics.nn.modules.conv.Conv             [128, 128, 3, 2]              \n",
      " 21            [-1, 10]  1         0  ultralytics.nn.modules.conv.Concat           [1]                           \n",
      " 22                  -1  1    378880  ultralytics.nn.modules.block.C3k2            [384, 256, 1, True]           \n",
      " 23        [16, 19, 22]  1    431452  ultralytics.nn.modules.head.Detect           [4, [64, 128, 256]]           \n",
      "YOLO11n summary: 181 layers, 2,590,620 parameters, 2,590,604 gradients, 6.4 GFLOPs\n",
      "\n",
      "Transferred 499/499 items from pretrained weights\n",
      "Freezing layer 'model.23.dfl.conv.weight'\n",
      "\u001b[34m\u001b[1mAMP: \u001b[0mrunning Automatic Mixed Precision (AMP) checks...\n",
      "\u001b[34m\u001b[1mAMP: \u001b[0mchecks passed ✅\n",
      "\u001b[34m\u001b[1mtrain: \u001b[0mFast image access ✅ (ping: 0.0±0.0 ms, read: 11.0±3.4 MB/s, size: 225.1 KB)\n"
     ]
    },
    {
     "name": "stderr",
     "output_type": "stream",
     "text": [
      "\u001b[34m\u001b[1mtrain: \u001b[0mScanning /home/hpc/tovl/tovl108v/hexbug_dataset0/labels/train.cache... 7861 images, 0 backgrounds, 2 corrupt: 100%|██████████| 7861/7861 [00:00<?, ?it/s]"
     ]
    },
    {
     "name": "stdout",
     "output_type": "stream",
     "text": [
      "\u001b[34m\u001b[1mtrain: \u001b[0m/home/hpc/tovl/tovl108v/hexbug_dataset0/images/train/training016_0079.jpg: ignoring corrupt image/label: non-normalized or out of bounds coordinates [1.000127]\n",
      "\u001b[34m\u001b[1mtrain: \u001b[0m/home/hpc/tovl/tovl108v/hexbug_dataset0/images/train/training061_0056.jpg: ignoring corrupt image/label: negative label values [-3.e-05]\n"
     ]
    },
    {
     "name": "stderr",
     "output_type": "stream",
     "text": [
      "\n",
      "/home/hpc/tovl/tovl108v/torch/utils/data/dataloader.py:626: UserWarning: This DataLoader will create 8 worker processes in total. Our suggested max number of worker in current system is 4, which is smaller than what this DataLoader is going to create. Please be aware that excessive worker creation might get DataLoader running slow or even freeze, lower the worker number to avoid potential slowness/freeze if necessary.\n",
      "  warnings.warn(\n"
     ]
    },
    {
     "name": "stdout",
     "output_type": "stream",
     "text": [
      "\u001b[34m\u001b[1mval: \u001b[0mFast image access ✅ (ping: 0.0±0.0 ms, read: 14.9±10.6 MB/s, size: 313.9 KB)\n"
     ]
    },
    {
     "name": "stderr",
     "output_type": "stream",
     "text": [
      "\u001b[34m\u001b[1mval: \u001b[0mScanning /home/hpc/tovl/tovl108v/hexbug_dataset0/labels/val.cache... 2347 images, 0 backgrounds, 0 corrupt: 100%|██████████| 2347/2347 [00:00<?, ?it/s]\n",
      "/home/hpc/tovl/tovl108v/torch/utils/data/dataloader.py:626: UserWarning: This DataLoader will create 16 worker processes in total. Our suggested max number of worker in current system is 4, which is smaller than what this DataLoader is going to create. Please be aware that excessive worker creation might get DataLoader running slow or even freeze, lower the worker number to avoid potential slowness/freeze if necessary.\n",
      "  warnings.warn(\n"
     ]
    },
    {
     "name": "stdout",
     "output_type": "stream",
     "text": [
      "Plotting labels to runs/detect/hexbug_yolo11n_finetune_960aug/labels.jpg... \n",
      "\u001b[34m\u001b[1moptimizer:\u001b[0m 'optimizer=auto' found, ignoring 'lr0=0.0005' and 'momentum=0.937' and determining best 'optimizer', 'lr0' and 'momentum' automatically... \n",
      "\u001b[34m\u001b[1moptimizer:\u001b[0m SGD(lr=0.01, momentum=0.9) with parameter groups 81 weight(decay=0.0), 88 weight(decay=0.0005), 87 bias(decay=0.0)\n",
      "Resuming training runs/detect/hexbug_yolo11n_finetune_960aug/weights/last.pt from epoch 50 to 100 total epochs\n",
      "Image sizes 960 train, 960 val\n",
      "Using 8 dataloader workers\n",
      "Logging results to \u001b[1mruns/detect/hexbug_yolo11n_finetune_960aug\u001b[0m\n",
      "Starting training for 100 epochs...\n",
      "\n",
      "      Epoch    GPU_mem   box_loss   cls_loss   dfl_loss  Instances       Size\n"
     ]
    },
    {
     "name": "stderr",
     "output_type": "stream",
     "text": [
      "     50/100       2.7G      1.364     0.8726     0.9445         16        960: 100%|██████████| 983/983 [03:57<00:00,  4.14it/s]\n",
      "                 Class     Images  Instances      Box(P          R      mAP50  mAP50-95): 100%|██████████| 147/147 [00:23<00:00,  6.16it/s]"
     ]
    },
    {
     "name": "stdout",
     "output_type": "stream",
     "text": [
      "                   all       2347       4389      0.955      0.932      0.963      0.578\n"
     ]
    },
    {
     "name": "stderr",
     "output_type": "stream",
     "text": [
      "\n"
     ]
    },
    {
     "name": "stdout",
     "output_type": "stream",
     "text": [
      "\n",
      "      Epoch    GPU_mem   box_loss   cls_loss   dfl_loss  Instances       Size\n"
     ]
    },
    {
     "name": "stderr",
     "output_type": "stream",
     "text": [
      "     51/100      4.12G      1.374     0.8805      0.947          5        960: 100%|██████████| 983/983 [03:58<00:00,  4.13it/s]\n",
      "                 Class     Images  Instances      Box(P          R      mAP50  mAP50-95): 100%|██████████| 147/147 [00:23<00:00,  6.36it/s]"
     ]
    },
    {
     "name": "stdout",
     "output_type": "stream",
     "text": [
      "                   all       2347       4389      0.956      0.933      0.963      0.576\n"
     ]
    },
    {
     "name": "stderr",
     "output_type": "stream",
     "text": [
      "\n"
     ]
    },
    {
     "name": "stdout",
     "output_type": "stream",
     "text": [
      "\n",
      "      Epoch    GPU_mem   box_loss   cls_loss   dfl_loss  Instances       Size\n"
     ]
    },
    {
     "name": "stderr",
     "output_type": "stream",
     "text": [
      "     52/100      4.12G      1.369     0.8757     0.9454         11        960: 100%|██████████| 983/983 [03:58<00:00,  4.13it/s]\n",
      "                 Class     Images  Instances      Box(P          R      mAP50  mAP50-95): 100%|██████████| 147/147 [00:22<00:00,  6.44it/s]"
     ]
    },
    {
     "name": "stdout",
     "output_type": "stream",
     "text": [
      "                   all       2347       4389      0.951      0.928      0.959      0.572\n"
     ]
    },
    {
     "name": "stderr",
     "output_type": "stream",
     "text": [
      "\n"
     ]
    },
    {
     "name": "stdout",
     "output_type": "stream",
     "text": [
      "\n",
      "      Epoch    GPU_mem   box_loss   cls_loss   dfl_loss  Instances       Size\n"
     ]
    },
    {
     "name": "stderr",
     "output_type": "stream",
     "text": [
      "     53/100      4.12G      1.359     0.8673     0.9409          7        960: 100%|██████████| 983/983 [03:58<00:00,  4.13it/s]\n",
      "                 Class     Images  Instances      Box(P          R      mAP50  mAP50-95): 100%|██████████| 147/147 [00:22<00:00,  6.44it/s]"
     ]
    },
    {
     "name": "stdout",
     "output_type": "stream",
     "text": [
      "                   all       2347       4389      0.949      0.933      0.961      0.577\n"
     ]
    },
    {
     "name": "stderr",
     "output_type": "stream",
     "text": [
      "\n"
     ]
    },
    {
     "name": "stdout",
     "output_type": "stream",
     "text": [
      "\n",
      "      Epoch    GPU_mem   box_loss   cls_loss   dfl_loss  Instances       Size\n"
     ]
    },
    {
     "name": "stderr",
     "output_type": "stream",
     "text": [
      "     54/100      4.12G      1.359     0.8667     0.9436          6        960: 100%|██████████| 983/983 [04:03<00:00,  4.04it/s]\n",
      "                 Class     Images  Instances      Box(P          R      mAP50  mAP50-95): 100%|██████████| 147/147 [00:22<00:00,  6.40it/s]"
     ]
    },
    {
     "name": "stdout",
     "output_type": "stream",
     "text": [
      "                   all       2347       4389      0.954      0.931      0.963      0.576\n"
     ]
    },
    {
     "name": "stderr",
     "output_type": "stream",
     "text": [
      "\n"
     ]
    },
    {
     "name": "stdout",
     "output_type": "stream",
     "text": [
      "\n",
      "      Epoch    GPU_mem   box_loss   cls_loss   dfl_loss  Instances       Size\n"
     ]
    },
    {
     "name": "stderr",
     "output_type": "stream",
     "text": [
      "     55/100      4.12G      1.354     0.8667     0.9449         13        960: 100%|██████████| 983/983 [03:58<00:00,  4.13it/s]\n",
      "                 Class     Images  Instances      Box(P          R      mAP50  mAP50-95): 100%|██████████| 147/147 [00:22<00:00,  6.44it/s]"
     ]
    },
    {
     "name": "stdout",
     "output_type": "stream",
     "text": [
      "                   all       2347       4389      0.952      0.934      0.963      0.581\n"
     ]
    },
    {
     "name": "stderr",
     "output_type": "stream",
     "text": [
      "\n"
     ]
    },
    {
     "name": "stdout",
     "output_type": "stream",
     "text": [
      "\n",
      "      Epoch    GPU_mem   box_loss   cls_loss   dfl_loss  Instances       Size\n"
     ]
    },
    {
     "name": "stderr",
     "output_type": "stream",
     "text": [
      "     56/100      4.12G      1.353     0.8502     0.9418         11        960: 100%|██████████| 983/983 [03:58<00:00,  4.12it/s]\n",
      "                 Class     Images  Instances      Box(P          R      mAP50  mAP50-95): 100%|██████████| 147/147 [00:22<00:00,  6.44it/s]"
     ]
    },
    {
     "name": "stdout",
     "output_type": "stream",
     "text": [
      "                   all       2347       4389      0.956      0.938      0.964      0.579\n"
     ]
    },
    {
     "name": "stderr",
     "output_type": "stream",
     "text": [
      "\n"
     ]
    },
    {
     "name": "stdout",
     "output_type": "stream",
     "text": [
      "\n",
      "      Epoch    GPU_mem   box_loss   cls_loss   dfl_loss  Instances       Size\n"
     ]
    },
    {
     "name": "stderr",
     "output_type": "stream",
     "text": [
      "     57/100      4.12G      1.347     0.8558     0.9418          9        960: 100%|██████████| 983/983 [03:58<00:00,  4.12it/s]\n",
      "                 Class     Images  Instances      Box(P          R      mAP50  mAP50-95): 100%|██████████| 147/147 [00:22<00:00,  6.44it/s]"
     ]
    },
    {
     "name": "stdout",
     "output_type": "stream",
     "text": [
      "                   all       2347       4389      0.954      0.934      0.963      0.578\n"
     ]
    },
    {
     "name": "stderr",
     "output_type": "stream",
     "text": [
      "\n"
     ]
    },
    {
     "name": "stdout",
     "output_type": "stream",
     "text": [
      "\n",
      "      Epoch    GPU_mem   box_loss   cls_loss   dfl_loss  Instances       Size\n"
     ]
    },
    {
     "name": "stderr",
     "output_type": "stream",
     "text": [
      "     58/100      4.12G      1.346     0.8428     0.9395         10        960: 100%|██████████| 983/983 [03:58<00:00,  4.12it/s]\n",
      "                 Class     Images  Instances      Box(P          R      mAP50  mAP50-95): 100%|██████████| 147/147 [00:22<00:00,  6.44it/s]"
     ]
    },
    {
     "name": "stdout",
     "output_type": "stream",
     "text": [
      "                   all       2347       4389      0.957      0.937      0.965      0.581\n"
     ]
    },
    {
     "name": "stderr",
     "output_type": "stream",
     "text": [
      "\n"
     ]
    },
    {
     "name": "stdout",
     "output_type": "stream",
     "text": [
      "\n",
      "      Epoch    GPU_mem   box_loss   cls_loss   dfl_loss  Instances       Size\n"
     ]
    },
    {
     "name": "stderr",
     "output_type": "stream",
     "text": [
      "     59/100      4.12G      1.345     0.8403     0.9395         10        960: 100%|██████████| 983/983 [03:58<00:00,  4.12it/s]\n",
      "                 Class     Images  Instances      Box(P          R      mAP50  mAP50-95): 100%|██████████| 147/147 [00:22<00:00,  6.44it/s]"
     ]
    },
    {
     "name": "stdout",
     "output_type": "stream",
     "text": [
      "                   all       2347       4389      0.956       0.94      0.964      0.581\n"
     ]
    },
    {
     "name": "stderr",
     "output_type": "stream",
     "text": [
      "\n"
     ]
    },
    {
     "name": "stdout",
     "output_type": "stream",
     "text": [
      "\n",
      "      Epoch    GPU_mem   box_loss   cls_loss   dfl_loss  Instances       Size\n"
     ]
    },
    {
     "name": "stderr",
     "output_type": "stream",
     "text": [
      "     60/100      4.13G      1.335     0.8299     0.9391         15        960: 100%|██████████| 983/983 [03:58<00:00,  4.12it/s]\n",
      "                 Class     Images  Instances      Box(P          R      mAP50  mAP50-95): 100%|██████████| 147/147 [00:22<00:00,  6.44it/s]"
     ]
    },
    {
     "name": "stdout",
     "output_type": "stream",
     "text": [
      "                   all       2347       4389      0.955      0.936      0.966      0.582\n"
     ]
    },
    {
     "name": "stderr",
     "output_type": "stream",
     "text": [
      "\n"
     ]
    },
    {
     "name": "stdout",
     "output_type": "stream",
     "text": [
      "\n",
      "      Epoch    GPU_mem   box_loss   cls_loss   dfl_loss  Instances       Size\n"
     ]
    },
    {
     "name": "stderr",
     "output_type": "stream",
     "text": [
      "     61/100      4.13G       1.34     0.8453     0.9391         10        960: 100%|██████████| 983/983 [04:11<00:00,  3.91it/s]\n",
      "                 Class     Images  Instances      Box(P          R      mAP50  mAP50-95): 100%|██████████| 147/147 [00:22<00:00,  6.47it/s]"
     ]
    },
    {
     "name": "stdout",
     "output_type": "stream",
     "text": [
      "                   all       2347       4389      0.952      0.939      0.964      0.583\n"
     ]
    },
    {
     "name": "stderr",
     "output_type": "stream",
     "text": [
      "\n"
     ]
    },
    {
     "name": "stdout",
     "output_type": "stream",
     "text": [
      "\n",
      "      Epoch    GPU_mem   box_loss   cls_loss   dfl_loss  Instances       Size\n"
     ]
    },
    {
     "name": "stderr",
     "output_type": "stream",
     "text": [
      "     62/100      4.13G      1.334     0.8306     0.9388         15        960: 100%|██████████| 983/983 [03:58<00:00,  4.13it/s]\n",
      "                 Class     Images  Instances      Box(P          R      mAP50  mAP50-95): 100%|██████████| 147/147 [00:22<00:00,  6.44it/s]"
     ]
    },
    {
     "name": "stdout",
     "output_type": "stream",
     "text": [
      "                   all       2347       4389      0.959      0.938      0.967      0.583\n"
     ]
    },
    {
     "name": "stderr",
     "output_type": "stream",
     "text": [
      "\n"
     ]
    },
    {
     "name": "stdout",
     "output_type": "stream",
     "text": [
      "\n",
      "      Epoch    GPU_mem   box_loss   cls_loss   dfl_loss  Instances       Size\n"
     ]
    },
    {
     "name": "stderr",
     "output_type": "stream",
     "text": [
      "     63/100      4.13G      1.324     0.8318     0.9369          3        960: 100%|██████████| 983/983 [03:58<00:00,  4.12it/s]\n",
      "                 Class     Images  Instances      Box(P          R      mAP50  mAP50-95): 100%|██████████| 147/147 [00:22<00:00,  6.44it/s]"
     ]
    },
    {
     "name": "stdout",
     "output_type": "stream",
     "text": [
      "                   all       2347       4389      0.956      0.939      0.967      0.589\n"
     ]
    },
    {
     "name": "stderr",
     "output_type": "stream",
     "text": [
      "\n"
     ]
    },
    {
     "name": "stdout",
     "output_type": "stream",
     "text": [
      "\n",
      "      Epoch    GPU_mem   box_loss   cls_loss   dfl_loss  Instances       Size\n"
     ]
    },
    {
     "name": "stderr",
     "output_type": "stream",
     "text": [
      "     64/100      4.13G      1.327     0.8294     0.9371          8        960: 100%|██████████| 983/983 [03:58<00:00,  4.12it/s]\n",
      "                 Class     Images  Instances      Box(P          R      mAP50  mAP50-95): 100%|██████████| 147/147 [00:22<00:00,  6.43it/s]"
     ]
    },
    {
     "name": "stdout",
     "output_type": "stream",
     "text": [
      "                   all       2347       4389      0.958      0.939      0.966      0.589\n"
     ]
    },
    {
     "name": "stderr",
     "output_type": "stream",
     "text": [
      "\n"
     ]
    },
    {
     "name": "stdout",
     "output_type": "stream",
     "text": [
      "\n",
      "      Epoch    GPU_mem   box_loss   cls_loss   dfl_loss  Instances       Size\n"
     ]
    },
    {
     "name": "stderr",
     "output_type": "stream",
     "text": [
      "     65/100      4.13G       1.34     0.8309      0.938         13        960: 100%|██████████| 983/983 [03:58<00:00,  4.12it/s]\n",
      "                 Class     Images  Instances      Box(P          R      mAP50  mAP50-95): 100%|██████████| 147/147 [00:22<00:00,  6.43it/s]"
     ]
    },
    {
     "name": "stdout",
     "output_type": "stream",
     "text": [
      "                   all       2347       4389      0.954      0.938      0.966      0.589\n"
     ]
    },
    {
     "name": "stderr",
     "output_type": "stream",
     "text": [
      "\n"
     ]
    },
    {
     "name": "stdout",
     "output_type": "stream",
     "text": [
      "\n",
      "      Epoch    GPU_mem   box_loss   cls_loss   dfl_loss  Instances       Size\n"
     ]
    },
    {
     "name": "stderr",
     "output_type": "stream",
     "text": [
      "     66/100      4.13G      1.318     0.8117     0.9348         11        960: 100%|██████████| 983/983 [03:58<00:00,  4.12it/s]\n",
      "                 Class     Images  Instances      Box(P          R      mAP50  mAP50-95): 100%|██████████| 147/147 [00:22<00:00,  6.45it/s]"
     ]
    },
    {
     "name": "stdout",
     "output_type": "stream",
     "text": [
      "                   all       2347       4389      0.955      0.936      0.965      0.587\n"
     ]
    },
    {
     "name": "stderr",
     "output_type": "stream",
     "text": [
      "\n"
     ]
    },
    {
     "name": "stdout",
     "output_type": "stream",
     "text": [
      "\n",
      "      Epoch    GPU_mem   box_loss   cls_loss   dfl_loss  Instances       Size\n"
     ]
    },
    {
     "name": "stderr",
     "output_type": "stream",
     "text": [
      "     67/100      4.13G      1.316     0.8219     0.9311          9        960: 100%|██████████| 983/983 [03:58<00:00,  4.12it/s]\n",
      "                 Class     Images  Instances      Box(P          R      mAP50  mAP50-95): 100%|██████████| 147/147 [00:22<00:00,  6.44it/s]"
     ]
    },
    {
     "name": "stdout",
     "output_type": "stream",
     "text": [
      "                   all       2347       4389      0.956      0.942      0.967      0.588\n"
     ]
    },
    {
     "name": "stderr",
     "output_type": "stream",
     "text": [
      "\n"
     ]
    },
    {
     "name": "stdout",
     "output_type": "stream",
     "text": [
      "\n",
      "      Epoch    GPU_mem   box_loss   cls_loss   dfl_loss  Instances       Size\n"
     ]
    },
    {
     "name": "stderr",
     "output_type": "stream",
     "text": [
      "     68/100      4.13G      1.315     0.8177     0.9352         15        960: 100%|██████████| 983/983 [04:04<00:00,  4.02it/s]\n",
      "                 Class     Images  Instances      Box(P          R      mAP50  mAP50-95): 100%|██████████| 147/147 [00:22<00:00,  6.44it/s]"
     ]
    },
    {
     "name": "stdout",
     "output_type": "stream",
     "text": [
      "                   all       2347       4389      0.956      0.941      0.966      0.587\n"
     ]
    },
    {
     "name": "stderr",
     "output_type": "stream",
     "text": [
      "\n"
     ]
    },
    {
     "name": "stdout",
     "output_type": "stream",
     "text": [
      "\n",
      "      Epoch    GPU_mem   box_loss   cls_loss   dfl_loss  Instances       Size\n"
     ]
    },
    {
     "name": "stderr",
     "output_type": "stream",
     "text": [
      "     69/100      4.13G      1.313     0.8124     0.9344          6        960: 100%|██████████| 983/983 [03:58<00:00,  4.12it/s]\n",
      "                 Class     Images  Instances      Box(P          R      mAP50  mAP50-95): 100%|██████████| 147/147 [00:22<00:00,  6.44it/s]"
     ]
    },
    {
     "name": "stdout",
     "output_type": "stream",
     "text": [
      "                   all       2347       4389      0.959      0.942      0.968      0.591\n"
     ]
    },
    {
     "name": "stderr",
     "output_type": "stream",
     "text": [
      "\n"
     ]
    },
    {
     "name": "stdout",
     "output_type": "stream",
     "text": [
      "\n",
      "      Epoch    GPU_mem   box_loss   cls_loss   dfl_loss  Instances       Size\n"
     ]
    },
    {
     "name": "stderr",
     "output_type": "stream",
     "text": [
      "     70/100      4.13G      1.304     0.7943     0.9319         11        960: 100%|██████████| 983/983 [03:58<00:00,  4.12it/s]\n",
      "                 Class     Images  Instances      Box(P          R      mAP50  mAP50-95): 100%|██████████| 147/147 [00:22<00:00,  6.44it/s]"
     ]
    },
    {
     "name": "stdout",
     "output_type": "stream",
     "text": [
      "                   all       2347       4389      0.956      0.945      0.967      0.592\n"
     ]
    },
    {
     "name": "stderr",
     "output_type": "stream",
     "text": [
      "\n"
     ]
    },
    {
     "name": "stdout",
     "output_type": "stream",
     "text": [
      "\n",
      "      Epoch    GPU_mem   box_loss   cls_loss   dfl_loss  Instances       Size\n"
     ]
    },
    {
     "name": "stderr",
     "output_type": "stream",
     "text": [
      "     71/100      4.13G      1.309     0.7988     0.9345          7        960: 100%|██████████| 983/983 [03:58<00:00,  4.12it/s]\n",
      "                 Class     Images  Instances      Box(P          R      mAP50  mAP50-95): 100%|██████████| 147/147 [00:22<00:00,  6.45it/s]"
     ]
    },
    {
     "name": "stdout",
     "output_type": "stream",
     "text": [
      "                   all       2347       4389      0.959      0.946      0.968      0.593\n"
     ]
    },
    {
     "name": "stderr",
     "output_type": "stream",
     "text": [
      "\n"
     ]
    },
    {
     "name": "stdout",
     "output_type": "stream",
     "text": [
      "\n",
      "      Epoch    GPU_mem   box_loss   cls_loss   dfl_loss  Instances       Size\n"
     ]
    },
    {
     "name": "stderr",
     "output_type": "stream",
     "text": [
      "     72/100      4.13G      1.308     0.7977     0.9314         11        960: 100%|██████████| 983/983 [03:58<00:00,  4.12it/s]\n",
      "                 Class     Images  Instances      Box(P          R      mAP50  mAP50-95): 100%|██████████| 147/147 [00:22<00:00,  6.45it/s]"
     ]
    },
    {
     "name": "stdout",
     "output_type": "stream",
     "text": [
      "                   all       2347       4389      0.958      0.945      0.967      0.594\n"
     ]
    },
    {
     "name": "stderr",
     "output_type": "stream",
     "text": [
      "\n"
     ]
    },
    {
     "name": "stdout",
     "output_type": "stream",
     "text": [
      "\n",
      "      Epoch    GPU_mem   box_loss   cls_loss   dfl_loss  Instances       Size\n"
     ]
    },
    {
     "name": "stderr",
     "output_type": "stream",
     "text": [
      "     73/100      4.13G      1.299     0.7915     0.9297         11        960: 100%|██████████| 983/983 [03:56<00:00,  4.16it/s]\n",
      "                 Class     Images  Instances      Box(P          R      mAP50  mAP50-95): 100%|██████████| 147/147 [00:23<00:00,  6.36it/s]"
     ]
    },
    {
     "name": "stdout",
     "output_type": "stream",
     "text": [
      "                   all       2347       4389      0.961      0.944      0.969      0.594\n"
     ]
    },
    {
     "name": "stderr",
     "output_type": "stream",
     "text": [
      "\n"
     ]
    },
    {
     "name": "stdout",
     "output_type": "stream",
     "text": [
      "\n",
      "      Epoch    GPU_mem   box_loss   cls_loss   dfl_loss  Instances       Size\n"
     ]
    },
    {
     "name": "stderr",
     "output_type": "stream",
     "text": [
      "     74/100      4.13G        1.3     0.7891     0.9337          7        960: 100%|██████████| 983/983 [03:58<00:00,  4.12it/s]\n",
      "                 Class     Images  Instances      Box(P          R      mAP50  mAP50-95): 100%|██████████| 147/147 [00:22<00:00,  6.45it/s]"
     ]
    },
    {
     "name": "stdout",
     "output_type": "stream",
     "text": [
      "                   all       2347       4389      0.963      0.946       0.97      0.596\n"
     ]
    },
    {
     "name": "stderr",
     "output_type": "stream",
     "text": [
      "\n"
     ]
    },
    {
     "name": "stdout",
     "output_type": "stream",
     "text": [
      "\n",
      "      Epoch    GPU_mem   box_loss   cls_loss   dfl_loss  Instances       Size\n"
     ]
    },
    {
     "name": "stderr",
     "output_type": "stream",
     "text": [
      "     75/100      4.13G        1.3     0.7882     0.9307         17        960: 100%|██████████| 983/983 [04:04<00:00,  4.03it/s]\n",
      "                 Class     Images  Instances      Box(P          R      mAP50  mAP50-95): 100%|██████████| 147/147 [00:22<00:00,  6.44it/s]"
     ]
    },
    {
     "name": "stdout",
     "output_type": "stream",
     "text": [
      "                   all       2347       4389      0.961      0.945       0.97      0.596\n"
     ]
    },
    {
     "name": "stderr",
     "output_type": "stream",
     "text": [
      "\n"
     ]
    },
    {
     "name": "stdout",
     "output_type": "stream",
     "text": [
      "\n",
      "      Epoch    GPU_mem   box_loss   cls_loss   dfl_loss  Instances       Size\n"
     ]
    },
    {
     "name": "stderr",
     "output_type": "stream",
     "text": [
      "     76/100      4.13G      1.285     0.7847     0.9307          7        960: 100%|██████████| 983/983 [03:58<00:00,  4.12it/s]\n",
      "                 Class     Images  Instances      Box(P          R      mAP50  mAP50-95): 100%|██████████| 147/147 [00:22<00:00,  6.40it/s]"
     ]
    },
    {
     "name": "stdout",
     "output_type": "stream",
     "text": [
      "                   all       2347       4389      0.958      0.946      0.969      0.595\n"
     ]
    },
    {
     "name": "stderr",
     "output_type": "stream",
     "text": [
      "\n"
     ]
    },
    {
     "name": "stdout",
     "output_type": "stream",
     "text": [
      "\n",
      "      Epoch    GPU_mem   box_loss   cls_loss   dfl_loss  Instances       Size\n"
     ]
    },
    {
     "name": "stderr",
     "output_type": "stream",
     "text": [
      "     77/100      4.13G      1.293     0.7877     0.9312          2        960: 100%|██████████| 983/983 [03:58<00:00,  4.12it/s]\n",
      "                 Class     Images  Instances      Box(P          R      mAP50  mAP50-95): 100%|██████████| 147/147 [00:22<00:00,  6.45it/s]"
     ]
    },
    {
     "name": "stdout",
     "output_type": "stream",
     "text": [
      "                   all       2347       4389      0.957      0.946      0.969      0.596\n"
     ]
    },
    {
     "name": "stderr",
     "output_type": "stream",
     "text": [
      "\n"
     ]
    },
    {
     "name": "stdout",
     "output_type": "stream",
     "text": [
      "\n",
      "      Epoch    GPU_mem   box_loss   cls_loss   dfl_loss  Instances       Size\n"
     ]
    },
    {
     "name": "stderr",
     "output_type": "stream",
     "text": [
      "     78/100      4.13G      1.291     0.7871     0.9282          2        960: 100%|██████████| 983/983 [03:58<00:00,  4.12it/s]\n",
      "                 Class     Images  Instances      Box(P          R      mAP50  mAP50-95): 100%|██████████| 147/147 [00:22<00:00,  6.45it/s]"
     ]
    },
    {
     "name": "stdout",
     "output_type": "stream",
     "text": [
      "                   all       2347       4389      0.956      0.945      0.969      0.596\n"
     ]
    },
    {
     "name": "stderr",
     "output_type": "stream",
     "text": [
      "\n"
     ]
    },
    {
     "name": "stdout",
     "output_type": "stream",
     "text": [
      "\n",
      "      Epoch    GPU_mem   box_loss   cls_loss   dfl_loss  Instances       Size\n"
     ]
    },
    {
     "name": "stderr",
     "output_type": "stream",
     "text": [
      "     79/100      4.13G      1.278     0.7774     0.9277         14        960: 100%|██████████| 983/983 [03:58<00:00,  4.12it/s]\n",
      "                 Class     Images  Instances      Box(P          R      mAP50  mAP50-95): 100%|██████████| 147/147 [00:22<00:00,  6.40it/s]"
     ]
    },
    {
     "name": "stdout",
     "output_type": "stream",
     "text": [
      "                   all       2347       4389      0.957      0.946       0.97      0.598\n"
     ]
    },
    {
     "name": "stderr",
     "output_type": "stream",
     "text": [
      "\n"
     ]
    },
    {
     "name": "stdout",
     "output_type": "stream",
     "text": [
      "\n",
      "      Epoch    GPU_mem   box_loss   cls_loss   dfl_loss  Instances       Size\n"
     ]
    },
    {
     "name": "stderr",
     "output_type": "stream",
     "text": [
      "     80/100      4.13G      1.281     0.7744     0.9284          6        960: 100%|██████████| 983/983 [03:58<00:00,  4.12it/s]\n",
      "                 Class     Images  Instances      Box(P          R      mAP50  mAP50-95): 100%|██████████| 147/147 [00:22<00:00,  6.45it/s]"
     ]
    },
    {
     "name": "stdout",
     "output_type": "stream",
     "text": [
      "                   all       2347       4389      0.959      0.948      0.971        0.6\n"
     ]
    },
    {
     "name": "stderr",
     "output_type": "stream",
     "text": [
      "\n"
     ]
    },
    {
     "name": "stdout",
     "output_type": "stream",
     "text": [
      "\n",
      "      Epoch    GPU_mem   box_loss   cls_loss   dfl_loss  Instances       Size\n"
     ]
    },
    {
     "name": "stderr",
     "output_type": "stream",
     "text": [
      "     81/100      4.13G      1.279     0.7724     0.9278          3        960: 100%|██████████| 983/983 [03:58<00:00,  4.12it/s]\n",
      "                 Class     Images  Instances      Box(P          R      mAP50  mAP50-95): 100%|██████████| 147/147 [00:25<00:00,  5.86it/s]"
     ]
    },
    {
     "name": "stdout",
     "output_type": "stream",
     "text": [
      "                   all       2347       4389      0.958      0.949      0.971        0.6\n"
     ]
    },
    {
     "name": "stderr",
     "output_type": "stream",
     "text": [
      "\n"
     ]
    },
    {
     "name": "stdout",
     "output_type": "stream",
     "text": [
      "\n",
      "      Epoch    GPU_mem   box_loss   cls_loss   dfl_loss  Instances       Size\n"
     ]
    },
    {
     "name": "stderr",
     "output_type": "stream",
     "text": [
      "     82/100      4.13G      1.272     0.7602     0.9268          8        960: 100%|██████████| 983/983 [04:04<00:00,  4.02it/s]\n",
      "                 Class     Images  Instances      Box(P          R      mAP50  mAP50-95): 100%|██████████| 147/147 [00:22<00:00,  6.40it/s]"
     ]
    },
    {
     "name": "stdout",
     "output_type": "stream",
     "text": [
      "                   all       2347       4389      0.958      0.947      0.969      0.599\n"
     ]
    },
    {
     "name": "stderr",
     "output_type": "stream",
     "text": [
      "\n"
     ]
    },
    {
     "name": "stdout",
     "output_type": "stream",
     "text": [
      "\n",
      "      Epoch    GPU_mem   box_loss   cls_loss   dfl_loss  Instances       Size\n"
     ]
    },
    {
     "name": "stderr",
     "output_type": "stream",
     "text": [
      "     83/100      4.13G       1.27     0.7618     0.9238         12        960: 100%|██████████| 983/983 [03:58<00:00,  4.12it/s]\n",
      "                 Class     Images  Instances      Box(P          R      mAP50  mAP50-95): 100%|██████████| 147/147 [00:22<00:00,  6.44it/s]"
     ]
    },
    {
     "name": "stdout",
     "output_type": "stream",
     "text": [
      "                   all       2347       4389      0.959      0.948       0.97        0.6\n"
     ]
    },
    {
     "name": "stderr",
     "output_type": "stream",
     "text": [
      "\n"
     ]
    },
    {
     "name": "stdout",
     "output_type": "stream",
     "text": [
      "\n",
      "      Epoch    GPU_mem   box_loss   cls_loss   dfl_loss  Instances       Size\n"
     ]
    },
    {
     "name": "stderr",
     "output_type": "stream",
     "text": [
      "     84/100      4.13G      1.269     0.7619     0.9245         13        960: 100%|██████████| 983/983 [03:58<00:00,  4.12it/s]\n",
      "                 Class     Images  Instances      Box(P          R      mAP50  mAP50-95): 100%|██████████| 147/147 [00:22<00:00,  6.45it/s]"
     ]
    },
    {
     "name": "stdout",
     "output_type": "stream",
     "text": [
      "                   all       2347       4389      0.961      0.952      0.971        0.6\n"
     ]
    },
    {
     "name": "stderr",
     "output_type": "stream",
     "text": [
      "\n"
     ]
    },
    {
     "name": "stdout",
     "output_type": "stream",
     "text": [
      "\n",
      "      Epoch    GPU_mem   box_loss   cls_loss   dfl_loss  Instances       Size\n"
     ]
    },
    {
     "name": "stderr",
     "output_type": "stream",
     "text": [
      "     85/100      4.13G      1.267     0.7571      0.923         10        960: 100%|██████████| 983/983 [03:58<00:00,  4.12it/s]\n",
      "                 Class     Images  Instances      Box(P          R      mAP50  mAP50-95): 100%|██████████| 147/147 [00:22<00:00,  6.45it/s]"
     ]
    },
    {
     "name": "stdout",
     "output_type": "stream",
     "text": [
      "                   all       2347       4389      0.958      0.951       0.97        0.6\n"
     ]
    },
    {
     "name": "stderr",
     "output_type": "stream",
     "text": [
      "\n"
     ]
    },
    {
     "name": "stdout",
     "output_type": "stream",
     "text": [
      "\n",
      "      Epoch    GPU_mem   box_loss   cls_loss   dfl_loss  Instances       Size\n"
     ]
    },
    {
     "name": "stderr",
     "output_type": "stream",
     "text": [
      "     86/100      4.13G      1.261     0.7545     0.9243         12        960: 100%|██████████| 983/983 [03:58<00:00,  4.12it/s]\n",
      "                 Class     Images  Instances      Box(P          R      mAP50  mAP50-95): 100%|██████████| 147/147 [00:22<00:00,  6.45it/s]"
     ]
    },
    {
     "name": "stdout",
     "output_type": "stream",
     "text": [
      "                   all       2347       4389      0.959       0.95      0.971      0.602\n"
     ]
    },
    {
     "name": "stderr",
     "output_type": "stream",
     "text": [
      "\n"
     ]
    },
    {
     "name": "stdout",
     "output_type": "stream",
     "text": [
      "\n",
      "      Epoch    GPU_mem   box_loss   cls_loss   dfl_loss  Instances       Size\n"
     ]
    },
    {
     "name": "stderr",
     "output_type": "stream",
     "text": [
      "     87/100      4.13G      1.257     0.7515     0.9219          7        960: 100%|██████████| 983/983 [03:58<00:00,  4.12it/s]\n",
      "                 Class     Images  Instances      Box(P          R      mAP50  mAP50-95): 100%|██████████| 147/147 [00:22<00:00,  6.45it/s]"
     ]
    },
    {
     "name": "stdout",
     "output_type": "stream",
     "text": [
      "                   all       2347       4389      0.958       0.95      0.972      0.601\n"
     ]
    },
    {
     "name": "stderr",
     "output_type": "stream",
     "text": [
      "\n"
     ]
    },
    {
     "name": "stdout",
     "output_type": "stream",
     "text": [
      "\n",
      "      Epoch    GPU_mem   box_loss   cls_loss   dfl_loss  Instances       Size\n"
     ]
    },
    {
     "name": "stderr",
     "output_type": "stream",
     "text": [
      "     88/100      4.13G       1.25     0.7408     0.9214         16        960: 100%|██████████| 983/983 [03:58<00:00,  4.12it/s]\n",
      "                 Class     Images  Instances      Box(P          R      mAP50  mAP50-95): 100%|██████████| 147/147 [00:22<00:00,  6.45it/s]"
     ]
    },
    {
     "name": "stdout",
     "output_type": "stream",
     "text": [
      "                   all       2347       4389      0.958      0.948       0.97      0.601\n"
     ]
    },
    {
     "name": "stderr",
     "output_type": "stream",
     "text": [
      "\n"
     ]
    },
    {
     "name": "stdout",
     "output_type": "stream",
     "text": [
      "\n",
      "      Epoch    GPU_mem   box_loss   cls_loss   dfl_loss  Instances       Size\n"
     ]
    },
    {
     "name": "stderr",
     "output_type": "stream",
     "text": [
      "     89/100      4.13G      1.254     0.7421      0.925         13        960: 100%|██████████| 983/983 [03:58<00:00,  4.12it/s]\n",
      "                 Class     Images  Instances      Box(P          R      mAP50  mAP50-95): 100%|██████████| 147/147 [00:22<00:00,  6.45it/s]"
     ]
    },
    {
     "name": "stdout",
     "output_type": "stream",
     "text": [
      "                   all       2347       4389      0.957      0.949      0.971      0.603\n"
     ]
    },
    {
     "name": "stderr",
     "output_type": "stream",
     "text": [
      "\n"
     ]
    },
    {
     "name": "stdout",
     "output_type": "stream",
     "text": [
      "\n",
      "      Epoch    GPU_mem   box_loss   cls_loss   dfl_loss  Instances       Size\n"
     ]
    },
    {
     "name": "stderr",
     "output_type": "stream",
     "text": [
      "     90/100      4.13G      1.248     0.7345     0.9195          7        960: 100%|██████████| 983/983 [03:58<00:00,  4.12it/s]\n",
      "                 Class     Images  Instances      Box(P          R      mAP50  mAP50-95): 100%|██████████| 147/147 [00:22<00:00,  6.45it/s]"
     ]
    },
    {
     "name": "stdout",
     "output_type": "stream",
     "text": [
      "                   all       2347       4389      0.958      0.947      0.971      0.603\n"
     ]
    },
    {
     "name": "stderr",
     "output_type": "stream",
     "text": [
      "\n"
     ]
    },
    {
     "name": "stdout",
     "output_type": "stream",
     "text": [
      "Closing dataloader mosaic\n"
     ]
    },
    {
     "name": "stderr",
     "output_type": "stream",
     "text": [
      "/home/hpc/tovl/tovl108v/torch/utils/data/dataloader.py:626: UserWarning: This DataLoader will create 8 worker processes in total. Our suggested max number of worker in current system is 4, which is smaller than what this DataLoader is going to create. Please be aware that excessive worker creation might get DataLoader running slow or even freeze, lower the worker number to avoid potential slowness/freeze if necessary.\n",
      "  warnings.warn(\n"
     ]
    },
    {
     "name": "stdout",
     "output_type": "stream",
     "text": [
      "\n",
      "      Epoch    GPU_mem   box_loss   cls_loss   dfl_loss  Instances       Size\n"
     ]
    },
    {
     "name": "stderr",
     "output_type": "stream",
     "text": [
      "     91/100      4.13G      1.209     0.7174     0.9249          4        960: 100%|██████████| 983/983 [03:58<00:00,  4.13it/s]\n",
      "                 Class     Images  Instances      Box(P          R      mAP50  mAP50-95): 100%|██████████| 147/147 [00:22<00:00,  6.45it/s]"
     ]
    },
    {
     "name": "stdout",
     "output_type": "stream",
     "text": [
      "                   all       2347       4389      0.958      0.947      0.971      0.601\n"
     ]
    },
    {
     "name": "stderr",
     "output_type": "stream",
     "text": [
      "\n"
     ]
    },
    {
     "name": "stdout",
     "output_type": "stream",
     "text": [
      "\n",
      "      Epoch    GPU_mem   box_loss   cls_loss   dfl_loss  Instances       Size\n"
     ]
    },
    {
     "name": "stderr",
     "output_type": "stream",
     "text": [
      "     92/100      4.13G      1.193     0.7012     0.9224          6        960: 100%|██████████| 983/983 [03:57<00:00,  4.14it/s]\n",
      "                 Class     Images  Instances      Box(P          R      mAP50  mAP50-95): 100%|██████████| 147/147 [00:22<00:00,  6.45it/s]"
     ]
    },
    {
     "name": "stdout",
     "output_type": "stream",
     "text": [
      "                   all       2347       4389      0.959      0.949      0.972      0.601\n"
     ]
    },
    {
     "name": "stderr",
     "output_type": "stream",
     "text": [
      "\n"
     ]
    },
    {
     "name": "stdout",
     "output_type": "stream",
     "text": [
      "\n",
      "      Epoch    GPU_mem   box_loss   cls_loss   dfl_loss  Instances       Size\n"
     ]
    },
    {
     "name": "stderr",
     "output_type": "stream",
     "text": [
      "     93/100      4.13G      1.186     0.6953     0.9247          7        960: 100%|██████████| 983/983 [03:57<00:00,  4.14it/s]\n",
      "                 Class     Images  Instances      Box(P          R      mAP50  mAP50-95): 100%|██████████| 147/147 [00:22<00:00,  6.40it/s]"
     ]
    },
    {
     "name": "stdout",
     "output_type": "stream",
     "text": [
      "                   all       2347       4389       0.96      0.951      0.972      0.602\n"
     ]
    },
    {
     "name": "stderr",
     "output_type": "stream",
     "text": [
      "\n"
     ]
    },
    {
     "name": "stdout",
     "output_type": "stream",
     "text": [
      "\n",
      "      Epoch    GPU_mem   box_loss   cls_loss   dfl_loss  Instances       Size\n"
     ]
    },
    {
     "name": "stderr",
     "output_type": "stream",
     "text": [
      "     94/100      4.13G      1.182     0.6891     0.9215          4        960: 100%|██████████| 983/983 [03:57<00:00,  4.14it/s]\n",
      "                 Class     Images  Instances      Box(P          R      mAP50  mAP50-95): 100%|██████████| 147/147 [00:22<00:00,  6.44it/s]"
     ]
    },
    {
     "name": "stdout",
     "output_type": "stream",
     "text": [
      "                   all       2347       4389       0.96      0.951      0.973      0.603\n"
     ]
    },
    {
     "name": "stderr",
     "output_type": "stream",
     "text": [
      "\n"
     ]
    },
    {
     "name": "stdout",
     "output_type": "stream",
     "text": [
      "\n",
      "      Epoch    GPU_mem   box_loss   cls_loss   dfl_loss  Instances       Size\n"
     ]
    },
    {
     "name": "stderr",
     "output_type": "stream",
     "text": [
      "     95/100      4.13G      1.178     0.6844     0.9203          7        960: 100%|██████████| 983/983 [03:58<00:00,  4.13it/s]\n",
      "                 Class     Images  Instances      Box(P          R      mAP50  mAP50-95): 100%|██████████| 147/147 [00:28<00:00,  5.19it/s]"
     ]
    },
    {
     "name": "stdout",
     "output_type": "stream",
     "text": [
      "                   all       2347       4389       0.96      0.951      0.973      0.603\n"
     ]
    },
    {
     "name": "stderr",
     "output_type": "stream",
     "text": [
      "\n"
     ]
    },
    {
     "name": "stdout",
     "output_type": "stream",
     "text": [
      "\n",
      "      Epoch    GPU_mem   box_loss   cls_loss   dfl_loss  Instances       Size\n"
     ]
    },
    {
     "name": "stderr",
     "output_type": "stream",
     "text": [
      "     96/100      4.13G      1.172      0.681      0.918          4        960: 100%|██████████| 983/983 [03:57<00:00,  4.14it/s]\n",
      "                 Class     Images  Instances      Box(P          R      mAP50  mAP50-95): 100%|██████████| 147/147 [00:22<00:00,  6.46it/s]"
     ]
    },
    {
     "name": "stdout",
     "output_type": "stream",
     "text": [
      "                   all       2347       4389       0.96      0.951      0.973      0.604\n"
     ]
    },
    {
     "name": "stderr",
     "output_type": "stream",
     "text": [
      "\n"
     ]
    },
    {
     "name": "stdout",
     "output_type": "stream",
     "text": [
      "\n",
      "      Epoch    GPU_mem   box_loss   cls_loss   dfl_loss  Instances       Size\n"
     ]
    },
    {
     "name": "stderr",
     "output_type": "stream",
     "text": [
      "     97/100      4.13G      1.172     0.6787     0.9183          4        960: 100%|██████████| 983/983 [03:57<00:00,  4.14it/s]\n",
      "                 Class     Images  Instances      Box(P          R      mAP50  mAP50-95): 100%|██████████| 147/147 [00:22<00:00,  6.46it/s]"
     ]
    },
    {
     "name": "stdout",
     "output_type": "stream",
     "text": [
      "                   all       2347       4389       0.96      0.951      0.973      0.604\n"
     ]
    },
    {
     "name": "stderr",
     "output_type": "stream",
     "text": [
      "\n"
     ]
    },
    {
     "name": "stdout",
     "output_type": "stream",
     "text": [
      "\n",
      "      Epoch    GPU_mem   box_loss   cls_loss   dfl_loss  Instances       Size\n"
     ]
    },
    {
     "name": "stderr",
     "output_type": "stream",
     "text": [
      "     98/100      4.13G      1.165     0.6682     0.9166          4        960: 100%|██████████| 983/983 [03:57<00:00,  4.14it/s]\n",
      "                 Class     Images  Instances      Box(P          R      mAP50  mAP50-95): 100%|██████████| 147/147 [00:22<00:00,  6.46it/s]"
     ]
    },
    {
     "name": "stdout",
     "output_type": "stream",
     "text": [
      "                   all       2347       4389       0.96      0.952      0.973      0.605\n"
     ]
    },
    {
     "name": "stderr",
     "output_type": "stream",
     "text": [
      "\n"
     ]
    },
    {
     "name": "stdout",
     "output_type": "stream",
     "text": [
      "\n",
      "      Epoch    GPU_mem   box_loss   cls_loss   dfl_loss  Instances       Size\n"
     ]
    },
    {
     "name": "stderr",
     "output_type": "stream",
     "text": [
      "     99/100      4.13G      1.166     0.6668     0.9179          3        960: 100%|██████████| 983/983 [03:57<00:00,  4.14it/s]\n",
      "                 Class     Images  Instances      Box(P          R      mAP50  mAP50-95): 100%|██████████| 147/147 [00:22<00:00,  6.45it/s]"
     ]
    },
    {
     "name": "stdout",
     "output_type": "stream",
     "text": [
      "                   all       2347       4389      0.961      0.952      0.974      0.606\n"
     ]
    },
    {
     "name": "stderr",
     "output_type": "stream",
     "text": [
      "\n"
     ]
    },
    {
     "name": "stdout",
     "output_type": "stream",
     "text": [
      "\n",
      "      Epoch    GPU_mem   box_loss   cls_loss   dfl_loss  Instances       Size\n"
     ]
    },
    {
     "name": "stderr",
     "output_type": "stream",
     "text": [
      "    100/100      4.13G      1.158     0.6583     0.9176          3        960: 100%|██████████| 983/983 [03:57<00:00,  4.14it/s]\n",
      "                 Class     Images  Instances      Box(P          R      mAP50  mAP50-95): 100%|██████████| 147/147 [00:22<00:00,  6.45it/s]"
     ]
    },
    {
     "name": "stdout",
     "output_type": "stream",
     "text": [
      "                   all       2347       4389      0.962      0.953      0.975      0.607\n"
     ]
    },
    {
     "name": "stderr",
     "output_type": "stream",
     "text": [
      "\n"
     ]
    },
    {
     "name": "stdout",
     "output_type": "stream",
     "text": [
      "\n",
      "51 epochs completed in 3.718 hours.\n",
      "Optimizer stripped from runs/detect/hexbug_yolo11n_finetune_960aug/weights/last.pt, 5.5MB\n",
      "Optimizer stripped from runs/detect/hexbug_yolo11n_finetune_960aug/weights/best.pt, 5.5MB\n",
      "\n",
      "Validating runs/detect/hexbug_yolo11n_finetune_960aug/weights/best.pt...\n",
      "Ultralytics 8.3.161 🚀 Python-3.12.10 torch-2.7.1+cu126 CUDA:0 (NVIDIA GeForce GTX 1080 Ti, 11165MiB)\n",
      "YOLO11n summary (fused): 100 layers, 2,582,932 parameters, 0 gradients, 6.3 GFLOPs\n"
     ]
    },
    {
     "name": "stderr",
     "output_type": "stream",
     "text": [
      "                 Class     Images  Instances      Box(P          R      mAP50  mAP50-95): 100%|██████████| 147/147 [00:42<00:00,  3.42it/s]\n"
     ]
    },
    {
     "name": "stdout",
     "output_type": "stream",
     "text": [
      "                   all       2347       4389       0.93      0.937      0.969      0.599\n",
      "              hexbug_0       2347       4389       0.93      0.937      0.969      0.599\n",
      "Speed: 0.3ms preprocess, 14.1ms inference, 0.0ms loss, 1.0ms postprocess per image\n",
      "Results saved to \u001b[1mruns/detect/hexbug_yolo11n_finetune_960aug\u001b[0m\n"
     ]
    },
    {
     "data": {
      "text/plain": [
       "ultralytics.utils.metrics.DetMetrics object with attributes:\n",
       "\n",
       "ap_class_index: array([0])\n",
       "box: ultralytics.utils.metrics.Metric object\n",
       "confusion_matrix: <ultralytics.utils.metrics.ConfusionMatrix object at 0x7d79481b8f50>\n",
       "curves: ['Precision-Recall(B)', 'F1-Confidence(B)', 'Precision-Confidence(B)', 'Recall-Confidence(B)']\n",
       "curves_results: [[array([          0,    0.001001,    0.002002,    0.003003,    0.004004,    0.005005,    0.006006,    0.007007,    0.008008,    0.009009,     0.01001,    0.011011,    0.012012,    0.013013,    0.014014,    0.015015,    0.016016,    0.017017,    0.018018,    0.019019,     0.02002,    0.021021,    0.022022,    0.023023,\n",
       "          0.024024,    0.025025,    0.026026,    0.027027,    0.028028,    0.029029,     0.03003,    0.031031,    0.032032,    0.033033,    0.034034,    0.035035,    0.036036,    0.037037,    0.038038,    0.039039,     0.04004,    0.041041,    0.042042,    0.043043,    0.044044,    0.045045,    0.046046,    0.047047,\n",
       "          0.048048,    0.049049,     0.05005,    0.051051,    0.052052,    0.053053,    0.054054,    0.055055,    0.056056,    0.057057,    0.058058,    0.059059,     0.06006,    0.061061,    0.062062,    0.063063,    0.064064,    0.065065,    0.066066,    0.067067,    0.068068,    0.069069,     0.07007,    0.071071,\n",
       "          0.072072,    0.073073,    0.074074,    0.075075,    0.076076,    0.077077,    0.078078,    0.079079,     0.08008,    0.081081,    0.082082,    0.083083,    0.084084,    0.085085,    0.086086,    0.087087,    0.088088,    0.089089,     0.09009,    0.091091,    0.092092,    0.093093,    0.094094,    0.095095,\n",
       "          0.096096,    0.097097,    0.098098,    0.099099,      0.1001,      0.1011,      0.1021,      0.1031,      0.1041,     0.10511,     0.10611,     0.10711,     0.10811,     0.10911,     0.11011,     0.11111,     0.11211,     0.11311,     0.11411,     0.11512,     0.11612,     0.11712,     0.11812,     0.11912,\n",
       "           0.12012,     0.12112,     0.12212,     0.12312,     0.12412,     0.12513,     0.12613,     0.12713,     0.12813,     0.12913,     0.13013,     0.13113,     0.13213,     0.13313,     0.13413,     0.13514,     0.13614,     0.13714,     0.13814,     0.13914,     0.14014,     0.14114,     0.14214,     0.14314,\n",
       "           0.14414,     0.14515,     0.14615,     0.14715,     0.14815,     0.14915,     0.15015,     0.15115,     0.15215,     0.15315,     0.15415,     0.15516,     0.15616,     0.15716,     0.15816,     0.15916,     0.16016,     0.16116,     0.16216,     0.16316,     0.16416,     0.16517,     0.16617,     0.16717,\n",
       "           0.16817,     0.16917,     0.17017,     0.17117,     0.17217,     0.17317,     0.17417,     0.17518,     0.17618,     0.17718,     0.17818,     0.17918,     0.18018,     0.18118,     0.18218,     0.18318,     0.18418,     0.18519,     0.18619,     0.18719,     0.18819,     0.18919,     0.19019,     0.19119,\n",
       "           0.19219,     0.19319,     0.19419,      0.1952,      0.1962,      0.1972,      0.1982,      0.1992,      0.2002,      0.2012,      0.2022,      0.2032,      0.2042,     0.20521,     0.20621,     0.20721,     0.20821,     0.20921,     0.21021,     0.21121,     0.21221,     0.21321,     0.21421,     0.21522,\n",
       "           0.21622,     0.21722,     0.21822,     0.21922,     0.22022,     0.22122,     0.22222,     0.22322,     0.22422,     0.22523,     0.22623,     0.22723,     0.22823,     0.22923,     0.23023,     0.23123,     0.23223,     0.23323,     0.23423,     0.23524,     0.23624,     0.23724,     0.23824,     0.23924,\n",
       "           0.24024,     0.24124,     0.24224,     0.24324,     0.24424,     0.24525,     0.24625,     0.24725,     0.24825,     0.24925,     0.25025,     0.25125,     0.25225,     0.25325,     0.25425,     0.25526,     0.25626,     0.25726,     0.25826,     0.25926,     0.26026,     0.26126,     0.26226,     0.26326,\n",
       "           0.26426,     0.26527,     0.26627,     0.26727,     0.26827,     0.26927,     0.27027,     0.27127,     0.27227,     0.27327,     0.27427,     0.27528,     0.27628,     0.27728,     0.27828,     0.27928,     0.28028,     0.28128,     0.28228,     0.28328,     0.28428,     0.28529,     0.28629,     0.28729,\n",
       "           0.28829,     0.28929,     0.29029,     0.29129,     0.29229,     0.29329,     0.29429,      0.2953,      0.2963,      0.2973,      0.2983,      0.2993,      0.3003,      0.3013,      0.3023,      0.3033,      0.3043,     0.30531,     0.30631,     0.30731,     0.30831,     0.30931,     0.31031,     0.31131,\n",
       "           0.31231,     0.31331,     0.31431,     0.31532,     0.31632,     0.31732,     0.31832,     0.31932,     0.32032,     0.32132,     0.32232,     0.32332,     0.32432,     0.32533,     0.32633,     0.32733,     0.32833,     0.32933,     0.33033,     0.33133,     0.33233,     0.33333,     0.33433,     0.33534,\n",
       "           0.33634,     0.33734,     0.33834,     0.33934,     0.34034,     0.34134,     0.34234,     0.34334,     0.34434,     0.34535,     0.34635,     0.34735,     0.34835,     0.34935,     0.35035,     0.35135,     0.35235,     0.35335,     0.35435,     0.35536,     0.35636,     0.35736,     0.35836,     0.35936,\n",
       "           0.36036,     0.36136,     0.36236,     0.36336,     0.36436,     0.36537,     0.36637,     0.36737,     0.36837,     0.36937,     0.37037,     0.37137,     0.37237,     0.37337,     0.37437,     0.37538,     0.37638,     0.37738,     0.37838,     0.37938,     0.38038,     0.38138,     0.38238,     0.38338,\n",
       "           0.38438,     0.38539,     0.38639,     0.38739,     0.38839,     0.38939,     0.39039,     0.39139,     0.39239,     0.39339,     0.39439,      0.3954,      0.3964,      0.3974,      0.3984,      0.3994,      0.4004,      0.4014,      0.4024,      0.4034,      0.4044,     0.40541,     0.40641,     0.40741,\n",
       "           0.40841,     0.40941,     0.41041,     0.41141,     0.41241,     0.41341,     0.41441,     0.41542,     0.41642,     0.41742,     0.41842,     0.41942,     0.42042,     0.42142,     0.42242,     0.42342,     0.42442,     0.42543,     0.42643,     0.42743,     0.42843,     0.42943,     0.43043,     0.43143,\n",
       "           0.43243,     0.43343,     0.43443,     0.43544,     0.43644,     0.43744,     0.43844,     0.43944,     0.44044,     0.44144,     0.44244,     0.44344,     0.44444,     0.44545,     0.44645,     0.44745,     0.44845,     0.44945,     0.45045,     0.45145,     0.45245,     0.45345,     0.45445,     0.45546,\n",
       "           0.45646,     0.45746,     0.45846,     0.45946,     0.46046,     0.46146,     0.46246,     0.46346,     0.46446,     0.46547,     0.46647,     0.46747,     0.46847,     0.46947,     0.47047,     0.47147,     0.47247,     0.47347,     0.47447,     0.47548,     0.47648,     0.47748,     0.47848,     0.47948,\n",
       "           0.48048,     0.48148,     0.48248,     0.48348,     0.48448,     0.48549,     0.48649,     0.48749,     0.48849,     0.48949,     0.49049,     0.49149,     0.49249,     0.49349,     0.49449,      0.4955,      0.4965,      0.4975,      0.4985,      0.4995,      0.5005,      0.5015,      0.5025,      0.5035,\n",
       "            0.5045,     0.50551,     0.50651,     0.50751,     0.50851,     0.50951,     0.51051,     0.51151,     0.51251,     0.51351,     0.51451,     0.51552,     0.51652,     0.51752,     0.51852,     0.51952,     0.52052,     0.52152,     0.52252,     0.52352,     0.52452,     0.52553,     0.52653,     0.52753,\n",
       "           0.52853,     0.52953,     0.53053,     0.53153,     0.53253,     0.53353,     0.53453,     0.53554,     0.53654,     0.53754,     0.53854,     0.53954,     0.54054,     0.54154,     0.54254,     0.54354,     0.54454,     0.54555,     0.54655,     0.54755,     0.54855,     0.54955,     0.55055,     0.55155,\n",
       "           0.55255,     0.55355,     0.55455,     0.55556,     0.55656,     0.55756,     0.55856,     0.55956,     0.56056,     0.56156,     0.56256,     0.56356,     0.56456,     0.56557,     0.56657,     0.56757,     0.56857,     0.56957,     0.57057,     0.57157,     0.57257,     0.57357,     0.57457,     0.57558,\n",
       "           0.57658,     0.57758,     0.57858,     0.57958,     0.58058,     0.58158,     0.58258,     0.58358,     0.58458,     0.58559,     0.58659,     0.58759,     0.58859,     0.58959,     0.59059,     0.59159,     0.59259,     0.59359,     0.59459,      0.5956,      0.5966,      0.5976,      0.5986,      0.5996,\n",
       "            0.6006,      0.6016,      0.6026,      0.6036,      0.6046,     0.60561,     0.60661,     0.60761,     0.60861,     0.60961,     0.61061,     0.61161,     0.61261,     0.61361,     0.61461,     0.61562,     0.61662,     0.61762,     0.61862,     0.61962,     0.62062,     0.62162,     0.62262,     0.62362,\n",
       "           0.62462,     0.62563,     0.62663,     0.62763,     0.62863,     0.62963,     0.63063,     0.63163,     0.63263,     0.63363,     0.63463,     0.63564,     0.63664,     0.63764,     0.63864,     0.63964,     0.64064,     0.64164,     0.64264,     0.64364,     0.64464,     0.64565,     0.64665,     0.64765,\n",
       "           0.64865,     0.64965,     0.65065,     0.65165,     0.65265,     0.65365,     0.65465,     0.65566,     0.65666,     0.65766,     0.65866,     0.65966,     0.66066,     0.66166,     0.66266,     0.66366,     0.66466,     0.66567,     0.66667,     0.66767,     0.66867,     0.66967,     0.67067,     0.67167,\n",
       "           0.67267,     0.67367,     0.67467,     0.67568,     0.67668,     0.67768,     0.67868,     0.67968,     0.68068,     0.68168,     0.68268,     0.68368,     0.68468,     0.68569,     0.68669,     0.68769,     0.68869,     0.68969,     0.69069,     0.69169,     0.69269,     0.69369,     0.69469,      0.6957,\n",
       "            0.6967,      0.6977,      0.6987,      0.6997,      0.7007,      0.7017,      0.7027,      0.7037,      0.7047,     0.70571,     0.70671,     0.70771,     0.70871,     0.70971,     0.71071,     0.71171,     0.71271,     0.71371,     0.71471,     0.71572,     0.71672,     0.71772,     0.71872,     0.71972,\n",
       "           0.72072,     0.72172,     0.72272,     0.72372,     0.72472,     0.72573,     0.72673,     0.72773,     0.72873,     0.72973,     0.73073,     0.73173,     0.73273,     0.73373,     0.73473,     0.73574,     0.73674,     0.73774,     0.73874,     0.73974,     0.74074,     0.74174,     0.74274,     0.74374,\n",
       "           0.74474,     0.74575,     0.74675,     0.74775,     0.74875,     0.74975,     0.75075,     0.75175,     0.75275,     0.75375,     0.75475,     0.75576,     0.75676,     0.75776,     0.75876,     0.75976,     0.76076,     0.76176,     0.76276,     0.76376,     0.76476,     0.76577,     0.76677,     0.76777,\n",
       "           0.76877,     0.76977,     0.77077,     0.77177,     0.77277,     0.77377,     0.77477,     0.77578,     0.77678,     0.77778,     0.77878,     0.77978,     0.78078,     0.78178,     0.78278,     0.78378,     0.78478,     0.78579,     0.78679,     0.78779,     0.78879,     0.78979,     0.79079,     0.79179,\n",
       "           0.79279,     0.79379,     0.79479,      0.7958,      0.7968,      0.7978,      0.7988,      0.7998,      0.8008,      0.8018,      0.8028,      0.8038,      0.8048,     0.80581,     0.80681,     0.80781,     0.80881,     0.80981,     0.81081,     0.81181,     0.81281,     0.81381,     0.81481,     0.81582,\n",
       "           0.81682,     0.81782,     0.81882,     0.81982,     0.82082,     0.82182,     0.82282,     0.82382,     0.82482,     0.82583,     0.82683,     0.82783,     0.82883,     0.82983,     0.83083,     0.83183,     0.83283,     0.83383,     0.83483,     0.83584,     0.83684,     0.83784,     0.83884,     0.83984,\n",
       "           0.84084,     0.84184,     0.84284,     0.84384,     0.84484,     0.84585,     0.84685,     0.84785,     0.84885,     0.84985,     0.85085,     0.85185,     0.85285,     0.85385,     0.85485,     0.85586,     0.85686,     0.85786,     0.85886,     0.85986,     0.86086,     0.86186,     0.86286,     0.86386,\n",
       "           0.86486,     0.86587,     0.86687,     0.86787,     0.86887,     0.86987,     0.87087,     0.87187,     0.87287,     0.87387,     0.87487,     0.87588,     0.87688,     0.87788,     0.87888,     0.87988,     0.88088,     0.88188,     0.88288,     0.88388,     0.88488,     0.88589,     0.88689,     0.88789,\n",
       "           0.88889,     0.88989,     0.89089,     0.89189,     0.89289,     0.89389,     0.89489,      0.8959,      0.8969,      0.8979,      0.8989,      0.8999,      0.9009,      0.9019,      0.9029,      0.9039,      0.9049,     0.90591,     0.90691,     0.90791,     0.90891,     0.90991,     0.91091,     0.91191,\n",
       "           0.91291,     0.91391,     0.91491,     0.91592,     0.91692,     0.91792,     0.91892,     0.91992,     0.92092,     0.92192,     0.92292,     0.92392,     0.92492,     0.92593,     0.92693,     0.92793,     0.92893,     0.92993,     0.93093,     0.93193,     0.93293,     0.93393,     0.93493,     0.93594,\n",
       "           0.93694,     0.93794,     0.93894,     0.93994,     0.94094,     0.94194,     0.94294,     0.94394,     0.94494,     0.94595,     0.94695,     0.94795,     0.94895,     0.94995,     0.95095,     0.95195,     0.95295,     0.95395,     0.95495,     0.95596,     0.95696,     0.95796,     0.95896,     0.95996,\n",
       "           0.96096,     0.96196,     0.96296,     0.96396,     0.96496,     0.96597,     0.96697,     0.96797,     0.96897,     0.96997,     0.97097,     0.97197,     0.97297,     0.97397,     0.97497,     0.97598,     0.97698,     0.97798,     0.97898,     0.97998,     0.98098,     0.98198,     0.98298,     0.98398,\n",
       "           0.98498,     0.98599,     0.98699,     0.98799,     0.98899,     0.98999,     0.99099,     0.99199,     0.99299,     0.99399,     0.99499,       0.996,       0.997,       0.998,       0.999,           1]), array([[          1,           1,           1,           1,           1,           1,           1,           1,           1,           1,           1,           1,           1,           1,           1,           1,           1,           1,           1,           1,           1,           1,           1,\n",
       "                  1,           1,           1,           1,           1,           1,           1,           1,           1,           1,           1,     0.99747,     0.99747,     0.99747,     0.99747,     0.99747,     0.99747,     0.99747,     0.99747,     0.99747,     0.99747,     0.99747,     0.99747,\n",
       "            0.99747,     0.99747,     0.99747,     0.99747,     0.99747,     0.99747,     0.99747,     0.99747,     0.99747,     0.99747,     0.99747,     0.99747,     0.99747,     0.99747,     0.99747,     0.99747,     0.99747,     0.99747,     0.99747,     0.99747,     0.99747,     0.99747,     0.99747,\n",
       "            0.99747,     0.99747,     0.99747,     0.99747,     0.99747,     0.99747,     0.99747,     0.99747,     0.99747,     0.99747,     0.99747,     0.99747,     0.99747,     0.99747,     0.99747,     0.99747,     0.99747,     0.99747,     0.99747,     0.99747,     0.99747,     0.99747,     0.99747,\n",
       "            0.99747,     0.99747,     0.99747,     0.99747,     0.99747,     0.99747,     0.99747,     0.99747,     0.99747,     0.99747,     0.99747,     0.99747,     0.99747,     0.99747,     0.99747,     0.99747,     0.99747,     0.99747,     0.99747,     0.99747,     0.99747,     0.99747,     0.99747,\n",
       "            0.99747,     0.99747,     0.99747,     0.99747,     0.99747,     0.99747,     0.99747,     0.99747,     0.99747,     0.99747,     0.99747,     0.99747,     0.99747,     0.99747,     0.99747,     0.99747,     0.99747,     0.99747,     0.99747,     0.99747,     0.99747,     0.99747,     0.99747,\n",
       "            0.99747,     0.99747,     0.99747,     0.99747,     0.99747,     0.99747,     0.99747,     0.99747,     0.99747,     0.99747,     0.99747,     0.99747,     0.99747,     0.99747,     0.99747,     0.99747,     0.99747,     0.99747,     0.99747,     0.99747,     0.99747,     0.99747,     0.99747,\n",
       "            0.99747,     0.99747,     0.99747,     0.99747,     0.99747,     0.99747,     0.99747,     0.99747,     0.99747,     0.99747,     0.99747,     0.99747,     0.99747,     0.99747,     0.99747,     0.99747,     0.99747,     0.99747,     0.99747,     0.99747,     0.99747,     0.99747,     0.99747,\n",
       "            0.99747,     0.99747,     0.99747,     0.99747,     0.99747,     0.99747,     0.99747,     0.99747,     0.99747,     0.99747,     0.99747,     0.99747,     0.99747,     0.99747,     0.99747,     0.99747,     0.99747,     0.99747,     0.99747,     0.99747,     0.99747,     0.99747,     0.99747,\n",
       "            0.99747,     0.99747,     0.99747,     0.99747,     0.99747,     0.99747,     0.99747,     0.99747,     0.99747,     0.99747,     0.99747,     0.99747,     0.99747,     0.99747,     0.99747,     0.99747,     0.99747,     0.99747,     0.99747,     0.99747,     0.99747,     0.99747,     0.99747,\n",
       "            0.99747,     0.99747,     0.99747,     0.99747,     0.99747,     0.99747,     0.99747,     0.99747,     0.99747,     0.99747,     0.99747,     0.99747,     0.99747,     0.99747,     0.99747,     0.99747,     0.99747,     0.99747,     0.99747,     0.99747,     0.99747,     0.99747,     0.99747,\n",
       "            0.99747,     0.99747,     0.99747,     0.99747,     0.99747,     0.99747,     0.99747,     0.99747,     0.99747,     0.99747,     0.99747,     0.99747,     0.99747,     0.99747,     0.99747,     0.99747,     0.99747,     0.99706,     0.99706,     0.99706,     0.99706,     0.99706,     0.99706,\n",
       "            0.99706,     0.99706,     0.99706,     0.99706,     0.99706,     0.99706,     0.99706,     0.99706,     0.99706,     0.99706,     0.99706,     0.99706,     0.99706,     0.99706,     0.99706,     0.99706,     0.99706,     0.99706,     0.99706,     0.99706,     0.99706,     0.99706,     0.99706,\n",
       "            0.99706,     0.99706,     0.99706,     0.99706,     0.99706,     0.99706,     0.99706,     0.99706,     0.99706,     0.99706,     0.99652,     0.99652,     0.99652,     0.99652,     0.99652,     0.99652,     0.99652,     0.99652,     0.99652,     0.99652,     0.99652,     0.99652,     0.99652,\n",
       "            0.99652,     0.99652,     0.99652,     0.99652,     0.99652,     0.99652,     0.99652,     0.99652,     0.99652,     0.99652,     0.99652,     0.99652,     0.99652,     0.99652,     0.99652,     0.99652,     0.99652,     0.99652,     0.99652,     0.99652,     0.99652,     0.99652,     0.99652,\n",
       "            0.99652,     0.99652,     0.99652,     0.99652,     0.99652,     0.99652,     0.99652,     0.99652,     0.99652,     0.99652,     0.99652,     0.99652,     0.99652,     0.99652,     0.99652,     0.99652,     0.99652,     0.99652,     0.99652,     0.99652,     0.99652,     0.99652,     0.99652,\n",
       "            0.99652,     0.99652,     0.99652,     0.99652,     0.99652,     0.99652,     0.99652,     0.99652,     0.99652,     0.99652,     0.99652,     0.99652,     0.99652,     0.99652,     0.99652,     0.99652,     0.99652,     0.99652,     0.99652,     0.99652,     0.99652,     0.99652,     0.99652,\n",
       "            0.99624,     0.99624,     0.99624,     0.99624,     0.99624,     0.99624,     0.99624,     0.99624,     0.99624,     0.99624,     0.99624,     0.99624,     0.99624,     0.99624,     0.99624,     0.99624,     0.99624,     0.99624,     0.99624,     0.99624,     0.99624,     0.99624,     0.99624,\n",
       "            0.99624,     0.99624,     0.99624,     0.99624,     0.99624,     0.99624,     0.99624,     0.99624,     0.99582,     0.99582,     0.99582,     0.99582,     0.99582,     0.99582,     0.99582,     0.99582,     0.99582,     0.99582,     0.99582,     0.99582,     0.99539,     0.99539,     0.99539,\n",
       "            0.99539,     0.99539,     0.99539,     0.99539,     0.99539,     0.99539,     0.99493,     0.99493,     0.99493,     0.99493,     0.99457,     0.99457,     0.99457,     0.99457,     0.99457,     0.99457,     0.99457,     0.99457,     0.99457,     0.99457,     0.99457,     0.99457,      0.9942,\n",
       "             0.9942,      0.9942,      0.9942,      0.9942,      0.9942,      0.9942,      0.9942,      0.9942,     0.99377,     0.99377,     0.99377,     0.99377,     0.99377,     0.99285,     0.99242,     0.99242,     0.99242,     0.99202,     0.99202,     0.99202,     0.99202,     0.99202,     0.99188,\n",
       "            0.99188,     0.99188,     0.99188,     0.99188,     0.99188,     0.99188,     0.99188,     0.99188,     0.99188,     0.99188,     0.99188,     0.99188,     0.99188,     0.99188,     0.99188,     0.99188,     0.99188,     0.99188,     0.99166,     0.99166,     0.99166,     0.99166,     0.99166,\n",
       "            0.99166,     0.99166,     0.99166,     0.99166,     0.99166,     0.99166,     0.99166,     0.99166,     0.99166,     0.99153,     0.99153,     0.99153,     0.99153,     0.99153,     0.99153,     0.99153,     0.99153,     0.99153,     0.99153,     0.99153,     0.99153,     0.99153,     0.99153,\n",
       "            0.99153,     0.99153,     0.99153,     0.99153,     0.99116,     0.99116,     0.99116,     0.99116,     0.99087,     0.99087,     0.99087,     0.99087,     0.99087,     0.99087,     0.99087,     0.99048,      0.9901,      0.9901,     0.98976,     0.98976,     0.98976,     0.98976,     0.98944,\n",
       "            0.98944,     0.98944,     0.98944,     0.98906,     0.98874,     0.98874,     0.98874,     0.98874,     0.98849,     0.98849,     0.98849,     0.98849,     0.98849,     0.98849,     0.98849,      0.9883,      0.9883,      0.9883,      0.9883,      0.9883,      0.9883,      0.9883,      0.9883,\n",
       "             0.9883,      0.9883,      0.9883,     0.98803,     0.98803,     0.98803,     0.98803,     0.98803,     0.98767,     0.98744,     0.98744,     0.98744,     0.98744,     0.98744,     0.98744,     0.98744,     0.98721,     0.98721,     0.98721,     0.98721,     0.98721,     0.98721,     0.98721,\n",
       "            0.98694,     0.98694,     0.98694,     0.98694,     0.98669,     0.98669,     0.98669,     0.98669,     0.98669,     0.98669,     0.98635,     0.98613,     0.98613,     0.98613,     0.98613,     0.98613,     0.98613,     0.98613,     0.98608,     0.98608,     0.98608,     0.98608,     0.98608,\n",
       "            0.98608,     0.98608,     0.98608,     0.98608,     0.98608,     0.98608,     0.98608,     0.98608,      0.9855,      0.9855,      0.9855,      0.9855,      0.9855,      0.9855,      0.9855,      0.9855,      0.9855,      0.9855,      0.9855,      0.9855,      0.9855,      0.9855,      0.9855,\n",
       "             0.9855,      0.9855,      0.9855,      0.9855,      0.9855,      0.9855,     0.98521,     0.98521,     0.98521,     0.98467,     0.98467,     0.98467,     0.98467,     0.98467,     0.98465,     0.98465,     0.98465,     0.98465,     0.98465,     0.98465,     0.98465,     0.98465,     0.98465,\n",
       "            0.98465,     0.98465,     0.98465,     0.98465,     0.98465,     0.98441,     0.98441,     0.98441,     0.98441,     0.98414,     0.98414,     0.98414,     0.98391,     0.98391,     0.98391,     0.98391,     0.98369,     0.98369,     0.98369,     0.98369,     0.98369,     0.98369,     0.98369,\n",
       "            0.98369,     0.98369,     0.98369,     0.98369,     0.98369,     0.98369,     0.98369,     0.98369,     0.98369,     0.98369,     0.98369,     0.98348,     0.98348,     0.98348,     0.98348,     0.98324,     0.98324,     0.98324,     0.98295,     0.98266,     0.98237,     0.98182,     0.98182,\n",
       "            0.98182,      0.9813,      0.9813,      0.9813,     0.98103,     0.98103,     0.98085,     0.98085,     0.98085,     0.98085,      0.9806,      0.9806,     0.98032,     0.97982,     0.97982,     0.97982,     0.97982,     0.97962,     0.97962,     0.97962,     0.97936,     0.97936,     0.97883,\n",
       "            0.97883,     0.97828,     0.97828,     0.97823,     0.97823,     0.97823,     0.97823,     0.97823,     0.97823,     0.97823,     0.97823,     0.97798,     0.97798,     0.97751,     0.97751,     0.97751,     0.97751,     0.97741,     0.97741,     0.97741,     0.97741,     0.97741,     0.97741,\n",
       "             0.9772,      0.9772,     0.97664,     0.97641,     0.97641,     0.97594,     0.97594,     0.97594,     0.97515,     0.97515,     0.97501,     0.97501,     0.97501,     0.97501,     0.97449,     0.97424,     0.97399,     0.97375,     0.97348,     0.97337,     0.97337,     0.97337,     0.97337,\n",
       "            0.97337,      0.9732,      0.9732,      0.9732,     0.97297,     0.97264,     0.97264,     0.97264,     0.97264,     0.97264,     0.97264,     0.97264,     0.97264,     0.97264,     0.97264,     0.97264,     0.97264,     0.97264,     0.97264,     0.97264,     0.97215,     0.97204,     0.97204,\n",
       "            0.97204,     0.97204,     0.97204,     0.97184,     0.97184,     0.97162,     0.97138,     0.97116,     0.97069,     0.97069,     0.96998,     0.96998,     0.96978,     0.96978,     0.96852,     0.96831,      0.9681,      0.9679,      0.9679,     0.96768,     0.96745,     0.96705,     0.96705,\n",
       "            0.96705,     0.96659,     0.96611,     0.96565,     0.96551,     0.96551,     0.96551,     0.96527,     0.96488,     0.96488,     0.96487,     0.96487,     0.96487,     0.96487,     0.96487,     0.96487,     0.96479,     0.96479,     0.96479,     0.96479,     0.96479,     0.96459,     0.96416,\n",
       "            0.96416,     0.96397,     0.96378,     0.96378,     0.96333,     0.96289,     0.96229,     0.96229,     0.96229,     0.96207,     0.96191,     0.96191,     0.96148,     0.96141,     0.96141,     0.96141,     0.96141,     0.96138,     0.96138,     0.96138,     0.96138,     0.96138,     0.96068,\n",
       "            0.96024,     0.95983,     0.95963,     0.95942,       0.959,     0.95815,     0.95815,     0.95793,     0.95777,     0.95758,     0.95743,     0.95743,     0.95725,     0.95703,     0.95616,     0.95605,     0.95605,     0.95605,     0.95562,     0.95551,     0.95551,     0.95531,     0.95512,\n",
       "            0.95496,     0.95429,     0.95389,     0.95332,     0.95332,      0.9532,      0.9532,      0.9532,     0.95213,     0.95148,     0.95085,      0.9498,     0.94916,     0.94874,     0.94778,     0.94778,     0.94692,     0.94605,     0.94548,     0.94506,     0.94361,     0.94299,      0.9417,\n",
       "            0.94071,     0.94052,     0.94014,     0.93976,     0.93876,     0.93773,     0.93713,     0.93657,     0.93581,     0.93581,     0.93503,     0.93444,     0.93285,     0.93247,     0.93214,     0.93194,     0.93014,     0.92914,     0.92838,     0.92677,     0.92623,     0.92568,     0.92388,\n",
       "            0.92149,     0.91973,     0.91879,      0.9181,     0.91714,     0.91438,     0.91227,     0.91056,     0.90651,      0.9019,     0.90004,     0.89861,     0.89582,     0.89193,     0.88938,     0.88462,     0.87975,     0.87565,     0.86965,     0.86072,     0.85423,     0.83981,     0.83121,\n",
       "            0.82013,     0.81383,     0.79436,        0.78,     0.76613,     0.75026,     0.74291,     0.72006,     0.69526,     0.67422,      0.6675,     0.66148,     0.65844,     0.63696,     0.62542,     0.60907,     0.60064,     0.58278,      0.5596,     0.53992,     0.53056,     0.47896,     0.46215,\n",
       "            0.42112,     0.40765,     0.38096,     0.35321,     0.30897,     0.28699,     0.26056,     0.23723,     0.16073,    0.080365,           0]]), 'Recall', 'Precision'], [array([          0,    0.001001,    0.002002,    0.003003,    0.004004,    0.005005,    0.006006,    0.007007,    0.008008,    0.009009,     0.01001,    0.011011,    0.012012,    0.013013,    0.014014,    0.015015,    0.016016,    0.017017,    0.018018,    0.019019,     0.02002,    0.021021,    0.022022,    0.023023,\n",
       "          0.024024,    0.025025,    0.026026,    0.027027,    0.028028,    0.029029,     0.03003,    0.031031,    0.032032,    0.033033,    0.034034,    0.035035,    0.036036,    0.037037,    0.038038,    0.039039,     0.04004,    0.041041,    0.042042,    0.043043,    0.044044,    0.045045,    0.046046,    0.047047,\n",
       "          0.048048,    0.049049,     0.05005,    0.051051,    0.052052,    0.053053,    0.054054,    0.055055,    0.056056,    0.057057,    0.058058,    0.059059,     0.06006,    0.061061,    0.062062,    0.063063,    0.064064,    0.065065,    0.066066,    0.067067,    0.068068,    0.069069,     0.07007,    0.071071,\n",
       "          0.072072,    0.073073,    0.074074,    0.075075,    0.076076,    0.077077,    0.078078,    0.079079,     0.08008,    0.081081,    0.082082,    0.083083,    0.084084,    0.085085,    0.086086,    0.087087,    0.088088,    0.089089,     0.09009,    0.091091,    0.092092,    0.093093,    0.094094,    0.095095,\n",
       "          0.096096,    0.097097,    0.098098,    0.099099,      0.1001,      0.1011,      0.1021,      0.1031,      0.1041,     0.10511,     0.10611,     0.10711,     0.10811,     0.10911,     0.11011,     0.11111,     0.11211,     0.11311,     0.11411,     0.11512,     0.11612,     0.11712,     0.11812,     0.11912,\n",
       "           0.12012,     0.12112,     0.12212,     0.12312,     0.12412,     0.12513,     0.12613,     0.12713,     0.12813,     0.12913,     0.13013,     0.13113,     0.13213,     0.13313,     0.13413,     0.13514,     0.13614,     0.13714,     0.13814,     0.13914,     0.14014,     0.14114,     0.14214,     0.14314,\n",
       "           0.14414,     0.14515,     0.14615,     0.14715,     0.14815,     0.14915,     0.15015,     0.15115,     0.15215,     0.15315,     0.15415,     0.15516,     0.15616,     0.15716,     0.15816,     0.15916,     0.16016,     0.16116,     0.16216,     0.16316,     0.16416,     0.16517,     0.16617,     0.16717,\n",
       "           0.16817,     0.16917,     0.17017,     0.17117,     0.17217,     0.17317,     0.17417,     0.17518,     0.17618,     0.17718,     0.17818,     0.17918,     0.18018,     0.18118,     0.18218,     0.18318,     0.18418,     0.18519,     0.18619,     0.18719,     0.18819,     0.18919,     0.19019,     0.19119,\n",
       "           0.19219,     0.19319,     0.19419,      0.1952,      0.1962,      0.1972,      0.1982,      0.1992,      0.2002,      0.2012,      0.2022,      0.2032,      0.2042,     0.20521,     0.20621,     0.20721,     0.20821,     0.20921,     0.21021,     0.21121,     0.21221,     0.21321,     0.21421,     0.21522,\n",
       "           0.21622,     0.21722,     0.21822,     0.21922,     0.22022,     0.22122,     0.22222,     0.22322,     0.22422,     0.22523,     0.22623,     0.22723,     0.22823,     0.22923,     0.23023,     0.23123,     0.23223,     0.23323,     0.23423,     0.23524,     0.23624,     0.23724,     0.23824,     0.23924,\n",
       "           0.24024,     0.24124,     0.24224,     0.24324,     0.24424,     0.24525,     0.24625,     0.24725,     0.24825,     0.24925,     0.25025,     0.25125,     0.25225,     0.25325,     0.25425,     0.25526,     0.25626,     0.25726,     0.25826,     0.25926,     0.26026,     0.26126,     0.26226,     0.26326,\n",
       "           0.26426,     0.26527,     0.26627,     0.26727,     0.26827,     0.26927,     0.27027,     0.27127,     0.27227,     0.27327,     0.27427,     0.27528,     0.27628,     0.27728,     0.27828,     0.27928,     0.28028,     0.28128,     0.28228,     0.28328,     0.28428,     0.28529,     0.28629,     0.28729,\n",
       "           0.28829,     0.28929,     0.29029,     0.29129,     0.29229,     0.29329,     0.29429,      0.2953,      0.2963,      0.2973,      0.2983,      0.2993,      0.3003,      0.3013,      0.3023,      0.3033,      0.3043,     0.30531,     0.30631,     0.30731,     0.30831,     0.30931,     0.31031,     0.31131,\n",
       "           0.31231,     0.31331,     0.31431,     0.31532,     0.31632,     0.31732,     0.31832,     0.31932,     0.32032,     0.32132,     0.32232,     0.32332,     0.32432,     0.32533,     0.32633,     0.32733,     0.32833,     0.32933,     0.33033,     0.33133,     0.33233,     0.33333,     0.33433,     0.33534,\n",
       "           0.33634,     0.33734,     0.33834,     0.33934,     0.34034,     0.34134,     0.34234,     0.34334,     0.34434,     0.34535,     0.34635,     0.34735,     0.34835,     0.34935,     0.35035,     0.35135,     0.35235,     0.35335,     0.35435,     0.35536,     0.35636,     0.35736,     0.35836,     0.35936,\n",
       "           0.36036,     0.36136,     0.36236,     0.36336,     0.36436,     0.36537,     0.36637,     0.36737,     0.36837,     0.36937,     0.37037,     0.37137,     0.37237,     0.37337,     0.37437,     0.37538,     0.37638,     0.37738,     0.37838,     0.37938,     0.38038,     0.38138,     0.38238,     0.38338,\n",
       "           0.38438,     0.38539,     0.38639,     0.38739,     0.38839,     0.38939,     0.39039,     0.39139,     0.39239,     0.39339,     0.39439,      0.3954,      0.3964,      0.3974,      0.3984,      0.3994,      0.4004,      0.4014,      0.4024,      0.4034,      0.4044,     0.40541,     0.40641,     0.40741,\n",
       "           0.40841,     0.40941,     0.41041,     0.41141,     0.41241,     0.41341,     0.41441,     0.41542,     0.41642,     0.41742,     0.41842,     0.41942,     0.42042,     0.42142,     0.42242,     0.42342,     0.42442,     0.42543,     0.42643,     0.42743,     0.42843,     0.42943,     0.43043,     0.43143,\n",
       "           0.43243,     0.43343,     0.43443,     0.43544,     0.43644,     0.43744,     0.43844,     0.43944,     0.44044,     0.44144,     0.44244,     0.44344,     0.44444,     0.44545,     0.44645,     0.44745,     0.44845,     0.44945,     0.45045,     0.45145,     0.45245,     0.45345,     0.45445,     0.45546,\n",
       "           0.45646,     0.45746,     0.45846,     0.45946,     0.46046,     0.46146,     0.46246,     0.46346,     0.46446,     0.46547,     0.46647,     0.46747,     0.46847,     0.46947,     0.47047,     0.47147,     0.47247,     0.47347,     0.47447,     0.47548,     0.47648,     0.47748,     0.47848,     0.47948,\n",
       "           0.48048,     0.48148,     0.48248,     0.48348,     0.48448,     0.48549,     0.48649,     0.48749,     0.48849,     0.48949,     0.49049,     0.49149,     0.49249,     0.49349,     0.49449,      0.4955,      0.4965,      0.4975,      0.4985,      0.4995,      0.5005,      0.5015,      0.5025,      0.5035,\n",
       "            0.5045,     0.50551,     0.50651,     0.50751,     0.50851,     0.50951,     0.51051,     0.51151,     0.51251,     0.51351,     0.51451,     0.51552,     0.51652,     0.51752,     0.51852,     0.51952,     0.52052,     0.52152,     0.52252,     0.52352,     0.52452,     0.52553,     0.52653,     0.52753,\n",
       "           0.52853,     0.52953,     0.53053,     0.53153,     0.53253,     0.53353,     0.53453,     0.53554,     0.53654,     0.53754,     0.53854,     0.53954,     0.54054,     0.54154,     0.54254,     0.54354,     0.54454,     0.54555,     0.54655,     0.54755,     0.54855,     0.54955,     0.55055,     0.55155,\n",
       "           0.55255,     0.55355,     0.55455,     0.55556,     0.55656,     0.55756,     0.55856,     0.55956,     0.56056,     0.56156,     0.56256,     0.56356,     0.56456,     0.56557,     0.56657,     0.56757,     0.56857,     0.56957,     0.57057,     0.57157,     0.57257,     0.57357,     0.57457,     0.57558,\n",
       "           0.57658,     0.57758,     0.57858,     0.57958,     0.58058,     0.58158,     0.58258,     0.58358,     0.58458,     0.58559,     0.58659,     0.58759,     0.58859,     0.58959,     0.59059,     0.59159,     0.59259,     0.59359,     0.59459,      0.5956,      0.5966,      0.5976,      0.5986,      0.5996,\n",
       "            0.6006,      0.6016,      0.6026,      0.6036,      0.6046,     0.60561,     0.60661,     0.60761,     0.60861,     0.60961,     0.61061,     0.61161,     0.61261,     0.61361,     0.61461,     0.61562,     0.61662,     0.61762,     0.61862,     0.61962,     0.62062,     0.62162,     0.62262,     0.62362,\n",
       "           0.62462,     0.62563,     0.62663,     0.62763,     0.62863,     0.62963,     0.63063,     0.63163,     0.63263,     0.63363,     0.63463,     0.63564,     0.63664,     0.63764,     0.63864,     0.63964,     0.64064,     0.64164,     0.64264,     0.64364,     0.64464,     0.64565,     0.64665,     0.64765,\n",
       "           0.64865,     0.64965,     0.65065,     0.65165,     0.65265,     0.65365,     0.65465,     0.65566,     0.65666,     0.65766,     0.65866,     0.65966,     0.66066,     0.66166,     0.66266,     0.66366,     0.66466,     0.66567,     0.66667,     0.66767,     0.66867,     0.66967,     0.67067,     0.67167,\n",
       "           0.67267,     0.67367,     0.67467,     0.67568,     0.67668,     0.67768,     0.67868,     0.67968,     0.68068,     0.68168,     0.68268,     0.68368,     0.68468,     0.68569,     0.68669,     0.68769,     0.68869,     0.68969,     0.69069,     0.69169,     0.69269,     0.69369,     0.69469,      0.6957,\n",
       "            0.6967,      0.6977,      0.6987,      0.6997,      0.7007,      0.7017,      0.7027,      0.7037,      0.7047,     0.70571,     0.70671,     0.70771,     0.70871,     0.70971,     0.71071,     0.71171,     0.71271,     0.71371,     0.71471,     0.71572,     0.71672,     0.71772,     0.71872,     0.71972,\n",
       "           0.72072,     0.72172,     0.72272,     0.72372,     0.72472,     0.72573,     0.72673,     0.72773,     0.72873,     0.72973,     0.73073,     0.73173,     0.73273,     0.73373,     0.73473,     0.73574,     0.73674,     0.73774,     0.73874,     0.73974,     0.74074,     0.74174,     0.74274,     0.74374,\n",
       "           0.74474,     0.74575,     0.74675,     0.74775,     0.74875,     0.74975,     0.75075,     0.75175,     0.75275,     0.75375,     0.75475,     0.75576,     0.75676,     0.75776,     0.75876,     0.75976,     0.76076,     0.76176,     0.76276,     0.76376,     0.76476,     0.76577,     0.76677,     0.76777,\n",
       "           0.76877,     0.76977,     0.77077,     0.77177,     0.77277,     0.77377,     0.77477,     0.77578,     0.77678,     0.77778,     0.77878,     0.77978,     0.78078,     0.78178,     0.78278,     0.78378,     0.78478,     0.78579,     0.78679,     0.78779,     0.78879,     0.78979,     0.79079,     0.79179,\n",
       "           0.79279,     0.79379,     0.79479,      0.7958,      0.7968,      0.7978,      0.7988,      0.7998,      0.8008,      0.8018,      0.8028,      0.8038,      0.8048,     0.80581,     0.80681,     0.80781,     0.80881,     0.80981,     0.81081,     0.81181,     0.81281,     0.81381,     0.81481,     0.81582,\n",
       "           0.81682,     0.81782,     0.81882,     0.81982,     0.82082,     0.82182,     0.82282,     0.82382,     0.82482,     0.82583,     0.82683,     0.82783,     0.82883,     0.82983,     0.83083,     0.83183,     0.83283,     0.83383,     0.83483,     0.83584,     0.83684,     0.83784,     0.83884,     0.83984,\n",
       "           0.84084,     0.84184,     0.84284,     0.84384,     0.84484,     0.84585,     0.84685,     0.84785,     0.84885,     0.84985,     0.85085,     0.85185,     0.85285,     0.85385,     0.85485,     0.85586,     0.85686,     0.85786,     0.85886,     0.85986,     0.86086,     0.86186,     0.86286,     0.86386,\n",
       "           0.86486,     0.86587,     0.86687,     0.86787,     0.86887,     0.86987,     0.87087,     0.87187,     0.87287,     0.87387,     0.87487,     0.87588,     0.87688,     0.87788,     0.87888,     0.87988,     0.88088,     0.88188,     0.88288,     0.88388,     0.88488,     0.88589,     0.88689,     0.88789,\n",
       "           0.88889,     0.88989,     0.89089,     0.89189,     0.89289,     0.89389,     0.89489,      0.8959,      0.8969,      0.8979,      0.8989,      0.8999,      0.9009,      0.9019,      0.9029,      0.9039,      0.9049,     0.90591,     0.90691,     0.90791,     0.90891,     0.90991,     0.91091,     0.91191,\n",
       "           0.91291,     0.91391,     0.91491,     0.91592,     0.91692,     0.91792,     0.91892,     0.91992,     0.92092,     0.92192,     0.92292,     0.92392,     0.92492,     0.92593,     0.92693,     0.92793,     0.92893,     0.92993,     0.93093,     0.93193,     0.93293,     0.93393,     0.93493,     0.93594,\n",
       "           0.93694,     0.93794,     0.93894,     0.93994,     0.94094,     0.94194,     0.94294,     0.94394,     0.94494,     0.94595,     0.94695,     0.94795,     0.94895,     0.94995,     0.95095,     0.95195,     0.95295,     0.95395,     0.95495,     0.95596,     0.95696,     0.95796,     0.95896,     0.95996,\n",
       "           0.96096,     0.96196,     0.96296,     0.96396,     0.96496,     0.96597,     0.96697,     0.96797,     0.96897,     0.96997,     0.97097,     0.97197,     0.97297,     0.97397,     0.97497,     0.97598,     0.97698,     0.97798,     0.97898,     0.97998,     0.98098,     0.98198,     0.98298,     0.98398,\n",
       "           0.98498,     0.98599,     0.98699,     0.98799,     0.98899,     0.98999,     0.99099,     0.99199,     0.99299,     0.99399,     0.99499,       0.996,       0.997,       0.998,       0.999,           1]), array([[    0.28264,     0.28264,     0.32568,     0.35266,     0.37339,     0.39009,     0.40508,     0.41874,     0.43237,     0.44246,     0.45237,     0.46167,     0.47066,     0.47934,     0.48806,     0.49599,     0.50216,     0.50895,     0.51508,     0.52118,     0.52795,     0.53338,      0.5392,\n",
       "            0.54368,     0.54866,     0.55349,     0.55824,     0.56392,     0.56813,     0.57378,     0.57842,      0.5831,     0.58737,     0.59134,      0.5954,     0.59999,     0.60377,     0.60711,     0.61152,     0.61467,     0.61851,      0.6228,       0.626,     0.62973,     0.63285,     0.63603,\n",
       "             0.6395,     0.64237,      0.6456,      0.6494,     0.65289,     0.65586,     0.65937,     0.66195,     0.66484,     0.66755,     0.67049,      0.6735,     0.67664,     0.67965,     0.68219,     0.68524,     0.68783,     0.69114,     0.69421,      0.6967,     0.69914,     0.70147,     0.70479,\n",
       "            0.70739,     0.71001,     0.71247,     0.71395,     0.71613,     0.71817,     0.72013,     0.72235,     0.72421,      0.7268,     0.72904,     0.73141,      0.7334,     0.73575,     0.73824,     0.74023,     0.74286,     0.74473,     0.74614,     0.74777,     0.74943,      0.7515,     0.75309,\n",
       "            0.75494,     0.75693,     0.75878,     0.75938,     0.76147,     0.76378,     0.76574,     0.76703,     0.76856,     0.77001,     0.77153,     0.77319,     0.77407,     0.77533,     0.77735,     0.77867,     0.77974,     0.78106,     0.78327,     0.78431,     0.78586,     0.78731,     0.78842,\n",
       "            0.78925,     0.79023,      0.7912,     0.79292,     0.79351,     0.79479,     0.79581,     0.79669,     0.79769,     0.79898,     0.79996,     0.80157,     0.80265,      0.8041,     0.80549,     0.80649,     0.80768,     0.80954,     0.81064,     0.81165,     0.81263,     0.81373,     0.81428,\n",
       "            0.81523,     0.81583,     0.81723,     0.81803,     0.81914,     0.82008,     0.82115,     0.82278,     0.82323,      0.8241,     0.82514,      0.8261,     0.82691,       0.828,     0.82936,     0.82956,     0.83021,     0.83166,     0.83206,     0.83271,     0.83326,     0.83416,     0.83545,\n",
       "            0.83617,     0.83748,     0.83837,     0.83952,     0.83997,     0.84087,     0.84143,      0.8418,     0.84229,     0.84316,      0.8437,     0.84477,     0.84496,     0.84558,     0.84633,     0.84684,     0.84731,     0.84794,     0.84884,     0.84922,      0.8497,     0.85053,     0.85127,\n",
       "            0.85163,     0.85281,      0.8538,     0.85472,     0.85528,      0.8562,     0.85702,     0.85707,     0.85753,     0.85819,     0.85859,     0.85934,     0.85992,     0.86003,     0.86085,     0.86134,     0.86163,     0.86256,     0.86305,     0.86353,     0.86385,     0.86417,     0.86465,\n",
       "             0.8652,     0.86596,     0.86653,     0.86746,     0.86821,     0.86897,     0.86955,     0.87007,     0.87024,      0.8709,      0.8712,     0.87151,     0.87179,     0.87202,     0.87251,     0.87288,     0.87308,     0.87364,     0.87394,     0.87471,      0.8752,     0.87603,     0.87652,\n",
       "            0.87719,     0.87778,     0.87836,     0.87912,     0.87962,     0.88094,     0.88134,      0.8823,     0.88297,     0.88328,     0.88403,     0.88424,     0.88501,     0.88511,     0.88551,     0.88592,     0.88623,     0.88654,     0.88692,     0.88706,     0.88743,     0.88753,     0.88766,\n",
       "            0.88792,     0.88824,     0.88836,     0.88871,     0.88899,      0.8893,     0.89008,     0.89046,     0.89071,     0.89081,     0.89094,     0.89114,     0.89173,     0.89231,     0.89253,     0.89303,     0.89367,      0.8939,      0.8952,     0.89567,     0.89578,     0.89627,     0.89697,\n",
       "             0.8971,     0.89719,     0.89769,     0.89798,     0.89817,     0.89827,     0.89887,      0.8991,     0.89959,     0.89978,     0.90037,     0.90049,      0.9007,     0.90083,     0.90119,     0.90171,     0.90213,     0.90252,     0.90332,     0.90363,     0.90413,     0.90436,     0.90466,\n",
       "            0.90546,     0.90558,     0.90564,     0.90574,     0.90616,     0.90667,     0.90698,     0.90719,      0.9075,     0.90771,     0.90791,     0.90792,     0.90852,     0.90912,     0.90941,     0.90982,     0.90987,     0.91025,     0.91077,     0.91101,     0.91117,     0.91138,     0.91178,\n",
       "            0.91179,     0.91231,      0.9128,      0.9129,     0.91332,     0.91343,     0.91359,     0.91371,     0.91421,     0.91432,     0.91453,     0.91485,     0.91497,     0.91537,     0.91577,     0.91621,     0.91633,     0.91629,     0.91656,     0.91667,     0.91735,     0.91769,     0.91789,\n",
       "            0.91838,     0.91881,     0.91891,     0.91912,     0.91926,     0.91943,     0.91942,     0.91951,     0.91972,     0.91977,     0.91985,     0.92013,     0.92019,     0.92024,      0.9203,     0.92032,      0.9204,      0.9205,     0.92071,     0.92081,     0.92122,     0.92142,     0.92185,\n",
       "            0.92206,     0.92227,     0.92251,     0.92243,     0.92262,     0.92273,     0.92336,     0.92333,     0.92349,     0.92363,     0.92424,     0.92445,     0.92487,     0.92485,     0.92516,     0.92547,     0.92553,     0.92597,      0.9259,     0.92584,     0.92578,     0.92582,     0.92582,\n",
       "            0.92602,     0.92632,     0.92651,     0.92671,     0.92677,     0.92661,      0.9267,     0.92677,     0.92688,     0.92731,     0.92773,     0.92791,     0.92785,     0.92834,     0.92845,     0.92871,     0.92898,     0.92905,     0.92899,     0.92897,     0.92937,     0.92943,     0.92973,\n",
       "             0.9297,     0.93003,      0.9301,      0.9303,     0.93029,      0.9307,     0.93064,     0.93068,     0.93078,     0.93066,     0.93087,     0.93097,     0.93103,     0.93109,     0.93133,     0.93126,     0.93157,     0.93168,      0.9321,      0.9322,     0.93228,     0.93248,     0.93248,\n",
       "            0.93253,     0.93238,     0.93224,     0.93216,     0.93226,     0.93216,     0.93221,     0.93227,     0.93218,     0.93226,     0.93237,     0.93283,     0.93288,     0.93285,     0.93305,      0.9331,     0.93334,     0.93312,     0.93357,     0.93358,     0.93376,     0.93364,     0.93343,\n",
       "            0.93349,     0.93348,     0.93342,     0.93372,     0.93366,     0.93355,     0.93349,     0.93348,     0.93353,     0.93366,     0.93371,     0.93351,     0.93345,     0.93359,     0.93364,     0.93368,     0.93374,     0.93337,     0.93342,     0.93321,     0.93277,     0.93271,     0.93285,\n",
       "             0.9329,       0.933,     0.93306,     0.93273,     0.93279,     0.93254,     0.93248,      0.9324,     0.93246,     0.93205,     0.93198,     0.93167,     0.93173,     0.93182,     0.93188,     0.93181,     0.93187,      0.9316,     0.93154,     0.93139,     0.93144,     0.93066,     0.93059,\n",
       "             0.9307,     0.93075,     0.93078,     0.93072,     0.93109,     0.93102,     0.93091,     0.93097,     0.93079,     0.93072,     0.93049,     0.93042,     0.93067,      0.9306,     0.93039,     0.93025,      0.9303,     0.93039,     0.93033,      0.9295,     0.92944,     0.92938,     0.92943,\n",
       "            0.92936,     0.92942,     0.92905,     0.92911,     0.92909,     0.92903,      0.9286,     0.92866,      0.9287,     0.92864,     0.92867,     0.92873,     0.92844,     0.92837,     0.92731,     0.92724,     0.92653,     0.92647,      0.9262,     0.92625,     0.92581,     0.92575,      0.9255,\n",
       "            0.92544,      0.9247,     0.92475,     0.92443,     0.92448,      0.9234,     0.92296,     0.92301,     0.92212,     0.92205,     0.92146,      0.9214,     0.92126,     0.92119,     0.92019,     0.92013,     0.91964,     0.91969,     0.91913,     0.91906,     0.91861,     0.91854,     0.91818,\n",
       "            0.91823,     0.91711,     0.91717,      0.9172,     0.91713,     0.91693,     0.91643,     0.91634,      0.9156,     0.91553,     0.91522,     0.91528,     0.91506,     0.91499,     0.91363,     0.91356,     0.91257,      0.9125,     0.91165,     0.91158,     0.91058,     0.90994,     0.90987,\n",
       "            0.90913,     0.90906,     0.90851,     0.90856,     0.90737,      0.9073,     0.90689,     0.90695,     0.90631,     0.90552,     0.90545,     0.90428,     0.90421,     0.90314,     0.90308,     0.90261,     0.90254,      0.9014,     0.90131,     0.90041,     0.90034,     0.89894,     0.89739,\n",
       "            0.89732,     0.89642,     0.89635,      0.8958,     0.89571,     0.89442,     0.89435,     0.89352,     0.89345,     0.89274,     0.89267,     0.89116,     0.89091,     0.89085,     0.88979,     0.88972,     0.88822,     0.88812,     0.88781,     0.88727,      0.8872,     0.88601,     0.88608,\n",
       "            0.88529,     0.88522,     0.88457,      0.8845,      0.8835,      0.8824,     0.88233,     0.88142,     0.88135,     0.88016,     0.88006,     0.87923,     0.87916,     0.87763,     0.87516,     0.87508,      0.8736,     0.87353,     0.87174,     0.87105,     0.87097,     0.86966,     0.86956,\n",
       "            0.86702,     0.86695,     0.86485,     0.86393,     0.86386,      0.8627,      0.8626,     0.86101,     0.86093,     0.85903,     0.85713,     0.85719,      0.8553,     0.85399,     0.85391,     0.85133,     0.85123,     0.84977,      0.8497,     0.84727,     0.84522,     0.84515,     0.84282,\n",
       "            0.84272,       0.841,     0.84106,     0.83988,     0.83743,     0.83732,     0.83446,     0.83438,     0.83089,     0.82823,     0.82649,     0.82641,     0.82382,     0.82371,     0.82169,     0.81871,     0.81863,     0.81392,     0.81382,     0.81085,     0.80663,     0.80668,      0.8032,\n",
       "            0.80309,     0.79969,     0.79643,     0.79632,     0.79197,     0.79188,     0.78792,     0.78518,     0.78352,     0.78341,     0.77996,     0.77988,     0.77556,     0.77079,     0.77067,     0.76649,     0.76102,     0.76091,     0.75672,     0.74979,     0.74967,     0.74524,     0.74515,\n",
       "            0.73959,     0.73543,     0.73531,     0.73086,     0.72572,     0.72034,     0.72022,     0.71348,     0.70811,     0.70798,     0.70331,     0.69803,      0.6979,     0.69295,     0.68757,     0.68743,     0.68141,     0.67623,     0.67609,     0.66715,     0.65941,     0.65927,     0.65298,\n",
       "            0.64819,     0.64179,     0.64164,     0.63379,     0.62734,     0.62002,     0.61988,     0.61483,     0.60644,     0.60628,     0.59912,     0.59166,     0.59151,     0.58112,     0.57427,     0.56545,     0.56529,     0.55294,      0.5427,     0.54254,     0.53305,     0.52028,     0.51084,\n",
       "            0.50203,     0.50186,     0.49264,     0.48175,     0.47295,     0.47277,     0.46083,     0.44921,     0.43799,      0.4378,     0.42634,     0.41771,     0.40747,     0.40727,     0.39915,     0.38984,       0.378,     0.36262,     0.35011,     0.33856,     0.33834,     0.32858,     0.31452,\n",
       "            0.30223,     0.29035,     0.29012,     0.27943,     0.26899,     0.25566,     0.24559,     0.24535,     0.23655,     0.22596,     0.21775,     0.20683,      0.1936,     0.19334,      0.1825,     0.16003,     0.15976,     0.15246,     0.14543,     0.13843,     0.13103,     0.12105,      0.1138,\n",
       "            0.11353,     0.10868,    0.098838,    0.092633,    0.087751,    0.082825,    0.075249,    0.069313,    0.062927,    0.056977,    0.056683,      0.0515,    0.040178,    0.036221,    0.032248,    0.027816,    0.025143,     0.02293,    0.022625,    0.021772,    0.018635,    0.017729,     0.01565,\n",
       "            0.01542,    0.013658,    0.012297,    0.010484,    0.010022,   0.0093158,   0.0090844,   0.0077296,   0.0072661,   0.0058869,   0.0052056,   0.0038333,   0.0030944,   0.0029392,   0.0027839,   0.0021231,   0.0018901,   0.0013409,   0.0012243,   0.0011076,  0.00099099,  0.00061788,           0,\n",
       "                  0,           0,           0,           0,           0,           0,           0,           0,           0,           0,           0,           0,           0,           0,           0,           0,           0,           0,           0,           0,           0,           0,           0,\n",
       "                  0,           0,           0,           0,           0,           0,           0,           0,           0,           0,           0,           0,           0,           0,           0,           0,           0,           0,           0,           0,           0,           0,           0,\n",
       "                  0,           0,           0,           0,           0,           0,           0,           0,           0,           0,           0,           0,           0,           0,           0,           0,           0,           0,           0,           0,           0,           0,           0,\n",
       "                  0,           0,           0,           0,           0,           0,           0,           0,           0,           0,           0,           0,           0,           0,           0,           0,           0,           0,           0,           0,           0,           0,           0,\n",
       "                  0,           0,           0,           0,           0,           0,           0,           0,           0,           0,           0,           0,           0,           0,           0,           0,           0,           0,           0,           0,           0,           0,           0,\n",
       "                  0,           0,           0,           0,           0,           0,           0,           0,           0,           0,           0]]), 'Confidence', 'F1'], [array([          0,    0.001001,    0.002002,    0.003003,    0.004004,    0.005005,    0.006006,    0.007007,    0.008008,    0.009009,     0.01001,    0.011011,    0.012012,    0.013013,    0.014014,    0.015015,    0.016016,    0.017017,    0.018018,    0.019019,     0.02002,    0.021021,    0.022022,    0.023023,\n",
       "          0.024024,    0.025025,    0.026026,    0.027027,    0.028028,    0.029029,     0.03003,    0.031031,    0.032032,    0.033033,    0.034034,    0.035035,    0.036036,    0.037037,    0.038038,    0.039039,     0.04004,    0.041041,    0.042042,    0.043043,    0.044044,    0.045045,    0.046046,    0.047047,\n",
       "          0.048048,    0.049049,     0.05005,    0.051051,    0.052052,    0.053053,    0.054054,    0.055055,    0.056056,    0.057057,    0.058058,    0.059059,     0.06006,    0.061061,    0.062062,    0.063063,    0.064064,    0.065065,    0.066066,    0.067067,    0.068068,    0.069069,     0.07007,    0.071071,\n",
       "          0.072072,    0.073073,    0.074074,    0.075075,    0.076076,    0.077077,    0.078078,    0.079079,     0.08008,    0.081081,    0.082082,    0.083083,    0.084084,    0.085085,    0.086086,    0.087087,    0.088088,    0.089089,     0.09009,    0.091091,    0.092092,    0.093093,    0.094094,    0.095095,\n",
       "          0.096096,    0.097097,    0.098098,    0.099099,      0.1001,      0.1011,      0.1021,      0.1031,      0.1041,     0.10511,     0.10611,     0.10711,     0.10811,     0.10911,     0.11011,     0.11111,     0.11211,     0.11311,     0.11411,     0.11512,     0.11612,     0.11712,     0.11812,     0.11912,\n",
       "           0.12012,     0.12112,     0.12212,     0.12312,     0.12412,     0.12513,     0.12613,     0.12713,     0.12813,     0.12913,     0.13013,     0.13113,     0.13213,     0.13313,     0.13413,     0.13514,     0.13614,     0.13714,     0.13814,     0.13914,     0.14014,     0.14114,     0.14214,     0.14314,\n",
       "           0.14414,     0.14515,     0.14615,     0.14715,     0.14815,     0.14915,     0.15015,     0.15115,     0.15215,     0.15315,     0.15415,     0.15516,     0.15616,     0.15716,     0.15816,     0.15916,     0.16016,     0.16116,     0.16216,     0.16316,     0.16416,     0.16517,     0.16617,     0.16717,\n",
       "           0.16817,     0.16917,     0.17017,     0.17117,     0.17217,     0.17317,     0.17417,     0.17518,     0.17618,     0.17718,     0.17818,     0.17918,     0.18018,     0.18118,     0.18218,     0.18318,     0.18418,     0.18519,     0.18619,     0.18719,     0.18819,     0.18919,     0.19019,     0.19119,\n",
       "           0.19219,     0.19319,     0.19419,      0.1952,      0.1962,      0.1972,      0.1982,      0.1992,      0.2002,      0.2012,      0.2022,      0.2032,      0.2042,     0.20521,     0.20621,     0.20721,     0.20821,     0.20921,     0.21021,     0.21121,     0.21221,     0.21321,     0.21421,     0.21522,\n",
       "           0.21622,     0.21722,     0.21822,     0.21922,     0.22022,     0.22122,     0.22222,     0.22322,     0.22422,     0.22523,     0.22623,     0.22723,     0.22823,     0.22923,     0.23023,     0.23123,     0.23223,     0.23323,     0.23423,     0.23524,     0.23624,     0.23724,     0.23824,     0.23924,\n",
       "           0.24024,     0.24124,     0.24224,     0.24324,     0.24424,     0.24525,     0.24625,     0.24725,     0.24825,     0.24925,     0.25025,     0.25125,     0.25225,     0.25325,     0.25425,     0.25526,     0.25626,     0.25726,     0.25826,     0.25926,     0.26026,     0.26126,     0.26226,     0.26326,\n",
       "           0.26426,     0.26527,     0.26627,     0.26727,     0.26827,     0.26927,     0.27027,     0.27127,     0.27227,     0.27327,     0.27427,     0.27528,     0.27628,     0.27728,     0.27828,     0.27928,     0.28028,     0.28128,     0.28228,     0.28328,     0.28428,     0.28529,     0.28629,     0.28729,\n",
       "           0.28829,     0.28929,     0.29029,     0.29129,     0.29229,     0.29329,     0.29429,      0.2953,      0.2963,      0.2973,      0.2983,      0.2993,      0.3003,      0.3013,      0.3023,      0.3033,      0.3043,     0.30531,     0.30631,     0.30731,     0.30831,     0.30931,     0.31031,     0.31131,\n",
       "           0.31231,     0.31331,     0.31431,     0.31532,     0.31632,     0.31732,     0.31832,     0.31932,     0.32032,     0.32132,     0.32232,     0.32332,     0.32432,     0.32533,     0.32633,     0.32733,     0.32833,     0.32933,     0.33033,     0.33133,     0.33233,     0.33333,     0.33433,     0.33534,\n",
       "           0.33634,     0.33734,     0.33834,     0.33934,     0.34034,     0.34134,     0.34234,     0.34334,     0.34434,     0.34535,     0.34635,     0.34735,     0.34835,     0.34935,     0.35035,     0.35135,     0.35235,     0.35335,     0.35435,     0.35536,     0.35636,     0.35736,     0.35836,     0.35936,\n",
       "           0.36036,     0.36136,     0.36236,     0.36336,     0.36436,     0.36537,     0.36637,     0.36737,     0.36837,     0.36937,     0.37037,     0.37137,     0.37237,     0.37337,     0.37437,     0.37538,     0.37638,     0.37738,     0.37838,     0.37938,     0.38038,     0.38138,     0.38238,     0.38338,\n",
       "           0.38438,     0.38539,     0.38639,     0.38739,     0.38839,     0.38939,     0.39039,     0.39139,     0.39239,     0.39339,     0.39439,      0.3954,      0.3964,      0.3974,      0.3984,      0.3994,      0.4004,      0.4014,      0.4024,      0.4034,      0.4044,     0.40541,     0.40641,     0.40741,\n",
       "           0.40841,     0.40941,     0.41041,     0.41141,     0.41241,     0.41341,     0.41441,     0.41542,     0.41642,     0.41742,     0.41842,     0.41942,     0.42042,     0.42142,     0.42242,     0.42342,     0.42442,     0.42543,     0.42643,     0.42743,     0.42843,     0.42943,     0.43043,     0.43143,\n",
       "           0.43243,     0.43343,     0.43443,     0.43544,     0.43644,     0.43744,     0.43844,     0.43944,     0.44044,     0.44144,     0.44244,     0.44344,     0.44444,     0.44545,     0.44645,     0.44745,     0.44845,     0.44945,     0.45045,     0.45145,     0.45245,     0.45345,     0.45445,     0.45546,\n",
       "           0.45646,     0.45746,     0.45846,     0.45946,     0.46046,     0.46146,     0.46246,     0.46346,     0.46446,     0.46547,     0.46647,     0.46747,     0.46847,     0.46947,     0.47047,     0.47147,     0.47247,     0.47347,     0.47447,     0.47548,     0.47648,     0.47748,     0.47848,     0.47948,\n",
       "           0.48048,     0.48148,     0.48248,     0.48348,     0.48448,     0.48549,     0.48649,     0.48749,     0.48849,     0.48949,     0.49049,     0.49149,     0.49249,     0.49349,     0.49449,      0.4955,      0.4965,      0.4975,      0.4985,      0.4995,      0.5005,      0.5015,      0.5025,      0.5035,\n",
       "            0.5045,     0.50551,     0.50651,     0.50751,     0.50851,     0.50951,     0.51051,     0.51151,     0.51251,     0.51351,     0.51451,     0.51552,     0.51652,     0.51752,     0.51852,     0.51952,     0.52052,     0.52152,     0.52252,     0.52352,     0.52452,     0.52553,     0.52653,     0.52753,\n",
       "           0.52853,     0.52953,     0.53053,     0.53153,     0.53253,     0.53353,     0.53453,     0.53554,     0.53654,     0.53754,     0.53854,     0.53954,     0.54054,     0.54154,     0.54254,     0.54354,     0.54454,     0.54555,     0.54655,     0.54755,     0.54855,     0.54955,     0.55055,     0.55155,\n",
       "           0.55255,     0.55355,     0.55455,     0.55556,     0.55656,     0.55756,     0.55856,     0.55956,     0.56056,     0.56156,     0.56256,     0.56356,     0.56456,     0.56557,     0.56657,     0.56757,     0.56857,     0.56957,     0.57057,     0.57157,     0.57257,     0.57357,     0.57457,     0.57558,\n",
       "           0.57658,     0.57758,     0.57858,     0.57958,     0.58058,     0.58158,     0.58258,     0.58358,     0.58458,     0.58559,     0.58659,     0.58759,     0.58859,     0.58959,     0.59059,     0.59159,     0.59259,     0.59359,     0.59459,      0.5956,      0.5966,      0.5976,      0.5986,      0.5996,\n",
       "            0.6006,      0.6016,      0.6026,      0.6036,      0.6046,     0.60561,     0.60661,     0.60761,     0.60861,     0.60961,     0.61061,     0.61161,     0.61261,     0.61361,     0.61461,     0.61562,     0.61662,     0.61762,     0.61862,     0.61962,     0.62062,     0.62162,     0.62262,     0.62362,\n",
       "           0.62462,     0.62563,     0.62663,     0.62763,     0.62863,     0.62963,     0.63063,     0.63163,     0.63263,     0.63363,     0.63463,     0.63564,     0.63664,     0.63764,     0.63864,     0.63964,     0.64064,     0.64164,     0.64264,     0.64364,     0.64464,     0.64565,     0.64665,     0.64765,\n",
       "           0.64865,     0.64965,     0.65065,     0.65165,     0.65265,     0.65365,     0.65465,     0.65566,     0.65666,     0.65766,     0.65866,     0.65966,     0.66066,     0.66166,     0.66266,     0.66366,     0.66466,     0.66567,     0.66667,     0.66767,     0.66867,     0.66967,     0.67067,     0.67167,\n",
       "           0.67267,     0.67367,     0.67467,     0.67568,     0.67668,     0.67768,     0.67868,     0.67968,     0.68068,     0.68168,     0.68268,     0.68368,     0.68468,     0.68569,     0.68669,     0.68769,     0.68869,     0.68969,     0.69069,     0.69169,     0.69269,     0.69369,     0.69469,      0.6957,\n",
       "            0.6967,      0.6977,      0.6987,      0.6997,      0.7007,      0.7017,      0.7027,      0.7037,      0.7047,     0.70571,     0.70671,     0.70771,     0.70871,     0.70971,     0.71071,     0.71171,     0.71271,     0.71371,     0.71471,     0.71572,     0.71672,     0.71772,     0.71872,     0.71972,\n",
       "           0.72072,     0.72172,     0.72272,     0.72372,     0.72472,     0.72573,     0.72673,     0.72773,     0.72873,     0.72973,     0.73073,     0.73173,     0.73273,     0.73373,     0.73473,     0.73574,     0.73674,     0.73774,     0.73874,     0.73974,     0.74074,     0.74174,     0.74274,     0.74374,\n",
       "           0.74474,     0.74575,     0.74675,     0.74775,     0.74875,     0.74975,     0.75075,     0.75175,     0.75275,     0.75375,     0.75475,     0.75576,     0.75676,     0.75776,     0.75876,     0.75976,     0.76076,     0.76176,     0.76276,     0.76376,     0.76476,     0.76577,     0.76677,     0.76777,\n",
       "           0.76877,     0.76977,     0.77077,     0.77177,     0.77277,     0.77377,     0.77477,     0.77578,     0.77678,     0.77778,     0.77878,     0.77978,     0.78078,     0.78178,     0.78278,     0.78378,     0.78478,     0.78579,     0.78679,     0.78779,     0.78879,     0.78979,     0.79079,     0.79179,\n",
       "           0.79279,     0.79379,     0.79479,      0.7958,      0.7968,      0.7978,      0.7988,      0.7998,      0.8008,      0.8018,      0.8028,      0.8038,      0.8048,     0.80581,     0.80681,     0.80781,     0.80881,     0.80981,     0.81081,     0.81181,     0.81281,     0.81381,     0.81481,     0.81582,\n",
       "           0.81682,     0.81782,     0.81882,     0.81982,     0.82082,     0.82182,     0.82282,     0.82382,     0.82482,     0.82583,     0.82683,     0.82783,     0.82883,     0.82983,     0.83083,     0.83183,     0.83283,     0.83383,     0.83483,     0.83584,     0.83684,     0.83784,     0.83884,     0.83984,\n",
       "           0.84084,     0.84184,     0.84284,     0.84384,     0.84484,     0.84585,     0.84685,     0.84785,     0.84885,     0.84985,     0.85085,     0.85185,     0.85285,     0.85385,     0.85485,     0.85586,     0.85686,     0.85786,     0.85886,     0.85986,     0.86086,     0.86186,     0.86286,     0.86386,\n",
       "           0.86486,     0.86587,     0.86687,     0.86787,     0.86887,     0.86987,     0.87087,     0.87187,     0.87287,     0.87387,     0.87487,     0.87588,     0.87688,     0.87788,     0.87888,     0.87988,     0.88088,     0.88188,     0.88288,     0.88388,     0.88488,     0.88589,     0.88689,     0.88789,\n",
       "           0.88889,     0.88989,     0.89089,     0.89189,     0.89289,     0.89389,     0.89489,      0.8959,      0.8969,      0.8979,      0.8989,      0.8999,      0.9009,      0.9019,      0.9029,      0.9039,      0.9049,     0.90591,     0.90691,     0.90791,     0.90891,     0.90991,     0.91091,     0.91191,\n",
       "           0.91291,     0.91391,     0.91491,     0.91592,     0.91692,     0.91792,     0.91892,     0.91992,     0.92092,     0.92192,     0.92292,     0.92392,     0.92492,     0.92593,     0.92693,     0.92793,     0.92893,     0.92993,     0.93093,     0.93193,     0.93293,     0.93393,     0.93493,     0.93594,\n",
       "           0.93694,     0.93794,     0.93894,     0.93994,     0.94094,     0.94194,     0.94294,     0.94394,     0.94494,     0.94595,     0.94695,     0.94795,     0.94895,     0.94995,     0.95095,     0.95195,     0.95295,     0.95395,     0.95495,     0.95596,     0.95696,     0.95796,     0.95896,     0.95996,\n",
       "           0.96096,     0.96196,     0.96296,     0.96396,     0.96496,     0.96597,     0.96697,     0.96797,     0.96897,     0.96997,     0.97097,     0.97197,     0.97297,     0.97397,     0.97497,     0.97598,     0.97698,     0.97798,     0.97898,     0.97998,     0.98098,     0.98198,     0.98298,     0.98398,\n",
       "           0.98498,     0.98599,     0.98699,     0.98799,     0.98899,     0.98999,     0.99099,     0.99199,     0.99299,     0.99399,     0.99499,       0.996,       0.997,       0.998,       0.999,           1]), array([[    0.16463,     0.16463,     0.19461,     0.21421,     0.22971,      0.2425,     0.25422,     0.26512,     0.27618,     0.28446,     0.29275,     0.30062,     0.30832,     0.31583,     0.32345,     0.33048,     0.33598,     0.34211,      0.3477,     0.35332,     0.35957,     0.36466,     0.37015,\n",
       "            0.37441,     0.37919,     0.38389,     0.38851,     0.39403,     0.39816,     0.40377,     0.40841,     0.41318,     0.41748,     0.42158,     0.42581,     0.43052,     0.43442,     0.43789,     0.44249,     0.44579,     0.44985,      0.4544,     0.45786,     0.46191,     0.46533,     0.46888,\n",
       "            0.47266,      0.4758,     0.47946,     0.48366,     0.48755,     0.49093,     0.49487,     0.49777,     0.50106,     0.50415,     0.50756,     0.51102,     0.51464,     0.51813,     0.52109,     0.52466,     0.52783,     0.53181,     0.53552,     0.53863,     0.54169,     0.54449,      0.5485,\n",
       "            0.55166,     0.55491,     0.55793,      0.5599,     0.56266,     0.56533,     0.56776,     0.57061,     0.57292,     0.57618,       0.579,       0.582,     0.58468,     0.58766,     0.59093,     0.59349,     0.59688,      0.5993,     0.60129,     0.60341,     0.60567,     0.60856,      0.6109,\n",
       "            0.61334,     0.61598,     0.61861,     0.61941,     0.62219,     0.62538,     0.62801,     0.62975,      0.6319,     0.63397,     0.63602,     0.63857,     0.63978,     0.64156,     0.64437,     0.64619,     0.64775,     0.64958,     0.65274,      0.6542,     0.65636,     0.65848,     0.66025,\n",
       "            0.66162,      0.6632,     0.66479,     0.66722,     0.66815,     0.66998,     0.67154,     0.67289,     0.67454,     0.67638,      0.6778,      0.6801,     0.68166,     0.68377,     0.68577,     0.68722,     0.68907,     0.69201,     0.69361,      0.6951,     0.69665,     0.69828,     0.69908,\n",
       "            0.70054,     0.70148,     0.70356,     0.70475,     0.70639,      0.7078,     0.70952,     0.71207,     0.71286,     0.71418,     0.71574,     0.71719,      0.7184,     0.72017,     0.72224,     0.72266,     0.72365,     0.72586,     0.72646,     0.72745,      0.7283,     0.72967,     0.73165,\n",
       "            0.73276,     0.73477,     0.73614,     0.73792,     0.73874,     0.74013,     0.74101,     0.74172,     0.74247,     0.74401,     0.74493,      0.7466,     0.74703,     0.74815,     0.74931,     0.75026,     0.75113,     0.75225,     0.75367,     0.75441,     0.75516,     0.75647,     0.75764,\n",
       "            0.75836,     0.76022,     0.76181,     0.76326,     0.76417,     0.76563,     0.76709,      0.7673,     0.76805,     0.76911,     0.76975,     0.77096,     0.77189,     0.77221,     0.77354,     0.77433,     0.77494,     0.77645,     0.77725,     0.77802,     0.77854,     0.77906,     0.77984,\n",
       "            0.78088,     0.78212,     0.78305,     0.78458,     0.78581,     0.78706,       0.788,     0.78891,     0.78929,     0.79038,     0.79102,     0.79153,     0.79215,     0.79252,     0.79334,     0.79411,     0.79458,     0.79567,     0.79617,     0.79744,     0.79826,     0.79979,     0.80061,\n",
       "            0.80174,     0.80271,     0.80369,     0.80497,      0.8058,     0.80801,     0.80868,     0.81031,     0.81145,     0.81197,     0.81339,      0.8139,     0.81521,     0.81555,     0.81623,     0.81692,     0.81744,     0.81797,     0.81879,     0.81903,     0.81982,     0.82016,     0.82037,\n",
       "            0.82116,     0.82169,     0.82191,     0.82251,     0.82298,     0.82352,     0.82486,     0.82551,     0.82594,     0.82611,      0.8264,     0.82684,     0.82786,     0.82902,     0.82941,     0.83027,     0.83155,     0.83194,     0.83421,     0.83501,      0.8352,     0.83606,     0.83728,\n",
       "            0.83751,     0.83783,      0.8387,     0.83939,     0.84006,     0.84024,     0.84129,     0.84169,     0.84255,     0.84306,     0.84427,     0.84448,     0.84484,     0.84507,     0.84589,      0.8468,     0.84754,     0.84824,     0.84965,     0.85021,     0.85109,     0.85149,     0.85202,\n",
       "            0.85345,     0.85366,     0.85429,     0.85448,     0.85523,     0.85613,     0.85668,     0.85705,     0.85762,     0.85816,     0.85853,     0.85864,     0.85979,     0.86105,     0.86159,     0.86231,     0.86241,     0.86309,     0.86402,     0.86464,     0.86493,     0.86531,     0.86612,\n",
       "            0.86624,     0.86733,     0.86823,     0.86843,     0.86918,     0.86939,     0.87023,     0.87046,     0.87136,     0.87175,     0.87213,      0.8727,     0.87292,     0.87366,     0.87439,     0.87538,     0.87564,     0.87571,     0.87649,     0.87679,     0.87811,     0.87885,     0.87922,\n",
       "            0.88031,     0.88109,     0.88146,     0.88186,     0.88226,     0.88263,     0.88279,     0.88315,     0.88353,     0.88363,     0.88378,      0.8843,      0.8844,      0.8845,     0.88461,     0.88495,     0.88518,     0.88537,     0.88577,     0.88615,      0.8869,     0.88728,     0.88807,\n",
       "            0.88846,     0.88884,     0.88973,     0.88993,     0.89048,     0.89069,     0.89186,      0.8922,     0.89263,     0.89315,      0.8943,     0.89469,      0.8958,     0.89585,     0.89643,     0.89747,     0.89771,      0.8986,     0.89859,     0.89858,     0.89857,     0.89888,     0.89927,\n",
       "            0.89966,     0.90042,     0.90079,     0.90137,     0.90148,     0.90159,     0.90196,     0.90251,     0.90271,     0.90353,     0.90433,     0.90475,     0.90474,     0.90569,      0.9059,      0.9065,     0.90711,     0.90727,     0.90726,     0.90731,     0.90807,     0.90817,     0.90883,\n",
       "            0.90891,     0.90953,     0.91009,     0.91068,     0.91086,     0.91166,      0.9117,     0.91203,     0.91224,     0.91263,     0.91304,     0.91323,     0.91333,     0.91345,     0.91438,     0.91441,     0.91502,     0.91522,     0.91603,     0.91624,     0.91681,     0.91762,     0.91783,\n",
       "            0.91809,     0.91844,     0.91861,     0.91892,     0.91913,     0.91953,     0.91989,     0.92066,     0.92067,     0.92085,     0.92106,     0.92218,     0.92229,     0.92267,     0.92327,     0.92337,     0.92407,     0.92407,     0.92495,     0.92507,     0.92586,     0.92584,     0.92644,\n",
       "            0.92655,     0.92659,     0.92659,     0.92818,     0.92817,     0.92874,     0.92874,     0.92919,      0.9293,     0.93001,     0.93011,      0.9307,     0.93069,     0.93099,      0.9311,      0.9314,     0.93151,     0.93236,     0.93247,     0.93284,     0.93298,     0.93298,      0.9336,\n",
       "            0.93371,     0.93482,     0.93493,      0.9352,     0.93531,     0.93576,     0.93576,     0.93638,     0.93649,     0.93732,     0.93732,     0.93793,     0.93804,     0.93918,     0.93929,     0.93939,      0.9395,     0.93973,     0.93972,     0.94017,     0.94028,     0.94065,     0.94064,\n",
       "            0.94114,     0.94125,     0.94212,     0.94211,     0.94299,     0.94298,     0.94326,     0.94337,     0.94358,     0.94357,     0.94418,     0.94417,     0.94504,     0.94503,     0.94543,     0.94648,     0.94659,     0.94777,     0.94776,     0.94789,     0.94788,     0.94811,     0.94823,\n",
       "            0.94833,     0.94845,     0.94916,     0.94928,     0.94978,     0.94978,     0.95021,     0.95033,     0.95148,     0.95147,     0.95262,     0.95274,      0.9532,     0.95319,      0.9531,     0.95309,     0.95325,     0.95324,     0.95374,     0.95385,     0.95429,     0.95428,     0.95493,\n",
       "            0.95492,     0.95517,     0.95529,     0.95538,      0.9555,     0.95541,     0.95588,       0.956,     0.95598,     0.95597,     0.95615,     0.95614,     0.95703,     0.95703,      0.9574,     0.95739,     0.95743,     0.95755,     0.95776,     0.95776,     0.95772,     0.95772,     0.95801,\n",
       "            0.95813,     0.95839,     0.95851,     0.95898,     0.95898,     0.95908,     0.95961,      0.9596,     0.95978,     0.95977,     0.96052,     0.96064,     0.96136,     0.96136,     0.96125,     0.96125,     0.96141,      0.9614,     0.96134,     0.96134,     0.96126,     0.96168,     0.96168,\n",
       "            0.96186,     0.96185,     0.96211,     0.96224,      0.9622,      0.9622,     0.96248,     0.96261,     0.96332,     0.96374,     0.96374,     0.96414,     0.96413,     0.96478,     0.96478,     0.96475,     0.96474,     0.96466,     0.96466,     0.96484,     0.96483,     0.96474,     0.96463,\n",
       "            0.96463,     0.96481,     0.96481,     0.96551,      0.9655,     0.96541,     0.96541,      0.9661,     0.96609,     0.96704,     0.96704,     0.96744,     0.96768,     0.96768,     0.96786,     0.96786,     0.96827,     0.96826,     0.96926,     0.96974,     0.96973,     0.96993,     0.97011,\n",
       "            0.97091,      0.9709,     0.97112,     0.97112,      0.9717,     0.97204,     0.97203,     0.97198,     0.97198,     0.97191,     0.97191,     0.97239,     0.97238,     0.97256,     0.97243,     0.97243,     0.97234,     0.97234,     0.97224,     0.97247,     0.97247,      0.9732,      0.9732,\n",
       "            0.97333,     0.97333,     0.97322,     0.97398,     0.97398,     0.97447,     0.97446,     0.97493,     0.97493,     0.97556,     0.97619,     0.97634,     0.97716,     0.97739,     0.97738,     0.97727,     0.97726,     0.97748,     0.97748,     0.97807,     0.97814,     0.97813,     0.97803,\n",
       "            0.97803,     0.97865,      0.9788,     0.97923,     0.97955,     0.97955,     0.97973,     0.97972,     0.98078,     0.98128,     0.98182,     0.98182,     0.98294,     0.98294,     0.98318,     0.98339,     0.98338,     0.98354,     0.98353,     0.98343,     0.98333,      0.9835,     0.98414,\n",
       "            0.98413,     0.98435,     0.98457,     0.98456,     0.98443,     0.98442,     0.98463,     0.98499,      0.9855,     0.98549,     0.98539,     0.98539,     0.98526,     0.98546,     0.98545,     0.98602,     0.98586,     0.98586,     0.98609,     0.98662,     0.98661,     0.98685,     0.98685,\n",
       "             0.9873,     0.98733,     0.98733,     0.98797,     0.98822,     0.98847,     0.98847,      0.9887,     0.98937,     0.98937,     0.99007,     0.99078,     0.99078,     0.99152,     0.99142,     0.99141,      0.9913,     0.99163,     0.99163,     0.99146,     0.99176,     0.99176,     0.99164,\n",
       "            0.99202,     0.99284,     0.99284,     0.99416,     0.99456,     0.99447,     0.99446,      0.9949,     0.99532,     0.99532,     0.99576,     0.99622,     0.99622,     0.99613,     0.99606,     0.99598,     0.99597,     0.99644,     0.99635,     0.99635,     0.99626,     0.99613,     0.99604,\n",
       "            0.99594,     0.99594,     0.99584,     0.99572,     0.99634,     0.99634,     0.99697,     0.99687,     0.99676,     0.99676,     0.99665,     0.99742,     0.99734,     0.99734,     0.99727,     0.99719,     0.99708,     0.99693,     0.99679,     0.99666,     0.99666,     0.99654,     0.99635,\n",
       "            0.99618,     0.99599,     0.99599,     0.99581,     0.99562,     0.99536,     0.99514,     0.99514,     0.99493,     0.99467,     0.99444,     0.99411,     0.99367,     0.99366,     0.99324,     0.99221,     0.99219,     0.99179,     0.99136,      0.9909,     0.99355,     0.99648,     0.99624,\n",
       "            0.99623,     0.99605,     0.99564,     0.99533,     0.99506,     0.99475,     0.99421,     0.99369,           1,           1,           1,           1,           1,           1,           1,           1,           1,           1,           1,           1,           1,           1,           1,\n",
       "                  1,           1,           1,           1,           1,           1,           1,           1,           1,           1,           1,           1,           1,           1,           1,           1,           1,           1,           1,           1,           1,           1,           1,\n",
       "                  1,           1,           1,           1,           1,           1,           1,           1,           1,           1,           1,           1,           1,           1,           1,           1,           1,           1,           1,           1,           1,           1,           1,\n",
       "                  1,           1,           1,           1,           1,           1,           1,           1,           1,           1,           1,           1,           1,           1,           1,           1,           1,           1,           1,           1,           1,           1,           1,\n",
       "                  1,           1,           1,           1,           1,           1,           1,           1,           1,           1,           1,           1,           1,           1,           1,           1,           1,           1,           1,           1,           1,           1,           1,\n",
       "                  1,           1,           1,           1,           1,           1,           1,           1,           1,           1,           1,           1,           1,           1,           1,           1,           1,           1,           1,           1,           1,           1,           1,\n",
       "                  1,           1,           1,           1,           1,           1,           1,           1,           1,           1,           1,           1,           1,           1,           1,           1,           1,           1,           1,           1,           1,           1,           1,\n",
       "                  1,           1,           1,           1,           1,           1,           1,           1,           1,           1,           1]]), 'Confidence', 'Precision'], [array([          0,    0.001001,    0.002002,    0.003003,    0.004004,    0.005005,    0.006006,    0.007007,    0.008008,    0.009009,     0.01001,    0.011011,    0.012012,    0.013013,    0.014014,    0.015015,    0.016016,    0.017017,    0.018018,    0.019019,     0.02002,    0.021021,    0.022022,    0.023023,\n",
       "          0.024024,    0.025025,    0.026026,    0.027027,    0.028028,    0.029029,     0.03003,    0.031031,    0.032032,    0.033033,    0.034034,    0.035035,    0.036036,    0.037037,    0.038038,    0.039039,     0.04004,    0.041041,    0.042042,    0.043043,    0.044044,    0.045045,    0.046046,    0.047047,\n",
       "          0.048048,    0.049049,     0.05005,    0.051051,    0.052052,    0.053053,    0.054054,    0.055055,    0.056056,    0.057057,    0.058058,    0.059059,     0.06006,    0.061061,    0.062062,    0.063063,    0.064064,    0.065065,    0.066066,    0.067067,    0.068068,    0.069069,     0.07007,    0.071071,\n",
       "          0.072072,    0.073073,    0.074074,    0.075075,    0.076076,    0.077077,    0.078078,    0.079079,     0.08008,    0.081081,    0.082082,    0.083083,    0.084084,    0.085085,    0.086086,    0.087087,    0.088088,    0.089089,     0.09009,    0.091091,    0.092092,    0.093093,    0.094094,    0.095095,\n",
       "          0.096096,    0.097097,    0.098098,    0.099099,      0.1001,      0.1011,      0.1021,      0.1031,      0.1041,     0.10511,     0.10611,     0.10711,     0.10811,     0.10911,     0.11011,     0.11111,     0.11211,     0.11311,     0.11411,     0.11512,     0.11612,     0.11712,     0.11812,     0.11912,\n",
       "           0.12012,     0.12112,     0.12212,     0.12312,     0.12412,     0.12513,     0.12613,     0.12713,     0.12813,     0.12913,     0.13013,     0.13113,     0.13213,     0.13313,     0.13413,     0.13514,     0.13614,     0.13714,     0.13814,     0.13914,     0.14014,     0.14114,     0.14214,     0.14314,\n",
       "           0.14414,     0.14515,     0.14615,     0.14715,     0.14815,     0.14915,     0.15015,     0.15115,     0.15215,     0.15315,     0.15415,     0.15516,     0.15616,     0.15716,     0.15816,     0.15916,     0.16016,     0.16116,     0.16216,     0.16316,     0.16416,     0.16517,     0.16617,     0.16717,\n",
       "           0.16817,     0.16917,     0.17017,     0.17117,     0.17217,     0.17317,     0.17417,     0.17518,     0.17618,     0.17718,     0.17818,     0.17918,     0.18018,     0.18118,     0.18218,     0.18318,     0.18418,     0.18519,     0.18619,     0.18719,     0.18819,     0.18919,     0.19019,     0.19119,\n",
       "           0.19219,     0.19319,     0.19419,      0.1952,      0.1962,      0.1972,      0.1982,      0.1992,      0.2002,      0.2012,      0.2022,      0.2032,      0.2042,     0.20521,     0.20621,     0.20721,     0.20821,     0.20921,     0.21021,     0.21121,     0.21221,     0.21321,     0.21421,     0.21522,\n",
       "           0.21622,     0.21722,     0.21822,     0.21922,     0.22022,     0.22122,     0.22222,     0.22322,     0.22422,     0.22523,     0.22623,     0.22723,     0.22823,     0.22923,     0.23023,     0.23123,     0.23223,     0.23323,     0.23423,     0.23524,     0.23624,     0.23724,     0.23824,     0.23924,\n",
       "           0.24024,     0.24124,     0.24224,     0.24324,     0.24424,     0.24525,     0.24625,     0.24725,     0.24825,     0.24925,     0.25025,     0.25125,     0.25225,     0.25325,     0.25425,     0.25526,     0.25626,     0.25726,     0.25826,     0.25926,     0.26026,     0.26126,     0.26226,     0.26326,\n",
       "           0.26426,     0.26527,     0.26627,     0.26727,     0.26827,     0.26927,     0.27027,     0.27127,     0.27227,     0.27327,     0.27427,     0.27528,     0.27628,     0.27728,     0.27828,     0.27928,     0.28028,     0.28128,     0.28228,     0.28328,     0.28428,     0.28529,     0.28629,     0.28729,\n",
       "           0.28829,     0.28929,     0.29029,     0.29129,     0.29229,     0.29329,     0.29429,      0.2953,      0.2963,      0.2973,      0.2983,      0.2993,      0.3003,      0.3013,      0.3023,      0.3033,      0.3043,     0.30531,     0.30631,     0.30731,     0.30831,     0.30931,     0.31031,     0.31131,\n",
       "           0.31231,     0.31331,     0.31431,     0.31532,     0.31632,     0.31732,     0.31832,     0.31932,     0.32032,     0.32132,     0.32232,     0.32332,     0.32432,     0.32533,     0.32633,     0.32733,     0.32833,     0.32933,     0.33033,     0.33133,     0.33233,     0.33333,     0.33433,     0.33534,\n",
       "           0.33634,     0.33734,     0.33834,     0.33934,     0.34034,     0.34134,     0.34234,     0.34334,     0.34434,     0.34535,     0.34635,     0.34735,     0.34835,     0.34935,     0.35035,     0.35135,     0.35235,     0.35335,     0.35435,     0.35536,     0.35636,     0.35736,     0.35836,     0.35936,\n",
       "           0.36036,     0.36136,     0.36236,     0.36336,     0.36436,     0.36537,     0.36637,     0.36737,     0.36837,     0.36937,     0.37037,     0.37137,     0.37237,     0.37337,     0.37437,     0.37538,     0.37638,     0.37738,     0.37838,     0.37938,     0.38038,     0.38138,     0.38238,     0.38338,\n",
       "           0.38438,     0.38539,     0.38639,     0.38739,     0.38839,     0.38939,     0.39039,     0.39139,     0.39239,     0.39339,     0.39439,      0.3954,      0.3964,      0.3974,      0.3984,      0.3994,      0.4004,      0.4014,      0.4024,      0.4034,      0.4044,     0.40541,     0.40641,     0.40741,\n",
       "           0.40841,     0.40941,     0.41041,     0.41141,     0.41241,     0.41341,     0.41441,     0.41542,     0.41642,     0.41742,     0.41842,     0.41942,     0.42042,     0.42142,     0.42242,     0.42342,     0.42442,     0.42543,     0.42643,     0.42743,     0.42843,     0.42943,     0.43043,     0.43143,\n",
       "           0.43243,     0.43343,     0.43443,     0.43544,     0.43644,     0.43744,     0.43844,     0.43944,     0.44044,     0.44144,     0.44244,     0.44344,     0.44444,     0.44545,     0.44645,     0.44745,     0.44845,     0.44945,     0.45045,     0.45145,     0.45245,     0.45345,     0.45445,     0.45546,\n",
       "           0.45646,     0.45746,     0.45846,     0.45946,     0.46046,     0.46146,     0.46246,     0.46346,     0.46446,     0.46547,     0.46647,     0.46747,     0.46847,     0.46947,     0.47047,     0.47147,     0.47247,     0.47347,     0.47447,     0.47548,     0.47648,     0.47748,     0.47848,     0.47948,\n",
       "           0.48048,     0.48148,     0.48248,     0.48348,     0.48448,     0.48549,     0.48649,     0.48749,     0.48849,     0.48949,     0.49049,     0.49149,     0.49249,     0.49349,     0.49449,      0.4955,      0.4965,      0.4975,      0.4985,      0.4995,      0.5005,      0.5015,      0.5025,      0.5035,\n",
       "            0.5045,     0.50551,     0.50651,     0.50751,     0.50851,     0.50951,     0.51051,     0.51151,     0.51251,     0.51351,     0.51451,     0.51552,     0.51652,     0.51752,     0.51852,     0.51952,     0.52052,     0.52152,     0.52252,     0.52352,     0.52452,     0.52553,     0.52653,     0.52753,\n",
       "           0.52853,     0.52953,     0.53053,     0.53153,     0.53253,     0.53353,     0.53453,     0.53554,     0.53654,     0.53754,     0.53854,     0.53954,     0.54054,     0.54154,     0.54254,     0.54354,     0.54454,     0.54555,     0.54655,     0.54755,     0.54855,     0.54955,     0.55055,     0.55155,\n",
       "           0.55255,     0.55355,     0.55455,     0.55556,     0.55656,     0.55756,     0.55856,     0.55956,     0.56056,     0.56156,     0.56256,     0.56356,     0.56456,     0.56557,     0.56657,     0.56757,     0.56857,     0.56957,     0.57057,     0.57157,     0.57257,     0.57357,     0.57457,     0.57558,\n",
       "           0.57658,     0.57758,     0.57858,     0.57958,     0.58058,     0.58158,     0.58258,     0.58358,     0.58458,     0.58559,     0.58659,     0.58759,     0.58859,     0.58959,     0.59059,     0.59159,     0.59259,     0.59359,     0.59459,      0.5956,      0.5966,      0.5976,      0.5986,      0.5996,\n",
       "            0.6006,      0.6016,      0.6026,      0.6036,      0.6046,     0.60561,     0.60661,     0.60761,     0.60861,     0.60961,     0.61061,     0.61161,     0.61261,     0.61361,     0.61461,     0.61562,     0.61662,     0.61762,     0.61862,     0.61962,     0.62062,     0.62162,     0.62262,     0.62362,\n",
       "           0.62462,     0.62563,     0.62663,     0.62763,     0.62863,     0.62963,     0.63063,     0.63163,     0.63263,     0.63363,     0.63463,     0.63564,     0.63664,     0.63764,     0.63864,     0.63964,     0.64064,     0.64164,     0.64264,     0.64364,     0.64464,     0.64565,     0.64665,     0.64765,\n",
       "           0.64865,     0.64965,     0.65065,     0.65165,     0.65265,     0.65365,     0.65465,     0.65566,     0.65666,     0.65766,     0.65866,     0.65966,     0.66066,     0.66166,     0.66266,     0.66366,     0.66466,     0.66567,     0.66667,     0.66767,     0.66867,     0.66967,     0.67067,     0.67167,\n",
       "           0.67267,     0.67367,     0.67467,     0.67568,     0.67668,     0.67768,     0.67868,     0.67968,     0.68068,     0.68168,     0.68268,     0.68368,     0.68468,     0.68569,     0.68669,     0.68769,     0.68869,     0.68969,     0.69069,     0.69169,     0.69269,     0.69369,     0.69469,      0.6957,\n",
       "            0.6967,      0.6977,      0.6987,      0.6997,      0.7007,      0.7017,      0.7027,      0.7037,      0.7047,     0.70571,     0.70671,     0.70771,     0.70871,     0.70971,     0.71071,     0.71171,     0.71271,     0.71371,     0.71471,     0.71572,     0.71672,     0.71772,     0.71872,     0.71972,\n",
       "           0.72072,     0.72172,     0.72272,     0.72372,     0.72472,     0.72573,     0.72673,     0.72773,     0.72873,     0.72973,     0.73073,     0.73173,     0.73273,     0.73373,     0.73473,     0.73574,     0.73674,     0.73774,     0.73874,     0.73974,     0.74074,     0.74174,     0.74274,     0.74374,\n",
       "           0.74474,     0.74575,     0.74675,     0.74775,     0.74875,     0.74975,     0.75075,     0.75175,     0.75275,     0.75375,     0.75475,     0.75576,     0.75676,     0.75776,     0.75876,     0.75976,     0.76076,     0.76176,     0.76276,     0.76376,     0.76476,     0.76577,     0.76677,     0.76777,\n",
       "           0.76877,     0.76977,     0.77077,     0.77177,     0.77277,     0.77377,     0.77477,     0.77578,     0.77678,     0.77778,     0.77878,     0.77978,     0.78078,     0.78178,     0.78278,     0.78378,     0.78478,     0.78579,     0.78679,     0.78779,     0.78879,     0.78979,     0.79079,     0.79179,\n",
       "           0.79279,     0.79379,     0.79479,      0.7958,      0.7968,      0.7978,      0.7988,      0.7998,      0.8008,      0.8018,      0.8028,      0.8038,      0.8048,     0.80581,     0.80681,     0.80781,     0.80881,     0.80981,     0.81081,     0.81181,     0.81281,     0.81381,     0.81481,     0.81582,\n",
       "           0.81682,     0.81782,     0.81882,     0.81982,     0.82082,     0.82182,     0.82282,     0.82382,     0.82482,     0.82583,     0.82683,     0.82783,     0.82883,     0.82983,     0.83083,     0.83183,     0.83283,     0.83383,     0.83483,     0.83584,     0.83684,     0.83784,     0.83884,     0.83984,\n",
       "           0.84084,     0.84184,     0.84284,     0.84384,     0.84484,     0.84585,     0.84685,     0.84785,     0.84885,     0.84985,     0.85085,     0.85185,     0.85285,     0.85385,     0.85485,     0.85586,     0.85686,     0.85786,     0.85886,     0.85986,     0.86086,     0.86186,     0.86286,     0.86386,\n",
       "           0.86486,     0.86587,     0.86687,     0.86787,     0.86887,     0.86987,     0.87087,     0.87187,     0.87287,     0.87387,     0.87487,     0.87588,     0.87688,     0.87788,     0.87888,     0.87988,     0.88088,     0.88188,     0.88288,     0.88388,     0.88488,     0.88589,     0.88689,     0.88789,\n",
       "           0.88889,     0.88989,     0.89089,     0.89189,     0.89289,     0.89389,     0.89489,      0.8959,      0.8969,      0.8979,      0.8989,      0.8999,      0.9009,      0.9019,      0.9029,      0.9039,      0.9049,     0.90591,     0.90691,     0.90791,     0.90891,     0.90991,     0.91091,     0.91191,\n",
       "           0.91291,     0.91391,     0.91491,     0.91592,     0.91692,     0.91792,     0.91892,     0.91992,     0.92092,     0.92192,     0.92292,     0.92392,     0.92492,     0.92593,     0.92693,     0.92793,     0.92893,     0.92993,     0.93093,     0.93193,     0.93293,     0.93393,     0.93493,     0.93594,\n",
       "           0.93694,     0.93794,     0.93894,     0.93994,     0.94094,     0.94194,     0.94294,     0.94394,     0.94494,     0.94595,     0.94695,     0.94795,     0.94895,     0.94995,     0.95095,     0.95195,     0.95295,     0.95395,     0.95495,     0.95596,     0.95696,     0.95796,     0.95896,     0.95996,\n",
       "           0.96096,     0.96196,     0.96296,     0.96396,     0.96496,     0.96597,     0.96697,     0.96797,     0.96897,     0.96997,     0.97097,     0.97197,     0.97297,     0.97397,     0.97497,     0.97598,     0.97698,     0.97798,     0.97898,     0.97998,     0.98098,     0.98198,     0.98298,     0.98398,\n",
       "           0.98498,     0.98599,     0.98699,     0.98799,     0.98899,     0.98999,     0.99099,     0.99199,     0.99299,     0.99399,     0.99499,       0.996,       0.997,       0.998,       0.999,           1]), array([[    0.99795,     0.99795,     0.99749,     0.99704,     0.99704,     0.99658,     0.99635,     0.99567,     0.99522,     0.99522,     0.99476,      0.9943,     0.99408,     0.99385,     0.99385,     0.99362,     0.99362,     0.99339,     0.99316,     0.99294,     0.99294,     0.99271,     0.99248,\n",
       "            0.99225,     0.99203,     0.99157,     0.99134,     0.99134,     0.99134,     0.99111,     0.99089,     0.99043,     0.99043,     0.98997,     0.98952,     0.98952,     0.98952,     0.98952,     0.98952,     0.98952,     0.98952,     0.98952,     0.98929,     0.98906,     0.98884,     0.98838,\n",
       "            0.98838,     0.98838,     0.98792,     0.98792,     0.98792,      0.9877,      0.9877,      0.9877,      0.9877,      0.9877,     0.98747,     0.98747,     0.98747,     0.98747,     0.98747,     0.98747,     0.98701,     0.98679,     0.98656,      0.9861,     0.98565,     0.98565,     0.98565,\n",
       "            0.98565,     0.98542,     0.98542,     0.98496,     0.98473,     0.98428,     0.98428,     0.98405,     0.98405,     0.98405,     0.98405,     0.98405,      0.9836,      0.9836,     0.98337,     0.98337,     0.98337,     0.98337,     0.98291,     0.98291,     0.98268,     0.98223,     0.98154,\n",
       "            0.98154,     0.98154,     0.98109,     0.98109,     0.98109,     0.98086,     0.98086,     0.98086,     0.98063,     0.98041,     0.98041,     0.97972,     0.97972,     0.97957,     0.97949,     0.97949,     0.97927,     0.97927,     0.97904,     0.97904,     0.97904,     0.97881,     0.97835,\n",
       "             0.9779,     0.97744,     0.97699,     0.97699,     0.97676,     0.97676,     0.97653,      0.9763,     0.97585,     0.97585,     0.97585,     0.97585,     0.97585,     0.97585,     0.97585,     0.97585,     0.97562,     0.97517,     0.97517,     0.97517,     0.97494,     0.97494,     0.97494,\n",
       "            0.97484,     0.97471,     0.97471,     0.97471,     0.97471,     0.97471,     0.97448,     0.97425,     0.97403,     0.97403,     0.97403,     0.97403,     0.97403,      0.9738,      0.9738,     0.97357,     0.97357,     0.97357,     0.97357,     0.97357,     0.97357,     0.97357,     0.97357,\n",
       "            0.97357,     0.97357,     0.97357,     0.97357,     0.97334,     0.97334,     0.97334,     0.97311,     0.97311,     0.97279,     0.97266,     0.97266,     0.97243,      0.9722,      0.9722,     0.97196,     0.97175,     0.97152,     0.97152,     0.97129,     0.97129,     0.97129,     0.97129,\n",
       "            0.97106,     0.97106,     0.97106,     0.97106,     0.97106,     0.97106,     0.97084,     0.97064,     0.97061,     0.97061,     0.97061,     0.97061,     0.97061,     0.97038,     0.97038,     0.97038,     0.97015,     0.97015,     0.97015,     0.97015,     0.97015,     0.97015,     0.97015,\n",
       "            0.96992,     0.96992,     0.96992,     0.96992,     0.96992,     0.96992,     0.96992,     0.96985,      0.9697,      0.9697,     0.96947,     0.96947,     0.96924,     0.96924,     0.96924,     0.96901,     0.96879,     0.96856,     0.96856,     0.96856,     0.96856,     0.96833,     0.96833,\n",
       "            0.96833,     0.96833,     0.96833,     0.96833,     0.96833,     0.96833,     0.96833,     0.96833,     0.96833,     0.96833,      0.9681,     0.96787,     0.96787,     0.96765,     0.96765,     0.96765,     0.96765,     0.96765,     0.96742,     0.96742,     0.96719,     0.96696,     0.96696,\n",
       "            0.96651,     0.96651,     0.96651,     0.96651,     0.96651,     0.96651,     0.96651,     0.96651,     0.96651,     0.96651,     0.96641,     0.96628,     0.96628,     0.96605,     0.96605,     0.96605,     0.96582,     0.96582,     0.96582,     0.96582,     0.96582,     0.96582,     0.96582,\n",
       "            0.96582,      0.9656,      0.9656,     0.96537,     0.96491,     0.96491,     0.96491,     0.96491,     0.96491,     0.96468,     0.96446,     0.96446,     0.96446,     0.96446,     0.96423,     0.96423,     0.96423,     0.96423,     0.96423,     0.96423,     0.96423,     0.96423,     0.96423,\n",
       "            0.96423,     0.96423,     0.96355,     0.96355,     0.96355,     0.96355,     0.96355,     0.96355,     0.96355,     0.96332,     0.96332,      0.9632,     0.96309,     0.96286,     0.96286,     0.96286,     0.96286,     0.96286,     0.96286,     0.96263,     0.96263,     0.96263,     0.96251,\n",
       "            0.96241,     0.96222,     0.96218,     0.96218,     0.96218,     0.96218,     0.96149,     0.96149,     0.96149,     0.96127,     0.96127,     0.96127,     0.96127,     0.96127,     0.96127,     0.96104,     0.96098,     0.96081,     0.96047,     0.96036,     0.96025,     0.96013,     0.96013,\n",
       "             0.9599,      0.9599,     0.95967,     0.95967,      0.9595,     0.95944,     0.95922,     0.95899,     0.95899,     0.95899,     0.95899,     0.95899,     0.95899,     0.95899,     0.95899,     0.95863,     0.95853,     0.95853,     0.95853,      0.9583,      0.9583,      0.9583,      0.9583,\n",
       "             0.9583,      0.9583,     0.95779,     0.95739,     0.95717,     0.95717,     0.95717,     0.95671,     0.95656,     0.95625,     0.95625,     0.95625,     0.95589,      0.9558,      0.9558,     0.95527,     0.95512,     0.95506,     0.95493,     0.95481,     0.95469,     0.95443,     0.95398,\n",
       "            0.95398,     0.95375,     0.95373,     0.95352,     0.95352,     0.95306,     0.95284,     0.95238,     0.95238,     0.95238,     0.95238,     0.95229,     0.95217,     0.95215,     0.95215,     0.95203,     0.95193,      0.9519,     0.95178,      0.9517,      0.9517,      0.9517,     0.95162,\n",
       "            0.95147,     0.95147,     0.95101,     0.95079,     0.95056,     0.95056,     0.95038,      0.9501,      0.9501,     0.94942,     0.94942,     0.94942,     0.94942,     0.94942,     0.94892,     0.94874,     0.94874,     0.94874,     0.94874,     0.94874,     0.94828,     0.94782,      0.9476,\n",
       "            0.94744,     0.94675,     0.94629,     0.94577,     0.94577,     0.94513,     0.94486,     0.94418,     0.94398,     0.94395,     0.94395,     0.94372,     0.94372,     0.94326,     0.94304,     0.94304,     0.94279,     0.94236,     0.94236,     0.94226,      0.9418,     0.94157,     0.94053,\n",
       "            0.94053,     0.94047,     0.94036,     0.93933,     0.93921,     0.93841,     0.93829,      0.9378,      0.9378,     0.93734,     0.93734,     0.93634,     0.93623,      0.9362,      0.9362,     0.93598,     0.93598,     0.93438,     0.93438,     0.93359,     0.93256,     0.93244,      0.9321,\n",
       "             0.9321,     0.93119,     0.93119,     0.93028,     0.93028,     0.92934,     0.92923,     0.92846,     0.92846,     0.92683,     0.92671,      0.9255,      0.9255,     0.92458,     0.92458,     0.92436,     0.92436,     0.92361,      0.9235,     0.92276,     0.92276,     0.92087,     0.92075,\n",
       "            0.92048,     0.92048,     0.91972,      0.9196,     0.91948,     0.91937,     0.91889,     0.91889,     0.91833,     0.91822,     0.91719,     0.91707,     0.91673,     0.91661,     0.91581,     0.91456,     0.91456,     0.91364,     0.91352,     0.91181,     0.91169,     0.91137,     0.91137,\n",
       "            0.91114,     0.91114,     0.90977,     0.90977,     0.90928,     0.90916,     0.90795,     0.90795,     0.90699,     0.90687,      0.9059,      0.9059,     0.90493,     0.90481,     0.90287,     0.90276,     0.90127,     0.90115,     0.90021,     0.90021,     0.89898,     0.89886,     0.89784,\n",
       "            0.89772,      0.8961,      0.8961,     0.89542,     0.89542,     0.89346,     0.89223,     0.89223,     0.89058,     0.89046,      0.8892,     0.88909,     0.88806,     0.88794,     0.88578,     0.88566,     0.88471,     0.88471,     0.88349,     0.88337,     0.88257,     0.88245,     0.88152,\n",
       "            0.88152,     0.87924,     0.87924,     0.87891,     0.87879,     0.87833,     0.87696,      0.8768,      0.8753,     0.87519,       0.874,       0.874,     0.87301,      0.8729,      0.8705,     0.87038,     0.86845,     0.86833,     0.86684,     0.86673,     0.86498,     0.86348,     0.86336,\n",
       "            0.86187,     0.86176,     0.86056,     0.86056,     0.85845,     0.85833,     0.85737,     0.85737,     0.85567,     0.85393,     0.85381,     0.85142,      0.8513,     0.84891,     0.84879,     0.84799,     0.84787,     0.84592,     0.84576,     0.84405,     0.84393,     0.84154,     0.83891,\n",
       "             0.8388,     0.83709,     0.83697,     0.83548,     0.83532,     0.83314,     0.83303,     0.83109,     0.83097,     0.82903,     0.82891,     0.82603,     0.82543,     0.82532,     0.82338,     0.82326,     0.82039,     0.82024,     0.81898,     0.81772,     0.81761,     0.81545,     0.81545,\n",
       "            0.81355,     0.81344,     0.81218,     0.81207,     0.80998,      0.8079,     0.80778,      0.8063,     0.80618,     0.80423,     0.80408,     0.80236,     0.80224,     0.79958,     0.79557,     0.79546,     0.79306,     0.79294,     0.79007,     0.78878,     0.78866,     0.78603,     0.78588,\n",
       "            0.78165,     0.78153,      0.7782,     0.77623,     0.77611,     0.77393,     0.77378,     0.77092,      0.7708,     0.76737,     0.76396,     0.76396,     0.76046,     0.75826,     0.75814,     0.75415,     0.75399,     0.75158,     0.75146,     0.74732,     0.74411,     0.74399,     0.74045,\n",
       "             0.7403,      0.7373,      0.7373,     0.73525,     0.73132,     0.73116,     0.72671,      0.7266,     0.72075,     0.71649,      0.7136,     0.71348,     0.70904,     0.70888,     0.70576,     0.70128,     0.70117,     0.69421,     0.69405,     0.68979,     0.68375,     0.68375,     0.67847,\n",
       "            0.67831,     0.67337,     0.66866,      0.6685,     0.66246,     0.66234,     0.65672,     0.65277,     0.65026,      0.6501,     0.64541,     0.64529,     0.63946,     0.63292,     0.63276,     0.62691,     0.61969,     0.61954,     0.61391,     0.60465,     0.60449,     0.59867,     0.59855,\n",
       "            0.59125,     0.58594,     0.58579,     0.57994,      0.5734,     0.56664,     0.56648,     0.55812,     0.55136,      0.5512,     0.54535,     0.53882,     0.53866,     0.53258,     0.52627,     0.52612,     0.51913,     0.51305,     0.51289,     0.50271,      0.4939,     0.49374,     0.48675,\n",
       "            0.48136,     0.47414,     0.47398,     0.46517,     0.45817,     0.45043,     0.45027,     0.44487,     0.43606,     0.43591,     0.42846,     0.42078,     0.42063,     0.41022,     0.40343,     0.39479,     0.39464,     0.38264,     0.37291,     0.37275,     0.36387,     0.35209,      0.3435,\n",
       "             0.3356,     0.33545,     0.32727,     0.31774,     0.31007,     0.30991,     0.29968,     0.28993,     0.28066,     0.28051,     0.27117,     0.26417,     0.25604,     0.25588,     0.24951,     0.24228,      0.2332,     0.22162,     0.21234,     0.20391,     0.20376,     0.19672,     0.18674,\n",
       "            0.17814,     0.16994,     0.16979,     0.16252,      0.1555,     0.14667,     0.14008,     0.13992,     0.13423,     0.12746,     0.12226,     0.11542,     0.10725,     0.10709,     0.10048,    0.087033,    0.086877,    0.082577,     0.07847,     0.07441,    0.070142,     0.06444,    0.060348,\n",
       "           0.060193,    0.057474,       0.052,    0.048577,    0.045899,    0.043211,    0.039104,    0.035909,    0.032486,    0.029324,    0.029168,    0.026431,    0.020501,    0.018445,    0.016388,    0.014104,    0.012732,    0.011598,    0.011442,    0.011006,   0.0094051,   0.0089437,   0.0078866,\n",
       "          0.0077698,    0.006876,   0.0061868,   0.0052697,   0.0050361,   0.0046797,   0.0045629,   0.0038798,   0.0036463,   0.0029521,   0.0026096,   0.0019204,   0.0015496,   0.0014717,   0.0013939,   0.0010627,  0.00094592,   0.0006709,  0.00061251,  0.00055413,  0.00049574,  0.00030904,           0,\n",
       "                  0,           0,           0,           0,           0,           0,           0,           0,           0,           0,           0,           0,           0,           0,           0,           0,           0,           0,           0,           0,           0,           0,           0,\n",
       "                  0,           0,           0,           0,           0,           0,           0,           0,           0,           0,           0,           0,           0,           0,           0,           0,           0,           0,           0,           0,           0,           0,           0,\n",
       "                  0,           0,           0,           0,           0,           0,           0,           0,           0,           0,           0,           0,           0,           0,           0,           0,           0,           0,           0,           0,           0,           0,           0,\n",
       "                  0,           0,           0,           0,           0,           0,           0,           0,           0,           0,           0,           0,           0,           0,           0,           0,           0,           0,           0,           0,           0,           0,           0,\n",
       "                  0,           0,           0,           0,           0,           0,           0,           0,           0,           0,           0,           0,           0,           0,           0,           0,           0,           0,           0,           0,           0,           0,           0,\n",
       "                  0,           0,           0,           0,           0,           0,           0,           0,           0,           0,           0]]), 'Confidence', 'Recall']]\n",
       "fitness: np.float64(0.6362100108939928)\n",
       "keys: ['metrics/precision(B)', 'metrics/recall(B)', 'metrics/mAP50(B)', 'metrics/mAP50-95(B)']\n",
       "maps: array([    0.59928,     0.59928,     0.59928,     0.59928])\n",
       "names: {0: 'hexbug_0', 1: 'hexbug_1', 2: 'hexbug_2', 3: 'hexbug_3'}\n",
       "nt_per_class: array([4389,    0,    0,    0])\n",
       "nt_per_image: array([2347,    0,    0,    0])\n",
       "results_dict: {'metrics/precision(B)': np.float64(0.9300051160457208), 'metrics/recall(B)': np.float64(0.9373433583959899), 'metrics/mAP50(B)': np.float64(0.9686224010836597), 'metrics/mAP50-95(B)': np.float64(0.5992753008729186), 'fitness': np.float64(0.6362100108939928)}\n",
       "save_dir: PosixPath('runs/detect/hexbug_yolo11n_finetune_960aug')\n",
       "speed: {'preprocess': 0.31913022202085256, 'inference': 14.095012525423511, 'loss': 0.0005663493802928904, 'postprocess': 0.9969472862439034}\n",
       "stats: {'tp': [], 'conf': [], 'pred_cls': [], 'target_cls': [], 'target_img': []}\n",
       "task: 'detect'"
      ]
     },
     "execution_count": 1,
     "metadata": {},
     "output_type": "execute_result"
    }
   ],
   "source": [
    "from ultralytics import YOLO\n",
    "\n",
    "# 加载断点的模型路径（使用上一次的训练目录）\n",
    "model = YOLO(\"runs/detect/hexbug_yolo11n_finetune_960aug/weights/last.pt\")\n",
    "\n",
    "# 继续训练\n",
    "model.train(resume=True)"
   ]
  },
  {
   "cell_type": "code",
   "execution_count": null,
   "id": "10c68281-1e5f-4d27-82cb-f40f9eaf725c",
   "metadata": {},
   "outputs": [],
   "source": []
  }
 ],
 "metadata": {
  "kernelspec": {
   "display_name": "Python 3 (ipykernel)",
   "language": "python",
   "name": "python3"
  },
  "language_info": {
   "codemirror_mode": {
    "name": "ipython",
    "version": 3
   },
   "file_extension": ".py",
   "mimetype": "text/x-python",
   "name": "python",
   "nbconvert_exporter": "python",
   "pygments_lexer": "ipython3",
   "version": "3.12.10"
  }
 },
 "nbformat": 4,
 "nbformat_minor": 5
}
